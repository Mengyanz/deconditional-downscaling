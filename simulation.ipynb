{
 "cells": [
  {
   "cell_type": "code",
   "execution_count": 1,
   "metadata": {},
   "outputs": [],
   "source": [
    "import numpy as np\n",
    "import math\n",
    "import matplotlib.pyplot as plt\n",
    "from scipy.special import digamma\n",
    "from sklearn.gaussian_process import GaussianProcessRegressor\n",
    "\n",
    "\n",
    "import warnings\n",
    "\n",
    "# Ignore all warnings\n",
    "# warnings.filterwarnings(\"ignore\")"
   ]
  },
  {
   "cell_type": "code",
   "execution_count": 2,
   "metadata": {},
   "outputs": [],
   "source": [
    "# !pip install torch==2.0.0\n",
    "# !pip install gpytorch==1.11"
   ]
  },
  {
   "cell_type": "code",
   "execution_count": 3,
   "metadata": {},
   "outputs": [
    {
     "name": "stderr",
     "output_type": "stream",
     "text": [
      "/Users/menang/anaconda3/envs/py3.9/lib/python3.9/site-packages/tqdm/auto.py:21: TqdmWarning: IProgress not found. Please update jupyter and ipywidgets. See https://ipywidgets.readthedocs.io/en/stable/user_install.html\n",
      "  from .autonotebook import tqdm as notebook_tqdm\n"
     ]
    },
    {
     "data": {
      "text/plain": [
       "'1.11'"
      ]
     },
     "execution_count": 3,
     "metadata": {},
     "output_type": "execute_result"
    }
   ],
   "source": [
    "import gpytorch\n",
    "gpytorch.__version__"
   ]
  },
  {
   "cell_type": "code",
   "execution_count": 4,
   "metadata": {},
   "outputs": [
    {
     "data": {
      "text/plain": [
       "'2.0.0'"
      ]
     },
     "execution_count": 4,
     "metadata": {},
     "output_type": "execute_result"
    }
   ],
   "source": [
    "import torch\n",
    "torch.__version__"
   ]
  },
  {
   "cell_type": "code",
   "execution_count": 5,
   "metadata": {},
   "outputs": [],
   "source": [
    "torch.manual_seed(0)\n",
    "np.random.seed(0)"
   ]
  },
  {
   "attachments": {},
   "cell_type": "markdown",
   "metadata": {},
   "source": [
    "A simple simulation experimental setup:\n",
    "$$f(x)=x\\log x,\\;x\\in[0,1],\\;X|Y=y \\sim \\textrm{Beta}(\\alpha(y),\\beta(y)).$$\n",
    "$f$ has a minimum at $x=1/e$ (no local minima). We can compute\n",
    "$$g(y)=\\mathbb E_{X|Y=y}\\left[X\\log X\\right]=\\frac{\\alpha(y)}{\\alpha(y)+\\beta(y)}\\left[\\psi(\\alpha(y)+1)-\\psi(\\alpha(y)+\\beta(y)+1)\\right],$$\n",
    "where $\\psi$ is the digamma function. To complete the setup need to choose some functions $\\alpha:\\mathcal Y\\to (0,+\\infty)$, $\\beta:\\mathcal Y\\to (0,+\\infty),$ e.g. take $\\mathcal Y=\\mathbb R^3$ and\n",
    "$$\\alpha(y)=\\exp(a^\\top y+c),\\;\\beta(y)=\\exp(b^\\top y+d),$$\n",
    "or similar.\n",
    "\n",
    "Nb. the bounded domain of $X$ might need to be built into the kernel construction when estimating CME $X|Y$, e.g. one can use\n",
    "$$k(x,x')=\\exp\\left(-\\frac{1}{2\\gamma^2}\\left(\\log\\frac{x}{1-x}-\\log\\frac{x'}{1-x'}\\right)^2\\right),\\quad x,x'\\in(0,1).$$\n"
   ]
  },
  {
   "cell_type": "code",
   "execution_count": 6,
   "metadata": {},
   "outputs": [],
   "source": [
    "def alpha(y,a=1,c=0):\n",
    "    return np.exp(a * y +c)\n",
    "\n",
    "def beta(y, b=1, d=0):\n",
    "    return np.exp(b* y + d)\n",
    "\n",
    "def func(x):\n",
    "    return -x * np.log(x)\n",
    "\n",
    "def g(y,a=1,b=0,c=1,d=0):\n",
    "    alpha_value = alpha(y,a,c)\n",
    "    beta_value = beta(y,b,d)\n",
    "    g_value = alpha_value/(alpha_value+beta_value) * (digamma(alpha_value + 1) - digamma(alpha_value + beta_value + 1))\n",
    "    return -g_value"
   ]
  },
  {
   "cell_type": "code",
   "execution_count": 7,
   "metadata": {},
   "outputs": [],
   "source": [
    "def generate_D1(n, a,b,c,d, l, u):\n",
    "    ys = np.random.uniform(l,u,n)\n",
    "    alphas = []\n",
    "    betas = []\n",
    "    xs = []\n",
    "    fs = []\n",
    "    for i in ys:\n",
    "        alpha_value = alpha(i,a,c)\n",
    "        alphas.append(alpha_value)\n",
    "        \n",
    "        beta_value = beta(i,b,d)\n",
    "        betas.append(beta_value)\n",
    "        x_value = np.random.beta(alpha_value, beta_value)\n",
    "        xs.append(x_value)\n",
    "    plt.plot(ys, xs, '.')\n",
    "    plt.xlabel('y')\n",
    "    plt.ylabel('x')\n",
    "    plt.title('D1')\n",
    "    \n",
    "    plt.legend()\n",
    "    return np.asarray(xs), np.asarray(ys)\n",
    "    \n",
    "\n",
    "def generate_D2(m, a,b,c,d, l, u, sigma=0.01, plot=True):\n",
    "    ys = np.random.uniform(l,u,m)\n",
    "    zs = []\n",
    "    \n",
    "    alphas = []\n",
    "    betas = []\n",
    "    xs = []\n",
    "    fs = []\n",
    "    for y in ys:\n",
    "        alpha_value = alpha(y,a,c)\n",
    "        alphas.append(alpha_value)\n",
    "        \n",
    "        beta_value = beta(y,b,d)\n",
    "        betas.append(beta_value)\n",
    "        x_value = np.random.beta(alpha_value, beta_value)\n",
    "        xs.append(x_value)\n",
    "        fs.append(func(x_value))  \n",
    "        \n",
    "        g_value = g(y, a,b,c,d)\n",
    "        z_value = g_value + np.random.normal(0, sigma)\n",
    "        zs.append(z_value)\n",
    "        \n",
    "    if plot:    \n",
    "        # plt.plot(ys, xs, '.', label = 'x')\n",
    "        # plt.plot(fs, xs, '.', label = 'f(x)')\n",
    "        \n",
    "        plt.plot(ys, zs,'.')\n",
    "        plt.xlabel('y')\n",
    "        plt.ylabel('z (aggregated feedback)')\n",
    "        plt.title('D2')\n",
    "        \n",
    "    return np.asarray(ys), np.asarray(zs)"
   ]
  },
  {
   "cell_type": "code",
   "execution_count": 8,
   "metadata": {},
   "outputs": [],
   "source": [
    "a = 0.1\n",
    "b = 4\n",
    "c = 2\n",
    "d = 0\n",
    "sigma = 0.01\n",
    "\n",
    "l = 1e-5\n",
    "u = 1- 1e-5"
   ]
  },
  {
   "cell_type": "code",
   "execution_count": 9,
   "metadata": {},
   "outputs": [],
   "source": [
    "# a = 1\n",
    "# b = 4\n",
    "# c = 0\n",
    "# d = 1"
   ]
  },
  {
   "cell_type": "code",
   "execution_count": 10,
   "metadata": {},
   "outputs": [
    {
     "name": "stderr",
     "output_type": "stream",
     "text": [
      "No artists with labels found to put in legend.  Note that artists whose label start with an underscore are ignored when legend() is called with no argument.\n"
     ]
    },
    {
     "data": {
      "image/png": "[encoded data removed]",
      "text/plain": [
       "<Figure size 640x480 with 1 Axes>"
      ]
     },
     "metadata": {},
     "output_type": "display_data"
    }
   ],
   "source": [
    "xs, ys = generate_D1(200,a,b,c,d, l, u)"
   ]
  },
  {
   "cell_type": "code",
   "execution_count": 11,
   "metadata": {},
   "outputs": [
    {
     "data": {
      "text/plain": [
       "Text(0, 0.5, 'f(x)')"
      ]
     },
     "execution_count": 11,
     "metadata": {},
     "output_type": "execute_result"
    },
    {
     "data": {
      "image/png": "[encoded data removed]",
      "text/plain": [
       "<Figure size 640x480 with 1 Axes>"
      ]
     },
     "metadata": {},
     "output_type": "display_data"
    }
   ],
   "source": [
    "plt.plot(xs, func(xs), '.')\n",
    "plt.xlabel('x')\n",
    "plt.ylabel('f(x)')"
   ]
  },
  {
   "cell_type": "code",
   "execution_count": 12,
   "metadata": {
    "scrolled": false
   },
   "outputs": [
    {
     "data": {
      "image/png": "[encoded data removed]",
      "text/plain": [
       "<Figure size 640x480 with 1 Axes>"
      ]
     },
     "metadata": {},
     "output_type": "display_data"
    }
   ],
   "source": [
    "ys2, zs = generate_D2(100, a,b,c,d, l, u, sigma)"
   ]
  },
  {
   "cell_type": "code",
   "execution_count": 13,
   "metadata": {},
   "outputs": [],
   "source": [
    "# data_set = {}\n",
    "# data_set['x'] = xs\n",
    "# data_set['y'] = ys\n",
    "# data_set['z'] = zs\n",
    "# data_set['y2'] = ys2\n",
    "# np.save('data_set.npy', data_set)\n",
    "\n",
    "data_set = np.load('data_set.npy', allow_pickle=True).item()\n",
    "xs = data_set['x']\n",
    "ys = data_set['y']\n",
    "zs = data_set['z']\n",
    "ys2 = data_set['y2']"
   ]
  },
  {
   "cell_type": "code",
   "execution_count": 14,
   "metadata": {},
   "outputs": [
    {
     "name": "stdout",
     "output_type": "stream",
     "text": [
      "0.26818679742323204 0.07682413535809043\n"
     ]
    }
   ],
   "source": [
    "muz, sigmaz = zs.mean(), zs.std()\n",
    "# muz, sigmaz = 0,1\n",
    "print(zs.mean(), zs.std())\n",
    "zs = (zs - muz) / sigmaz"
   ]
  },
  {
   "cell_type": "code",
   "execution_count": 15,
   "metadata": {},
   "outputs": [],
   "source": [
    "import sys\n",
    "# sys.path.append(\"../deconditional-downscaling/\")\n",
    "sys.path.append(\"experiments/swiss_roll/\")\n",
    "from models import build_model, train_model, predict \n",
    "import yaml \n",
    "import torch\n",
    "\n",
    "cdf_dir = 'experiments/swiss_roll/config/exact_cmp.yaml' \n",
    "# cdf_dir = 'exact_cmp.yaml' \n",
    "\n",
    "with open(cdf_dir, \"r\") as f:\n",
    "    cfg = yaml.safe_load(f)\n",
    "\n",
    "cfg['model'].update(individuals=torch.tensor(xs).float(),\n",
    "                    extended_bags_values=torch.tensor(ys).float(),\n",
    "                    bags_values=torch.tensor(ys2).float(),\n",
    "                    aggregate_targets=torch.tensor(zs).float(),\n",
    "                    bags_sizes=len(ys))\n",
    "model = build_model(cfg['model'])"
   ]
  },
  {
   "cell_type": "code",
   "execution_count": 16,
   "metadata": {},
   "outputs": [
    {
     "name": "stderr",
     "output_type": "stream",
     "text": [
      "/Users/menang/anaconda3/envs/py3.9/lib/python3.9/site-packages/linear_operator/utils/cholesky.py:40: NumericalWarning: A not p.d., added jitter of 1.0e-06 to the diagonal\n",
      "  warnings.warn(\n",
      "/Users/menang/anaconda3/envs/py3.9/lib/python3.9/site-packages/linear_operator/utils/cholesky.py:40: NumericalWarning: A not p.d., added jitter of 1.0e-05 to the diagonal\n",
      "  warnings.warn(\n",
      "/Users/menang/anaconda3/envs/py3.9/lib/python3.9/site-packages/linear_operator/utils/cholesky.py:40: NumericalWarning: A not p.d., added jitter of 1.0e-04 to the diagonal\n",
      "  warnings.warn(\n"
     ]
    }
   ],
   "source": [
    "groundtruth_individuals = torch.tensor(np.linspace(1e-5,1-1e-5,100)).float()\n",
    "\n",
    "cfg['training'].update(model=model,\n",
    "                    individuals=torch.tensor(xs).float(),\n",
    "                    extended_bags_values=torch.tensor(ys).float(),\n",
    "                    bags_values=torch.tensor(ys2).float(),\n",
    "                    aggregate_targets=torch.tensor(zs).float(),\n",
    "                    bags_sizes=len(ys),\n",
    "                    groundtruth_individuals=groundtruth_individuals,\n",
    "                    groundtruth_bags_sizes=len(groundtruth_individuals),\n",
    "                    groundtruth_targets=func(groundtruth_individuals).float(),\n",
    "                    chunk_size=cfg['evaluation']['chunk_size_nll'],\n",
    "                    device_idx='cpu',\n",
    "                    dump_dir='result/'\n",
    "                    )\n",
    "train_model(cfg['training'])"
   ]
  },
  {
   "cell_type": "code",
   "execution_count": 17,
   "metadata": {},
   "outputs": [],
   "source": [
    "predict_kwargs = {'name': cfg['model']['name'],\n",
    "                'model': model.eval().cpu(),\n",
    "                'individuals': groundtruth_individuals,\n",
    "                'bags_sizes': func(groundtruth_individuals)}\n",
    "individuals_posterior = predict(predict_kwargs)\n",
    "individuals_posterior_mean = sigmaz * individuals_posterior.mean + muz\n",
    "with torch.no_grad():\n",
    "    stddev = sigmaz * individuals_posterior.stddev\n",
    "    lower_bound = individuals_posterior_mean - 2 * stddev\n",
    "    upper_bound = individuals_posterior_mean + 2 * stddev"
   ]
  },
  {
   "cell_type": "code",
   "execution_count": 18,
   "metadata": {},
   "outputs": [
    {
     "data": {
      "text/plain": [
       "tensor([-2.5085e+00, -2.7223e+00, -2.9019e+00, -3.0441e+00, -3.1286e+00,\n",
       "        -3.1512e+00, -3.1165e+00, -3.0341e+00, -2.8852e+00, -2.6998e+00,\n",
       "        -2.4661e+00, -2.1958e+00, -1.8992e+00, -1.5728e+00, -1.2234e+00,\n",
       "        -8.6007e-01, -4.9406e-01, -1.2816e-01,  2.3417e-01,  5.8495e-01,\n",
       "         9.1275e-01,  1.2040e+00,  1.4660e+00,  1.7039e+00,  1.9022e+00,\n",
       "         2.0606e+00,  2.1898e+00,  2.2860e+00,  2.3666e+00,  2.4312e+00,\n",
       "         2.4844e+00,  2.5187e+00,  2.5429e+00,  2.5575e+00,  2.5525e+00,\n",
       "         2.5302e+00,  2.4846e+00,  2.4107e+00,  2.3132e+00,  2.1865e+00,\n",
       "         2.0314e+00,  1.8613e+00,  1.6694e+00,  1.4710e+00,  1.2729e+00,\n",
       "         1.0930e+00,  9.0710e-01,  7.3510e-01,  5.7844e-01,  4.3989e-01,\n",
       "         3.1733e-01,  2.0441e-01,  1.0166e-01,  4.9344e-03, -7.8211e-02,\n",
       "        -1.5815e-01, -2.3296e-01, -2.9246e-01, -3.3410e-01, -3.4185e-01,\n",
       "        -3.5133e-01, -3.3401e-01, -2.8106e-01, -2.2373e-01, -1.5668e-01,\n",
       "        -7.7247e-02, -1.6240e-03,  6.6865e-02,  9.9332e-02,  1.3104e-01,\n",
       "         1.0968e-01,  5.8366e-02, -4.7588e-02, -1.9311e-01, -3.8614e-01,\n",
       "        -6.2238e-01, -8.9813e-01, -1.1955e+00, -1.5155e+00, -1.8317e+00,\n",
       "        -2.1403e+00, -2.4155e+00, -2.6575e+00, -2.8462e+00, -2.9939e+00,\n",
       "        -3.0804e+00, -3.1018e+00, -3.0663e+00, -2.9785e+00, -2.8289e+00,\n",
       "        -2.6338e+00, -2.3888e+00, -2.1012e+00, -1.7846e+00, -1.4266e+00,\n",
       "        -1.0538e+00, -6.6322e-01, -2.7298e-01,  1.0774e-01,  4.6417e-01])"
      ]
     },
     "execution_count": 18,
     "metadata": {},
     "output_type": "execute_result"
    }
   ],
   "source": [
    "individuals_posterior.sample()"
   ]
  },
  {
   "cell_type": "code",
   "execution_count": 19,
   "metadata": {},
   "outputs": [
    {
     "data": {
      "text/plain": [
       "<matplotlib.legend.Legend at 0x29e93dd30>"
      ]
     },
     "execution_count": 19,
     "metadata": {},
     "output_type": "execute_result"
    },
    {
     "data": {
      "image/png": "[encoded data removed]",
      "text/plain": [
       "<Figure size 640x480 with 1 Axes>"
      ]
     },
     "metadata": {},
     "output_type": "display_data"
    }
   ],
   "source": [
    "plt.plot(groundtruth_individuals, individuals_posterior_mean, label = 'posterior mean', color='C0')\n",
    "plt.fill_between(groundtruth_individuals, lower_bound, upper_bound, alpha=0.3, color='C0')\n",
    "# plt.plot(groundtruth_individuals, (conf[1]-conf[0]).detach().numpy(), label = '2 * posterior std')\n",
    "plt.plot(groundtruth_individuals, func(groundtruth_individuals), label = 'f(x)', color='C1')\n",
    "# plt.plot(xs, f(xs), '.', label = 'data points')\n",
    "plt.legend()"
   ]
  },
  {
   "cell_type": "code",
   "execution_count": 21,
   "metadata": {},
   "outputs": [],
   "source": [
    "from BO import BayesOpt_UCB, BayesOpt_Random, PES, MES\n",
    "\n",
    "# a = 0.1\n",
    "# b = 4\n",
    "# c = 2\n",
    "# d = 0\n",
    "# sigma = 0.01\n",
    "\n",
    "def g_oracle(y, a=0.1,b=4,c=2,d=0, sigma=0.01):\n",
    "    g_value = g(y, a,b,c,d)\n",
    "    z_value = g_value + np.random.normal(0, sigma)\n",
    "    return z_value\n",
    "\n",
    "x_space = torch.tensor(np.linspace(1e-5,1-1e-5,100)).float() # np.linspace(1e-5,1-1e-5,100)\n",
    "y_space = torch.tensor(np.linspace(1e-5,1-1e-5,100)).float() # np.linspace(1e-5,1-1e-5,100)\n",
    "init_y_size = 15\n",
    "num_round = 30\n",
    "num_repeat = 10\n",
    "random_seeds = np.random.uniform(0,100, num_repeat)\n",
    "\n",
    "pos_best_dict = {}\n",
    "z_rewards_dict = {}\n",
    "\n",
    "xs = torch.from_numpy(xs).float()\n",
    "ys = torch.from_numpy(ys).float()"
   ]
  },
  {
   "cell_type": "code",
   "execution_count": 22,
   "metadata": {},
   "outputs": [],
   "source": [
    "model.eval()\n",
    "# bag_to_predict = torch.tensor(ys2).float()\n",
    "bag_to_predict = y_space\n",
    "\n",
    "with torch.no_grad():\n",
    "    # https://docs.gpytorch.ai/en/stable/examples/01_Exact_GPs/Simple_GP_Regression.html\n",
    "    bag_posterior = model.likelihood(model(bag_to_predict)) # posterior with noise\n",
    "    # bag_posterior = model(y_space) # posterior without noise\n",
    "    bag_posterior_mean = sigmaz * bag_posterior.mean + muz\n",
    "    stddev = sigmaz * bag_posterior.stddev\n",
    "    lower_bound = bag_posterior_mean - 2 * stddev\n",
    "    upper_bound = bag_posterior_mean + 2 * stddev"
   ]
  },
  {
   "cell_type": "code",
   "execution_count": 23,
   "metadata": {},
   "outputs": [
    {
     "data": {
      "text/plain": [
       "<matplotlib.legend.Legend at 0x2a12d6d00>"
      ]
     },
     "execution_count": 23,
     "metadata": {},
     "output_type": "execute_result"
    },
    {
     "data": {
      "image/png": "[encoded data removed]",
      "text/plain": [
       "<Figure size 640x480 with 1 Axes>"
      ]
     },
     "metadata": {},
     "output_type": "display_data"
    }
   ],
   "source": [
    "plt.plot(bag_to_predict,bag_posterior_mean, label = 'posterior mean', color='C0')\n",
    "plt.fill_between(bag_to_predict, lower_bound, upper_bound, alpha=0.3, color='C0')\n",
    "# plt.plot(groundtruth_individuals, (conf[1]-conf[0]).detach().numpy(), label = '2 * posterior std')\n",
    "plt.plot(bag_to_predict, g(bag_to_predict,a,b,c,d), label = 'g(y)', color='C1')\n",
    "# plt.plot(xs, f(xs), '.', label = 'data points')\n",
    "plt.legend()"
   ]
  },
  {
   "cell_type": "code",
   "execution_count": 40,
   "metadata": {},
   "outputs": [
    {
     "data": {
      "text/plain": [
       "tensor(1.0000)"
      ]
     },
     "execution_count": 40,
     "metadata": {},
     "output_type": "execute_result"
    }
   ],
   "source": [
    "groundtruth_individuals[np.argmin(func(groundtruth_individuals))]"
   ]
  },
  {
   "cell_type": "code",
   "execution_count": 21,
   "metadata": {},
   "outputs": [
    {
     "data": {
      "text/plain": [
       "tensor(0.8384)"
      ]
     },
     "execution_count": 21,
     "metadata": {},
     "output_type": "execute_result"
    }
   ],
   "source": [
    "groundtruth_individuals[np.argmin(individuals_posterior_mean)]"
   ]
  },
  {
   "cell_type": "code",
   "execution_count": 23,
   "metadata": {},
   "outputs": [],
   "source": [
    "# agent_ucb = BayesOpt_UCB(dataset1=[xs, ys], init_y_recs_size = init_y_size, y_space=y_space, x_space=x_space, f_oracle=func, g_oracle=g,num_round=num_round, num_repeat = num_repeat, cdf_dir='experiments/swiss_roll/config/exact_cmp.yaml', dump_dir='result/ucb/', random_seeds=random_seeds)\n",
    "# pos_best_dict['ucb'] = agent_ucb.simulation()"
   ]
  },
  {
   "cell_type": "code",
   "execution_count": 24,
   "metadata": {},
   "outputs": [
    {
     "name": "stderr",
     "output_type": "stream",
     "text": [
      "  0%|          | 0/10 [00:00<?, ?it/s]"
     ]
    },
    {
     "name": "stdout",
     "output_type": "stream",
     "text": [
      "[2.1212697e-01 5.3535283e-01 8.8888109e-01 8.1817544e-01 3.6363909e-01\n",
      " 6.1615932e-01 2.7273181e-01 6.0605848e-01 6.5656251e-01 2.3232858e-01\n",
      " 6.4646173e-01 6.7676413e-01 3.0303425e-01 9.9999997e-06 1.0110809e-02]\n"
     ]
    },
    {
     "name": "stderr",
     "output_type": "stream",
     "text": []
    },
    {
     "name": "stderr",
     "output_type": "stream",
     "text": []
    },
    {
     "name": "stdout",
     "output_type": "stream",
     "text": [
      "Iteration 1: Elapsed Time: 3.5796959400177 seconds\n"
     ]
    },
    {
     "name": "stderr",
     "output_type": "stream",
     "text": []
    },
    {
     "name": "stdout",
     "output_type": "stream",
     "text": [
      "Iteration 2: Elapsed Time: 3.253321886062622 seconds\n"
     ]
    },
    {
     "name": "stderr",
     "output_type": "stream",
     "text": []
    },
    {
     "name": "stdout",
     "output_type": "stream",
     "text": [
      "Iteration 3: Elapsed Time: 3.404655933380127 seconds\n"
     ]
    },
    {
     "name": "stderr",
     "output_type": "stream",
     "text": []
    },
    {
     "name": "stdout",
     "output_type": "stream",
     "text": [
      "Iteration 4: Elapsed Time: 3.265162944793701 seconds\n"
     ]
    },
    {
     "name": "stderr",
     "output_type": "stream",
     "text": []
    },
    {
     "name": "stdout",
     "output_type": "stream",
     "text": [
      "Iteration 5: Elapsed Time: 3.407806873321533 seconds\n"
     ]
    },
    {
     "name": "stderr",
     "output_type": "stream",
     "text": []
    },
    {
     "name": "stdout",
     "output_type": "stream",
     "text": [
      "Iteration 6: Elapsed Time: 3.4675300121307373 seconds\n"
     ]
    },
    {
     "name": "stderr",
     "output_type": "stream",
     "text": []
    },
    {
     "name": "stdout",
     "output_type": "stream",
     "text": [
      "Iteration 7: Elapsed Time: 3.388360023498535 seconds\n"
     ]
    },
    {
     "name": "stderr",
     "output_type": "stream",
     "text": []
    },
    {
     "name": "stdout",
     "output_type": "stream",
     "text": [
      "Iteration 8: Elapsed Time: 3.2719039916992188 seconds\n"
     ]
    },
    {
     "name": "stderr",
     "output_type": "stream",
     "text": []
    },
    {
     "name": "stdout",
     "output_type": "stream",
     "text": [
      "Iteration 9: Elapsed Time: 3.244870185852051 seconds\n"
     ]
    },
    {
     "name": "stderr",
     "output_type": "stream",
     "text": []
    },
    {
     "name": "stdout",
     "output_type": "stream",
     "text": [
      "Iteration 10: Elapsed Time: 3.3581931591033936 seconds\n"
     ]
    },
    {
     "name": "stderr",
     "output_type": "stream",
     "text": []
    },
    {
     "name": "stdout",
     "output_type": "stream",
     "text": [
      "Iteration 11: Elapsed Time: 3.2303600311279297 seconds\n"
     ]
    },
    {
     "name": "stderr",
     "output_type": "stream",
     "text": []
    },
    {
     "name": "stdout",
     "output_type": "stream",
     "text": [
      "Iteration 12: Elapsed Time: 3.4864370822906494 seconds\n"
     ]
    },
    {
     "name": "stderr",
     "output_type": "stream",
     "text": []
    },
    {
     "name": "stdout",
     "output_type": "stream",
     "text": [
      "Iteration 13: Elapsed Time: 3.333538055419922 seconds\n"
     ]
    },
    {
     "name": "stderr",
     "output_type": "stream",
     "text": []
    },
    {
     "name": "stdout",
     "output_type": "stream",
     "text": [
      "Iteration 14: Elapsed Time: 3.1737730503082275 seconds\n"
     ]
    },
    {
     "name": "stderr",
     "output_type": "stream",
     "text": [
      "100%|██████████| 15/15 [00:50<00:00,  3.35s/it]\n",
      " 10%|█         | 1/10 [00:50<07:31, 50.20s/it]"
     ]
    },
    {
     "name": "stdout",
     "output_type": "stream",
     "text": [
      "Iteration 15: Elapsed Time: 3.3178482055664062 seconds\n",
      "[0.45454636 0.08081646 0.55555445 0.70706654 0.58585685 0.737369\n",
      " 0.43434474 0.32323587 0.6565625  0.4949496  0.5050504  0.787873\n",
      " 0.05051404 0.5353528  0.8484779 ]\n"
     ]
    },
    {
     "name": "stderr",
     "output_type": "stream",
     "text": []
    },
    {
     "name": "stdout",
     "output_type": "stream",
     "text": [
      "Iteration 1: Elapsed Time: 3.2341561317443848 seconds\n"
     ]
    },
    {
     "name": "stderr",
     "output_type": "stream",
     "text": []
    },
    {
     "name": "stdout",
     "output_type": "stream",
     "text": [
      "Iteration 2: Elapsed Time: 3.2736330032348633 seconds\n"
     ]
    },
    {
     "name": "stderr",
     "output_type": "stream",
     "text": []
    },
    {
     "name": "stdout",
     "output_type": "stream",
     "text": [
      "Iteration 3: Elapsed Time: 3.2818450927734375 seconds\n"
     ]
    },
    {
     "name": "stderr",
     "output_type": "stream",
     "text": []
    },
    {
     "name": "stdout",
     "output_type": "stream",
     "text": [
      "Iteration 4: Elapsed Time: 3.2020459175109863 seconds\n"
     ]
    },
    {
     "name": "stderr",
     "output_type": "stream",
     "text": []
    },
    {
     "name": "stdout",
     "output_type": "stream",
     "text": [
      "Iteration 5: Elapsed Time: 3.4024369716644287 seconds\n"
     ]
    },
    {
     "name": "stderr",
     "output_type": "stream",
     "text": []
    },
    {
     "name": "stdout",
     "output_type": "stream",
     "text": [
      "Iteration 6: Elapsed Time: 3.515136957168579 seconds\n"
     ]
    },
    {
     "name": "stderr",
     "output_type": "stream",
     "text": []
    },
    {
     "name": "stdout",
     "output_type": "stream",
     "text": [
      "Iteration 7: Elapsed Time: 3.280506134033203 seconds\n"
     ]
    },
    {
     "name": "stderr",
     "output_type": "stream",
     "text": []
    },
    {
     "name": "stdout",
     "output_type": "stream",
     "text": [
      "Iteration 8: Elapsed Time: 3.2524468898773193 seconds\n"
     ]
    },
    {
     "name": "stderr",
     "output_type": "stream",
     "text": []
    },
    {
     "name": "stdout",
     "output_type": "stream",
     "text": [
      "Iteration 9: Elapsed Time: 3.3744757175445557 seconds\n"
     ]
    },
    {
     "name": "stderr",
     "output_type": "stream",
     "text": []
    },
    {
     "name": "stdout",
     "output_type": "stream",
     "text": [
      "Iteration 10: Elapsed Time: 3.5637099742889404 seconds\n"
     ]
    },
    {
     "name": "stderr",
     "output_type": "stream",
     "text": []
    },
    {
     "name": "stdout",
     "output_type": "stream",
     "text": [
      "Iteration 11: Elapsed Time: 3.423586130142212 seconds\n"
     ]
    },
    {
     "name": "stderr",
     "output_type": "stream",
     "text": []
    },
    {
     "name": "stdout",
     "output_type": "stream",
     "text": [
      "Iteration 12: Elapsed Time: 3.6201701164245605 seconds\n"
     ]
    },
    {
     "name": "stderr",
     "output_type": "stream",
     "text": []
    },
    {
     "name": "stdout",
     "output_type": "stream",
     "text": [
      "Iteration 13: Elapsed Time: 3.1455390453338623 seconds\n"
     ]
    },
    {
     "name": "stderr",
     "output_type": "stream",
     "text": []
    },
    {
     "name": "stdout",
     "output_type": "stream",
     "text": [
      "Iteration 14: Elapsed Time: 3.369497060775757 seconds\n"
     ]
    },
    {
     "name": "stderr",
     "output_type": "stream",
     "text": [
      "100%|██████████| 15/15 [00:50<00:00,  3.36s/it]\n",
      " 20%|██        | 2/10 [01:40<06:42, 50.33s/it]"
     ]
    },
    {
     "name": "stdout",
     "output_type": "stream",
     "text": [
      "Iteration 15: Elapsed Time: 3.464805841445923 seconds\n",
      "[0.5757561  0.7171674  0.99999    0.5959577  0.6565625  0.7575706\n",
      " 0.24242939 0.23232858 0.6060585  0.80807465 0.787873   0.12121969\n",
      " 0.3838407  0.18182455 0.11111889]\n"
     ]
    },
    {
     "name": "stderr",
     "output_type": "stream",
     "text": []
    },
    {
     "name": "stdout",
     "output_type": "stream",
     "text": [
      "Iteration 1: Elapsed Time: 3.3198890686035156 seconds\n"
     ]
    },
    {
     "name": "stderr",
     "output_type": "stream",
     "text": []
    },
    {
     "name": "stdout",
     "output_type": "stream",
     "text": [
      "Iteration 2: Elapsed Time: 3.224316358566284 seconds\n"
     ]
    },
    {
     "name": "stderr",
     "output_type": "stream",
     "text": []
    },
    {
     "name": "stdout",
     "output_type": "stream",
     "text": [
      "Iteration 3: Elapsed Time: 3.379595994949341 seconds\n"
     ]
    },
    {
     "name": "stderr",
     "output_type": "stream",
     "text": []
    },
    {
     "name": "stdout",
     "output_type": "stream",
     "text": [
      "Iteration 4: Elapsed Time: 3.2726547718048096 seconds\n"
     ]
    },
    {
     "name": "stderr",
     "output_type": "stream",
     "text": []
    },
    {
     "name": "stdout",
     "output_type": "stream",
     "text": [
      "Iteration 5: Elapsed Time: 3.407417058944702 seconds\n"
     ]
    },
    {
     "name": "stderr",
     "output_type": "stream",
     "text": []
    },
    {
     "name": "stdout",
     "output_type": "stream",
     "text": [
      "Iteration 6: Elapsed Time: 3.3559188842773438 seconds\n"
     ]
    },
    {
     "name": "stderr",
     "output_type": "stream",
     "text": []
    },
    {
     "name": "stdout",
     "output_type": "stream",
     "text": [
      "Iteration 7: Elapsed Time: 3.314152956008911 seconds\n"
     ]
    },
    {
     "name": "stderr",
     "output_type": "stream",
     "text": []
    },
    {
     "name": "stdout",
     "output_type": "stream",
     "text": [
      "Iteration 8: Elapsed Time: 3.3478808403015137 seconds\n"
     ]
    },
    {
     "name": "stderr",
     "output_type": "stream",
     "text": []
    },
    {
     "name": "stdout",
     "output_type": "stream",
     "text": [
      "Iteration 9: Elapsed Time: 3.379361867904663 seconds\n"
     ]
    },
    {
     "name": "stderr",
     "output_type": "stream",
     "text": []
    },
    {
     "name": "stdout",
     "output_type": "stream",
     "text": [
      "Iteration 10: Elapsed Time: 3.230151891708374 seconds\n"
     ]
    },
    {
     "name": "stderr",
     "output_type": "stream",
     "text": []
    },
    {
     "name": "stdout",
     "output_type": "stream",
     "text": [
      "Iteration 11: Elapsed Time: 3.2282092571258545 seconds\n"
     ]
    },
    {
     "name": "stderr",
     "output_type": "stream",
     "text": []
    },
    {
     "name": "stdout",
     "output_type": "stream",
     "text": [
      "Iteration 12: Elapsed Time: 3.434589147567749 seconds\n"
     ]
    },
    {
     "name": "stderr",
     "output_type": "stream",
     "text": []
    },
    {
     "name": "stdout",
     "output_type": "stream",
     "text": [
      "Iteration 13: Elapsed Time: 3.354649066925049 seconds\n"
     ]
    },
    {
     "name": "stderr",
     "output_type": "stream",
     "text": []
    },
    {
     "name": "stdout",
     "output_type": "stream",
     "text": [
      "Iteration 14: Elapsed Time: 3.284665107727051 seconds\n"
     ]
    },
    {
     "name": "stderr",
     "output_type": "stream",
     "text": [
      "100%|██████████| 15/15 [00:49<00:00,  3.33s/it]\n",
      " 30%|███       | 3/10 [02:30<05:50, 50.14s/it]"
     ]
    },
    {
     "name": "stdout",
     "output_type": "stream",
     "text": [
      "Iteration 15: Elapsed Time: 3.3585808277130127 seconds\n",
      "[0.09091727 0.2727318  0.18182455 0.3838407  0.8989819  0.30303425\n",
      " 0.6363609  0.03031242 0.92928433 0.04041323 0.12121969 0.41414315\n",
      " 0.6565625  0.42424393 0.07071566]\n"
     ]
    },
    {
     "name": "stderr",
     "output_type": "stream",
     "text": []
    },
    {
     "name": "stdout",
     "output_type": "stream",
     "text": [
      "Iteration 1: Elapsed Time: 3.4001216888427734 seconds\n"
     ]
    },
    {
     "name": "stderr",
     "output_type": "stream",
     "text": []
    },
    {
     "name": "stdout",
     "output_type": "stream",
     "text": [
      "Iteration 2: Elapsed Time: 3.314368963241577 seconds\n"
     ]
    },
    {
     "name": "stderr",
     "output_type": "stream",
     "text": []
    },
    {
     "name": "stdout",
     "output_type": "stream",
     "text": [
      "Iteration 3: Elapsed Time: 3.3728389739990234 seconds\n"
     ]
    },
    {
     "name": "stderr",
     "output_type": "stream",
     "text": []
    },
    {
     "name": "stdout",
     "output_type": "stream",
     "text": [
      "Iteration 4: Elapsed Time: 3.3350212574005127 seconds\n"
     ]
    },
    {
     "name": "stderr",
     "output_type": "stream",
     "text": []
    },
    {
     "name": "stdout",
     "output_type": "stream",
     "text": [
      "Iteration 5: Elapsed Time: 3.335070848464966 seconds\n"
     ]
    },
    {
     "name": "stderr",
     "output_type": "stream",
     "text": []
    },
    {
     "name": "stdout",
     "output_type": "stream",
     "text": [
      "Iteration 6: Elapsed Time: 3.3472776412963867 seconds\n"
     ]
    },
    {
     "name": "stderr",
     "output_type": "stream",
     "text": []
    },
    {
     "name": "stdout",
     "output_type": "stream",
     "text": [
      "Iteration 7: Elapsed Time: 3.220257043838501 seconds\n"
     ]
    },
    {
     "name": "stderr",
     "output_type": "stream",
     "text": []
    },
    {
     "name": "stdout",
     "output_type": "stream",
     "text": [
      "Iteration 8: Elapsed Time: 3.186208963394165 seconds\n"
     ]
    },
    {
     "name": "stderr",
     "output_type": "stream",
     "text": []
    },
    {
     "name": "stdout",
     "output_type": "stream",
     "text": [
      "Iteration 9: Elapsed Time: 3.380659818649292 seconds\n"
     ]
    },
    {
     "name": "stderr",
     "output_type": "stream",
     "text": []
    },
    {
     "name": "stdout",
     "output_type": "stream",
     "text": [
      "Iteration 10: Elapsed Time: 3.280696153640747 seconds\n"
     ]
    },
    {
     "name": "stderr",
     "output_type": "stream",
     "text": []
    },
    {
     "name": "stdout",
     "output_type": "stream",
     "text": [
      "Iteration 11: Elapsed Time: 3.333113193511963 seconds\n"
     ]
    },
    {
     "name": "stderr",
     "output_type": "stream",
     "text": []
    },
    {
     "name": "stdout",
     "output_type": "stream",
     "text": [
      "Iteration 12: Elapsed Time: 3.267078161239624 seconds\n"
     ]
    },
    {
     "name": "stderr",
     "output_type": "stream",
     "text": []
    },
    {
     "name": "stdout",
     "output_type": "stream",
     "text": [
      "Iteration 13: Elapsed Time: 3.21173095703125 seconds\n"
     ]
    },
    {
     "name": "stderr",
     "output_type": "stream",
     "text": []
    },
    {
     "name": "stdout",
     "output_type": "stream",
     "text": [
      "Iteration 14: Elapsed Time: 3.241753101348877 seconds\n"
     ]
    },
    {
     "name": "stderr",
     "output_type": "stream",
     "text": [
      "100%|██████████| 15/15 [00:49<00:00,  3.30s/it]\n",
      " 40%|████      | 4/10 [03:20<04:59, 49.88s/it]"
     ]
    },
    {
     "name": "stdout",
     "output_type": "stream",
     "text": [
      "Iteration 15: Elapsed Time: 3.2475528717041016 seconds\n",
      "[0.14142132 0.95958674 0.16162293 0.69696575 0.7676714  0.91918355\n",
      " 0.22222778 0.28283262 0.81817544 0.5959577  0.97978836 0.5353528\n",
      " 0.262631   0.2727318  0.18182455]\n"
     ]
    },
    {
     "name": "stderr",
     "output_type": "stream",
     "text": []
    },
    {
     "name": "stdout",
     "output_type": "stream",
     "text": [
      "Iteration 1: Elapsed Time: 3.294132947921753 seconds\n"
     ]
    },
    {
     "name": "stderr",
     "output_type": "stream",
     "text": []
    },
    {
     "name": "stdout",
     "output_type": "stream",
     "text": [
      "Iteration 2: Elapsed Time: 3.3722829818725586 seconds\n"
     ]
    },
    {
     "name": "stderr",
     "output_type": "stream",
     "text": []
    },
    {
     "name": "stdout",
     "output_type": "stream",
     "text": [
      "Iteration 3: Elapsed Time: 3.341765880584717 seconds\n"
     ]
    },
    {
     "name": "stderr",
     "output_type": "stream",
     "text": []
    },
    {
     "name": "stdout",
     "output_type": "stream",
     "text": [
      "Iteration 4: Elapsed Time: 3.296985149383545 seconds\n"
     ]
    },
    {
     "name": "stderr",
     "output_type": "stream",
     "text": []
    },
    {
     "name": "stdout",
     "output_type": "stream",
     "text": [
      "Iteration 5: Elapsed Time: 3.333759069442749 seconds\n"
     ]
    },
    {
     "name": "stderr",
     "output_type": "stream",
     "text": []
    },
    {
     "name": "stdout",
     "output_type": "stream",
     "text": [
      "Iteration 6: Elapsed Time: 3.332418918609619 seconds\n"
     ]
    },
    {
     "name": "stderr",
     "output_type": "stream",
     "text": []
    },
    {
     "name": "stdout",
     "output_type": "stream",
     "text": [
      "Iteration 7: Elapsed Time: 3.3413619995117188 seconds\n"
     ]
    },
    {
     "name": "stderr",
     "output_type": "stream",
     "text": []
    },
    {
     "name": "stdout",
     "output_type": "stream",
     "text": [
      "Iteration 8: Elapsed Time: 3.3450632095336914 seconds\n"
     ]
    },
    {
     "name": "stderr",
     "output_type": "stream",
     "text": []
    },
    {
     "name": "stdout",
     "output_type": "stream",
     "text": [
      "Iteration 9: Elapsed Time: 3.4006922245025635 seconds\n"
     ]
    },
    {
     "name": "stderr",
     "output_type": "stream",
     "text": []
    },
    {
     "name": "stdout",
     "output_type": "stream",
     "text": [
      "Iteration 10: Elapsed Time: 3.4123730659484863 seconds\n"
     ]
    },
    {
     "name": "stderr",
     "output_type": "stream",
     "text": []
    },
    {
     "name": "stdout",
     "output_type": "stream",
     "text": [
      "Iteration 11: Elapsed Time: 3.213754177093506 seconds\n"
     ]
    },
    {
     "name": "stderr",
     "output_type": "stream",
     "text": []
    },
    {
     "name": "stdout",
     "output_type": "stream",
     "text": [
      "Iteration 12: Elapsed Time: 3.4062421321868896 seconds\n"
     ]
    },
    {
     "name": "stderr",
     "output_type": "stream",
     "text": []
    },
    {
     "name": "stdout",
     "output_type": "stream",
     "text": [
      "Iteration 13: Elapsed Time: 3.289764165878296 seconds\n"
     ]
    },
    {
     "name": "stderr",
     "output_type": "stream",
     "text": []
    },
    {
     "name": "stdout",
     "output_type": "stream",
     "text": [
      "Iteration 14: Elapsed Time: 3.258018732070923 seconds\n"
     ]
    },
    {
     "name": "stderr",
     "output_type": "stream",
     "text": [
      "100%|██████████| 15/15 [00:50<00:00,  3.34s/it]\n",
      " 50%|█████     | 5/10 [04:10<04:09, 49.95s/it]"
     ]
    },
    {
     "name": "stdout",
     "output_type": "stream",
     "text": [
      "Iteration 15: Elapsed Time: 3.41054105758667 seconds\n",
      "[0.52525204 0.66666335 0.69696575 0.8989819  0.14142132 0.22222778\n",
      " 0.4848488  0.28283262 0.3737399  0.03031242 0.72726816 0.01011081\n",
      " 0.12121969 0.20202616 0.99999   ]\n"
     ]
    },
    {
     "name": "stderr",
     "output_type": "stream",
     "text": []
    },
    {
     "name": "stdout",
     "output_type": "stream",
     "text": [
      "Iteration 1: Elapsed Time: 3.348845958709717 seconds\n"
     ]
    },
    {
     "name": "stderr",
     "output_type": "stream",
     "text": []
    },
    {
     "name": "stdout",
     "output_type": "stream",
     "text": [
      "Iteration 2: Elapsed Time: 3.343809127807617 seconds\n"
     ]
    },
    {
     "name": "stderr",
     "output_type": "stream",
     "text": []
    },
    {
     "name": "stdout",
     "output_type": "stream",
     "text": [
      "Iteration 3: Elapsed Time: 3.459773302078247 seconds\n"
     ]
    },
    {
     "name": "stderr",
     "output_type": "stream",
     "text": []
    },
    {
     "name": "stdout",
     "output_type": "stream",
     "text": [
      "Iteration 4: Elapsed Time: 3.193819284439087 seconds\n"
     ]
    },
    {
     "name": "stderr",
     "output_type": "stream",
     "text": []
    },
    {
     "name": "stdout",
     "output_type": "stream",
     "text": [
      "Iteration 5: Elapsed Time: 3.2712512016296387 seconds\n"
     ]
    },
    {
     "name": "stderr",
     "output_type": "stream",
     "text": []
    },
    {
     "name": "stdout",
     "output_type": "stream",
     "text": [
      "Iteration 6: Elapsed Time: 3.2891318798065186 seconds\n"
     ]
    },
    {
     "name": "stderr",
     "output_type": "stream",
     "text": []
    },
    {
     "name": "stdout",
     "output_type": "stream",
     "text": [
      "Iteration 7: Elapsed Time: 3.297212839126587 seconds\n"
     ]
    },
    {
     "name": "stderr",
     "output_type": "stream",
     "text": []
    },
    {
     "name": "stdout",
     "output_type": "stream",
     "text": [
      "Iteration 8: Elapsed Time: 3.212355136871338 seconds\n"
     ]
    },
    {
     "name": "stderr",
     "output_type": "stream",
     "text": []
    },
    {
     "name": "stdout",
     "output_type": "stream",
     "text": [
      "Iteration 9: Elapsed Time: 3.348068952560425 seconds\n"
     ]
    },
    {
     "name": "stderr",
     "output_type": "stream",
     "text": []
    },
    {
     "name": "stdout",
     "output_type": "stream",
     "text": [
      "Iteration 10: Elapsed Time: 3.2786238193511963 seconds\n"
     ]
    },
    {
     "name": "stderr",
     "output_type": "stream",
     "text": []
    },
    {
     "name": "stdout",
     "output_type": "stream",
     "text": [
      "Iteration 11: Elapsed Time: 3.4146180152893066 seconds\n"
     ]
    },
    {
     "name": "stderr",
     "output_type": "stream",
     "text": []
    },
    {
     "name": "stdout",
     "output_type": "stream",
     "text": [
      "Iteration 12: Elapsed Time: 3.378701686859131 seconds\n"
     ]
    },
    {
     "name": "stderr",
     "output_type": "stream",
     "text": []
    },
    {
     "name": "stdout",
     "output_type": "stream",
     "text": [
      "Iteration 13: Elapsed Time: 3.371791124343872 seconds\n"
     ]
    },
    {
     "name": "stderr",
     "output_type": "stream",
     "text": []
    },
    {
     "name": "stdout",
     "output_type": "stream",
     "text": [
      "Iteration 14: Elapsed Time: 3.3827173709869385 seconds\n"
     ]
    },
    {
     "name": "stderr",
     "output_type": "stream",
     "text": [
      "100%|██████████| 15/15 [00:49<00:00,  3.33s/it]\n",
      " 60%|██████    | 6/10 [05:00<03:19, 49.96s/it]"
     ]
    },
    {
     "name": "stdout",
     "output_type": "stream",
     "text": [
      "Iteration 15: Elapsed Time: 3.362069845199585 seconds\n",
      "[0.6363609  0.72726816 0.92928433 0.45454636 0.14142132 0.11111889\n",
      " 0.18182455 0.22222778 0.5050504  0.15152211 0.20202616 0.7474698\n",
      " 0.04041323 0.7979738  0.70706654]\n"
     ]
    },
    {
     "name": "stderr",
     "output_type": "stream",
     "text": []
    },
    {
     "name": "stdout",
     "output_type": "stream",
     "text": [
      "Iteration 1: Elapsed Time: 3.215294122695923 seconds\n"
     ]
    },
    {
     "name": "stderr",
     "output_type": "stream",
     "text": []
    },
    {
     "name": "stdout",
     "output_type": "stream",
     "text": [
      "Iteration 2: Elapsed Time: 3.4126269817352295 seconds\n"
     ]
    },
    {
     "name": "stderr",
     "output_type": "stream",
     "text": []
    },
    {
     "name": "stdout",
     "output_type": "stream",
     "text": [
      "Iteration 3: Elapsed Time: 3.3222248554229736 seconds\n"
     ]
    },
    {
     "name": "stderr",
     "output_type": "stream",
     "text": []
    },
    {
     "name": "stdout",
     "output_type": "stream",
     "text": [
      "Iteration 4: Elapsed Time: 3.453139066696167 seconds\n"
     ]
    },
    {
     "name": "stderr",
     "output_type": "stream",
     "text": []
    },
    {
     "name": "stdout",
     "output_type": "stream",
     "text": [
      "Iteration 5: Elapsed Time: 3.2540926933288574 seconds\n"
     ]
    },
    {
     "name": "stderr",
     "output_type": "stream",
     "text": []
    },
    {
     "name": "stdout",
     "output_type": "stream",
     "text": [
      "Iteration 6: Elapsed Time: 3.2772841453552246 seconds\n"
     ]
    },
    {
     "name": "stderr",
     "output_type": "stream",
     "text": []
    },
    {
     "name": "stdout",
     "output_type": "stream",
     "text": [
      "Iteration 7: Elapsed Time: 3.209894895553589 seconds\n"
     ]
    },
    {
     "name": "stderr",
     "output_type": "stream",
     "text": []
    },
    {
     "name": "stdout",
     "output_type": "stream",
     "text": [
      "Iteration 8: Elapsed Time: 3.260409116744995 seconds\n"
     ]
    },
    {
     "name": "stderr",
     "output_type": "stream",
     "text": []
    },
    {
     "name": "stdout",
     "output_type": "stream",
     "text": [
      "Iteration 9: Elapsed Time: 3.172973871231079 seconds\n"
     ]
    },
    {
     "name": "stderr",
     "output_type": "stream",
     "text": []
    },
    {
     "name": "stdout",
     "output_type": "stream",
     "text": [
      "Iteration 10: Elapsed Time: 3.163465976715088 seconds\n"
     ]
    },
    {
     "name": "stderr",
     "output_type": "stream",
     "text": []
    },
    {
     "name": "stdout",
     "output_type": "stream",
     "text": [
      "Iteration 11: Elapsed Time: 3.171712636947632 seconds\n"
     ]
    },
    {
     "name": "stderr",
     "output_type": "stream",
     "text": []
    },
    {
     "name": "stdout",
     "output_type": "stream",
     "text": [
      "Iteration 12: Elapsed Time: 3.379077911376953 seconds\n"
     ]
    },
    {
     "name": "stderr",
     "output_type": "stream",
     "text": []
    },
    {
     "name": "stdout",
     "output_type": "stream",
     "text": [
      "Iteration 13: Elapsed Time: 3.294780969619751 seconds\n"
     ]
    },
    {
     "name": "stderr",
     "output_type": "stream",
     "text": []
    },
    {
     "name": "stdout",
     "output_type": "stream",
     "text": [
      "Iteration 14: Elapsed Time: 3.3484420776367188 seconds\n"
     ]
    },
    {
     "name": "stderr",
     "output_type": "stream",
     "text": [
      "100%|██████████| 15/15 [00:49<00:00,  3.29s/it]\n",
      " 70%|███████   | 7/10 [05:49<02:29, 49.74s/it]"
     ]
    },
    {
     "name": "stdout",
     "output_type": "stream",
     "text": [
      "Iteration 15: Elapsed Time: 3.331707239151001 seconds\n",
      "[0.23232858 0.15152211 0.8484779  0.5757561  0.42424393 0.30303425\n",
      " 0.2525302  0.6262601  0.80807465 0.6363609  0.6161593  0.3737399\n",
      " 0.58585685 0.33333668 0.32323587]\n"
     ]
    },
    {
     "name": "stderr",
     "output_type": "stream",
     "text": []
    },
    {
     "name": "stdout",
     "output_type": "stream",
     "text": [
      "Iteration 1: Elapsed Time: 3.2341809272766113 seconds\n"
     ]
    },
    {
     "name": "stderr",
     "output_type": "stream",
     "text": []
    },
    {
     "name": "stdout",
     "output_type": "stream",
     "text": [
      "Iteration 2: Elapsed Time: 3.396925210952759 seconds\n"
     ]
    },
    {
     "name": "stderr",
     "output_type": "stream",
     "text": []
    },
    {
     "name": "stdout",
     "output_type": "stream",
     "text": [
      "Iteration 3: Elapsed Time: 3.329355001449585 seconds\n"
     ]
    },
    {
     "name": "stderr",
     "output_type": "stream",
     "text": []
    },
    {
     "name": "stdout",
     "output_type": "stream",
     "text": [
      "Iteration 4: Elapsed Time: 3.2436141967773438 seconds\n"
     ]
    },
    {
     "name": "stderr",
     "output_type": "stream",
     "text": []
    },
    {
     "name": "stdout",
     "output_type": "stream",
     "text": [
      "Iteration 5: Elapsed Time: 3.253361940383911 seconds\n"
     ]
    },
    {
     "name": "stderr",
     "output_type": "stream",
     "text": []
    },
    {
     "name": "stdout",
     "output_type": "stream",
     "text": [
      "Iteration 6: Elapsed Time: 3.5330400466918945 seconds\n"
     ]
    },
    {
     "name": "stderr",
     "output_type": "stream",
     "text": []
    },
    {
     "name": "stdout",
     "output_type": "stream",
     "text": [
      "Iteration 7: Elapsed Time: 3.335793972015381 seconds\n"
     ]
    },
    {
     "name": "stderr",
     "output_type": "stream",
     "text": []
    },
    {
     "name": "stdout",
     "output_type": "stream",
     "text": [
      "Iteration 8: Elapsed Time: 3.225630760192871 seconds\n"
     ]
    },
    {
     "name": "stderr",
     "output_type": "stream",
     "text": []
    },
    {
     "name": "stdout",
     "output_type": "stream",
     "text": [
      "Iteration 9: Elapsed Time: 3.4111900329589844 seconds\n"
     ]
    },
    {
     "name": "stderr",
     "output_type": "stream",
     "text": []
    },
    {
     "name": "stdout",
     "output_type": "stream",
     "text": [
      "Iteration 10: Elapsed Time: 3.5397238731384277 seconds\n"
     ]
    },
    {
     "name": "stderr",
     "output_type": "stream",
     "text": []
    },
    {
     "name": "stdout",
     "output_type": "stream",
     "text": [
      "Iteration 11: Elapsed Time: 3.3185501098632812 seconds\n"
     ]
    },
    {
     "name": "stderr",
     "output_type": "stream",
     "text": []
    },
    {
     "name": "stdout",
     "output_type": "stream",
     "text": [
      "Iteration 12: Elapsed Time: 3.258664846420288 seconds\n"
     ]
    },
    {
     "name": "stderr",
     "output_type": "stream",
     "text": []
    },
    {
     "name": "stdout",
     "output_type": "stream",
     "text": [
      "Iteration 13: Elapsed Time: 3.3082668781280518 seconds\n"
     ]
    },
    {
     "name": "stderr",
     "output_type": "stream",
     "text": []
    },
    {
     "name": "stdout",
     "output_type": "stream",
     "text": [
      "Iteration 14: Elapsed Time: 3.1756300926208496 seconds\n"
     ]
    },
    {
     "name": "stderr",
     "output_type": "stream",
     "text": [
      "100%|██████████| 15/15 [00:49<00:00,  3.32s/it]\n",
      " 80%|████████  | 8/10 [06:39<01:39, 49.75s/it]"
     ]
    },
    {
     "name": "stdout",
     "output_type": "stream",
     "text": [
      "Iteration 15: Elapsed Time: 3.1925370693206787 seconds\n",
      "[0.58585685 0.7474698  0.67676413 0.04041323 0.31313506 0.3636391\n",
      " 0.8585787  0.81817544 0.262631   0.16162293 0.97978836 0.44444555\n",
      " 0.35353827 0.95958674 0.56565523]\n"
     ]
    },
    {
     "name": "stderr",
     "output_type": "stream",
     "text": []
    },
    {
     "name": "stdout",
     "output_type": "stream",
     "text": [
      "Iteration 1: Elapsed Time: 3.3120572566986084 seconds\n"
     ]
    },
    {
     "name": "stderr",
     "output_type": "stream",
     "text": []
    },
    {
     "name": "stdout",
     "output_type": "stream",
     "text": [
      "Iteration 2: Elapsed Time: 3.1308600902557373 seconds\n"
     ]
    },
    {
     "name": "stderr",
     "output_type": "stream",
     "text": []
    },
    {
     "name": "stdout",
     "output_type": "stream",
     "text": [
      "Iteration 3: Elapsed Time: 3.3525750637054443 seconds\n"
     ]
    },
    {
     "name": "stderr",
     "output_type": "stream",
     "text": []
    },
    {
     "name": "stdout",
     "output_type": "stream",
     "text": [
      "Iteration 4: Elapsed Time: 3.3791239261627197 seconds\n"
     ]
    },
    {
     "name": "stderr",
     "output_type": "stream",
     "text": []
    },
    {
     "name": "stdout",
     "output_type": "stream",
     "text": [
      "Iteration 5: Elapsed Time: 3.1744160652160645 seconds\n"
     ]
    },
    {
     "name": "stderr",
     "output_type": "stream",
     "text": []
    },
    {
     "name": "stdout",
     "output_type": "stream",
     "text": [
      "Iteration 6: Elapsed Time: 3.128303050994873 seconds\n"
     ]
    },
    {
     "name": "stderr",
     "output_type": "stream",
     "text": []
    },
    {
     "name": "stdout",
     "output_type": "stream",
     "text": [
      "Iteration 7: Elapsed Time: 3.3379621505737305 seconds\n"
     ]
    },
    {
     "name": "stderr",
     "output_type": "stream",
     "text": []
    },
    {
     "name": "stdout",
     "output_type": "stream",
     "text": [
      "Iteration 8: Elapsed Time: 3.336674928665161 seconds\n"
     ]
    },
    {
     "name": "stderr",
     "output_type": "stream",
     "text": []
    },
    {
     "name": "stdout",
     "output_type": "stream",
     "text": [
      "Iteration 9: Elapsed Time: 3.529607057571411 seconds\n"
     ]
    },
    {
     "name": "stderr",
     "output_type": "stream",
     "text": []
    },
    {
     "name": "stdout",
     "output_type": "stream",
     "text": [
      "Iteration 10: Elapsed Time: 3.3778350353240967 seconds\n"
     ]
    },
    {
     "name": "stderr",
     "output_type": "stream",
     "text": []
    },
    {
     "name": "stdout",
     "output_type": "stream",
     "text": [
      "Iteration 11: Elapsed Time: 3.440992832183838 seconds\n"
     ]
    },
    {
     "name": "stderr",
     "output_type": "stream",
     "text": []
    },
    {
     "name": "stdout",
     "output_type": "stream",
     "text": [
      "Iteration 12: Elapsed Time: 3.294978141784668 seconds\n"
     ]
    },
    {
     "name": "stderr",
     "output_type": "stream",
     "text": []
    },
    {
     "name": "stdout",
     "output_type": "stream",
     "text": [
      "Iteration 13: Elapsed Time: 3.4115829467773438 seconds\n"
     ]
    },
    {
     "name": "stderr",
     "output_type": "stream",
     "text": []
    },
    {
     "name": "stdout",
     "output_type": "stream",
     "text": [
      "Iteration 14: Elapsed Time: 3.372460126876831 seconds\n"
     ]
    },
    {
     "name": "stderr",
     "output_type": "stream",
     "text": [
      "100%|██████████| 15/15 [00:49<00:00,  3.33s/it]\n",
      " 90%|█████████ | 9/10 [07:29<00:49, 49.81s/it]"
     ]
    },
    {
     "name": "stdout",
     "output_type": "stream",
     "text": [
      "Iteration 15: Elapsed Time: 3.3495538234710693 seconds\n",
      "[0.6363609  0.23232858 0.7171674  0.2727318  0.41414315 0.3737399\n",
      " 0.8888811  0.03031242 0.6262601  0.45454636 0.08081646 0.5151512\n",
      " 0.5959577  0.42424393 0.21212697]\n"
     ]
    },
    {
     "name": "stderr",
     "output_type": "stream",
     "text": []
    },
    {
     "name": "stdout",
     "output_type": "stream",
     "text": [
      "Iteration 1: Elapsed Time: 3.4415249824523926 seconds\n"
     ]
    },
    {
     "name": "stderr",
     "output_type": "stream",
     "text": []
    },
    {
     "name": "stdout",
     "output_type": "stream",
     "text": [
      "Iteration 2: Elapsed Time: 3.413964033126831 seconds\n"
     ]
    },
    {
     "name": "stderr",
     "output_type": "stream",
     "text": []
    },
    {
     "name": "stdout",
     "output_type": "stream",
     "text": [
      "Iteration 3: Elapsed Time: 3.2665932178497314 seconds\n"
     ]
    },
    {
     "name": "stderr",
     "output_type": "stream",
     "text": []
    },
    {
     "name": "stdout",
     "output_type": "stream",
     "text": [
      "Iteration 4: Elapsed Time: 3.5137269496917725 seconds\n"
     ]
    },
    {
     "name": "stderr",
     "output_type": "stream",
     "text": []
    },
    {
     "name": "stdout",
     "output_type": "stream",
     "text": [
      "Iteration 5: Elapsed Time: 3.333461046218872 seconds\n"
     ]
    },
    {
     "name": "stderr",
     "output_type": "stream",
     "text": []
    },
    {
     "name": "stdout",
     "output_type": "stream",
     "text": [
      "Iteration 6: Elapsed Time: 3.361865997314453 seconds\n"
     ]
    },
    {
     "name": "stderr",
     "output_type": "stream",
     "text": []
    },
    {
     "name": "stdout",
     "output_type": "stream",
     "text": [
      "Iteration 7: Elapsed Time: 3.305356025695801 seconds\n"
     ]
    },
    {
     "name": "stderr",
     "output_type": "stream",
     "text": []
    },
    {
     "name": "stdout",
     "output_type": "stream",
     "text": [
      "Iteration 8: Elapsed Time: 3.4192540645599365 seconds\n"
     ]
    },
    {
     "name": "stderr",
     "output_type": "stream",
     "text": []
    },
    {
     "name": "stdout",
     "output_type": "stream",
     "text": [
      "Iteration 9: Elapsed Time: 3.2762482166290283 seconds\n"
     ]
    },
    {
     "name": "stderr",
     "output_type": "stream",
     "text": []
    },
    {
     "name": "stdout",
     "output_type": "stream",
     "text": [
      "Iteration 10: Elapsed Time: 3.3489439487457275 seconds\n"
     ]
    },
    {
     "name": "stderr",
     "output_type": "stream",
     "text": []
    },
    {
     "name": "stdout",
     "output_type": "stream",
     "text": [
      "Iteration 11: Elapsed Time: 3.4255778789520264 seconds\n"
     ]
    },
    {
     "name": "stderr",
     "output_type": "stream",
     "text": []
    },
    {
     "name": "stdout",
     "output_type": "stream",
     "text": [
      "Iteration 12: Elapsed Time: 3.257167100906372 seconds\n"
     ]
    },
    {
     "name": "stderr",
     "output_type": "stream",
     "text": []
    },
    {
     "name": "stdout",
     "output_type": "stream",
     "text": [
      "Iteration 13: Elapsed Time: 3.440406084060669 seconds\n"
     ]
    },
    {
     "name": "stderr",
     "output_type": "stream",
     "text": []
    },
    {
     "name": "stdout",
     "output_type": "stream",
     "text": [
      "Iteration 14: Elapsed Time: 3.1893298625946045 seconds\n"
     ]
    },
    {
     "name": "stderr",
     "output_type": "stream",
     "text": [
      "100%|██████████| 15/15 [00:50<00:00,  3.36s/it]\n",
      "100%|██████████| 10/10 [08:19<00:00, 49.95s/it]"
     ]
    },
    {
     "name": "stdout",
     "output_type": "stream",
     "text": [
      "Iteration 15: Elapsed Time: 3.4146769046783447 seconds\n"
     ]
    },
    {
     "name": "stderr",
     "output_type": "stream",
     "text": [
      "\n"
     ]
    },
    {
     "data": {
      "text/plain": [
       "<Figure size 640x480 with 0 Axes>"
      ]
     },
     "metadata": {},
     "output_type": "display_data"
    },
    {
     "data": {
      "text/plain": [
       "<Figure size 640x480 with 0 Axes>"
      ]
     },
     "metadata": {},
     "output_type": "display_data"
    },
    {
     "data": {
      "text/plain": [
       "<Figure size 640x480 with 0 Axes>"
      ]
     },
     "metadata": {},
     "output_type": "display_data"
    },
    {
     "data": {
      "text/plain": [
       "<Figure size 640x480 with 0 Axes>"
      ]
     },
     "metadata": {},
     "output_type": "display_data"
    },
    {
     "data": {
      "text/plain": [
       "<Figure size 640x480 with 0 Axes>"
      ]
     },
     "metadata": {},
     "output_type": "display_data"
    },
    {
     "data": {
      "text/plain": [
       "<Figure size 640x480 with 0 Axes>"
      ]
     },
     "metadata": {},
     "output_type": "display_data"
    },
    {
     "data": {
      "text/plain": [
       "<Figure size 640x480 with 0 Axes>"
      ]
     },
     "metadata": {},
     "output_type": "display_data"
    },
    {
     "data": {
      "text/plain": [
       "<Figure size 640x480 with 0 Axes>"
      ]
     },
     "metadata": {},
     "output_type": "display_data"
    },
    {
     "data": {
      "text/plain": [
       "<Figure size 640x480 with 0 Axes>"
      ]
     },
     "metadata": {},
     "output_type": "display_data"
    },
    {
     "data": {
      "text/plain": [
       "<Figure size 640x480 with 0 Axes>"
      ]
     },
     "metadata": {},
     "output_type": "display_data"
    },
    {
     "data": {
      "text/plain": [
       "<Figure size 640x480 with 0 Axes>"
      ]
     },
     "metadata": {},
     "output_type": "display_data"
    },
    {
     "data": {
      "text/plain": [
       "<Figure size 640x480 with 0 Axes>"
      ]
     },
     "metadata": {},
     "output_type": "display_data"
    },
    {
     "data": {
      "text/plain": [
       "<Figure size 640x480 with 0 Axes>"
      ]
     },
     "metadata": {},
     "output_type": "display_data"
    },
    {
     "data": {
      "text/plain": [
       "<Figure size 640x480 with 0 Axes>"
      ]
     },
     "metadata": {},
     "output_type": "display_data"
    },
    {
     "data": {
      "text/plain": [
       "<Figure size 640x480 with 0 Axes>"
      ]
     },
     "metadata": {},
     "output_type": "display_data"
    },
    {
     "data": {
      "text/plain": [
       "<Figure size 640x480 with 0 Axes>"
      ]
     },
     "metadata": {},
     "output_type": "display_data"
    },
    {
     "data": {
      "text/plain": [
       "<Figure size 640x480 with 0 Axes>"
      ]
     },
     "metadata": {},
     "output_type": "display_data"
    },
    {
     "data": {
      "text/plain": [
       "<Figure size 640x480 with 0 Axes>"
      ]
     },
     "metadata": {},
     "output_type": "display_data"
    },
    {
     "data": {
      "text/plain": [
       "<Figure size 640x480 with 0 Axes>"
      ]
     },
     "metadata": {},
     "output_type": "display_data"
    },
    {
     "data": {
      "text/plain": [
       "<Figure size 640x480 with 0 Axes>"
      ]
     },
     "metadata": {},
     "output_type": "display_data"
    },
    {
     "data": {
      "text/plain": [
       "<Figure size 640x480 with 0 Axes>"
      ]
     },
     "metadata": {},
     "output_type": "display_data"
    },
    {
     "data": {
      "text/plain": [
       "<Figure size 640x480 with 0 Axes>"
      ]
     },
     "metadata": {},
     "output_type": "display_data"
    },
    {
     "data": {
      "text/plain": [
       "<Figure size 640x480 with 0 Axes>"
      ]
     },
     "metadata": {},
     "output_type": "display_data"
    },
    {
     "data": {
      "text/plain": [
       "<Figure size 640x480 with 0 Axes>"
      ]
     },
     "metadata": {},
     "output_type": "display_data"
    },
    {
     "data": {
      "text/plain": [
       "<Figure size 640x480 with 0 Axes>"
      ]
     },
     "metadata": {},
     "output_type": "display_data"
    },
    {
     "data": {
      "text/plain": [
       "<Figure size 640x480 with 0 Axes>"
      ]
     },
     "metadata": {},
     "output_type": "display_data"
    },
    {
     "data": {
      "text/plain": [
       "<Figure size 640x480 with 0 Axes>"
      ]
     },
     "metadata": {},
     "output_type": "display_data"
    },
    {
     "data": {
      "text/plain": [
       "<Figure size 640x480 with 0 Axes>"
      ]
     },
     "metadata": {},
     "output_type": "display_data"
    },
    {
     "data": {
      "text/plain": [
       "<Figure size 640x480 with 0 Axes>"
      ]
     },
     "metadata": {},
     "output_type": "display_data"
    },
    {
     "data": {
      "text/plain": [
       "<Figure size 640x480 with 0 Axes>"
      ]
     },
     "metadata": {},
     "output_type": "display_data"
    },
    {
     "data": {
      "text/plain": [
       "<Figure size 640x480 with 0 Axes>"
      ]
     },
     "metadata": {},
     "output_type": "display_data"
    },
    {
     "data": {
      "text/plain": [
       "<Figure size 640x480 with 0 Axes>"
      ]
     },
     "metadata": {},
     "output_type": "display_data"
    },
    {
     "data": {
      "text/plain": [
       "<Figure size 640x480 with 0 Axes>"
      ]
     },
     "metadata": {},
     "output_type": "display_data"
    },
    {
     "data": {
      "text/plain": [
       "<Figure size 640x480 with 0 Axes>"
      ]
     },
     "metadata": {},
     "output_type": "display_data"
    },
    {
     "data": {
      "text/plain": [
       "<Figure size 640x480 with 0 Axes>"
      ]
     },
     "metadata": {},
     "output_type": "display_data"
    },
    {
     "data": {
      "text/plain": [
       "<Figure size 640x480 with 0 Axes>"
      ]
     },
     "metadata": {},
     "output_type": "display_data"
    },
    {
     "data": {
      "text/plain": [
       "<Figure size 640x480 with 0 Axes>"
      ]
     },
     "metadata": {},
     "output_type": "display_data"
    },
    {
     "data": {
      "text/plain": [
       "<Figure size 640x480 with 0 Axes>"
      ]
     },
     "metadata": {},
     "output_type": "display_data"
    },
    {
     "data": {
      "text/plain": [
       "<Figure size 640x480 with 0 Axes>"
      ]
     },
     "metadata": {},
     "output_type": "display_data"
    },
    {
     "data": {
      "text/plain": [
       "<Figure size 640x480 with 0 Axes>"
      ]
     },
     "metadata": {},
     "output_type": "display_data"
    },
    {
     "data": {
      "text/plain": [
       "<Figure size 640x480 with 0 Axes>"
      ]
     },
     "metadata": {},
     "output_type": "display_data"
    },
    {
     "data": {
      "text/plain": [
       "<Figure size 640x480 with 0 Axes>"
      ]
     },
     "metadata": {},
     "output_type": "display_data"
    },
    {
     "data": {
      "text/plain": [
       "<Figure size 640x480 with 0 Axes>"
      ]
     },
     "metadata": {},
     "output_type": "display_data"
    },
    {
     "data": {
      "text/plain": [
       "<Figure size 640x480 with 0 Axes>"
      ]
     },
     "metadata": {},
     "output_type": "display_data"
    },
    {
     "data": {
      "text/plain": [
       "<Figure size 640x480 with 0 Axes>"
      ]
     },
     "metadata": {},
     "output_type": "display_data"
    },
    {
     "data": {
      "text/plain": [
       "<Figure size 640x480 with 0 Axes>"
      ]
     },
     "metadata": {},
     "output_type": "display_data"
    },
    {
     "data": {
      "text/plain": [
       "<Figure size 640x480 with 0 Axes>"
      ]
     },
     "metadata": {},
     "output_type": "display_data"
    },
    {
     "data": {
      "text/plain": [
       "<Figure size 640x480 with 0 Axes>"
      ]
     },
     "metadata": {},
     "output_type": "display_data"
    },
    {
     "data": {
      "text/plain": [
       "<Figure size 640x480 with 0 Axes>"
      ]
     },
     "metadata": {},
     "output_type": "display_data"
    },
    {
     "data": {
      "text/plain": [
       "<Figure size 640x480 with 0 Axes>"
      ]
     },
     "metadata": {},
     "output_type": "display_data"
    },
    {
     "data": {
      "text/plain": [
       "<Figure size 640x480 with 0 Axes>"
      ]
     },
     "metadata": {},
     "output_type": "display_data"
    },
    {
     "data": {
      "text/plain": [
       "<Figure size 640x480 with 0 Axes>"
      ]
     },
     "metadata": {},
     "output_type": "display_data"
    },
    {
     "data": {
      "text/plain": [
       "<Figure size 640x480 with 0 Axes>"
      ]
     },
     "metadata": {},
     "output_type": "display_data"
    },
    {
     "data": {
      "text/plain": [
       "<Figure size 640x480 with 0 Axes>"
      ]
     },
     "metadata": {},
     "output_type": "display_data"
    },
    {
     "data": {
      "text/plain": [
       "<Figure size 640x480 with 0 Axes>"
      ]
     },
     "metadata": {},
     "output_type": "display_data"
    },
    {
     "data": {
      "text/plain": [
       "<Figure size 640x480 with 0 Axes>"
      ]
     },
     "metadata": {},
     "output_type": "display_data"
    },
    {
     "data": {
      "text/plain": [
       "<Figure size 640x480 with 0 Axes>"
      ]
     },
     "metadata": {},
     "output_type": "display_data"
    },
    {
     "data": {
      "text/plain": [
       "<Figure size 640x480 with 0 Axes>"
      ]
     },
     "metadata": {},
     "output_type": "display_data"
    },
    {
     "data": {
      "text/plain": [
       "<Figure size 640x480 with 0 Axes>"
      ]
     },
     "metadata": {},
     "output_type": "display_data"
    },
    {
     "data": {
      "text/plain": [
       "<Figure size 640x480 with 0 Axes>"
      ]
     },
     "metadata": {},
     "output_type": "display_data"
    },
    {
     "data": {
      "text/plain": [
       "<Figure size 640x480 with 0 Axes>"
      ]
     },
     "metadata": {},
     "output_type": "display_data"
    },
    {
     "data": {
      "text/plain": [
       "<Figure size 640x480 with 0 Axes>"
      ]
     },
     "metadata": {},
     "output_type": "display_data"
    },
    {
     "data": {
      "text/plain": [
       "<Figure size 640x480 with 0 Axes>"
      ]
     },
     "metadata": {},
     "output_type": "display_data"
    },
    {
     "data": {
      "text/plain": [
       "<Figure size 640x480 with 0 Axes>"
      ]
     },
     "metadata": {},
     "output_type": "display_data"
    },
    {
     "data": {
      "text/plain": [
       "<Figure size 640x480 with 0 Axes>"
      ]
     },
     "metadata": {},
     "output_type": "display_data"
    },
    {
     "data": {
      "text/plain": [
       "<Figure size 640x480 with 0 Axes>"
      ]
     },
     "metadata": {},
     "output_type": "display_data"
    },
    {
     "data": {
      "text/plain": [
       "<Figure size 640x480 with 0 Axes>"
      ]
     },
     "metadata": {},
     "output_type": "display_data"
    },
    {
     "data": {
      "text/plain": [
       "<Figure size 640x480 with 0 Axes>"
      ]
     },
     "metadata": {},
     "output_type": "display_data"
    },
    {
     "data": {
      "text/plain": [
       "<Figure size 640x480 with 0 Axes>"
      ]
     },
     "metadata": {},
     "output_type": "display_data"
    },
    {
     "data": {
      "text/plain": [
       "<Figure size 640x480 with 0 Axes>"
      ]
     },
     "metadata": {},
     "output_type": "display_data"
    },
    {
     "data": {
      "text/plain": [
       "<Figure size 640x480 with 0 Axes>"
      ]
     },
     "metadata": {},
     "output_type": "display_data"
    },
    {
     "data": {
      "text/plain": [
       "<Figure size 640x480 with 0 Axes>"
      ]
     },
     "metadata": {},
     "output_type": "display_data"
    },
    {
     "data": {
      "text/plain": [
       "<Figure size 640x480 with 0 Axes>"
      ]
     },
     "metadata": {},
     "output_type": "display_data"
    },
    {
     "data": {
      "text/plain": [
       "<Figure size 640x480 with 0 Axes>"
      ]
     },
     "metadata": {},
     "output_type": "display_data"
    },
    {
     "data": {
      "text/plain": [
       "<Figure size 640x480 with 0 Axes>"
      ]
     },
     "metadata": {},
     "output_type": "display_data"
    },
    {
     "data": {
      "text/plain": [
       "<Figure size 640x480 with 0 Axes>"
      ]
     },
     "metadata": {},
     "output_type": "display_data"
    },
    {
     "data": {
      "text/plain": [
       "<Figure size 640x480 with 0 Axes>"
      ]
     },
     "metadata": {},
     "output_type": "display_data"
    },
    {
     "data": {
      "text/plain": [
       "<Figure size 640x480 with 0 Axes>"
      ]
     },
     "metadata": {},
     "output_type": "display_data"
    },
    {
     "data": {
      "text/plain": [
       "<Figure size 640x480 with 0 Axes>"
      ]
     },
     "metadata": {},
     "output_type": "display_data"
    },
    {
     "data": {
      "text/plain": [
       "<Figure size 640x480 with 0 Axes>"
      ]
     },
     "metadata": {},
     "output_type": "display_data"
    },
    {
     "data": {
      "text/plain": [
       "<Figure size 640x480 with 0 Axes>"
      ]
     },
     "metadata": {},
     "output_type": "display_data"
    },
    {
     "data": {
      "text/plain": [
       "<Figure size 640x480 with 0 Axes>"
      ]
     },
     "metadata": {},
     "output_type": "display_data"
    },
    {
     "data": {
      "text/plain": [
       "<Figure size 640x480 with 0 Axes>"
      ]
     },
     "metadata": {},
     "output_type": "display_data"
    },
    {
     "data": {
      "text/plain": [
       "<Figure size 640x480 with 0 Axes>"
      ]
     },
     "metadata": {},
     "output_type": "display_data"
    },
    {
     "data": {
      "text/plain": [
       "<Figure size 640x480 with 0 Axes>"
      ]
     },
     "metadata": {},
     "output_type": "display_data"
    },
    {
     "data": {
      "text/plain": [
       "<Figure size 640x480 with 0 Axes>"
      ]
     },
     "metadata": {},
     "output_type": "display_data"
    },
    {
     "data": {
      "text/plain": [
       "<Figure size 640x480 with 0 Axes>"
      ]
     },
     "metadata": {},
     "output_type": "display_data"
    },
    {
     "data": {
      "text/plain": [
       "<Figure size 640x480 with 0 Axes>"
      ]
     },
     "metadata": {},
     "output_type": "display_data"
    },
    {
     "data": {
      "text/plain": [
       "<Figure size 640x480 with 0 Axes>"
      ]
     },
     "metadata": {},
     "output_type": "display_data"
    },
    {
     "data": {
      "text/plain": [
       "<Figure size 640x480 with 0 Axes>"
      ]
     },
     "metadata": {},
     "output_type": "display_data"
    },
    {
     "data": {
      "text/plain": [
       "<Figure size 640x480 with 0 Axes>"
      ]
     },
     "metadata": {},
     "output_type": "display_data"
    },
    {
     "data": {
      "text/plain": [
       "<Figure size 640x480 with 0 Axes>"
      ]
     },
     "metadata": {},
     "output_type": "display_data"
    },
    {
     "data": {
      "text/plain": [
       "<Figure size 640x480 with 0 Axes>"
      ]
     },
     "metadata": {},
     "output_type": "display_data"
    },
    {
     "data": {
      "text/plain": [
       "<Figure size 640x480 with 0 Axes>"
      ]
     },
     "metadata": {},
     "output_type": "display_data"
    },
    {
     "data": {
      "text/plain": [
       "<Figure size 640x480 with 0 Axes>"
      ]
     },
     "metadata": {},
     "output_type": "display_data"
    },
    {
     "data": {
      "text/plain": [
       "<Figure size 640x480 with 0 Axes>"
      ]
     },
     "metadata": {},
     "output_type": "display_data"
    },
    {
     "data": {
      "text/plain": [
       "<Figure size 640x480 with 0 Axes>"
      ]
     },
     "metadata": {},
     "output_type": "display_data"
    },
    {
     "data": {
      "text/plain": [
       "<Figure size 640x480 with 0 Axes>"
      ]
     },
     "metadata": {},
     "output_type": "display_data"
    },
    {
     "data": {
      "text/plain": [
       "<Figure size 640x480 with 0 Axes>"
      ]
     },
     "metadata": {},
     "output_type": "display_data"
    },
    {
     "data": {
      "text/plain": [
       "<Figure size 640x480 with 0 Axes>"
      ]
     },
     "metadata": {},
     "output_type": "display_data"
    },
    {
     "data": {
      "text/plain": [
       "<Figure size 640x480 with 0 Axes>"
      ]
     },
     "metadata": {},
     "output_type": "display_data"
    },
    {
     "data": {
      "text/plain": [
       "<Figure size 640x480 with 0 Axes>"
      ]
     },
     "metadata": {},
     "output_type": "display_data"
    },
    {
     "data": {
      "text/plain": [
       "<Figure size 640x480 with 0 Axes>"
      ]
     },
     "metadata": {},
     "output_type": "display_data"
    },
    {
     "data": {
      "text/plain": [
       "<Figure size 640x480 with 0 Axes>"
      ]
     },
     "metadata": {},
     "output_type": "display_data"
    },
    {
     "data": {
      "text/plain": [
       "<Figure size 640x480 with 0 Axes>"
      ]
     },
     "metadata": {},
     "output_type": "display_data"
    },
    {
     "data": {
      "text/plain": [
       "<Figure size 640x480 with 0 Axes>"
      ]
     },
     "metadata": {},
     "output_type": "display_data"
    },
    {
     "data": {
      "text/plain": [
       "<Figure size 640x480 with 0 Axes>"
      ]
     },
     "metadata": {},
     "output_type": "display_data"
    },
    {
     "data": {
      "text/plain": [
       "<Figure size 640x480 with 0 Axes>"
      ]
     },
     "metadata": {},
     "output_type": "display_data"
    },
    {
     "data": {
      "text/plain": [
       "<Figure size 640x480 with 0 Axes>"
      ]
     },
     "metadata": {},
     "output_type": "display_data"
    },
    {
     "data": {
      "text/plain": [
       "<Figure size 640x480 with 0 Axes>"
      ]
     },
     "metadata": {},
     "output_type": "display_data"
    },
    {
     "data": {
      "text/plain": [
       "<Figure size 640x480 with 0 Axes>"
      ]
     },
     "metadata": {},
     "output_type": "display_data"
    },
    {
     "data": {
      "text/plain": [
       "<Figure size 640x480 with 0 Axes>"
      ]
     },
     "metadata": {},
     "output_type": "display_data"
    },
    {
     "data": {
      "text/plain": [
       "<Figure size 640x480 with 0 Axes>"
      ]
     },
     "metadata": {},
     "output_type": "display_data"
    },
    {
     "data": {
      "text/plain": [
       "<Figure size 640x480 with 0 Axes>"
      ]
     },
     "metadata": {},
     "output_type": "display_data"
    },
    {
     "data": {
      "text/plain": [
       "<Figure size 640x480 with 0 Axes>"
      ]
     },
     "metadata": {},
     "output_type": "display_data"
    },
    {
     "data": {
      "text/plain": [
       "<Figure size 640x480 with 0 Axes>"
      ]
     },
     "metadata": {},
     "output_type": "display_data"
    },
    {
     "data": {
      "text/plain": [
       "<Figure size 640x480 with 0 Axes>"
      ]
     },
     "metadata": {},
     "output_type": "display_data"
    },
    {
     "data": {
      "text/plain": [
       "<Figure size 640x480 with 0 Axes>"
      ]
     },
     "metadata": {},
     "output_type": "display_data"
    },
    {
     "data": {
      "text/plain": [
       "<Figure size 640x480 with 0 Axes>"
      ]
     },
     "metadata": {},
     "output_type": "display_data"
    },
    {
     "data": {
      "text/plain": [
       "<Figure size 640x480 with 0 Axes>"
      ]
     },
     "metadata": {},
     "output_type": "display_data"
    },
    {
     "data": {
      "text/plain": [
       "<Figure size 640x480 with 0 Axes>"
      ]
     },
     "metadata": {},
     "output_type": "display_data"
    },
    {
     "data": {
      "text/plain": [
       "<Figure size 640x480 with 0 Axes>"
      ]
     },
     "metadata": {},
     "output_type": "display_data"
    },
    {
     "data": {
      "text/plain": [
       "<Figure size 640x480 with 0 Axes>"
      ]
     },
     "metadata": {},
     "output_type": "display_data"
    },
    {
     "data": {
      "text/plain": [
       "<Figure size 640x480 with 0 Axes>"
      ]
     },
     "metadata": {},
     "output_type": "display_data"
    },
    {
     "data": {
      "text/plain": [
       "<Figure size 640x480 with 0 Axes>"
      ]
     },
     "metadata": {},
     "output_type": "display_data"
    },
    {
     "data": {
      "text/plain": [
       "<Figure size 640x480 with 0 Axes>"
      ]
     },
     "metadata": {},
     "output_type": "display_data"
    },
    {
     "data": {
      "text/plain": [
       "<Figure size 640x480 with 0 Axes>"
      ]
     },
     "metadata": {},
     "output_type": "display_data"
    },
    {
     "data": {
      "text/plain": [
       "<Figure size 640x480 with 0 Axes>"
      ]
     },
     "metadata": {},
     "output_type": "display_data"
    },
    {
     "data": {
      "text/plain": [
       "<Figure size 640x480 with 0 Axes>"
      ]
     },
     "metadata": {},
     "output_type": "display_data"
    },
    {
     "data": {
      "text/plain": [
       "<Figure size 640x480 with 0 Axes>"
      ]
     },
     "metadata": {},
     "output_type": "display_data"
    },
    {
     "data": {
      "text/plain": [
       "<Figure size 640x480 with 0 Axes>"
      ]
     },
     "metadata": {},
     "output_type": "display_data"
    },
    {
     "data": {
      "text/plain": [
       "<Figure size 640x480 with 0 Axes>"
      ]
     },
     "metadata": {},
     "output_type": "display_data"
    },
    {
     "data": {
      "text/plain": [
       "<Figure size 640x480 with 0 Axes>"
      ]
     },
     "metadata": {},
     "output_type": "display_data"
    },
    {
     "data": {
      "text/plain": [
       "<Figure size 640x480 with 0 Axes>"
      ]
     },
     "metadata": {},
     "output_type": "display_data"
    },
    {
     "data": {
      "text/plain": [
       "<Figure size 640x480 with 0 Axes>"
      ]
     },
     "metadata": {},
     "output_type": "display_data"
    },
    {
     "data": {
      "text/plain": [
       "<Figure size 640x480 with 0 Axes>"
      ]
     },
     "metadata": {},
     "output_type": "display_data"
    },
    {
     "data": {
      "text/plain": [
       "<Figure size 640x480 with 0 Axes>"
      ]
     },
     "metadata": {},
     "output_type": "display_data"
    },
    {
     "data": {
      "text/plain": [
       "<Figure size 640x480 with 0 Axes>"
      ]
     },
     "metadata": {},
     "output_type": "display_data"
    },
    {
     "data": {
      "text/plain": [
       "<Figure size 640x480 with 0 Axes>"
      ]
     },
     "metadata": {},
     "output_type": "display_data"
    },
    {
     "data": {
      "text/plain": [
       "<Figure size 640x480 with 0 Axes>"
      ]
     },
     "metadata": {},
     "output_type": "display_data"
    },
    {
     "data": {
      "text/plain": [
       "<Figure size 640x480 with 0 Axes>"
      ]
     },
     "metadata": {},
     "output_type": "display_data"
    },
    {
     "data": {
      "text/plain": [
       "<Figure size 640x480 with 0 Axes>"
      ]
     },
     "metadata": {},
     "output_type": "display_data"
    },
    {
     "data": {
      "text/plain": [
       "<Figure size 640x480 with 0 Axes>"
      ]
     },
     "metadata": {},
     "output_type": "display_data"
    },
    {
     "data": {
      "text/plain": [
       "<Figure size 640x480 with 0 Axes>"
      ]
     },
     "metadata": {},
     "output_type": "display_data"
    },
    {
     "data": {
      "text/plain": [
       "<Figure size 640x480 with 0 Axes>"
      ]
     },
     "metadata": {},
     "output_type": "display_data"
    },
    {
     "data": {
      "text/plain": [
       "<Figure size 640x480 with 0 Axes>"
      ]
     },
     "metadata": {},
     "output_type": "display_data"
    },
    {
     "data": {
      "text/plain": [
       "<Figure size 640x480 with 0 Axes>"
      ]
     },
     "metadata": {},
     "output_type": "display_data"
    },
    {
     "data": {
      "text/plain": [
       "<Figure size 640x480 with 0 Axes>"
      ]
     },
     "metadata": {},
     "output_type": "display_data"
    },
    {
     "data": {
      "text/plain": [
       "<Figure size 640x480 with 0 Axes>"
      ]
     },
     "metadata": {},
     "output_type": "display_data"
    },
    {
     "data": {
      "text/plain": [
       "<Figure size 640x480 with 0 Axes>"
      ]
     },
     "metadata": {},
     "output_type": "display_data"
    }
   ],
   "source": [
    "# num_repeat = 1\n",
    "agent_mes = MES(dataset1=[xs, ys], init_y_recs_size = init_y_size, y_space=y_space, x_space=x_space, f_oracle=func, g_oracle=g_oracle,num_round=num_round, num_repeat = num_repeat, cdf_dir='experiments/swiss_roll/config/exact_cmp.yaml', dump_dir='result/mes/', random_seeds=random_seeds, maximize=True)\n",
    "pos_best_mes, z_rewards_mes = agent_mes.simulation()\n",
    "pos_best_dict['mes'] = pos_best_mes\n",
    "z_rewards_dict['mes'] = z_rewards_mes"
   ]
  },
  {
   "cell_type": "code",
   "execution_count": 25,
   "metadata": {},
   "outputs": [],
   "source": [
    "# agent_pes = PES(dataset1=[xs, ys], init_y_recs_size = init_y_size, y_space=y_space, x_space=x_space, f_oracle=func, g_oracle=g_oracle,num_round=num_round, num_repeat = num_repeat, cdf_dir='experiments/swiss_roll/config/exact_cmp_mz.yaml', dump_dir='result/pes/',  y_min=-0.35, λ=0.01, num_opt_samples=10, random_seeds=random_seeds)\n",
    "# pos_best_dict['pes'] = agent_pes.simulation()"
   ]
  },
  {
   "attachments": {},
   "cell_type": "markdown",
   "metadata": {},
   "source": []
  },
  {
   "cell_type": "code",
   "execution_count": 26,
   "metadata": {},
   "outputs": [],
   "source": [
    "# agent_ucb = BayesOpt_UCB(dataset1=[xs, ys], init_y_recs_size = init_y_size, y_space=y_space, x_space=x_space, f_oracle=func, g_oracle=g_oracle,num_round=num_round, num_repeat = num_repeat, cdf_dir='experiments/swiss_roll/config/exact_cmp_mz.yaml', dump_dir='result/ucb/', random_seeds=random_seeds)\n",
    "# pos_best_dict['ucb'] = agent_ucb.simulation()"
   ]
  },
  {
   "cell_type": "code",
   "execution_count": 27,
   "metadata": {},
   "outputs": [
    {
     "name": "stderr",
     "output_type": "stream",
     "text": [
      "  0%|          | 0/10 [00:00<?, ?it/s]"
     ]
    },
    {
     "name": "stdout",
     "output_type": "stream",
     "text": [
      "[2.1212697e-01 5.3535283e-01 8.8888109e-01 8.1817544e-01 3.6363909e-01\n",
      " 6.1615932e-01 2.7273181e-01 6.0605848e-01 6.5656251e-01 2.3232858e-01\n",
      " 6.4646173e-01 6.7676413e-01 3.0303425e-01 9.9999997e-06 1.0110809e-02]\n"
     ]
    },
    {
     "name": "stderr",
     "output_type": "stream",
     "text": []
    },
    {
     "name": "stdout",
     "output_type": "stream",
     "text": [
      "Iteration 1: Elapsed Time: 3.3704049587249756 seconds\n"
     ]
    },
    {
     "name": "stderr",
     "output_type": "stream",
     "text": []
    },
    {
     "name": "stdout",
     "output_type": "stream",
     "text": [
      "Iteration 2: Elapsed Time: 3.177980899810791 seconds\n"
     ]
    },
    {
     "name": "stderr",
     "output_type": "stream",
     "text": []
    },
    {
     "name": "stdout",
     "output_type": "stream",
     "text": [
      "Iteration 3: Elapsed Time: 3.3093509674072266 seconds\n"
     ]
    },
    {
     "name": "stderr",
     "output_type": "stream",
     "text": []
    },
    {
     "name": "stdout",
     "output_type": "stream",
     "text": [
      "Iteration 4: Elapsed Time: 3.4560070037841797 seconds\n"
     ]
    },
    {
     "name": "stderr",
     "output_type": "stream",
     "text": []
    },
    {
     "name": "stdout",
     "output_type": "stream",
     "text": [
      "Iteration 5: Elapsed Time: 3.6172378063201904 seconds\n"
     ]
    },
    {
     "name": "stderr",
     "output_type": "stream",
     "text": []
    },
    {
     "name": "stdout",
     "output_type": "stream",
     "text": [
      "Iteration 6: Elapsed Time: 3.270677089691162 seconds\n"
     ]
    },
    {
     "name": "stderr",
     "output_type": "stream",
     "text": []
    },
    {
     "name": "stdout",
     "output_type": "stream",
     "text": [
      "Iteration 7: Elapsed Time: 3.3741650581359863 seconds\n"
     ]
    },
    {
     "name": "stderr",
     "output_type": "stream",
     "text": []
    },
    {
     "name": "stdout",
     "output_type": "stream",
     "text": [
      "Iteration 8: Elapsed Time: 3.3465893268585205 seconds\n"
     ]
    },
    {
     "name": "stderr",
     "output_type": "stream",
     "text": []
    },
    {
     "name": "stdout",
     "output_type": "stream",
     "text": [
      "Iteration 9: Elapsed Time: 3.2390329837799072 seconds\n"
     ]
    },
    {
     "name": "stderr",
     "output_type": "stream",
     "text": []
    },
    {
     "name": "stdout",
     "output_type": "stream",
     "text": [
      "Iteration 10: Elapsed Time: 3.322695255279541 seconds\n"
     ]
    },
    {
     "name": "stderr",
     "output_type": "stream",
     "text": []
    },
    {
     "name": "stdout",
     "output_type": "stream",
     "text": [
      "Iteration 11: Elapsed Time: 3.355494737625122 seconds\n"
     ]
    },
    {
     "name": "stderr",
     "output_type": "stream",
     "text": []
    },
    {
     "name": "stdout",
     "output_type": "stream",
     "text": [
      "Iteration 12: Elapsed Time: 3.419354200363159 seconds\n"
     ]
    },
    {
     "name": "stderr",
     "output_type": "stream",
     "text": []
    },
    {
     "name": "stdout",
     "output_type": "stream",
     "text": [
      "Iteration 13: Elapsed Time: 3.360279083251953 seconds\n"
     ]
    },
    {
     "name": "stderr",
     "output_type": "stream",
     "text": []
    },
    {
     "name": "stdout",
     "output_type": "stream",
     "text": [
      "Iteration 14: Elapsed Time: 3.3796191215515137 seconds\n"
     ]
    },
    {
     "name": "stderr",
     "output_type": "stream",
     "text": [
      "100%|██████████| 15/15 [00:50<00:00,  3.35s/it]\n",
      " 10%|█         | 1/10 [00:50<07:32, 50.26s/it]"
     ]
    },
    {
     "name": "stdout",
     "output_type": "stream",
     "text": [
      "Iteration 15: Elapsed Time: 3.246157169342041 seconds\n",
      "[0.45454636 0.08081646 0.55555445 0.70706654 0.58585685 0.737369\n",
      " 0.43434474 0.32323587 0.6565625  0.4949496  0.5050504  0.787873\n",
      " 0.05051404 0.5353528  0.8484779 ]\n"
     ]
    },
    {
     "name": "stderr",
     "output_type": "stream",
     "text": []
    },
    {
     "name": "stdout",
     "output_type": "stream",
     "text": [
      "Iteration 1: Elapsed Time: 3.277785062789917 seconds\n"
     ]
    },
    {
     "name": "stderr",
     "output_type": "stream",
     "text": []
    },
    {
     "name": "stdout",
     "output_type": "stream",
     "text": [
      "Iteration 2: Elapsed Time: 3.2704389095306396 seconds\n"
     ]
    },
    {
     "name": "stderr",
     "output_type": "stream",
     "text": []
    },
    {
     "name": "stdout",
     "output_type": "stream",
     "text": [
      "Iteration 3: Elapsed Time: 3.3942339420318604 seconds\n"
     ]
    },
    {
     "name": "stderr",
     "output_type": "stream",
     "text": []
    },
    {
     "name": "stdout",
     "output_type": "stream",
     "text": [
      "Iteration 4: Elapsed Time: 3.3123910427093506 seconds\n"
     ]
    },
    {
     "name": "stderr",
     "output_type": "stream",
     "text": []
    },
    {
     "name": "stdout",
     "output_type": "stream",
     "text": [
      "Iteration 5: Elapsed Time: 3.4571619033813477 seconds\n"
     ]
    },
    {
     "name": "stderr",
     "output_type": "stream",
     "text": []
    },
    {
     "name": "stdout",
     "output_type": "stream",
     "text": [
      "Iteration 6: Elapsed Time: 3.422344923019409 seconds\n"
     ]
    },
    {
     "name": "stderr",
     "output_type": "stream",
     "text": []
    },
    {
     "name": "stdout",
     "output_type": "stream",
     "text": [
      "Iteration 7: Elapsed Time: 3.197685956954956 seconds\n"
     ]
    },
    {
     "name": "stderr",
     "output_type": "stream",
     "text": []
    },
    {
     "name": "stdout",
     "output_type": "stream",
     "text": [
      "Iteration 8: Elapsed Time: 3.259401798248291 seconds\n"
     ]
    },
    {
     "name": "stderr",
     "output_type": "stream",
     "text": []
    },
    {
     "name": "stdout",
     "output_type": "stream",
     "text": [
      "Iteration 9: Elapsed Time: 3.35732102394104 seconds\n"
     ]
    },
    {
     "name": "stderr",
     "output_type": "stream",
     "text": []
    },
    {
     "name": "stdout",
     "output_type": "stream",
     "text": [
      "Iteration 10: Elapsed Time: 3.067958116531372 seconds\n"
     ]
    },
    {
     "name": "stderr",
     "output_type": "stream",
     "text": []
    },
    {
     "name": "stdout",
     "output_type": "stream",
     "text": [
      "Iteration 11: Elapsed Time: 3.214493989944458 seconds\n"
     ]
    },
    {
     "name": "stderr",
     "output_type": "stream",
     "text": []
    },
    {
     "name": "stdout",
     "output_type": "stream",
     "text": [
      "Iteration 12: Elapsed Time: 3.2314717769622803 seconds\n"
     ]
    },
    {
     "name": "stderr",
     "output_type": "stream",
     "text": []
    },
    {
     "name": "stdout",
     "output_type": "stream",
     "text": [
      "Iteration 13: Elapsed Time: 3.333395004272461 seconds\n"
     ]
    },
    {
     "name": "stderr",
     "output_type": "stream",
     "text": []
    },
    {
     "name": "stdout",
     "output_type": "stream",
     "text": [
      "Iteration 14: Elapsed Time: 3.0980608463287354 seconds\n"
     ]
    },
    {
     "name": "stderr",
     "output_type": "stream",
     "text": [
      "100%|██████████| 15/15 [00:49<00:00,  3.28s/it]\n",
      " 20%|██        | 2/10 [01:39<06:37, 49.65s/it]"
     ]
    },
    {
     "name": "stdout",
     "output_type": "stream",
     "text": [
      "Iteration 15: Elapsed Time: 3.3193869590759277 seconds\n",
      "[0.5757561  0.7171674  0.99999    0.5959577  0.6565625  0.7575706\n",
      " 0.24242939 0.23232858 0.6060585  0.80807465 0.787873   0.12121969\n",
      " 0.3838407  0.18182455 0.11111889]\n"
     ]
    },
    {
     "name": "stderr",
     "output_type": "stream",
     "text": []
    },
    {
     "name": "stdout",
     "output_type": "stream",
     "text": [
      "Iteration 1: Elapsed Time: 3.3257269859313965 seconds\n"
     ]
    },
    {
     "name": "stderr",
     "output_type": "stream",
     "text": []
    },
    {
     "name": "stdout",
     "output_type": "stream",
     "text": [
      "Iteration 2: Elapsed Time: 3.2362029552459717 seconds\n"
     ]
    },
    {
     "name": "stderr",
     "output_type": "stream",
     "text": []
    },
    {
     "name": "stdout",
     "output_type": "stream",
     "text": [
      "Iteration 3: Elapsed Time: 3.247817277908325 seconds\n"
     ]
    },
    {
     "name": "stderr",
     "output_type": "stream",
     "text": []
    },
    {
     "name": "stdout",
     "output_type": "stream",
     "text": [
      "Iteration 4: Elapsed Time: 3.2874910831451416 seconds\n"
     ]
    },
    {
     "name": "stderr",
     "output_type": "stream",
     "text": []
    },
    {
     "name": "stdout",
     "output_type": "stream",
     "text": [
      "Iteration 5: Elapsed Time: 3.2459189891815186 seconds\n"
     ]
    },
    {
     "name": "stderr",
     "output_type": "stream",
     "text": []
    },
    {
     "name": "stdout",
     "output_type": "stream",
     "text": [
      "Iteration 6: Elapsed Time: 3.439858913421631 seconds\n"
     ]
    },
    {
     "name": "stderr",
     "output_type": "stream",
     "text": []
    },
    {
     "name": "stdout",
     "output_type": "stream",
     "text": [
      "Iteration 7: Elapsed Time: 3.3534531593322754 seconds\n"
     ]
    },
    {
     "name": "stderr",
     "output_type": "stream",
     "text": []
    },
    {
     "name": "stdout",
     "output_type": "stream",
     "text": [
      "Iteration 8: Elapsed Time: 3.3152451515197754 seconds\n"
     ]
    },
    {
     "name": "stderr",
     "output_type": "stream",
     "text": []
    },
    {
     "name": "stdout",
     "output_type": "stream",
     "text": [
      "Iteration 9: Elapsed Time: 3.351118803024292 seconds\n"
     ]
    },
    {
     "name": "stderr",
     "output_type": "stream",
     "text": []
    },
    {
     "name": "stdout",
     "output_type": "stream",
     "text": [
      "Iteration 10: Elapsed Time: 3.375777006149292 seconds\n"
     ]
    },
    {
     "name": "stderr",
     "output_type": "stream",
     "text": []
    },
    {
     "name": "stdout",
     "output_type": "stream",
     "text": [
      "Iteration 11: Elapsed Time: 3.075817346572876 seconds\n"
     ]
    },
    {
     "name": "stderr",
     "output_type": "stream",
     "text": []
    },
    {
     "name": "stdout",
     "output_type": "stream",
     "text": [
      "Iteration 12: Elapsed Time: 3.188948154449463 seconds\n"
     ]
    },
    {
     "name": "stderr",
     "output_type": "stream",
     "text": []
    },
    {
     "name": "stdout",
     "output_type": "stream",
     "text": [
      "Iteration 13: Elapsed Time: 3.3557848930358887 seconds\n"
     ]
    },
    {
     "name": "stderr",
     "output_type": "stream",
     "text": []
    },
    {
     "name": "stdout",
     "output_type": "stream",
     "text": [
      "Iteration 14: Elapsed Time: 3.2837231159210205 seconds\n"
     ]
    },
    {
     "name": "stderr",
     "output_type": "stream",
     "text": [
      "100%|██████████| 15/15 [00:49<00:00,  3.29s/it]\n",
      " 30%|███       | 3/10 [02:28<05:46, 49.53s/it]"
     ]
    },
    {
     "name": "stdout",
     "output_type": "stream",
     "text": [
      "Iteration 15: Elapsed Time: 3.282545804977417 seconds\n",
      "[0.09091727 0.2727318  0.18182455 0.3838407  0.8989819  0.30303425\n",
      " 0.6363609  0.03031242 0.92928433 0.04041323 0.12121969 0.41414315\n",
      " 0.6565625  0.42424393 0.07071566]\n"
     ]
    },
    {
     "name": "stderr",
     "output_type": "stream",
     "text": []
    },
    {
     "name": "stdout",
     "output_type": "stream",
     "text": [
      "Iteration 1: Elapsed Time: 3.4140169620513916 seconds\n"
     ]
    },
    {
     "name": "stderr",
     "output_type": "stream",
     "text": []
    },
    {
     "name": "stdout",
     "output_type": "stream",
     "text": [
      "Iteration 2: Elapsed Time: 3.4221060276031494 seconds\n"
     ]
    },
    {
     "name": "stderr",
     "output_type": "stream",
     "text": []
    },
    {
     "name": "stdout",
     "output_type": "stream",
     "text": [
      "Iteration 3: Elapsed Time: 3.2054922580718994 seconds\n"
     ]
    },
    {
     "name": "stderr",
     "output_type": "stream",
     "text": []
    },
    {
     "name": "stdout",
     "output_type": "stream",
     "text": [
      "Iteration 4: Elapsed Time: 3.2175920009613037 seconds\n"
     ]
    },
    {
     "name": "stderr",
     "output_type": "stream",
     "text": []
    },
    {
     "name": "stdout",
     "output_type": "stream",
     "text": [
      "Iteration 5: Elapsed Time: 3.256878137588501 seconds\n"
     ]
    },
    {
     "name": "stderr",
     "output_type": "stream",
     "text": []
    },
    {
     "name": "stdout",
     "output_type": "stream",
     "text": [
      "Iteration 6: Elapsed Time: 3.163236141204834 seconds\n"
     ]
    },
    {
     "name": "stderr",
     "output_type": "stream",
     "text": []
    },
    {
     "name": "stdout",
     "output_type": "stream",
     "text": [
      "Iteration 7: Elapsed Time: 3.277195692062378 seconds\n"
     ]
    },
    {
     "name": "stderr",
     "output_type": "stream",
     "text": []
    },
    {
     "name": "stdout",
     "output_type": "stream",
     "text": [
      "Iteration 8: Elapsed Time: 3.119291067123413 seconds\n"
     ]
    },
    {
     "name": "stderr",
     "output_type": "stream",
     "text": []
    },
    {
     "name": "stdout",
     "output_type": "stream",
     "text": [
      "Iteration 9: Elapsed Time: 3.247765064239502 seconds\n"
     ]
    },
    {
     "name": "stderr",
     "output_type": "stream",
     "text": []
    },
    {
     "name": "stdout",
     "output_type": "stream",
     "text": [
      "Iteration 10: Elapsed Time: 3.2433552742004395 seconds\n"
     ]
    },
    {
     "name": "stderr",
     "output_type": "stream",
     "text": []
    },
    {
     "name": "stdout",
     "output_type": "stream",
     "text": [
      "Iteration 11: Elapsed Time: 3.222277879714966 seconds\n"
     ]
    },
    {
     "name": "stderr",
     "output_type": "stream",
     "text": []
    },
    {
     "name": "stdout",
     "output_type": "stream",
     "text": [
      "Iteration 12: Elapsed Time: 3.217148780822754 seconds\n"
     ]
    },
    {
     "name": "stderr",
     "output_type": "stream",
     "text": []
    },
    {
     "name": "stdout",
     "output_type": "stream",
     "text": [
      "Iteration 13: Elapsed Time: 3.245738983154297 seconds\n"
     ]
    },
    {
     "name": "stderr",
     "output_type": "stream",
     "text": []
    },
    {
     "name": "stdout",
     "output_type": "stream",
     "text": [
      "Iteration 14: Elapsed Time: 3.323828935623169 seconds\n"
     ]
    },
    {
     "name": "stderr",
     "output_type": "stream",
     "text": [
      "100%|██████████| 15/15 [00:48<00:00,  3.25s/it]\n",
      " 40%|████      | 4/10 [03:17<04:55, 49.21s/it]"
     ]
    },
    {
     "name": "stdout",
     "output_type": "stream",
     "text": [
      "Iteration 15: Elapsed Time: 3.1362388134002686 seconds\n",
      "[0.14142132 0.95958674 0.16162293 0.69696575 0.7676714  0.91918355\n",
      " 0.22222778 0.28283262 0.81817544 0.5959577  0.97978836 0.5353528\n",
      " 0.262631   0.2727318  0.18182455]\n"
     ]
    },
    {
     "name": "stderr",
     "output_type": "stream",
     "text": []
    },
    {
     "name": "stdout",
     "output_type": "stream",
     "text": [
      "Iteration 1: Elapsed Time: 3.1135921478271484 seconds\n"
     ]
    },
    {
     "name": "stderr",
     "output_type": "stream",
     "text": []
    },
    {
     "name": "stdout",
     "output_type": "stream",
     "text": [
      "Iteration 2: Elapsed Time: 3.103209972381592 seconds\n"
     ]
    },
    {
     "name": "stderr",
     "output_type": "stream",
     "text": []
    },
    {
     "name": "stdout",
     "output_type": "stream",
     "text": [
      "Iteration 3: Elapsed Time: 3.0860989093780518 seconds\n"
     ]
    },
    {
     "name": "stderr",
     "output_type": "stream",
     "text": []
    },
    {
     "name": "stdout",
     "output_type": "stream",
     "text": [
      "Iteration 4: Elapsed Time: 3.0854320526123047 seconds\n"
     ]
    },
    {
     "name": "stderr",
     "output_type": "stream",
     "text": []
    },
    {
     "name": "stdout",
     "output_type": "stream",
     "text": [
      "Iteration 5: Elapsed Time: 3.183049201965332 seconds\n"
     ]
    },
    {
     "name": "stderr",
     "output_type": "stream",
     "text": []
    },
    {
     "name": "stdout",
     "output_type": "stream",
     "text": [
      "Iteration 6: Elapsed Time: 3.208712339401245 seconds\n"
     ]
    },
    {
     "name": "stderr",
     "output_type": "stream",
     "text": []
    },
    {
     "name": "stdout",
     "output_type": "stream",
     "text": [
      "Iteration 7: Elapsed Time: 3.130837917327881 seconds\n"
     ]
    },
    {
     "name": "stderr",
     "output_type": "stream",
     "text": []
    },
    {
     "name": "stdout",
     "output_type": "stream",
     "text": [
      "Iteration 8: Elapsed Time: 3.2055039405822754 seconds\n"
     ]
    },
    {
     "name": "stderr",
     "output_type": "stream",
     "text": []
    },
    {
     "name": "stdout",
     "output_type": "stream",
     "text": [
      "Iteration 9: Elapsed Time: 3.129711866378784 seconds\n"
     ]
    },
    {
     "name": "stderr",
     "output_type": "stream",
     "text": []
    },
    {
     "name": "stdout",
     "output_type": "stream",
     "text": [
      "Iteration 10: Elapsed Time: 3.3120813369750977 seconds\n"
     ]
    },
    {
     "name": "stderr",
     "output_type": "stream",
     "text": []
    },
    {
     "name": "stdout",
     "output_type": "stream",
     "text": [
      "Iteration 11: Elapsed Time: 3.1234190464019775 seconds\n"
     ]
    },
    {
     "name": "stderr",
     "output_type": "stream",
     "text": []
    },
    {
     "name": "stdout",
     "output_type": "stream",
     "text": [
      "Iteration 12: Elapsed Time: 3.1773431301116943 seconds\n"
     ]
    },
    {
     "name": "stderr",
     "output_type": "stream",
     "text": []
    },
    {
     "name": "stdout",
     "output_type": "stream",
     "text": [
      "Iteration 13: Elapsed Time: 3.091843843460083 seconds\n"
     ]
    },
    {
     "name": "stderr",
     "output_type": "stream",
     "text": []
    },
    {
     "name": "stdout",
     "output_type": "stream",
     "text": [
      "Iteration 14: Elapsed Time: 3.1899819374084473 seconds\n"
     ]
    },
    {
     "name": "stderr",
     "output_type": "stream",
     "text": [
      "100%|██████████| 15/15 [00:47<00:00,  3.15s/it]\n",
      " 50%|█████     | 5/10 [04:04<04:02, 48.48s/it]"
     ]
    },
    {
     "name": "stdout",
     "output_type": "stream",
     "text": [
      "Iteration 15: Elapsed Time: 3.03045916557312 seconds\n",
      "[0.52525204 0.66666335 0.69696575 0.8989819  0.14142132 0.22222778\n",
      " 0.4848488  0.28283262 0.3737399  0.03031242 0.72726816 0.01011081\n",
      " 0.12121969 0.20202616 0.99999   ]\n"
     ]
    },
    {
     "name": "stderr",
     "output_type": "stream",
     "text": []
    },
    {
     "name": "stdout",
     "output_type": "stream",
     "text": [
      "Iteration 1: Elapsed Time: 3.137965202331543 seconds\n"
     ]
    },
    {
     "name": "stderr",
     "output_type": "stream",
     "text": []
    },
    {
     "name": "stdout",
     "output_type": "stream",
     "text": [
      "Iteration 2: Elapsed Time: 3.130138874053955 seconds\n"
     ]
    },
    {
     "name": "stderr",
     "output_type": "stream",
     "text": []
    },
    {
     "name": "stdout",
     "output_type": "stream",
     "text": [
      "Iteration 3: Elapsed Time: 3.087203025817871 seconds\n"
     ]
    },
    {
     "name": "stderr",
     "output_type": "stream",
     "text": []
    },
    {
     "name": "stdout",
     "output_type": "stream",
     "text": [
      "Iteration 4: Elapsed Time: 3.159259080886841 seconds\n"
     ]
    },
    {
     "name": "stderr",
     "output_type": "stream",
     "text": []
    },
    {
     "name": "stdout",
     "output_type": "stream",
     "text": [
      "Iteration 5: Elapsed Time: 3.1807138919830322 seconds\n"
     ]
    },
    {
     "name": "stderr",
     "output_type": "stream",
     "text": []
    },
    {
     "name": "stdout",
     "output_type": "stream",
     "text": [
      "Iteration 6: Elapsed Time: 3.2275660037994385 seconds\n"
     ]
    },
    {
     "name": "stderr",
     "output_type": "stream",
     "text": []
    },
    {
     "name": "stdout",
     "output_type": "stream",
     "text": [
      "Iteration 7: Elapsed Time: 3.10317063331604 seconds\n"
     ]
    },
    {
     "name": "stderr",
     "output_type": "stream",
     "text": []
    },
    {
     "name": "stdout",
     "output_type": "stream",
     "text": [
      "Iteration 8: Elapsed Time: 3.0881221294403076 seconds\n"
     ]
    },
    {
     "name": "stderr",
     "output_type": "stream",
     "text": []
    },
    {
     "name": "stdout",
     "output_type": "stream",
     "text": [
      "Iteration 9: Elapsed Time: 3.1600420475006104 seconds\n"
     ]
    },
    {
     "name": "stderr",
     "output_type": "stream",
     "text": []
    },
    {
     "name": "stdout",
     "output_type": "stream",
     "text": [
      "Iteration 10: Elapsed Time: 3.1428492069244385 seconds\n"
     ]
    },
    {
     "name": "stderr",
     "output_type": "stream",
     "text": []
    },
    {
     "name": "stdout",
     "output_type": "stream",
     "text": [
      "Iteration 11: Elapsed Time: 3.1298460960388184 seconds\n"
     ]
    },
    {
     "name": "stderr",
     "output_type": "stream",
     "text": []
    },
    {
     "name": "stdout",
     "output_type": "stream",
     "text": [
      "Iteration 12: Elapsed Time: 3.3377139568328857 seconds\n"
     ]
    },
    {
     "name": "stderr",
     "output_type": "stream",
     "text": []
    },
    {
     "name": "stdout",
     "output_type": "stream",
     "text": [
      "Iteration 13: Elapsed Time: 3.2678170204162598 seconds\n"
     ]
    },
    {
     "name": "stderr",
     "output_type": "stream",
     "text": []
    },
    {
     "name": "stdout",
     "output_type": "stream",
     "text": [
      "Iteration 14: Elapsed Time: 3.4725570678710938 seconds\n"
     ]
    },
    {
     "name": "stderr",
     "output_type": "stream",
     "text": [
      "100%|██████████| 15/15 [00:47<00:00,  3.20s/it]\n",
      " 60%|██████    | 6/10 [04:52<03:13, 48.30s/it]"
     ]
    },
    {
     "name": "stdout",
     "output_type": "stream",
     "text": [
      "Iteration 15: Elapsed Time: 3.32104229927063 seconds\n",
      "[0.6363609  0.72726816 0.92928433 0.45454636 0.14142132 0.11111889\n",
      " 0.18182455 0.22222778 0.5050504  0.15152211 0.20202616 0.7474698\n",
      " 0.04041323 0.7979738  0.70706654]\n"
     ]
    },
    {
     "name": "stderr",
     "output_type": "stream",
     "text": []
    },
    {
     "name": "stdout",
     "output_type": "stream",
     "text": [
      "Iteration 1: Elapsed Time: 3.3209478855133057 seconds\n"
     ]
    },
    {
     "name": "stderr",
     "output_type": "stream",
     "text": []
    },
    {
     "name": "stdout",
     "output_type": "stream",
     "text": [
      "Iteration 2: Elapsed Time: 3.417165994644165 seconds\n"
     ]
    },
    {
     "name": "stderr",
     "output_type": "stream",
     "text": []
    },
    {
     "name": "stdout",
     "output_type": "stream",
     "text": [
      "Iteration 3: Elapsed Time: 3.4113481044769287 seconds\n"
     ]
    },
    {
     "name": "stderr",
     "output_type": "stream",
     "text": []
    },
    {
     "name": "stdout",
     "output_type": "stream",
     "text": [
      "Iteration 4: Elapsed Time: 3.2543411254882812 seconds\n"
     ]
    },
    {
     "name": "stderr",
     "output_type": "stream",
     "text": []
    },
    {
     "name": "stdout",
     "output_type": "stream",
     "text": [
      "Iteration 5: Elapsed Time: 3.0864169597625732 seconds\n"
     ]
    },
    {
     "name": "stderr",
     "output_type": "stream",
     "text": []
    },
    {
     "name": "stdout",
     "output_type": "stream",
     "text": [
      "Iteration 6: Elapsed Time: 3.298203945159912 seconds\n"
     ]
    },
    {
     "name": "stderr",
     "output_type": "stream",
     "text": []
    },
    {
     "name": "stdout",
     "output_type": "stream",
     "text": [
      "Iteration 7: Elapsed Time: 3.2950000762939453 seconds\n"
     ]
    },
    {
     "name": "stderr",
     "output_type": "stream",
     "text": []
    },
    {
     "name": "stdout",
     "output_type": "stream",
     "text": [
      "Iteration 8: Elapsed Time: 3.137817144393921 seconds\n"
     ]
    },
    {
     "name": "stderr",
     "output_type": "stream",
     "text": []
    },
    {
     "name": "stdout",
     "output_type": "stream",
     "text": [
      "Iteration 9: Elapsed Time: 3.230236053466797 seconds\n"
     ]
    },
    {
     "name": "stderr",
     "output_type": "stream",
     "text": []
    },
    {
     "name": "stdout",
     "output_type": "stream",
     "text": [
      "Iteration 10: Elapsed Time: 3.148746967315674 seconds\n"
     ]
    },
    {
     "name": "stderr",
     "output_type": "stream",
     "text": []
    },
    {
     "name": "stdout",
     "output_type": "stream",
     "text": [
      "Iteration 11: Elapsed Time: 3.1991050243377686 seconds\n"
     ]
    },
    {
     "name": "stderr",
     "output_type": "stream",
     "text": []
    },
    {
     "name": "stdout",
     "output_type": "stream",
     "text": [
      "Iteration 12: Elapsed Time: 3.1143290996551514 seconds\n"
     ]
    },
    {
     "name": "stderr",
     "output_type": "stream",
     "text": []
    },
    {
     "name": "stdout",
     "output_type": "stream",
     "text": [
      "Iteration 13: Elapsed Time: 3.093992233276367 seconds\n"
     ]
    },
    {
     "name": "stderr",
     "output_type": "stream",
     "text": []
    },
    {
     "name": "stdout",
     "output_type": "stream",
     "text": [
      "Iteration 14: Elapsed Time: 3.0076370239257812 seconds\n"
     ]
    },
    {
     "name": "stderr",
     "output_type": "stream",
     "text": [
      "100%|██████████| 15/15 [00:48<00:00,  3.21s/it]\n",
      " 70%|███████   | 7/10 [05:40<02:24, 48.27s/it]"
     ]
    },
    {
     "name": "stdout",
     "output_type": "stream",
     "text": [
      "Iteration 15: Elapsed Time: 3.1748671531677246 seconds\n",
      "[0.23232858 0.15152211 0.8484779  0.5757561  0.42424393 0.30303425\n",
      " 0.2525302  0.6262601  0.80807465 0.6363609  0.6161593  0.3737399\n",
      " 0.58585685 0.33333668 0.32323587]\n"
     ]
    },
    {
     "name": "stderr",
     "output_type": "stream",
     "text": []
    },
    {
     "name": "stdout",
     "output_type": "stream",
     "text": [
      "Iteration 1: Elapsed Time: 3.04909610748291 seconds\n"
     ]
    },
    {
     "name": "stderr",
     "output_type": "stream",
     "text": []
    },
    {
     "name": "stdout",
     "output_type": "stream",
     "text": [
      "Iteration 2: Elapsed Time: 3.1064870357513428 seconds\n"
     ]
    },
    {
     "name": "stderr",
     "output_type": "stream",
     "text": []
    },
    {
     "name": "stdout",
     "output_type": "stream",
     "text": [
      "Iteration 3: Elapsed Time: 3.0828170776367188 seconds\n"
     ]
    },
    {
     "name": "stderr",
     "output_type": "stream",
     "text": []
    },
    {
     "name": "stdout",
     "output_type": "stream",
     "text": [
      "Iteration 4: Elapsed Time: 3.1378958225250244 seconds\n"
     ]
    },
    {
     "name": "stderr",
     "output_type": "stream",
     "text": []
    },
    {
     "name": "stdout",
     "output_type": "stream",
     "text": [
      "Iteration 5: Elapsed Time: 3.0396809577941895 seconds\n"
     ]
    },
    {
     "name": "stderr",
     "output_type": "stream",
     "text": []
    },
    {
     "name": "stdout",
     "output_type": "stream",
     "text": [
      "Iteration 6: Elapsed Time: 3.0488669872283936 seconds\n"
     ]
    },
    {
     "name": "stderr",
     "output_type": "stream",
     "text": []
    },
    {
     "name": "stdout",
     "output_type": "stream",
     "text": [
      "Iteration 7: Elapsed Time: 3.2583940029144287 seconds\n"
     ]
    },
    {
     "name": "stderr",
     "output_type": "stream",
     "text": []
    },
    {
     "name": "stdout",
     "output_type": "stream",
     "text": [
      "Iteration 8: Elapsed Time: 3.0312681198120117 seconds\n"
     ]
    },
    {
     "name": "stderr",
     "output_type": "stream",
     "text": []
    },
    {
     "name": "stdout",
     "output_type": "stream",
     "text": [
      "Iteration 9: Elapsed Time: 3.144286870956421 seconds\n"
     ]
    },
    {
     "name": "stderr",
     "output_type": "stream",
     "text": []
    },
    {
     "name": "stdout",
     "output_type": "stream",
     "text": [
      "Iteration 10: Elapsed Time: 3.0865190029144287 seconds\n"
     ]
    },
    {
     "name": "stderr",
     "output_type": "stream",
     "text": []
    },
    {
     "name": "stdout",
     "output_type": "stream",
     "text": [
      "Iteration 11: Elapsed Time: 3.04626202583313 seconds\n"
     ]
    },
    {
     "name": "stderr",
     "output_type": "stream",
     "text": []
    },
    {
     "name": "stdout",
     "output_type": "stream",
     "text": [
      "Iteration 12: Elapsed Time: 3.031532049179077 seconds\n"
     ]
    },
    {
     "name": "stderr",
     "output_type": "stream",
     "text": []
    },
    {
     "name": "stdout",
     "output_type": "stream",
     "text": [
      "Iteration 13: Elapsed Time: 3.1485650539398193 seconds\n"
     ]
    },
    {
     "name": "stderr",
     "output_type": "stream",
     "text": []
    },
    {
     "name": "stdout",
     "output_type": "stream",
     "text": [
      "Iteration 14: Elapsed Time: 3.182440996170044 seconds\n"
     ]
    },
    {
     "name": "stderr",
     "output_type": "stream",
     "text": [
      "100%|██████████| 15/15 [00:46<00:00,  3.11s/it]\n",
      " 80%|████████  | 8/10 [06:27<01:35, 47.74s/it]"
     ]
    },
    {
     "name": "stdout",
     "output_type": "stream",
     "text": [
      "Iteration 15: Elapsed Time: 3.189188003540039 seconds\n",
      "[0.58585685 0.7474698  0.67676413 0.04041323 0.31313506 0.3636391\n",
      " 0.8585787  0.81817544 0.262631   0.16162293 0.97978836 0.44444555\n",
      " 0.35353827 0.95958674 0.56565523]\n"
     ]
    },
    {
     "name": "stderr",
     "output_type": "stream",
     "text": []
    },
    {
     "name": "stdout",
     "output_type": "stream",
     "text": [
      "Iteration 1: Elapsed Time: 3.2216391563415527 seconds\n"
     ]
    },
    {
     "name": "stderr",
     "output_type": "stream",
     "text": []
    },
    {
     "name": "stdout",
     "output_type": "stream",
     "text": [
      "Iteration 2: Elapsed Time: 3.2521591186523438 seconds\n"
     ]
    },
    {
     "name": "stderr",
     "output_type": "stream",
     "text": []
    },
    {
     "name": "stdout",
     "output_type": "stream",
     "text": [
      "Iteration 3: Elapsed Time: 3.1559548377990723 seconds\n"
     ]
    },
    {
     "name": "stderr",
     "output_type": "stream",
     "text": []
    },
    {
     "name": "stdout",
     "output_type": "stream",
     "text": [
      "Iteration 4: Elapsed Time: 3.1980059146881104 seconds\n"
     ]
    },
    {
     "name": "stderr",
     "output_type": "stream",
     "text": []
    },
    {
     "name": "stdout",
     "output_type": "stream",
     "text": [
      "Iteration 5: Elapsed Time: 3.1915299892425537 seconds\n"
     ]
    },
    {
     "name": "stderr",
     "output_type": "stream",
     "text": []
    },
    {
     "name": "stdout",
     "output_type": "stream",
     "text": [
      "Iteration 6: Elapsed Time: 3.1046907901763916 seconds\n"
     ]
    },
    {
     "name": "stderr",
     "output_type": "stream",
     "text": []
    },
    {
     "name": "stdout",
     "output_type": "stream",
     "text": [
      "Iteration 7: Elapsed Time: 3.2213780879974365 seconds\n"
     ]
    },
    {
     "name": "stderr",
     "output_type": "stream",
     "text": []
    },
    {
     "name": "stdout",
     "output_type": "stream",
     "text": [
      "Iteration 8: Elapsed Time: 3.3181369304656982 seconds\n"
     ]
    },
    {
     "name": "stderr",
     "output_type": "stream",
     "text": []
    },
    {
     "name": "stdout",
     "output_type": "stream",
     "text": [
      "Iteration 9: Elapsed Time: 3.200538158416748 seconds\n"
     ]
    },
    {
     "name": "stderr",
     "output_type": "stream",
     "text": []
    },
    {
     "name": "stdout",
     "output_type": "stream",
     "text": [
      "Iteration 10: Elapsed Time: 3.248687744140625 seconds\n"
     ]
    },
    {
     "name": "stderr",
     "output_type": "stream",
     "text": []
    },
    {
     "name": "stdout",
     "output_type": "stream",
     "text": [
      "Iteration 11: Elapsed Time: 3.2661077976226807 seconds\n"
     ]
    },
    {
     "name": "stderr",
     "output_type": "stream",
     "text": []
    },
    {
     "name": "stdout",
     "output_type": "stream",
     "text": [
      "Iteration 12: Elapsed Time: 3.154022216796875 seconds\n"
     ]
    },
    {
     "name": "stderr",
     "output_type": "stream",
     "text": []
    },
    {
     "name": "stdout",
     "output_type": "stream",
     "text": [
      "Iteration 13: Elapsed Time: 3.2571372985839844 seconds\n"
     ]
    },
    {
     "name": "stderr",
     "output_type": "stream",
     "text": []
    },
    {
     "name": "stdout",
     "output_type": "stream",
     "text": [
      "Iteration 14: Elapsed Time: 3.212570905685425 seconds\n"
     ]
    },
    {
     "name": "stderr",
     "output_type": "stream",
     "text": [
      "100%|██████████| 15/15 [00:48<00:00,  3.22s/it]\n",
      " 90%|█████████ | 9/10 [07:15<00:47, 47.91s/it]"
     ]
    },
    {
     "name": "stdout",
     "output_type": "stream",
     "text": [
      "Iteration 15: Elapsed Time: 3.2667040824890137 seconds\n",
      "[0.6363609  0.23232858 0.7171674  0.2727318  0.41414315 0.3737399\n",
      " 0.8888811  0.03031242 0.6262601  0.45454636 0.08081646 0.5151512\n",
      " 0.5959577  0.42424393 0.21212697]\n"
     ]
    },
    {
     "name": "stderr",
     "output_type": "stream",
     "text": []
    },
    {
     "name": "stdout",
     "output_type": "stream",
     "text": [
      "Iteration 1: Elapsed Time: 3.315368890762329 seconds\n"
     ]
    },
    {
     "name": "stderr",
     "output_type": "stream",
     "text": []
    },
    {
     "name": "stdout",
     "output_type": "stream",
     "text": [
      "Iteration 2: Elapsed Time: 3.621230125427246 seconds\n"
     ]
    },
    {
     "name": "stderr",
     "output_type": "stream",
     "text": []
    },
    {
     "name": "stdout",
     "output_type": "stream",
     "text": [
      "Iteration 3: Elapsed Time: 3.257951259613037 seconds\n"
     ]
    },
    {
     "name": "stderr",
     "output_type": "stream",
     "text": []
    },
    {
     "name": "stdout",
     "output_type": "stream",
     "text": [
      "Iteration 4: Elapsed Time: 3.3753879070281982 seconds\n"
     ]
    },
    {
     "name": "stderr",
     "output_type": "stream",
     "text": []
    },
    {
     "name": "stdout",
     "output_type": "stream",
     "text": [
      "Iteration 5: Elapsed Time: 3.258431911468506 seconds\n"
     ]
    },
    {
     "name": "stderr",
     "output_type": "stream",
     "text": []
    },
    {
     "name": "stdout",
     "output_type": "stream",
     "text": [
      "Iteration 6: Elapsed Time: 3.1829328536987305 seconds\n"
     ]
    },
    {
     "name": "stderr",
     "output_type": "stream",
     "text": []
    },
    {
     "name": "stdout",
     "output_type": "stream",
     "text": [
      "Iteration 7: Elapsed Time: 3.1445109844207764 seconds\n"
     ]
    },
    {
     "name": "stderr",
     "output_type": "stream",
     "text": []
    },
    {
     "name": "stdout",
     "output_type": "stream",
     "text": [
      "Iteration 8: Elapsed Time: 3.1016318798065186 seconds\n"
     ]
    },
    {
     "name": "stderr",
     "output_type": "stream",
     "text": []
    },
    {
     "name": "stdout",
     "output_type": "stream",
     "text": [
      "Iteration 9: Elapsed Time: 3.1684508323669434 seconds\n"
     ]
    },
    {
     "name": "stderr",
     "output_type": "stream",
     "text": []
    },
    {
     "name": "stdout",
     "output_type": "stream",
     "text": [
      "Iteration 10: Elapsed Time: 3.1995909214019775 seconds\n"
     ]
    },
    {
     "name": "stderr",
     "output_type": "stream",
     "text": []
    },
    {
     "name": "stdout",
     "output_type": "stream",
     "text": [
      "Iteration 11: Elapsed Time: 3.2801568508148193 seconds\n"
     ]
    },
    {
     "name": "stderr",
     "output_type": "stream",
     "text": []
    },
    {
     "name": "stdout",
     "output_type": "stream",
     "text": [
      "Iteration 12: Elapsed Time: 3.176420211791992 seconds\n"
     ]
    },
    {
     "name": "stderr",
     "output_type": "stream",
     "text": []
    },
    {
     "name": "stdout",
     "output_type": "stream",
     "text": [
      "Iteration 13: Elapsed Time: 3.217735767364502 seconds\n"
     ]
    },
    {
     "name": "stderr",
     "output_type": "stream",
     "text": []
    },
    {
     "name": "stdout",
     "output_type": "stream",
     "text": [
      "Iteration 14: Elapsed Time: 3.239079713821411 seconds\n"
     ]
    },
    {
     "name": "stderr",
     "output_type": "stream",
     "text": [
      "100%|██████████| 15/15 [00:48<00:00,  3.25s/it]\n",
      "100%|██████████| 10/10 [08:04<00:00, 48.46s/it]"
     ]
    },
    {
     "name": "stdout",
     "output_type": "stream",
     "text": [
      "Iteration 15: Elapsed Time: 3.212106943130493 seconds\n"
     ]
    },
    {
     "name": "stderr",
     "output_type": "stream",
     "text": [
      "\n"
     ]
    }
   ],
   "source": [
    "agent_random = BayesOpt_Random(dataset1=[xs, ys], init_y_recs_size = init_y_size, y_space=y_space, x_space=x_space, f_oracle=func, g_oracle=g_oracle,num_round=num_round, num_repeat = num_repeat, cdf_dir='experiments/swiss_roll/config/exact_cmp_mz.yaml', dump_dir='result/random/', random_seeds=random_seeds)\n",
    "pos_best_random, z_rewards_random = agent_random.simulation()\n",
    "pos_best_dict['random'] = pos_best_random\n",
    "z_rewards_dict['random'] = z_rewards_random"
   ]
  },
  {
   "cell_type": "code",
   "execution_count": 28,
   "metadata": {},
   "outputs": [],
   "source": [
    "def plot_regret(pos_best_dict, title='Inference Regret'):\n",
    "    for name, pos_bests in pos_best_dict.items():\n",
    "        # if name != 'ucb':\n",
    "        opt = np.max(func(x_space.numpy()))\n",
    "        regret_mean =np.abs(opt - pos_bests).mean(axis=0)\n",
    "        print(regret_mean)\n",
    "        regret_std =np.abs(opt - pos_bests).std(axis=0)\n",
    "        # print(regret_mean)\n",
    "        plt.plot(range(len(regret_mean)), regret_mean, label = name)\n",
    "        plt.fill_between(range(len(regret_mean)), regret_mean - 2/10.0 * regret_std, regret_mean + 2/10.0 * regret_std, alpha = 0.3)\n",
    "    plt.legend()\n",
    "    # plt.ylim(0, 0.25)\n",
    "    plt.xlabel('Round')\n",
    "    plt.ylabel(title)  "
   ]
  },
  {
   "cell_type": "code",
   "execution_count": 29,
   "metadata": {},
   "outputs": [
    {
     "name": "stdout",
     "output_type": "stream",
     "text": [
      "[0.18083856 0.18004444 0.16217527 0.10604928 0.11397394 0.11740799\n",
      " 0.09745787 0.10072335 0.11180518 0.10885116 0.11363737 0.10570899\n",
      " 0.105864   0.09382999 0.09040978]\n",
      "[0.21356437 0.21053831 0.21122818 0.20180055 0.17604785 0.17895278\n",
      " 0.1960586  0.21267343 0.23944536 0.25176278 0.25196552 0.23943119\n",
      " 0.23494346 0.21769972 0.22604065]\n"
     ]
    },
    {
     "data": {
      "image/png": "[encoded data removed]",
      "text/plain": [
       "<Figure size 640x480 with 1 Axes>"
      ]
     },
     "metadata": {},
     "output_type": "display_data"
    }
   ],
   "source": [
    "plot_regret(pos_best_dict)"
   ]
  },
  {
   "cell_type": "code",
   "execution_count": 30,
   "metadata": {},
   "outputs": [
    {
     "data": {
      "text/plain": [
       "[tensor([0.1664, 0.3254, 0.2986, 0.3171, 0.2813, 0.3503, 0.2251, 0.3567, 0.3565,\n",
       "         0.2142, 0.3424, 0.3478, 0.2468, 0.0797, 0.0947, 0.3529, 0.3445, 0.3610,\n",
       "         0.3617, 0.3166, 0.2645, 0.1205, 0.3040, 0.1058, 0.1358, 0.3071, 0.2806,\n",
       "         0.1869, 0.2286, 0.1744]),\n",
       " tensor([0.3288, 0.1394, 0.3441, 0.3581, 0.3512, 0.3537, 0.3025, 0.2427, 0.3436,\n",
       "         0.3154, 0.3149, 0.3262, 0.1407, 0.3449, 0.3128, 0.2547, 0.3528, 0.1054,\n",
       "         0.2724, 0.2428, 0.1046, 0.1190, 0.1480, 0.3497, 0.3564, 0.3338, 0.3143,\n",
       "         0.3474, 0.1257, 0.1102]),\n",
       " tensor([0.3518, 0.3515, 0.2636, 0.3420, 0.3416, 0.3478, 0.2164, 0.2049, 0.3641,\n",
       "         0.3406, 0.3637, 0.1500, 0.2700, 0.1724, 0.1420, 0.2986, 0.2831, 0.3474,\n",
       "         0.3448, 0.3042, 0.3048, 0.3476, 0.3370, 0.1690, 0.3562, 0.2909, 0.3431,\n",
       "         0.3491, 0.2412, 0.3556]),\n",
       " tensor([0.1498, 0.2146, 0.1712, 0.2925, 0.2860, 0.2271, 0.3612, 0.1180, 0.2898,\n",
       "         0.1184, 0.1524, 0.2929, 0.3672, 0.2942, 0.1294, 0.2765, 0.1898, 0.3596,\n",
       "         0.1109, 0.2767, 0.3271, 0.2984, 0.3095, 0.1134, 0.1035, 0.3427, 0.1128,\n",
       "         0.2183, 0.2240, 0.1426]),\n",
       " tensor([0.1784, 0.2731, 0.1794, 0.3515, 0.3503, 0.2745, 0.1954, 0.2394, 0.3270,\n",
       "         0.3485, 0.2631, 0.3488, 0.2227, 0.2252, 0.1862, 0.2987, 0.3522, 0.3597,\n",
       "         0.3515, 0.3053, 0.0986, 0.3477, 0.2103, 0.3408, 0.2561, 0.2704, 0.2182,\n",
       "         0.2054, 0.3468, 0.2358]),\n",
       " tensor([0.3431, 0.3452, 0.3420, 0.3016, 0.1449, 0.1857, 0.3406, 0.2375, 0.2751,\n",
       "         0.1280, 0.3383, 0.1053, 0.1583, 0.1984, 0.2637, 0.3280, 0.2703, 0.3583,\n",
       "         0.2946, 0.1304, 0.3508, 0.3580, 0.2735, 0.1116, 0.1294, 0.1463, 0.2285,\n",
       "         0.2048, 0.3276, 0.2815]),\n",
       " tensor([0.3393, 0.3434, 0.2930, 0.3092, 0.1509, 0.1395, 0.1643, 0.2047, 0.3412,\n",
       "         0.1646, 0.1855, 0.3308, 0.1285, 0.3564, 0.3332, 0.3430, 0.1588, 0.1508,\n",
       "         0.1820, 0.1817, 0.2946, 0.1444, 0.1048, 0.2826, 0.3235, 0.3685, 0.2668,\n",
       "         0.3456, 0.2785, 0.3239]),\n",
       " tensor([0.1913, 0.1797, 0.3206, 0.3440, 0.3026, 0.2424, 0.2111, 0.3499, 0.3228,\n",
       "         0.3596, 0.3463, 0.2656, 0.3495, 0.2687, 0.2499, 0.3085, 0.3414, 0.2779,\n",
       "         0.2308, 0.3532, 0.2820, 0.3183, 0.1897, 0.1031, 0.2635, 0.2025, 0.3389,\n",
       "         0.1561, 0.2962, 0.2796]),\n",
       " tensor([0.3619, 0.3489, 0.3565, 0.1224, 0.2289, 0.2526, 0.3178, 0.3343, 0.2205,\n",
       "         0.1620, 0.2676, 0.3058, 0.2558, 0.2862, 0.3270, 0.2563, 0.3544, 0.3208,\n",
       "         0.2703, 0.2156, 0.2211, 0.3601, 0.3296, 0.2404, 0.3533, 0.2805, 0.1944,\n",
       "         0.3464, 0.3461, 0.1231]),\n",
       " tensor([0.3652, 0.1904, 0.3340, 0.2394, 0.3153, 0.2799, 0.3058, 0.1222, 0.3460,\n",
       "         0.3124, 0.1354, 0.3380, 0.3338, 0.2931, 0.2029, 0.2650, 0.2200, 0.3288,\n",
       "         0.3187, 0.3475, 0.1307, 0.1193, 0.3525, 0.2644, 0.2915, 0.3188, 0.3453,\n",
       "         0.1900, 0.3307, 0.2656])]"
      ]
     },
     "execution_count": 30,
     "metadata": {},
     "output_type": "execute_result"
    }
   ],
   "source": [
    "z_rewards_dict['mes']"
   ]
  },
  {
   "cell_type": "code",
   "execution_count": 31,
   "metadata": {},
   "outputs": [
    {
     "name": "stdout",
     "output_type": "stream",
     "text": [
      "[0.09026013 0.09669319 0.07755538 0.07006434 0.0925416  0.10251957\n",
      " 0.10384093 0.12681322 0.0492048  0.12147804 0.09690575 0.0867314\n",
      " 0.12053106 0.11593959 0.14368302 0.06964521 0.08113451 0.07085512\n",
      " 0.09407011 0.1004537  0.12996113 0.11453247 0.11196665 0.15974732\n",
      " 0.11093531 0.081837   0.10356672 0.11285756 0.0933232  0.13863218]\n",
      "[0.09167747 0.09114771 0.07533529 0.07004941 0.08930508 0.0998681\n",
      " 0.10546855 0.13124754 0.04841868 0.12492488 0.09393357 0.08789849\n",
      " 0.12212269 0.12063456 0.13798246 0.09667435 0.09243576 0.10829587\n",
      " 0.09803095 0.08243097 0.12502418 0.0854948  0.11867668 0.11267463\n",
      " 0.10618784 0.12068689 0.10661368 0.09396749 0.09225269 0.07864104]\n"
     ]
    },
    {
     "data": {
      "image/png": "[encoded data removed]",
      "text/plain": [
       "<Figure size 640x480 with 1 Axes>"
      ]
     },
     "metadata": {},
     "output_type": "display_data"
    }
   ],
   "source": [
    "plot_regret(z_rewards_dict, title='Recommendation Rewards')"
   ]
  },
  {
   "cell_type": "code",
   "execution_count": 32,
   "metadata": {},
   "outputs": [
    {
     "data": {
      "text/plain": [
       "tensor([0.3652, 0.1904, 0.3340, 0.2394, 0.3153, 0.2799, 0.3058, 0.1222, 0.3460,\n",
       "        0.3124, 0.1354, 0.3380, 0.3338, 0.2931, 0.2029, 0.2650, 0.2200, 0.3288,\n",
       "        0.3187, 0.3475, 0.1307, 0.1193, 0.3525, 0.2644, 0.2915, 0.3188, 0.3453,\n",
       "        0.1900, 0.3307, 0.2656])"
      ]
     },
     "execution_count": 32,
     "metadata": {},
     "output_type": "execute_result"
    }
   ],
   "source": [
    "agent_mes.z_rewards"
   ]
  },
  {
   "cell_type": "code",
   "execution_count": null,
   "metadata": {},
   "outputs": [],
   "source": []
  }
 ],
 "metadata": {
  "kernelspec": {
   "display_name": "Python 3 (ipykernel)",
   "language": "python",
   "name": "python3"
  },
  "language_info": {
   "codemirror_mode": {
    "name": "ipython",
    "version": 3
   },
   "file_extension": ".py",
   "mimetype": "text/x-python",
   "name": "python",
   "nbconvert_exporter": "python",
   "pygments_lexer": "ipython3",
   "version": "3.9.18"
  }
 },
 "nbformat": 4,
 "nbformat_minor": 2
}
