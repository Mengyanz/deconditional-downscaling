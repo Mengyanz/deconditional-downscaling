{
 "cells": [
  {
   "cell_type": "code",
   "execution_count": 1,
   "metadata": {},
   "outputs": [
    {
     "name": "stderr",
     "output_type": "stream",
     "text": [
      "/Users/menang/anaconda3/envs/py3.8/lib/python3.8/site-packages/tqdm/auto.py:21: TqdmWarning: IProgress not found. Please update jupyter and ipywidgets. See https://ipywidgets.readthedocs.io/en/stable/user_install.html\n",
      "  from .autonotebook import tqdm as notebook_tqdm\n"
     ]
    }
   ],
   "source": [
    "import numpy as np\n",
    "import math\n",
    "import matplotlib.pyplot as plt\n",
    "from scipy.special import digamma\n",
    "from sklearn.gaussian_process import GaussianProcessRegressor\n",
    "import gpytorch\n",
    "\n",
    "import warnings\n",
    "\n",
    "# Ignore all warnings\n",
    "warnings.filterwarnings(\"ignore\")"
   ]
  },
  {
   "attachments": {},
   "cell_type": "markdown",
   "metadata": {},
   "source": [
    "A simple simulation experimental setup:\n",
    "$$f(x)=x\\log x,\\;x\\in[0,1],\\;X|Y=y \\sim \\textrm{Beta}(\\alpha(y),\\beta(y)).$$\n",
    "$f$ has a minimum at $x=1/e$ (no local minima). We can compute\n",
    "$$g(y)=\\mathbb E_{X|Y=y}\\left[X\\log X\\right]=\\frac{\\alpha(y)}{\\alpha(y)+\\beta(y)}\\left[\\psi(\\alpha(y)+1)-\\psi(\\alpha(y)+\\beta(y)+1)\\right],$$\n",
    "where $\\psi$ is the digamma function. To complete the setup need to choose some functions $\\alpha:\\mathcal Y\\to (0,+\\infty)$, $\\beta:\\mathcal Y\\to (0,+\\infty),$ e.g. take $\\mathcal Y=\\mathbb R^3$ and\n",
    "$$\\alpha(y)=\\exp(a^\\top y+c),\\;\\beta(y)=\\exp(b^\\top y+d),$$\n",
    "or similar.\n",
    "\n",
    "Nb. the bounded domain of $X$ might need to be built into the kernel construction when estimating CME $X|Y$, e.g. one can use\n",
    "$$k(x,x')=\\exp\\left(-\\frac{1}{2\\gamma^2}\\left(\\log\\frac{x}{1-x}-\\log\\frac{x'}{1-x'}\\right)^2\\right),\\quad x,x'\\in(0,1).$$\n"
   ]
  },
  {
   "cell_type": "code",
   "execution_count": 2,
   "metadata": {},
   "outputs": [],
   "source": [
    "def alpha(y,a=1,c=0):\n",
    "    return np.exp(a * y +c)\n",
    "\n",
    "def beta(y, b=1, d=0):\n",
    "    return np.exp(b* y + d)\n",
    "\n",
    "def func(x):\n",
    "    return x * np.log(x)\n",
    "\n",
    "def g(y,a=1,b=0,c=1,d=0):\n",
    "    alpha_value = alpha(y,a,c)\n",
    "    beta_value = beta(y,b,d)\n",
    "    g_value = alpha_value/(alpha_value+beta_value) * (digamma(alpha_value + 1) - digamma(alpha_value + beta_value + 1))\n",
    "    return g_value"
   ]
  },
  {
   "cell_type": "code",
   "execution_count": 3,
   "metadata": {},
   "outputs": [],
   "source": [
    "def generate_D1(n, a,b,c,d):\n",
    "    ys = np.random.uniform(0,1,n)\n",
    "    alphas = []\n",
    "    betas = []\n",
    "    xs = []\n",
    "    fs = []\n",
    "    for i in ys:\n",
    "        alpha_value = alpha(i,a,c)\n",
    "        alphas.append(alpha_value)\n",
    "        \n",
    "        beta_value = beta(i,b,d)\n",
    "        betas.append(beta_value)\n",
    "        x_value = np.random.beta(alpha_value, beta_value)\n",
    "        xs.append(x_value)\n",
    "    plt.plot(ys, xs, '.')\n",
    "    plt.xlabel('y')\n",
    "    plt.ylabel('x')\n",
    "    plt.title('D1')\n",
    "    \n",
    "    plt.legend()\n",
    "    return np.asarray(xs), np.asarray(ys)\n",
    "    \n",
    "\n",
    "def generate_D2(m, a,b,c,d, sigma=0.01, plot=True):\n",
    "    ys = np.random.uniform(0,1,m)\n",
    "    zs = []\n",
    "    \n",
    "    alphas = []\n",
    "    betas = []\n",
    "    xs = []\n",
    "    fs = []\n",
    "    for y in ys:\n",
    "        alpha_value = alpha(y,a,c)\n",
    "        alphas.append(alpha_value)\n",
    "        \n",
    "        beta_value = beta(y,b,d)\n",
    "        betas.append(beta_value)\n",
    "        x_value = np.random.beta(alpha_value, beta_value)\n",
    "        xs.append(x_value)\n",
    "        fs.append(func(x_value))  \n",
    "        \n",
    "        g_value = g(y, a,b,c,d)\n",
    "        z_value = g_value + np.random.normal(0, sigma)\n",
    "        zs.append(z_value)\n",
    "        \n",
    "    if plot:    \n",
    "        # plt.plot(ys, xs, '.', label = 'x')\n",
    "        # plt.plot(fs, xs, '.', label = 'f(x)')\n",
    "        \n",
    "        plt.plot(ys, zs,'.')\n",
    "        plt.xlabel('y')\n",
    "        plt.ylabel('z (aggregated feedback)')\n",
    "        plt.title('D2')\n",
    "        \n",
    "    return np.asarray(ys), np.asarray(zs)"
   ]
  },
  {
   "cell_type": "code",
   "execution_count": 4,
   "metadata": {},
   "outputs": [],
   "source": [
    "a = 0.1\n",
    "b = 4\n",
    "c = 2\n",
    "d = 0\n",
    "sigma = 0.01"
   ]
  },
  {
   "cell_type": "code",
   "execution_count": 5,
   "metadata": {},
   "outputs": [],
   "source": [
    "# a = 1\n",
    "# b = 4\n",
    "# c = 0\n",
    "# d = 1"
   ]
  },
  {
   "cell_type": "code",
   "execution_count": 6,
   "metadata": {},
   "outputs": [
    {
     "name": "stderr",
     "output_type": "stream",
     "text": [
      "No handles with labels found to put in legend.\n"
     ]
    },
    {
     "data": {
      "image/png": "[encoded data removed]",
      "text/plain": [
       "<Figure size 640x480 with 1 Axes>"
      ]
     },
     "metadata": {},
     "output_type": "display_data"
    }
   ],
   "source": [
    "xs, ys = generate_D1(200,a,b,c,d)"
   ]
  },
  {
   "cell_type": "code",
   "execution_count": 7,
   "metadata": {},
   "outputs": [
    {
     "data": {
      "text/plain": [
       "Text(0, 0.5, 'f(x)')"
      ]
     },
     "execution_count": 7,
     "metadata": {},
     "output_type": "execute_result"
    },
    {
     "data": {
      "image/png": "[encoded data removed]",
      "text/plain": [
       "<Figure size 640x480 with 1 Axes>"
      ]
     },
     "metadata": {},
     "output_type": "display_data"
    }
   ],
   "source": [
    "plt.plot(xs, func(xs), '.')\n",
    "plt.xlabel('x')\n",
    "plt.ylabel('f(x)')"
   ]
  },
  {
   "cell_type": "code",
   "execution_count": 8,
   "metadata": {
    "scrolled": false
   },
   "outputs": [
    {
     "data": {
      "image/png": "[encoded data removed]",
      "text/plain": [
       "<Figure size 640x480 with 1 Axes>"
      ]
     },
     "metadata": {},
     "output_type": "display_data"
    }
   ],
   "source": [
    "ys2, zs = generate_D2(20, a,b,c,d, sigma)"
   ]
  },
  {
   "cell_type": "code",
   "execution_count": 9,
   "metadata": {},
   "outputs": [],
   "source": [
    "# ys2 = agent_random.y_recs\n",
    "# zs = agent_random.z_rewards\n",
    "\n",
    "# plt.plot(ys2, zs,'.')\n",
    "# plt.xlabel('y')\n",
    "# plt.ylabel('z (aggregated feedback)')\n",
    "# plt.title('D2')"
   ]
  },
  {
   "cell_type": "code",
   "execution_count": 10,
   "metadata": {},
   "outputs": [
    {
     "data": {
      "text/plain": [
       "array([0.84960646, 0.33704695, 0.88327073, 0.02617758, 0.11979603,\n",
       "       0.48970816, 0.81169963, 0.49256433, 0.21088227, 0.19439047,\n",
       "       0.44620513, 0.77882617, 0.94015748, 0.32552688, 0.90281321,\n",
       "       0.99837174, 0.05440194, 0.52956283, 0.59353904, 0.31556456])"
      ]
     },
     "execution_count": 10,
     "metadata": {},
     "output_type": "execute_result"
    }
   ],
   "source": [
    "ys2"
   ]
  },
  {
   "cell_type": "code",
   "execution_count": 11,
   "metadata": {},
   "outputs": [],
   "source": [
    "muz, sigmaz = zs.mean(), zs.std()\n",
    "zs = (zs - muz) / sigmaz"
   ]
  },
  {
   "cell_type": "code",
   "execution_count": 12,
   "metadata": {},
   "outputs": [],
   "source": [
    "import sys\n",
    "# sys.path.append(\"../deconditional-downscaling/\")\n",
    "sys.path.append(\"experiments/swiss_roll/\")\n",
    "from models import build_model, train_model, predict \n",
    "import yaml \n",
    "import torch\n",
    "\n",
    "cdf_dir = 'experiments/swiss_roll/config/exact_cmp_mz.yaml' \n",
    "# cdf_dir = 'exact_cmp.yaml' \n",
    "\n",
    "with open(cdf_dir, \"r\") as f:\n",
    "    cfg = yaml.safe_load(f)\n",
    "\n",
    "cfg['model'].update(individuals=torch.tensor(xs).float(),\n",
    "                    extended_bags_values=torch.tensor(ys).float(),\n",
    "                    bags_values=torch.tensor(ys2).float(),\n",
    "                    aggregate_targets=torch.tensor(zs).float(),\n",
    "                    bags_sizes=len(ys))\n",
    "model = build_model(cfg['model'])"
   ]
  },
  {
   "cell_type": "code",
   "execution_count": 13,
   "metadata": {},
   "outputs": [],
   "source": [
    "groundtruth_individuals = torch.tensor(np.linspace(1e-5,1-1e-5,100)).float()\n",
    "\n",
    "cfg['training'].update(model=model,\n",
    "                    individuals=torch.tensor(xs).float(),\n",
    "                    extended_bags_values=torch.tensor(ys).float(),\n",
    "                    bags_values=torch.tensor(ys2).float(),\n",
    "                    aggregate_targets=torch.tensor(zs).float(),\n",
    "                    bags_sizes=len(ys),\n",
    "                    groundtruth_individuals=groundtruth_individuals,\n",
    "                    groundtruth_bags_sizes=len(groundtruth_individuals),\n",
    "                    groundtruth_targets=func(groundtruth_individuals).float(),\n",
    "                    chunk_size=cfg['evaluation']['chunk_size_nll'],\n",
    "                    device_idx='cpu',\n",
    "                    dump_dir='result/'\n",
    "                    )\n",
    "train_model(cfg['training'])"
   ]
  },
  {
   "cell_type": "code",
   "execution_count": 14,
   "metadata": {},
   "outputs": [],
   "source": [
    "predict_kwargs = {'name': cfg['model']['name'],\n",
    "                'model': model.eval().cpu(),\n",
    "                'individuals': groundtruth_individuals,\n",
    "                'bags_sizes': func(groundtruth_individuals)}\n",
    "individuals_posterior = predict(predict_kwargs)\n",
    "individuals_posterior_mean = sigmaz * individuals_posterior.mean + muz\n",
    "with torch.no_grad():\n",
    "    stddev = sigmaz * individuals_posterior.stddev\n",
    "    lower_bound = individuals_posterior_mean - 2 * stddev\n",
    "    upper_bound = individuals_posterior_mean + 2 * stddev"
   ]
  },
  {
   "cell_type": "code",
   "execution_count": 15,
   "metadata": {},
   "outputs": [
    {
     "data": {
      "text/plain": [
       "<matplotlib.legend.Legend at 0x2a4facb50>"
      ]
     },
     "execution_count": 15,
     "metadata": {},
     "output_type": "execute_result"
    },
    {
     "data": {
      "image/png": "[encoded data removed]",
      "text/plain": [
       "<Figure size 640x480 with 1 Axes>"
      ]
     },
     "metadata": {},
     "output_type": "display_data"
    }
   ],
   "source": [
    "plt.plot(groundtruth_individuals, individuals_posterior_mean, label = 'posterior mean', color='C0')\n",
    "plt.fill_between(groundtruth_individuals, lower_bound, upper_bound, alpha=0.3, color='C0')\n",
    "# plt.plot(groundtruth_individuals, (conf[1]-conf[0]).detach().numpy(), label = '2 * posterior std')\n",
    "plt.plot(groundtruth_individuals, func(groundtruth_individuals), label = 'f(x)', color='C1')\n",
    "# plt.plot(xs, f(xs), '.', label = 'data points')\n",
    "plt.legend()"
   ]
  },
  {
   "cell_type": "code",
   "execution_count": 16,
   "metadata": {},
   "outputs": [
    {
     "data": {
      "text/plain": [
       "tensor(0.3636)"
      ]
     },
     "execution_count": 16,
     "metadata": {},
     "output_type": "execute_result"
    }
   ],
   "source": [
    "groundtruth_individuals[np.argmin(func(groundtruth_individuals))]"
   ]
  },
  {
   "cell_type": "code",
   "execution_count": 17,
   "metadata": {},
   "outputs": [
    {
     "data": {
      "text/plain": [
       "tensor(0.4040)"
      ]
     },
     "execution_count": 17,
     "metadata": {},
     "output_type": "execute_result"
    }
   ],
   "source": [
    "groundtruth_individuals[np.argmin(individuals_posterior_mean)]"
   ]
  },
  {
   "cell_type": "code",
   "execution_count": 18,
   "metadata": {},
   "outputs": [],
   "source": [
    "from BO import BayesOpt_UCB, BayesOpt_Random, PES\n",
    "\n",
    "# a = 0.1\n",
    "# b = 4\n",
    "# c = 2\n",
    "# d = 0\n",
    "# sigma = 0.01\n",
    "\n",
    "def g_oracle(y, a=0.1,b=4,c=2,d=0, sigma=0.01):\n",
    "    g_value = g(y, a,b,c,d)\n",
    "    z_value = g_value + np.random.normal(0, sigma)\n",
    "    return z_value\n",
    "\n",
    "x_space = torch.tensor(np.linspace(1e-5,1-1e-5,100)).float() # np.linspace(1e-5,1-1e-5,100)\n",
    "y_space = torch.tensor(np.linspace(1e-5,1-1e-5,100)).float() # np.linspace(1e-5,1-1e-5,100)\n",
    "init_y_size = 5\n",
    "num_round = 20\n",
    "num_repeat = 3\n",
    "random_seeds = np.random.uniform(0,100, num_repeat)\n",
    "\n",
    "pos_best_dict = {}\n",
    "\n",
    "xs = torch.from_numpy(xs).float()\n",
    "ys = torch.from_numpy(ys).float()"
   ]
  },
  {
   "cell_type": "code",
   "execution_count": 19,
   "metadata": {},
   "outputs": [
    {
     "name": "stderr",
     "output_type": "stream",
     "text": [
      "  0%|          | 0/3 [00:00<?, ?it/s]"
     ]
    },
    {
     "name": "stdout",
     "output_type": "stream",
     "text": [
      "[0.65626105 0.95489227 0.9708666  0.09784022 0.2407501 ]\n"
     ]
    },
    {
     "name": "stderr",
     "output_type": "stream",
     "text": []
    },
    {
     "name": "stdout",
     "output_type": "stream",
     "text": [
      "Iteration 1: Elapsed Time: 5.248085975646973 seconds\n"
     ]
    },
    {
     "name": "stderr",
     "output_type": "stream",
     "text": []
    },
    {
     "name": "stdout",
     "output_type": "stream",
     "text": [
      "Iteration 2: Elapsed Time: 5.17734694480896 seconds\n"
     ]
    },
    {
     "name": "stderr",
     "output_type": "stream",
     "text": []
    },
    {
     "name": "stdout",
     "output_type": "stream",
     "text": [
      "Iteration 3: Elapsed Time: 5.054910898208618 seconds\n"
     ]
    },
    {
     "name": "stderr",
     "output_type": "stream",
     "text": []
    },
    {
     "name": "stdout",
     "output_type": "stream",
     "text": [
      "Iteration 4: Elapsed Time: 5.298311710357666 seconds\n"
     ]
    },
    {
     "name": "stderr",
     "output_type": "stream",
     "text": []
    },
    {
     "name": "stdout",
     "output_type": "stream",
     "text": [
      "Iteration 5: Elapsed Time: 5.382393836975098 seconds\n"
     ]
    },
    {
     "name": "stderr",
     "output_type": "stream",
     "text": []
    },
    {
     "name": "stdout",
     "output_type": "stream",
     "text": [
      "Iteration 6: Elapsed Time: 5.4010701179504395 seconds\n"
     ]
    },
    {
     "name": "stderr",
     "output_type": "stream",
     "text": []
    },
    {
     "name": "stdout",
     "output_type": "stream",
     "text": [
      "Iteration 7: Elapsed Time: 5.641067028045654 seconds\n"
     ]
    },
    {
     "name": "stderr",
     "output_type": "stream",
     "text": []
    },
    {
     "name": "stdout",
     "output_type": "stream",
     "text": [
      "Iteration 8: Elapsed Time: 5.5876147747039795 seconds\n"
     ]
    },
    {
     "name": "stderr",
     "output_type": "stream",
     "text": []
    },
    {
     "name": "stdout",
     "output_type": "stream",
     "text": [
      "Iteration 9: Elapsed Time: 5.944359064102173 seconds\n"
     ]
    },
    {
     "name": "stderr",
     "output_type": "stream",
     "text": []
    },
    {
     "name": "stdout",
     "output_type": "stream",
     "text": [
      "Iteration 10: Elapsed Time: 5.813665866851807 seconds\n"
     ]
    },
    {
     "name": "stderr",
     "output_type": "stream",
     "text": []
    },
    {
     "name": "stdout",
     "output_type": "stream",
     "text": [
      "Iteration 11: Elapsed Time: 5.727408170700073 seconds\n"
     ]
    },
    {
     "name": "stderr",
     "output_type": "stream",
     "text": []
    },
    {
     "name": "stdout",
     "output_type": "stream",
     "text": [
      "Iteration 12: Elapsed Time: 5.992480039596558 seconds\n"
     ]
    },
    {
     "name": "stderr",
     "output_type": "stream",
     "text": []
    },
    {
     "name": "stdout",
     "output_type": "stream",
     "text": [
      "Iteration 13: Elapsed Time: 6.193095922470093 seconds\n"
     ]
    },
    {
     "name": "stderr",
     "output_type": "stream",
     "text": []
    },
    {
     "name": "stdout",
     "output_type": "stream",
     "text": [
      "Iteration 14: Elapsed Time: 5.998750925064087 seconds\n"
     ]
    },
    {
     "name": "stderr",
     "output_type": "stream",
     "text": [
      "100%|██████████| 15/15 [01:24<00:00,  5.64s/it]"
     ]
    },
    {
     "name": "stdout",
     "output_type": "stream",
     "text": [
      "Iteration 15: Elapsed Time: 6.1084558963775635 seconds\n"
     ]
    },
    {
     "name": "stderr",
     "output_type": "stream",
     "text": [
      "\n",
      " 33%|███▎      | 1/3 [01:24<02:49, 84.92s/it]"
     ]
    },
    {
     "name": "stdout",
     "output_type": "stream",
     "text": [
      "[0.50066811 0.46806806 0.5007825  0.14918518 0.82027152]\n"
     ]
    },
    {
     "name": "stderr",
     "output_type": "stream",
     "text": []
    },
    {
     "name": "stdout",
     "output_type": "stream",
     "text": [
      "Iteration 1: Elapsed Time: 5.034497022628784 seconds\n"
     ]
    },
    {
     "name": "stderr",
     "output_type": "stream",
     "text": []
    },
    {
     "name": "stdout",
     "output_type": "stream",
     "text": [
      "Iteration 2: Elapsed Time: 5.016891002655029 seconds\n"
     ]
    },
    {
     "name": "stderr",
     "output_type": "stream",
     "text": []
    },
    {
     "name": "stdout",
     "output_type": "stream",
     "text": [
      "Iteration 3: Elapsed Time: 5.144352912902832 seconds\n"
     ]
    },
    {
     "name": "stderr",
     "output_type": "stream",
     "text": []
    },
    {
     "name": "stdout",
     "output_type": "stream",
     "text": [
      "Iteration 4: Elapsed Time: 6.243980169296265 seconds\n"
     ]
    },
    {
     "name": "stderr",
     "output_type": "stream",
     "text": []
    },
    {
     "name": "stdout",
     "output_type": "stream",
     "text": [
      "Iteration 5: Elapsed Time: 5.283459186553955 seconds\n"
     ]
    },
    {
     "name": "stderr",
     "output_type": "stream",
     "text": []
    },
    {
     "name": "stdout",
     "output_type": "stream",
     "text": [
      "Iteration 6: Elapsed Time: 5.611207962036133 seconds\n"
     ]
    },
    {
     "name": "stderr",
     "output_type": "stream",
     "text": []
    },
    {
     "name": "stdout",
     "output_type": "stream",
     "text": [
      "Iteration 7: Elapsed Time: 5.79003119468689 seconds\n"
     ]
    },
    {
     "name": "stderr",
     "output_type": "stream",
     "text": []
    },
    {
     "name": "stdout",
     "output_type": "stream",
     "text": [
      "Iteration 8: Elapsed Time: 5.925638914108276 seconds\n"
     ]
    },
    {
     "name": "stderr",
     "output_type": "stream",
     "text": []
    },
    {
     "name": "stdout",
     "output_type": "stream",
     "text": [
      "Iteration 9: Elapsed Time: 6.229547023773193 seconds\n"
     ]
    },
    {
     "name": "stderr",
     "output_type": "stream",
     "text": []
    },
    {
     "name": "stdout",
     "output_type": "stream",
     "text": [
      "Iteration 10: Elapsed Time: 6.011500120162964 seconds\n"
     ]
    },
    {
     "name": "stderr",
     "output_type": "stream",
     "text": []
    },
    {
     "name": "stdout",
     "output_type": "stream",
     "text": [
      "Iteration 11: Elapsed Time: 5.902657985687256 seconds\n"
     ]
    },
    {
     "name": "stderr",
     "output_type": "stream",
     "text": []
    },
    {
     "name": "stdout",
     "output_type": "stream",
     "text": [
      "Iteration 12: Elapsed Time: 6.147289037704468 seconds\n"
     ]
    },
    {
     "name": "stderr",
     "output_type": "stream",
     "text": []
    },
    {
     "name": "stdout",
     "output_type": "stream",
     "text": [
      "Iteration 13: Elapsed Time: 6.236983060836792 seconds\n"
     ]
    },
    {
     "name": "stderr",
     "output_type": "stream",
     "text": []
    },
    {
     "name": "stdout",
     "output_type": "stream",
     "text": [
      "Iteration 14: Elapsed Time: 6.422919988632202 seconds\n"
     ]
    },
    {
     "name": "stderr",
     "output_type": "stream",
     "text": [
      "100%|██████████| 15/15 [01:27<00:00,  5.83s/it]"
     ]
    },
    {
     "name": "stdout",
     "output_type": "stream",
     "text": [
      "Iteration 15: Elapsed Time: 6.277998685836792 seconds\n"
     ]
    },
    {
     "name": "stderr",
     "output_type": "stream",
     "text": [
      "\n",
      " 67%|██████▋   | 2/3 [02:52<01:26, 86.57s/it]"
     ]
    },
    {
     "name": "stdout",
     "output_type": "stream",
     "text": [
      "[0.31083358 0.81898083 0.33475592 0.19371964 0.11032112]\n"
     ]
    },
    {
     "name": "stderr",
     "output_type": "stream",
     "text": []
    },
    {
     "name": "stdout",
     "output_type": "stream",
     "text": [
      "Iteration 1: Elapsed Time: 5.008289575576782 seconds\n"
     ]
    },
    {
     "name": "stderr",
     "output_type": "stream",
     "text": []
    },
    {
     "name": "stdout",
     "output_type": "stream",
     "text": [
      "Iteration 2: Elapsed Time: 5.282709121704102 seconds\n"
     ]
    },
    {
     "name": "stderr",
     "output_type": "stream",
     "text": []
    },
    {
     "name": "stdout",
     "output_type": "stream",
     "text": [
      "Iteration 3: Elapsed Time: 5.480664014816284 seconds\n"
     ]
    },
    {
     "name": "stderr",
     "output_type": "stream",
     "text": []
    },
    {
     "name": "stdout",
     "output_type": "stream",
     "text": [
      "Iteration 4: Elapsed Time: 5.400330066680908 seconds\n"
     ]
    },
    {
     "name": "stderr",
     "output_type": "stream",
     "text": []
    },
    {
     "name": "stdout",
     "output_type": "stream",
     "text": [
      "Iteration 5: Elapsed Time: 5.308396100997925 seconds\n"
     ]
    },
    {
     "name": "stderr",
     "output_type": "stream",
     "text": []
    },
    {
     "name": "stdout",
     "output_type": "stream",
     "text": [
      "Iteration 6: Elapsed Time: 5.677389144897461 seconds\n"
     ]
    },
    {
     "name": "stderr",
     "output_type": "stream",
     "text": []
    },
    {
     "name": "stdout",
     "output_type": "stream",
     "text": [
      "Iteration 7: Elapsed Time: 5.701846122741699 seconds\n"
     ]
    },
    {
     "name": "stderr",
     "output_type": "stream",
     "text": []
    },
    {
     "name": "stdout",
     "output_type": "stream",
     "text": [
      "Iteration 8: Elapsed Time: 5.894730091094971 seconds\n"
     ]
    },
    {
     "name": "stderr",
     "output_type": "stream",
     "text": []
    },
    {
     "name": "stdout",
     "output_type": "stream",
     "text": [
      "Iteration 9: Elapsed Time: 5.8755388259887695 seconds\n"
     ]
    },
    {
     "name": "stderr",
     "output_type": "stream",
     "text": []
    },
    {
     "name": "stdout",
     "output_type": "stream",
     "text": [
      "Iteration 10: Elapsed Time: 5.968864917755127 seconds\n"
     ]
    },
    {
     "name": "stderr",
     "output_type": "stream",
     "text": []
    },
    {
     "name": "stdout",
     "output_type": "stream",
     "text": [
      "Iteration 11: Elapsed Time: 6.011630058288574 seconds\n"
     ]
    },
    {
     "name": "stderr",
     "output_type": "stream",
     "text": []
    },
    {
     "name": "stdout",
     "output_type": "stream",
     "text": [
      "Iteration 12: Elapsed Time: 6.122010946273804 seconds\n"
     ]
    },
    {
     "name": "stderr",
     "output_type": "stream",
     "text": []
    },
    {
     "name": "stdout",
     "output_type": "stream",
     "text": [
      "Iteration 13: Elapsed Time: 6.25000786781311 seconds\n"
     ]
    },
    {
     "name": "stderr",
     "output_type": "stream",
     "text": []
    },
    {
     "name": "stdout",
     "output_type": "stream",
     "text": [
      "Iteration 14: Elapsed Time: 6.285468816757202 seconds\n"
     ]
    },
    {
     "name": "stderr",
     "output_type": "stream",
     "text": [
      "100%|██████████| 15/15 [01:26<00:00,  5.78s/it]"
     ]
    },
    {
     "name": "stdout",
     "output_type": "stream",
     "text": [
      "Iteration 15: Elapsed Time: 6.300770044326782 seconds\n"
     ]
    },
    {
     "name": "stderr",
     "output_type": "stream",
     "text": [
      "\n",
      "100%|██████████| 3/3 [04:19<00:00, 86.54s/it]\n"
     ]
    },
    {
     "data": {
      "text/plain": [
       "<Figure size 640x480 with 0 Axes>"
      ]
     },
     "metadata": {},
     "output_type": "display_data"
    }
   ],
   "source": [
    "agent_pes = PES(dataset1=[xs, ys], init_y_recs_size = init_y_size, y_space=y_space, x_space=x_space, f_oracle=func, g_oracle=g_oracle,num_round=num_round, num_repeat = num_repeat, cdf_dir='experiments/swiss_roll/config/exact_cmp_mz.yaml', dump_dir='result/pes/',  y_min=-0.35, λ=0.01, num_opt_samples=10, random_seeds=random_seeds)\n",
    "pos_best_dict['pes'] = agent_pes.simulation()"
   ]
  },
  {
   "cell_type": "code",
   "execution_count": 20,
   "metadata": {},
   "outputs": [
    {
     "data": {
      "text/plain": [
       "tensor([-0.2386, -0.3228, -0.2506, -0.1799, -0.1418, -0.2310, -0.2304, -0.2450,\n",
       "        -0.2237, -0.2397, -0.1071, -0.0926, -0.2307, -0.2369, -0.0957, -0.2556,\n",
       "        -0.0968, -0.2547, -0.1227, -0.2621])"
      ]
     },
     "execution_count": 20,
     "metadata": {},
     "output_type": "execute_result"
    }
   ],
   "source": [
    "agent_pes.z_rewards"
   ]
  },
  {
   "cell_type": "code",
   "execution_count": 21,
   "metadata": {},
   "outputs": [
    {
     "data": {
      "text/plain": [
       "(array([[0., 0., 0., 1., 0., 0., 0., 0., 0., 0.],\n",
       "        [0., 0., 0., 0., 0., 0., 0., 0., 1., 0.],\n",
       "        [0., 0., 0., 1., 0., 0., 0., 0., 0., 0.],\n",
       "        [0., 1., 0., 0., 0., 0., 0., 0., 0., 0.],\n",
       "        [0., 1., 0., 0., 0., 0., 0., 0., 0., 0.],\n",
       "        [0., 0., 1., 0., 0., 0., 0., 0., 0., 0.],\n",
       "        [0., 0., 1., 0., 0., 0., 0., 0., 0., 0.],\n",
       "        [0., 0., 1., 0., 0., 0., 0., 0., 0., 0.],\n",
       "        [0., 0., 1., 0., 0., 0., 0., 0., 0., 0.],\n",
       "        [0., 0., 1., 0., 0., 0., 0., 0., 0., 0.],\n",
       "        [1., 0., 0., 0., 0., 0., 0., 0., 0., 0.],\n",
       "        [1., 0., 0., 0., 0., 0., 0., 0., 0., 0.],\n",
       "        [0., 0., 0., 1., 0., 0., 0., 0., 0., 0.],\n",
       "        [0., 0., 0., 1., 0., 0., 0., 0., 0., 0.],\n",
       "        [1., 0., 0., 0., 0., 0., 0., 0., 0., 0.],\n",
       "        [0., 0., 0., 1., 0., 0., 0., 0., 0., 0.],\n",
       "        [1., 0., 0., 0., 0., 0., 0., 0., 0., 0.],\n",
       "        [0., 0., 0., 0., 0., 0., 0., 0., 0., 1.],\n",
       "        [1., 0., 0., 0., 0., 0., 0., 0., 0., 0.],\n",
       "        [0., 0., 0., 0., 0., 0., 0., 0., 0., 1.]]),\n",
       " array([9.99999975e-06, 1.00007996e-01, 2.00005993e-01, 3.00004005e-01,\n",
       "        4.00002003e-01, 5.00000000e-01, 5.99997997e-01, 6.99995995e-01,\n",
       "        7.99993992e-01, 8.99991989e-01, 9.99989986e-01], dtype=float32),\n",
       " <a list of 20 BarContainer objects>)"
      ]
     },
     "execution_count": 21,
     "metadata": {},
     "output_type": "execute_result"
    },
    {
     "data": {
      "image/png": "[encoded data removed]",
      "text/plain": [
       "<Figure size 640x480 with 1 Axes>"
      ]
     },
     "metadata": {},
     "output_type": "display_data"
    }
   ],
   "source": [
    "plt.hist(agent_pes.y_recs)"
   ]
  },
  {
   "cell_type": "code",
   "execution_count": 22,
   "metadata": {},
   "outputs": [],
   "source": [
    "# agent_ucb = BayesOpt_UCB(dataset1=[xs, ys], init_y_recs_size = init_y_size, y_space=y_space, x_space=x_space, f_oracle=func, g_oracle=g_oracle,num_round=num_round, num_repeat = num_repeat, cdf_dir='experiments/swiss_roll/config/exact_cmp_mz.yaml', dump_dir='result/ucb/', random_seeds=random_seeds)\n",
    "# pos_best_dict['ucb'] = agent_ucb.simulation()"
   ]
  },
  {
   "cell_type": "code",
   "execution_count": 23,
   "metadata": {},
   "outputs": [
    {
     "name": "stderr",
     "output_type": "stream",
     "text": [
      "  0%|          | 0/3 [00:00<?, ?it/s]"
     ]
    },
    {
     "name": "stdout",
     "output_type": "stream",
     "text": [
      "[0.65626105 0.95489227 0.9708666  0.09784022 0.2407501 ]\n"
     ]
    },
    {
     "name": "stderr",
     "output_type": "stream",
     "text": []
    },
    {
     "name": "stdout",
     "output_type": "stream",
     "text": [
      "Iteration 1: Elapsed Time: 2.787285089492798 seconds\n"
     ]
    },
    {
     "name": "stderr",
     "output_type": "stream",
     "text": []
    },
    {
     "name": "stdout",
     "output_type": "stream",
     "text": [
      "Iteration 2: Elapsed Time: 2.8186912536621094 seconds\n"
     ]
    },
    {
     "name": "stderr",
     "output_type": "stream",
     "text": []
    },
    {
     "name": "stdout",
     "output_type": "stream",
     "text": [
      "Iteration 3: Elapsed Time: 2.987044095993042 seconds\n"
     ]
    },
    {
     "name": "stderr",
     "output_type": "stream",
     "text": []
    },
    {
     "name": "stdout",
     "output_type": "stream",
     "text": [
      "Iteration 4: Elapsed Time: 2.870806932449341 seconds\n"
     ]
    },
    {
     "name": "stderr",
     "output_type": "stream",
     "text": []
    },
    {
     "name": "stdout",
     "output_type": "stream",
     "text": [
      "Iteration 5: Elapsed Time: 2.7814228534698486 seconds\n"
     ]
    },
    {
     "name": "stderr",
     "output_type": "stream",
     "text": []
    },
    {
     "name": "stdout",
     "output_type": "stream",
     "text": [
      "Iteration 6: Elapsed Time: 2.744062900543213 seconds\n"
     ]
    },
    {
     "name": "stderr",
     "output_type": "stream",
     "text": []
    },
    {
     "name": "stdout",
     "output_type": "stream",
     "text": [
      "Iteration 7: Elapsed Time: 2.764965772628784 seconds\n"
     ]
    },
    {
     "name": "stderr",
     "output_type": "stream",
     "text": []
    },
    {
     "name": "stdout",
     "output_type": "stream",
     "text": [
      "Iteration 8: Elapsed Time: 2.709169864654541 seconds\n"
     ]
    },
    {
     "name": "stderr",
     "output_type": "stream",
     "text": []
    },
    {
     "name": "stdout",
     "output_type": "stream",
     "text": [
      "Iteration 9: Elapsed Time: 2.8073222637176514 seconds\n"
     ]
    },
    {
     "name": "stderr",
     "output_type": "stream",
     "text": []
    },
    {
     "name": "stdout",
     "output_type": "stream",
     "text": [
      "Iteration 10: Elapsed Time: 2.778557062149048 seconds\n"
     ]
    },
    {
     "name": "stderr",
     "output_type": "stream",
     "text": []
    },
    {
     "name": "stdout",
     "output_type": "stream",
     "text": [
      "Iteration 11: Elapsed Time: 2.7110791206359863 seconds\n"
     ]
    },
    {
     "name": "stderr",
     "output_type": "stream",
     "text": []
    },
    {
     "name": "stdout",
     "output_type": "stream",
     "text": [
      "Iteration 12: Elapsed Time: 2.7974610328674316 seconds\n"
     ]
    },
    {
     "name": "stderr",
     "output_type": "stream",
     "text": []
    },
    {
     "name": "stdout",
     "output_type": "stream",
     "text": [
      "Iteration 13: Elapsed Time: 2.7642407417297363 seconds\n"
     ]
    },
    {
     "name": "stderr",
     "output_type": "stream",
     "text": []
    },
    {
     "name": "stdout",
     "output_type": "stream",
     "text": [
      "Iteration 14: Elapsed Time: 2.775308847427368 seconds\n"
     ]
    },
    {
     "name": "stderr",
     "output_type": "stream",
     "text": [
      "100%|██████████| 15/15 [00:41<00:00,  2.80s/it]"
     ]
    },
    {
     "name": "stdout",
     "output_type": "stream",
     "text": [
      "Iteration 15: Elapsed Time: 2.8238260746002197 seconds\n"
     ]
    },
    {
     "name": "stderr",
     "output_type": "stream",
     "text": [
      "\n",
      " 33%|███▎      | 1/3 [00:42<01:24, 42.16s/it]"
     ]
    },
    {
     "name": "stdout",
     "output_type": "stream",
     "text": [
      "[0.50066811 0.46806806 0.5007825  0.14918518 0.82027152]\n"
     ]
    },
    {
     "name": "stderr",
     "output_type": "stream",
     "text": []
    },
    {
     "name": "stdout",
     "output_type": "stream",
     "text": [
      "Iteration 1: Elapsed Time: 2.7390007972717285 seconds\n"
     ]
    },
    {
     "name": "stderr",
     "output_type": "stream",
     "text": []
    },
    {
     "name": "stdout",
     "output_type": "stream",
     "text": [
      "Iteration 2: Elapsed Time: 2.7043352127075195 seconds\n"
     ]
    },
    {
     "name": "stderr",
     "output_type": "stream",
     "text": []
    },
    {
     "name": "stdout",
     "output_type": "stream",
     "text": [
      "Iteration 3: Elapsed Time: 2.7179689407348633 seconds\n"
     ]
    },
    {
     "name": "stderr",
     "output_type": "stream",
     "text": []
    },
    {
     "name": "stdout",
     "output_type": "stream",
     "text": [
      "Iteration 4: Elapsed Time: 2.675995111465454 seconds\n"
     ]
    },
    {
     "name": "stderr",
     "output_type": "stream",
     "text": []
    },
    {
     "name": "stdout",
     "output_type": "stream",
     "text": [
      "Iteration 5: Elapsed Time: 2.7682690620422363 seconds\n"
     ]
    },
    {
     "name": "stderr",
     "output_type": "stream",
     "text": []
    },
    {
     "name": "stdout",
     "output_type": "stream",
     "text": [
      "Iteration 6: Elapsed Time: 2.7432539463043213 seconds\n"
     ]
    },
    {
     "name": "stderr",
     "output_type": "stream",
     "text": []
    },
    {
     "name": "stdout",
     "output_type": "stream",
     "text": [
      "Iteration 7: Elapsed Time: 2.743975877761841 seconds\n"
     ]
    },
    {
     "name": "stderr",
     "output_type": "stream",
     "text": []
    },
    {
     "name": "stdout",
     "output_type": "stream",
     "text": [
      "Iteration 8: Elapsed Time: 2.7679197788238525 seconds\n"
     ]
    },
    {
     "name": "stderr",
     "output_type": "stream",
     "text": []
    },
    {
     "name": "stdout",
     "output_type": "stream",
     "text": [
      "Iteration 9: Elapsed Time: 2.753680944442749 seconds\n"
     ]
    },
    {
     "name": "stderr",
     "output_type": "stream",
     "text": []
    },
    {
     "name": "stdout",
     "output_type": "stream",
     "text": [
      "Iteration 10: Elapsed Time: 2.7522408962249756 seconds\n"
     ]
    },
    {
     "name": "stderr",
     "output_type": "stream",
     "text": []
    },
    {
     "name": "stdout",
     "output_type": "stream",
     "text": [
      "Iteration 11: Elapsed Time: 2.765892267227173 seconds\n"
     ]
    },
    {
     "name": "stderr",
     "output_type": "stream",
     "text": []
    },
    {
     "name": "stdout",
     "output_type": "stream",
     "text": [
      "Iteration 12: Elapsed Time: 2.9106569290161133 seconds\n"
     ]
    },
    {
     "name": "stderr",
     "output_type": "stream",
     "text": []
    },
    {
     "name": "stdout",
     "output_type": "stream",
     "text": [
      "Iteration 13: Elapsed Time: 2.75703501701355 seconds\n"
     ]
    },
    {
     "name": "stderr",
     "output_type": "stream",
     "text": []
    },
    {
     "name": "stdout",
     "output_type": "stream",
     "text": [
      "Iteration 14: Elapsed Time: 2.7820067405700684 seconds\n"
     ]
    },
    {
     "name": "stderr",
     "output_type": "stream",
     "text": [
      "100%|██████████| 15/15 [00:41<00:00,  2.77s/it]\n",
      " 67%|██████▋   | 2/3 [01:23<00:41, 41.91s/it]"
     ]
    },
    {
     "name": "stdout",
     "output_type": "stream",
     "text": [
      "Iteration 15: Elapsed Time: 2.935783863067627 seconds\n",
      "[0.31083358 0.81898083 0.33475592 0.19371964 0.11032112]\n"
     ]
    },
    {
     "name": "stderr",
     "output_type": "stream",
     "text": []
    },
    {
     "name": "stdout",
     "output_type": "stream",
     "text": [
      "Iteration 1: Elapsed Time: 2.6931047439575195 seconds\n"
     ]
    },
    {
     "name": "stderr",
     "output_type": "stream",
     "text": []
    },
    {
     "name": "stdout",
     "output_type": "stream",
     "text": [
      "Iteration 2: Elapsed Time: 2.807481288909912 seconds\n"
     ]
    },
    {
     "name": "stderr",
     "output_type": "stream",
     "text": []
    },
    {
     "name": "stdout",
     "output_type": "stream",
     "text": [
      "Iteration 3: Elapsed Time: 2.849331855773926 seconds\n"
     ]
    },
    {
     "name": "stderr",
     "output_type": "stream",
     "text": []
    },
    {
     "name": "stdout",
     "output_type": "stream",
     "text": [
      "Iteration 4: Elapsed Time: 2.786750078201294 seconds\n"
     ]
    },
    {
     "name": "stderr",
     "output_type": "stream",
     "text": []
    },
    {
     "name": "stdout",
     "output_type": "stream",
     "text": [
      "Iteration 5: Elapsed Time: 2.71376633644104 seconds\n"
     ]
    },
    {
     "name": "stderr",
     "output_type": "stream",
     "text": []
    },
    {
     "name": "stdout",
     "output_type": "stream",
     "text": [
      "Iteration 6: Elapsed Time: 2.7387609481811523 seconds\n"
     ]
    },
    {
     "name": "stderr",
     "output_type": "stream",
     "text": []
    },
    {
     "name": "stdout",
     "output_type": "stream",
     "text": [
      "Iteration 7: Elapsed Time: 2.7911570072174072 seconds\n"
     ]
    },
    {
     "name": "stderr",
     "output_type": "stream",
     "text": []
    },
    {
     "name": "stdout",
     "output_type": "stream",
     "text": [
      "Iteration 8: Elapsed Time: 2.75400972366333 seconds\n"
     ]
    },
    {
     "name": "stderr",
     "output_type": "stream",
     "text": []
    },
    {
     "name": "stdout",
     "output_type": "stream",
     "text": [
      "Iteration 9: Elapsed Time: 2.7725939750671387 seconds\n"
     ]
    },
    {
     "name": "stderr",
     "output_type": "stream",
     "text": []
    },
    {
     "name": "stdout",
     "output_type": "stream",
     "text": [
      "Iteration 10: Elapsed Time: 2.7587058544158936 seconds\n"
     ]
    },
    {
     "name": "stderr",
     "output_type": "stream",
     "text": []
    },
    {
     "name": "stdout",
     "output_type": "stream",
     "text": [
      "Iteration 11: Elapsed Time: 2.7378602027893066 seconds\n"
     ]
    },
    {
     "name": "stderr",
     "output_type": "stream",
     "text": []
    },
    {
     "name": "stdout",
     "output_type": "stream",
     "text": [
      "Iteration 12: Elapsed Time: 2.768955945968628 seconds\n"
     ]
    },
    {
     "name": "stderr",
     "output_type": "stream",
     "text": []
    },
    {
     "name": "stdout",
     "output_type": "stream",
     "text": [
      "Iteration 13: Elapsed Time: 2.7607710361480713 seconds\n"
     ]
    },
    {
     "name": "stderr",
     "output_type": "stream",
     "text": []
    },
    {
     "name": "stdout",
     "output_type": "stream",
     "text": [
      "Iteration 14: Elapsed Time: 2.730360746383667 seconds\n"
     ]
    },
    {
     "name": "stderr",
     "output_type": "stream",
     "text": [
      "100%|██████████| 15/15 [00:41<00:00,  2.77s/it]"
     ]
    },
    {
     "name": "stdout",
     "output_type": "stream",
     "text": [
      "Iteration 15: Elapsed Time: 2.8021140098571777 seconds\n"
     ]
    },
    {
     "name": "stderr",
     "output_type": "stream",
     "text": [
      "\n",
      "100%|██████████| 3/3 [02:05<00:00, 41.86s/it]\n"
     ]
    },
    {
     "data": {
      "text/plain": [
       "<Figure size 640x480 with 0 Axes>"
      ]
     },
     "metadata": {},
     "output_type": "display_data"
    }
   ],
   "source": [
    "agent_random = BayesOpt_Random(dataset1=[xs, ys], init_y_recs_size = init_y_size, y_space=y_space, x_space=x_space, f_oracle=func, g_oracle=g_oracle,num_round=num_round, num_repeat = num_repeat, cdf_dir='experiments/swiss_roll/config/exact_cmp_mz.yaml', dump_dir='result/random/', random_seeds=random_seeds)\n",
    "pos_best_dict['random']= agent_random.simulation()"
   ]
  },
  {
   "cell_type": "code",
   "execution_count": 24,
   "metadata": {},
   "outputs": [
    {
     "data": {
      "text/plain": [
       "(array([[0., 0., 1., 0., 0., 0., 0., 0., 0., 0.],\n",
       "        [0., 0., 0., 0., 0., 0., 0., 0., 1., 0.],\n",
       "        [0., 0., 1., 0., 0., 0., 0., 0., 0., 0.],\n",
       "        [1., 0., 0., 0., 0., 0., 0., 0., 0., 0.],\n",
       "        [1., 0., 0., 0., 0., 0., 0., 0., 0., 0.],\n",
       "        [1., 0., 0., 0., 0., 0., 0., 0., 0., 0.],\n",
       "        [0., 0., 0., 0., 0., 0., 1., 0., 0., 0.],\n",
       "        [0., 0., 0., 0., 0., 0., 0., 0., 0., 1.],\n",
       "        [1., 0., 0., 0., 0., 0., 0., 0., 0., 0.],\n",
       "        [0., 0., 0., 0., 0., 0., 0., 0., 0., 1.],\n",
       "        [0., 0., 0., 0., 0., 0., 0., 1., 0., 0.],\n",
       "        [0., 0., 0., 0., 1., 0., 0., 0., 0., 0.],\n",
       "        [0., 0., 0., 0., 0., 0., 0., 0., 0., 1.],\n",
       "        [0., 0., 0., 0., 0., 0., 0., 0., 1., 0.],\n",
       "        [0., 0., 0., 0., 0., 0., 0., 0., 0., 1.],\n",
       "        [0., 0., 0., 0., 0., 0., 0., 0., 0., 1.],\n",
       "        [1., 0., 0., 0., 0., 0., 0., 0., 0., 0.],\n",
       "        [0., 0., 0., 0., 1., 0., 0., 0., 0., 0.],\n",
       "        [0., 0., 0., 0., 0., 0., 0., 0., 0., 1.],\n",
       "        [0., 0., 0., 0., 0., 0., 1., 0., 0., 0.]]),\n",
       " array([0.11032112, 0.19805382, 0.2857865 , 0.3735192 , 0.4612519 ,\n",
       "        0.54898465, 0.6367173 , 0.72445005, 0.8121827 , 0.89991546,\n",
       "        0.9876481 ], dtype=float32),\n",
       " <a list of 20 BarContainer objects>)"
      ]
     },
     "execution_count": 24,
     "metadata": {},
     "output_type": "execute_result"
    },
    {
     "data": {
      "image/png": "[encoded data removed]",
      "text/plain": [
       "<Figure size 640x480 with 1 Axes>"
      ]
     },
     "metadata": {},
     "output_type": "display_data"
    }
   ],
   "source": [
    "plt.hist(agent_random.y_recs)"
   ]
  },
  {
   "cell_type": "code",
   "execution_count": 25,
   "metadata": {},
   "outputs": [],
   "source": [
    "def evalaution(pos_best_dict):\n",
    "    # plt.plot(range(self.n), self.z_rewards[self.init_y_recs_size:], '.', label = 'z rewards')\n",
    "    for name, pos_bests in pos_best_dict.items():\n",
    "        opt = np.min(func(x_space.numpy()))\n",
    "        regret_mean =np.abs(opt - pos_bests).mean(axis=0)\n",
    "        regret_std =np.abs(opt - pos_bests).std(axis=0)\n",
    "        # print(regret_mean)\n",
    "        plt.plot(range(len(regret_mean)), regret_mean, label = name)\n",
    "        plt.fill_between(range(len(regret_mean)), regret_mean - 2 * regret_std, regret_mean + 2 * regret_std, alpha = 0.3)\n",
    "    plt.legend()\n",
    "    plt.xlabel('Round')\n",
    "    plt.ylabel('Regret')  "
   ]
  },
  {
   "cell_type": "code",
   "execution_count": 26,
   "metadata": {},
   "outputs": [
    {
     "data": {
      "image/png": "[encoded data removed]",
      "text/plain": [
       "<Figure size 640x480 with 1 Axes>"
      ]
     },
     "metadata": {},
     "output_type": "display_data"
    }
   ],
   "source": [
    "evalaution(pos_best_dict)"
   ]
  },
  {
   "cell_type": "code",
   "execution_count": 27,
   "metadata": {},
   "outputs": [
    {
     "data": {
      "text/plain": [
       "[tensor(-0.1060),\n",
       " tensor(-0.1060),\n",
       " tensor(-0.1060),\n",
       " tensor(-0.0789),\n",
       " tensor(-0.1508),\n",
       " tensor(-0.1873),\n",
       " tensor(-0.2558),\n",
       " tensor(-0.2316),\n",
       " tensor(-0.2441),\n",
       " tensor(-0.2441),\n",
       " tensor(-0.2558),\n",
       " tensor(-0.3342),\n",
       " tensor(-0.3670),\n",
       " tensor(-0.3676),\n",
       " tensor(-0.3675)]"
      ]
     },
     "execution_count": 27,
     "metadata": {},
     "output_type": "execute_result"
    }
   ],
   "source": [
    "pos_best_dict['pes'][-1]\n"
   ]
  },
  {
   "cell_type": "code",
   "execution_count": 28,
   "metadata": {},
   "outputs": [],
   "source": [
    "# np.save('pos-seed24.npy', pos_best_dict)"
   ]
  },
  {
   "cell_type": "code",
   "execution_count": null,
   "metadata": {},
   "outputs": [],
   "source": []
  }
 ],
 "metadata": {
  "kernelspec": {
   "display_name": "Python 3 (ipykernel)",
   "language": "python",
   "name": "python3"
  },
  "language_info": {
   "codemirror_mode": {
    "name": "ipython",
    "version": 3
   },
   "file_extension": ".py",
   "mimetype": "text/x-python",
   "name": "python",
   "nbconvert_exporter": "python",
   "pygments_lexer": "ipython3",
   "version": "3.8.17"
  }
 },
 "nbformat": 4,
 "nbformat_minor": 2
}
