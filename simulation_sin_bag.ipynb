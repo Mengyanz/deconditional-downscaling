{
 "cells": [
  {
   "cell_type": "code",
   "execution_count": 1,
   "metadata": {},
   "outputs": [
    {
     "name": "stderr",
     "output_type": "stream",
     "text": [
      "/Users/menang/anaconda3/envs/py3.8/lib/python3.8/site-packages/tqdm/auto.py:21: TqdmWarning: IProgress not found. Please update jupyter and ipywidgets. See https://ipywidgets.readthedocs.io/en/stable/user_install.html\n",
      "  from .autonotebook import tqdm as notebook_tqdm\n"
     ]
    }
   ],
   "source": [
    "import numpy as np\n",
    "import math\n",
    "import matplotlib.pyplot as plt\n",
    "from scipy.special import digamma\n",
    "from sklearn.gaussian_process import GaussianProcessRegressor\n",
    "import gpytorch\n",
    "\n",
    "import warnings\n",
    "\n",
    "# Ignore all warnings\n",
    "warnings.filterwarnings(\"ignore\")"
   ]
  },
  {
   "attachments": {},
   "cell_type": "markdown",
   "metadata": {},
   "source": [
    "Let's consider a simpler setting where \n",
    "$f(x) = 4 sin(x), x \\in [a,b]$, and $y_i$ is bags of each bin with 1/n width. So that $g(y) = E[sin(x)|y] = \\frac{1}{max(y) - min(y)}\\int_{min(y)}^{max(y)} 4 sin(x) dx = - 4 cos(max(y)) + 4 cos(min(y))$."
   ]
  },
  {
   "cell_type": "code",
   "execution_count": 2,
   "metadata": {},
   "outputs": [],
   "source": [
    "def func(x):\n",
    "    return 4 * np.sin(x)\n",
    "\n",
    "def ytox(y, a, b, n):\n",
    "    xs = []\n",
    "    for i in y:\n",
    "        # Determine the bin index\n",
    "        # Calculate bin width\n",
    "        bin_width = (b - a) / n\n",
    "\n",
    "        # Determine the bin index\n",
    "        bin_index = int((i - a) // bin_width)\n",
    "\n",
    "        # Calculate the lower and upper bounds of the detected bin\n",
    "        lower_bound = a + bin_index * bin_width\n",
    "        upper_bound = a + (bin_index + 1) * bin_width\n",
    "        \n",
    "        x = np.random.uniform(lower_bound, upper_bound)\n",
    "        xs.append(x)\n",
    "        \n",
    "    return np.array(xs) \n",
    "\n",
    "def g(y, a=-4, b=4, n=20, sigma=0.1):\n",
    "    # Calculate the bin width\n",
    "   \n",
    "    # Determine the bin index\n",
    "    # Calculate bin width\n",
    "    bin_width = (b - a) / n\n",
    "\n",
    "    # Determine the bin index\n",
    "    bin_index = int((y - a) // bin_width)\n",
    "\n",
    "    # Calculate the lower and upper bounds of the detected bin\n",
    "    lower_bound = a + bin_index * bin_width\n",
    "    upper_bound = a + (bin_index + 1) * bin_width\n",
    "\n",
    "    result = 1.0/(upper_bound - lower_bound) * (- 4 * np.cos(upper_bound) + 4 * np.cos(lower_bound)) + np.random.normal(0, sigma)\n",
    "        \n",
    "    return result"
   ]
  },
  {
   "cell_type": "code",
   "execution_count": 3,
   "metadata": {},
   "outputs": [
    {
     "data": {
      "text/plain": [
       "<matplotlib.legend.Legend at 0x29b212b50>"
      ]
     },
     "execution_count": 3,
     "metadata": {},
     "output_type": "execute_result"
    },
    {
     "data": {
      "image/png": "[encoded data removed]",
      "text/plain": [
       "<Figure size 640x480 with 1 Axes>"
      ]
     },
     "metadata": {},
     "output_type": "display_data"
    }
   ],
   "source": [
    "a = -4\n",
    "b = 4\n",
    "n = 20\n",
    "sigma = 0.1\n",
    "\n",
    "ys = np.linspace(a,b,100)\n",
    "xs = ytox(ys, a, b, n)\n",
    "fs = func(xs)\n",
    "ys2 = np.linspace(a,b,10)\n",
    "zs = np.array([g(y, a, b, n, sigma) for y in ys2])\n",
    "plt.plot(xs, fs, '.', label= 'f')\n",
    "plt.plot(ys2, zs, '.', label= 'g')\n",
    "plt.legend()"
   ]
  },
  {
   "cell_type": "code",
   "execution_count": 4,
   "metadata": {},
   "outputs": [
    {
     "data": {
      "text/plain": [
       "[<matplotlib.lines.Line2D at 0x29b328fa0>]"
      ]
     },
     "execution_count": 4,
     "metadata": {},
     "output_type": "execute_result"
    },
    {
     "data": {
      "image/png": "[encoded data removed]",
      "text/plain": [
       "<Figure size 640x480 with 1 Axes>"
      ]
     },
     "metadata": {},
     "output_type": "display_data"
    }
   ],
   "source": [
    "plt.plot(xs, ys, '.')"
   ]
  },
  {
   "cell_type": "code",
   "execution_count": 5,
   "metadata": {},
   "outputs": [],
   "source": [
    "muz, sigmaz = zs.mean(), zs.std()\n",
    "zs = (zs - muz) / sigmaz"
   ]
  },
  {
   "cell_type": "code",
   "execution_count": 6,
   "metadata": {},
   "outputs": [],
   "source": [
    "import sys\n",
    "# sys.path.append(\"../deconditional-downscaling/\")\n",
    "sys.path.append(\"experiments/swiss_roll/\")\n",
    "from models import build_model, train_model, predict \n",
    "import yaml \n",
    "import torch\n",
    "\n",
    "cdf_dir = 'experiments/swiss_roll/config/exact_cmp.yaml' \n",
    "# cdf_dir = 'exact_cmp.yaml' \n",
    "\n",
    "with open(cdf_dir, \"r\") as f:\n",
    "    cfg = yaml.safe_load(f)\n",
    "\n",
    "cfg['model'].update(individuals=torch.tensor(xs).float(),\n",
    "                    extended_bags_values=torch.tensor(ys).float(),\n",
    "                    bags_values=torch.tensor(ys2).float(),\n",
    "                    aggregate_targets=torch.tensor(zs).float(),\n",
    "                    bags_sizes=len(ys2))\n",
    "model = build_model(cfg['model'])"
   ]
  },
  {
   "cell_type": "code",
   "execution_count": 7,
   "metadata": {},
   "outputs": [],
   "source": [
    "groundtruth_individuals = torch.tensor(np.linspace(a,b,100)).float()\n",
    "\n",
    "cfg['training'].update(model=model,\n",
    "                    individuals=torch.tensor(xs).float(),\n",
    "                    extended_bags_values=torch.tensor(ys).float(),\n",
    "                    bags_values=torch.tensor(ys2).float(),\n",
    "                    aggregate_targets=torch.tensor(zs).float(),\n",
    "                    bags_sizes=len(ys2),\n",
    "                    groundtruth_individuals=groundtruth_individuals,\n",
    "                    groundtruth_bags_sizes=len(groundtruth_individuals),\n",
    "                    groundtruth_targets=func(groundtruth_individuals).float(),\n",
    "                    chunk_size=cfg['evaluation']['chunk_size_nll'],\n",
    "                    device_idx='cpu',\n",
    "                    dump_dir='result/'\n",
    "                    )\n",
    "train_model(cfg['training'])"
   ]
  },
  {
   "cell_type": "code",
   "execution_count": 8,
   "metadata": {},
   "outputs": [],
   "source": [
    "predict_kwargs = {'name': cfg['model']['name'],\n",
    "                'model': model.eval().cpu(),\n",
    "                'individuals': groundtruth_individuals,\n",
    "                'bags_sizes': func(groundtruth_individuals)}\n",
    "individuals_posterior = predict(predict_kwargs)\n",
    "individuals_posterior_mean = sigmaz * individuals_posterior.mean + muz\n",
    "with torch.no_grad():\n",
    "    stddev = sigmaz * individuals_posterior.stddev\n",
    "    lower_bound = individuals_posterior_mean - 2 * stddev\n",
    "    upper_bound = individuals_posterior_mean + 2 * stddev"
   ]
  },
  {
   "cell_type": "code",
   "execution_count": 9,
   "metadata": {},
   "outputs": [
    {
     "data": {
      "text/plain": [
       "tensor([ 1.1645,  1.1393,  1.0989,  1.0480,  0.9616,  0.8514,  0.7000,  0.5354,\n",
       "         0.3424,  0.1366, -0.0751, -0.2765, -0.4579, -0.6173, -0.7482, -0.8538,\n",
       "        -0.9287, -0.9644, -0.9917, -0.9910, -0.9882, -0.9812, -0.9872, -1.0050,\n",
       "        -1.0581, -1.1410, -1.2600, -1.4081, -1.5678, -1.7503, -1.9219, -2.0711,\n",
       "        -2.1875, -2.2555, -2.2779, -2.2450, -2.1642, -2.0436, -1.8831, -1.7053,\n",
       "        -1.5226, -1.3401, -1.1578, -0.9923, -0.8398, -0.6877, -0.5323, -0.3860,\n",
       "        -0.2290, -0.0463,  0.1530,  0.3712,  0.6028,  0.8398,  1.0702,  1.2986,\n",
       "         1.5013,  1.6826,  1.8378,  1.9547,  2.0357,  2.0904,  2.0998,  2.0904,\n",
       "         2.0514,  1.9919,  1.9161,  1.8340,  1.7331,  1.6442,  1.5605,  1.4726,\n",
       "         1.3982,  1.3381,  1.2706,  1.2188,  1.1632,  1.0999,  1.0199,  0.9287,\n",
       "         0.8236,  0.7013,  0.5880,  0.4601,  0.3477,  0.2407,  0.1437,  0.0600,\n",
       "        -0.0122, -0.0819, -0.1565, -0.2367, -0.3287, -0.4372, -0.5530, -0.6932,\n",
       "        -0.8316, -0.9608, -1.0832, -1.1766])"
      ]
     },
     "execution_count": 9,
     "metadata": {},
     "output_type": "execute_result"
    }
   ],
   "source": [
    "individuals_posterior.sample()"
   ]
  },
  {
   "cell_type": "code",
   "execution_count": 10,
   "metadata": {},
   "outputs": [
    {
     "data": {
      "text/plain": [
       "<matplotlib.legend.Legend at 0x29b3355e0>"
      ]
     },
     "execution_count": 10,
     "metadata": {},
     "output_type": "execute_result"
    },
    {
     "data": {
      "image/png": "[encoded data removed]",
      "text/plain": [
       "<Figure size 640x480 with 1 Axes>"
      ]
     },
     "metadata": {},
     "output_type": "display_data"
    }
   ],
   "source": [
    "plt.plot(groundtruth_individuals, individuals_posterior_mean, label = 'posterior mean', color='C0')\n",
    "plt.fill_between(groundtruth_individuals, lower_bound, upper_bound, alpha=0.3, color='C0')\n",
    "# plt.plot(groundtruth_individuals, (conf[1]-conf[0]).detach().numpy(), label = '2 * posterior std')\n",
    "plt.plot(groundtruth_individuals, func(groundtruth_individuals), label = 'f(x)', color='C1')\n",
    "# plt.plot(xs, f(xs), '.', label = 'data points')\n",
    "plt.legend()"
   ]
  },
  {
   "cell_type": "code",
   "execution_count": 11,
   "metadata": {},
   "outputs": [
    {
     "data": {
      "text/plain": [
       "tensor(-1.5758)"
      ]
     },
     "execution_count": 11,
     "metadata": {},
     "output_type": "execute_result"
    }
   ],
   "source": [
    "groundtruth_individuals[np.argmin(func(groundtruth_individuals))]"
   ]
  },
  {
   "cell_type": "code",
   "execution_count": 12,
   "metadata": {},
   "outputs": [
    {
     "data": {
      "text/plain": [
       "tensor(-1.4949)"
      ]
     },
     "execution_count": 12,
     "metadata": {},
     "output_type": "execute_result"
    }
   ],
   "source": [
    "groundtruth_individuals[np.argmin(individuals_posterior_mean)]"
   ]
  },
  {
   "cell_type": "code",
   "execution_count": 13,
   "metadata": {},
   "outputs": [
    {
     "name": "stderr",
     "output_type": "stream",
     "text": [
      "Failed to detect the name of this notebook, you can set it manually with the WANDB_NOTEBOOK_NAME environment variable to enable code saving.\n",
      "\u001b[34m\u001b[1mwandb\u001b[0m: Currently logged in as: \u001b[33mmengyan-zhang\u001b[0m (\u001b[33moxmlgh\u001b[0m). Use \u001b[1m`wandb login --relogin`\u001b[0m to force relogin\n"
     ]
    },
    {
     "data": {
      "text/html": [
       "Tracking run with wandb version 0.16.2"
      ],
      "text/plain": [
       "<IPython.core.display.HTML object>"
      ]
     },
     "metadata": {},
     "output_type": "display_data"
    },
    {
     "data": {
      "text/html": [
       "Run data is saved locally in <code>/Users/menang/Documents/deconditional-downscaling/wandb/run-20240203_123715-ra9mnaqv</code>"
      ],
      "text/plain": [
       "<IPython.core.display.HTML object>"
      ]
     },
     "metadata": {},
     "output_type": "display_data"
    },
    {
     "data": {
      "text/html": [
       "Syncing run <strong><a href='https://wandb.ai/oxmlgh/bodd/runs/ra9mnaqv' target=\"_blank\">young-salad-4</a></strong> to <a href='https://wandb.ai/oxmlgh/bodd' target=\"_blank\">Weights & Biases</a> (<a href='https://wandb.me/run' target=\"_blank\">docs</a>)<br/>"
      ],
      "text/plain": [
       "<IPython.core.display.HTML object>"
      ]
     },
     "metadata": {},
     "output_type": "display_data"
    },
    {
     "data": {
      "text/html": [
       " View project at <a href='https://wandb.ai/oxmlgh/bodd' target=\"_blank\">https://wandb.ai/oxmlgh/bodd</a>"
      ],
      "text/plain": [
       "<IPython.core.display.HTML object>"
      ]
     },
     "metadata": {},
     "output_type": "display_data"
    },
    {
     "data": {
      "text/html": [
       " View run at <a href='https://wandb.ai/oxmlgh/bodd/runs/ra9mnaqv' target=\"_blank\">https://wandb.ai/oxmlgh/bodd/runs/ra9mnaqv</a>"
      ],
      "text/plain": [
       "<IPython.core.display.HTML object>"
      ]
     },
     "metadata": {},
     "output_type": "display_data"
    },
    {
     "data": {
      "text/html": [
       "<button onClick=\"this.nextSibling.style.display='block';this.style.display='none';\">Display W&B run</button><iframe src='https://wandb.ai/oxmlgh/bodd/runs/ra9mnaqv?jupyter=true' style='border:none;width:100%;height:420px;display:none;'></iframe>"
      ],
      "text/plain": [
       "<wandb.sdk.wandb_run.Run at 0x17596ab80>"
      ]
     },
     "execution_count": 13,
     "metadata": {},
     "output_type": "execute_result"
    }
   ],
   "source": [
    "from BO import BayesOpt_UCB, BayesOpt_Random, PES\n",
    "\n",
    "x_space = torch.tensor(np.linspace(a,b,100)).float() # np.linspace(1e-5,1-1e-5,100)\n",
    "y_space = torch.tensor(np.linspace(a,b,100)).float() # np.linspace(1e-5,1-1e-5,100)\n",
    "init_y_size = 3\n",
    "num_round = 20\n",
    "num_repeat = 5\n",
    "random_seeds = np.random.uniform(0,100, num_repeat)\n",
    "\n",
    "pos_best_dict = {}\n",
    "\n",
    "xs = torch.from_numpy(xs).float()\n",
    "ys = torch.from_numpy(ys).float()"
   ]
  },
  {
   "cell_type": "code",
   "execution_count": 14,
   "metadata": {},
   "outputs": [
    {
     "name": "stderr",
     "output_type": "stream",
     "text": [
      "  0%|          | 0/5 [00:00<?, ?it/s]"
     ]
    },
    {
     "name": "stdout",
     "output_type": "stream",
     "text": [
      "[ 2.17056515 -3.83398441  1.06918588]\n"
     ]
    },
    {
     "name": "stderr",
     "output_type": "stream",
     "text": []
    },
    {
     "name": "stdout",
     "output_type": "stream",
     "text": [
      "x_opt  tensor([-3.3535])\n",
      "tensor([3.2115, 2.5982, 3.2771])\n",
      "x_opt  tensor([-3.9192])\n",
      "tensor([3.2115, 2.5982, 3.2771])\n",
      "x_opt  tensor([-3.7576])\n",
      "tensor([3.2115, 2.5982, 3.2771])\n",
      "x_opt  tensor([-3.9192])\n",
      "tensor([3.2115, 2.5982, 3.2771])\n",
      "x_opt  tensor([-3.1919])\n",
      "tensor([3.2115, 2.5982, 3.2771])\n",
      "x_opt  tensor([-2.9495])\n",
      "tensor([3.2115, 2.5982, 3.2771])\n",
      "x_opt  tensor([-3.2727])\n",
      "tensor([3.2115, 2.5982, 3.2771])\n",
      "x_opt  tensor([-3.6768])\n",
      "tensor([3.2115, 2.5982, 3.2771])\n",
      "x_opt  tensor([-3.2727])\n",
      "tensor([3.2115, 2.5982, 3.2771])\n",
      "x_opt  tensor([-4.])\n",
      "tensor([3.2115, 2.5982, 3.2771])\n"
     ]
    },
    {
     "name": "stderr",
     "output_type": "stream",
     "text": []
    },
    {
     "name": "stdout",
     "output_type": "stream",
     "text": [
      "Iteration 1: Elapsed Time: 4.208161115646362 seconds\n",
      "x_opt  tensor([3.7576])\n",
      "tensor([ 3.2115,  2.5982,  3.2771, -3.5237])\n",
      "x_opt  tensor([3.4343])\n",
      "tensor([ 3.2115,  2.5982,  3.2771, -3.5237])\n",
      "x_opt  tensor([3.2727])\n",
      "tensor([ 3.2115,  2.5982,  3.2771, -3.5237])\n",
      "x_opt  tensor([4.])\n",
      "tensor([ 3.2115,  2.5982,  3.2771, -3.5237])\n",
      "x_opt  tensor([4.])\n",
      "tensor([ 3.2115,  2.5982,  3.2771, -3.5237])\n",
      "x_opt  tensor([-0.0404])\n",
      "tensor([ 3.2115,  2.5982,  3.2771, -3.5237])\n",
      "x_opt  tensor([3.6768])\n",
      "tensor([ 3.2115,  2.5982,  3.2771, -3.5237])\n",
      "x_opt  tensor([4.])\n",
      "tensor([ 3.2115,  2.5982,  3.2771, -3.5237])\n",
      "x_opt  tensor([3.5152])\n"
     ]
    },
    {
     "name": "stderr",
     "output_type": "stream",
     "text": []
    },
    {
     "name": "stdout",
     "output_type": "stream",
     "text": [
      "tensor([ 3.2115,  2.5982,  3.2771, -3.5237])\n",
      "x_opt  tensor([3.7576])\n",
      "tensor([ 3.2115,  2.5982,  3.2771, -3.5237])\n",
      "Iteration 2: Elapsed Time: 3.92558217048645 seconds\n",
      "x_opt  tensor([4.])\n",
      "tensor([ 3.2115,  2.5982,  3.2771, -3.5237, -3.4086])\n",
      "x_opt  tensor([0.2828])\n",
      "tensor([ 3.2115,  2.5982,  3.2771, -3.5237, -3.4086])\n",
      "x_opt  tensor([-1.0101])\n",
      "tensor([ 3.2115,  2.5982,  3.2771, -3.5237, -3.4086])\n",
      "x_opt  tensor([-1.9798])\n",
      "tensor([ 3.2115,  2.5982,  3.2771, -3.5237, -3.4086])\n",
      "x_opt  tensor([-0.9293])\n",
      "tensor([ 3.2115,  2.5982,  3.2771, -3.5237, -3.4086])\n",
      "x_opt  tensor([-1.2525])\n",
      "tensor([ 3.2115,  2.5982,  3.2771, -3.5237, -3.4086])\n",
      "x_opt  tensor([4.])\n",
      "tensor([ 3.2115,  2.5982,  3.2771, -3.5237, -3.4086])\n",
      "x_opt  tensor([3.7576])\n",
      "tensor([ 3.2115,  2.5982,  3.2771, -3.5237, -3.4086])\n",
      "x_opt  tensor([-1.0101])\n",
      "tensor([ 3.2115,  2.5982,  3.2771, -3.5237, -3.4086])\n"
     ]
    },
    {
     "name": "stderr",
     "output_type": "stream",
     "text": []
    },
    {
     "name": "stdout",
     "output_type": "stream",
     "text": [
      "x_opt  tensor([-1.8990])\n",
      "tensor([ 3.2115,  2.5982,  3.2771, -3.5237, -3.4086])\n",
      "Iteration 3: Elapsed Time: 3.4321157932281494 seconds\n",
      "x_opt  tensor([-1.6566])\n",
      "tensor([ 3.2115,  2.5982,  3.2771, -3.5237, -3.4086, -3.4119])\n",
      "x_opt  tensor([-1.4949])\n",
      "tensor([ 3.2115,  2.5982,  3.2771, -3.5237, -3.4086, -3.4119])\n",
      "x_opt  tensor([-2.1414])\n",
      "tensor([ 3.2115,  2.5982,  3.2771, -3.5237, -3.4086, -3.4119])\n",
      "x_opt  tensor([4.])\n",
      "tensor([ 3.2115,  2.5982,  3.2771, -3.5237, -3.4086, -3.4119])\n",
      "x_opt  tensor([-2.0606])\n",
      "tensor([ 3.2115,  2.5982,  3.2771, -3.5237, -3.4086, -3.4119])\n",
      "x_opt  tensor([-1.4949])\n",
      "tensor([ 3.2115,  2.5982,  3.2771, -3.5237, -3.4086, -3.4119])\n",
      "x_opt  tensor([-1.4949])\n",
      "tensor([ 3.2115,  2.5982,  3.2771, -3.5237, -3.4086, -3.4119])\n",
      "x_opt  tensor([-0.8485])\n",
      "tensor([ 3.2115,  2.5982,  3.2771, -3.5237, -3.4086, -3.4119])\n",
      "x_opt  tensor([-1.5758])\n",
      "tensor([ 3.2115,  2.5982,  3.2771, -3.5237, -3.4086, -3.4119])\n"
     ]
    },
    {
     "name": "stderr",
     "output_type": "stream",
     "text": []
    },
    {
     "name": "stdout",
     "output_type": "stream",
     "text": [
      "x_opt  tensor([-1.2525])\n",
      "tensor([ 3.2115,  2.5982,  3.2771, -3.5237, -3.4086, -3.4119])\n",
      "Iteration 4: Elapsed Time: 3.7580888271331787 seconds\n",
      "x_opt  tensor([-1.2525])\n",
      "tensor([ 3.2115,  2.5982,  3.2771, -3.5237, -3.4086, -3.4119, -3.4369])\n",
      "x_opt  tensor([-1.8182])\n",
      "tensor([ 3.2115,  2.5982,  3.2771, -3.5237, -3.4086, -3.4119, -3.4369])\n",
      "x_opt  tensor([-0.2828])\n",
      "tensor([ 3.2115,  2.5982,  3.2771, -3.5237, -3.4086, -3.4119, -3.4369])\n",
      "x_opt  tensor([-1.5758])\n",
      "tensor([ 3.2115,  2.5982,  3.2771, -3.5237, -3.4086, -3.4119, -3.4369])\n",
      "x_opt  tensor([-0.6061])\n",
      "tensor([ 3.2115,  2.5982,  3.2771, -3.5237, -3.4086, -3.4119, -3.4369])\n",
      "x_opt  tensor([-1.2525])\n",
      "tensor([ 3.2115,  2.5982,  3.2771, -3.5237, -3.4086, -3.4119, -3.4369])\n",
      "x_opt  tensor([-1.2525])\n",
      "tensor([ 3.2115,  2.5982,  3.2771, -3.5237, -3.4086, -3.4119, -3.4369])\n",
      "x_opt  tensor([-1.0909])\n",
      "tensor([ 3.2115,  2.5982,  3.2771, -3.5237, -3.4086, -3.4119, -3.4369])\n",
      "x_opt  tensor([-1.2525])\n",
      "tensor([ 3.2115,  2.5982,  3.2771, -3.5237, -3.4086, -3.4119, -3.4369])\n"
     ]
    },
    {
     "name": "stderr",
     "output_type": "stream",
     "text": []
    },
    {
     "name": "stdout",
     "output_type": "stream",
     "text": [
      "x_opt  tensor([-0.6061])\n",
      "tensor([ 3.2115,  2.5982,  3.2771, -3.5237, -3.4086, -3.4119, -3.4369])\n",
      "Iteration 5: Elapsed Time: 3.8585948944091797 seconds\n",
      "x_opt  tensor([-1.4141])\n",
      "tensor([ 3.2115,  2.5982,  3.2771, -3.5237, -3.4086, -3.4119, -3.4369, -2.1066])\n",
      "x_opt  tensor([-1.8990])\n",
      "tensor([ 3.2115,  2.5982,  3.2771, -3.5237, -3.4086, -3.4119, -3.4369, -2.1066])\n",
      "x_opt  tensor([-1.5758])\n",
      "tensor([ 3.2115,  2.5982,  3.2771, -3.5237, -3.4086, -3.4119, -3.4369, -2.1066])\n",
      "x_opt  tensor([-2.1414])\n",
      "tensor([ 3.2115,  2.5982,  3.2771, -3.5237, -3.4086, -3.4119, -3.4369, -2.1066])\n",
      "x_opt  tensor([-1.5758])\n",
      "tensor([ 3.2115,  2.5982,  3.2771, -3.5237, -3.4086, -3.4119, -3.4369, -2.1066])\n",
      "x_opt  tensor([-1.4141])\n",
      "tensor([ 3.2115,  2.5982,  3.2771, -3.5237, -3.4086, -3.4119, -3.4369, -2.1066])\n",
      "x_opt  tensor([-2.2222])\n",
      "tensor([ 3.2115,  2.5982,  3.2771, -3.5237, -3.4086, -3.4119, -3.4369, -2.1066])\n",
      "x_opt  tensor([-1.5758])\n",
      "tensor([ 3.2115,  2.5982,  3.2771, -3.5237, -3.4086, -3.4119, -3.4369, -2.1066])\n",
      "x_opt  tensor([-1.4949])\n",
      "tensor([ 3.2115,  2.5982,  3.2771, -3.5237, -3.4086, -3.4119, -3.4369, -2.1066])\n",
      "x_opt  tensor([-2.0606])\n",
      "tensor([ 3.2115,  2.5982,  3.2771, -3.5237, -3.4086, -3.4119, -3.4369, -2.1066])\n"
     ]
    },
    {
     "name": "stderr",
     "output_type": "stream",
     "text": []
    },
    {
     "name": "stdout",
     "output_type": "stream",
     "text": [
      "Iteration 6: Elapsed Time: 3.944905996322632 seconds\n",
      "x_opt  tensor([-1.2525])\n",
      "tensor([ 3.2115,  2.5982,  3.2771, -3.5237, -3.4086, -3.4119, -3.4369, -2.1066,\n",
      "         2.5680])\n",
      "x_opt  tensor([-0.6869])\n",
      "tensor([ 3.2115,  2.5982,  3.2771, -3.5237, -3.4086, -3.4119, -3.4369, -2.1066,\n",
      "         2.5680])\n",
      "x_opt  tensor([-2.0606])\n",
      "tensor([ 3.2115,  2.5982,  3.2771, -3.5237, -3.4086, -3.4119, -3.4369, -2.1066,\n",
      "         2.5680])\n",
      "x_opt  tensor([-1.8990])\n",
      "tensor([ 3.2115,  2.5982,  3.2771, -3.5237, -3.4086, -3.4119, -3.4369, -2.1066,\n",
      "         2.5680])\n",
      "x_opt  tensor([-2.1414])\n",
      "tensor([ 3.2115,  2.5982,  3.2771, -3.5237, -3.4086, -3.4119, -3.4369, -2.1066,\n",
      "         2.5680])\n",
      "x_opt  tensor([-1.2525])\n",
      "tensor([ 3.2115,  2.5982,  3.2771, -3.5237, -3.4086, -3.4119, -3.4369, -2.1066,\n",
      "         2.5680])\n",
      "x_opt  tensor([-2.1414])\n",
      "tensor([ 3.2115,  2.5982,  3.2771, -3.5237, -3.4086, -3.4119, -3.4369, -2.1066,\n",
      "         2.5680])\n",
      "x_opt  tensor([-1.6566])\n",
      "tensor([ 3.2115,  2.5982,  3.2771, -3.5237, -3.4086, -3.4119, -3.4369, -2.1066,\n",
      "         2.5680])\n",
      "x_opt  tensor([-1.5758])\n"
     ]
    },
    {
     "name": "stderr",
     "output_type": "stream",
     "text": [
      "\n",
      " 41%|████      | 7/17 [00:27<00:38,  3.88s/it]"
     ]
    },
    {
     "name": "stdout",
     "output_type": "stream",
     "text": [
      "tensor([ 3.2115,  2.5982,  3.2771, -3.5237, -3.4086, -3.4119, -3.4369, -2.1066,\n",
      "         2.5680])\n",
      "x_opt  tensor([-1.4949])\n",
      "tensor([ 3.2115,  2.5982,  3.2771, -3.5237, -3.4086, -3.4119, -3.4369, -2.1066,\n",
      "         2.5680])\n",
      "Iteration 7: Elapsed Time: 3.9306046962738037 seconds\n"
     ]
    },
    {
     "name": "stderr",
     "output_type": "stream",
     "text": [
      "\u001b[A"
     ]
    },
    {
     "name": "stdout",
     "output_type": "stream",
     "text": [
      "x_opt  tensor([4.])\n",
      "tensor([ 3.2115,  2.5982,  3.2771, -3.5237, -3.4086, -3.4119, -3.4369, -2.1066,\n",
      "         2.5680, -3.4578])\n",
      "x_opt  tensor([0.2020])\n",
      "tensor([ 3.2115,  2.5982,  3.2771, -3.5237, -3.4086, -3.4119, -3.4369, -2.1066,\n",
      "         2.5680, -3.4578])\n",
      "x_opt  tensor([-1.4141])\n",
      "tensor([ 3.2115,  2.5982,  3.2771, -3.5237, -3.4086, -3.4119, -3.4369, -2.1066,\n",
      "         2.5680, -3.4578])\n",
      "x_opt  tensor([-1.8990])\n",
      "tensor([ 3.2115,  2.5982,  3.2771, -3.5237, -3.4086, -3.4119, -3.4369, -2.1066,\n",
      "         2.5680, -3.4578])\n",
      "x_opt  tensor([-1.7374])\n",
      "tensor([ 3.2115,  2.5982,  3.2771, -3.5237, -3.4086, -3.4119, -3.4369, -2.1066,\n",
      "         2.5680, -3.4578])\n",
      "x_opt  tensor([-1.2525])\n",
      "tensor([ 3.2115,  2.5982,  3.2771, -3.5237, -3.4086, -3.4119, -3.4369, -2.1066,\n",
      "         2.5680, -3.4578])\n",
      "x_opt  tensor([4.])\n",
      "tensor([ 3.2115,  2.5982,  3.2771, -3.5237, -3.4086, -3.4119, -3.4369, -2.1066,\n",
      "         2.5680, -3.4578])\n",
      "x_opt  tensor([-1.0101])\n",
      "tensor([ 3.2115,  2.5982,  3.2771, -3.5237, -3.4086, -3.4119, -3.4369, -2.1066,\n",
      "         2.5680, -3.4578])\n",
      "x_opt  tensor([-2.0606])\n",
      "tensor([ 3.2115,  2.5982,  3.2771, -3.5237, -3.4086, -3.4119, -3.4369, -2.1066,\n",
      "         2.5680, -3.4578])\n",
      "x_opt  tensor([-1.6566])\n",
      "tensor([ 3.2115,  2.5982,  3.2771, -3.5237, -3.4086, -3.4119, -3.4369, -2.1066,\n",
      "         2.5680, -3.4578])\n"
     ]
    },
    {
     "name": "stderr",
     "output_type": "stream",
     "text": []
    },
    {
     "name": "stdout",
     "output_type": "stream",
     "text": [
      "Iteration 8: Elapsed Time: 4.181324005126953 seconds\n",
      "x_opt  tensor([4.])\n",
      "tensor([ 3.2115,  2.5982,  3.2771, -3.5237, -3.4086, -3.4119, -3.4369, -2.1066,\n",
      "         2.5680, -3.4578, -3.3141])\n",
      "x_opt  tensor([-1.5758])\n",
      "tensor([ 3.2115,  2.5982,  3.2771, -3.5237, -3.4086, -3.4119, -3.4369, -2.1066,\n",
      "         2.5680, -3.4578, -3.3141])\n",
      "x_opt  tensor([-1.4141])\n",
      "tensor([ 3.2115,  2.5982,  3.2771, -3.5237, -3.4086, -3.4119, -3.4369, -2.1066,\n",
      "         2.5680, -3.4578, -3.3141])\n",
      "x_opt  tensor([-1.0101])\n",
      "tensor([ 3.2115,  2.5982,  3.2771, -3.5237, -3.4086, -3.4119, -3.4369, -2.1066,\n",
      "         2.5680, -3.4578, -3.3141])\n",
      "x_opt  tensor([-1.4141])\n",
      "tensor([ 3.2115,  2.5982,  3.2771, -3.5237, -3.4086, -3.4119, -3.4369, -2.1066,\n",
      "         2.5680, -3.4578, -3.3141])\n",
      "x_opt  tensor([-1.4141])\n",
      "tensor([ 3.2115,  2.5982,  3.2771, -3.5237, -3.4086, -3.4119, -3.4369, -2.1066,\n",
      "         2.5680, -3.4578, -3.3141])\n",
      "x_opt  tensor([-1.6566])\n",
      "tensor([ 3.2115,  2.5982,  3.2771, -3.5237, -3.4086, -3.4119, -3.4369, -2.1066,\n",
      "         2.5680, -3.4578, -3.3141])\n",
      "x_opt  tensor([-1.4141])\n",
      "tensor([ 3.2115,  2.5982,  3.2771, -3.5237, -3.4086, -3.4119, -3.4369, -2.1066,\n",
      "         2.5680, -3.4578, -3.3141])\n",
      "x_opt  tensor([-1.6566])\n",
      "tensor([ 3.2115,  2.5982,  3.2771, -3.5237, -3.4086, -3.4119, -3.4369, -2.1066,\n",
      "         2.5680, -3.4578, -3.3141])\n",
      "x_opt  tensor([-1.8182])\n",
      "tensor([ 3.2115,  2.5982,  3.2771, -3.5237, -3.4086, -3.4119, -3.4369, -2.1066,\n",
      "         2.5680, -3.4578, -3.3141])\n"
     ]
    },
    {
     "name": "stderr",
     "output_type": "stream",
     "text": []
    },
    {
     "name": "stdout",
     "output_type": "stream",
     "text": [
      "Iteration 9: Elapsed Time: 3.58841609954834 seconds\n",
      "x_opt  tensor([3.2727])\n",
      "tensor([ 3.2115,  2.5982,  3.2771, -3.5237, -3.4086, -3.4119, -3.4369, -2.1066,\n",
      "         2.5680, -3.4578, -3.3141,  2.5068])\n",
      "x_opt  tensor([-1.2525])\n",
      "tensor([ 3.2115,  2.5982,  3.2771, -3.5237, -3.4086, -3.4119, -3.4369, -2.1066,\n",
      "         2.5680, -3.4578, -3.3141,  2.5068])\n",
      "x_opt  tensor([-1.2525])\n",
      "tensor([ 3.2115,  2.5982,  3.2771, -3.5237, -3.4086, -3.4119, -3.4369, -2.1066,\n",
      "         2.5680, -3.4578, -3.3141,  2.5068])\n",
      "x_opt  tensor([-2.0606])\n",
      "tensor([ 3.2115,  2.5982,  3.2771, -3.5237, -3.4086, -3.4119, -3.4369, -2.1066,\n",
      "         2.5680, -3.4578, -3.3141,  2.5068])\n",
      "x_opt  tensor([-1.4949])\n",
      "tensor([ 3.2115,  2.5982,  3.2771, -3.5237, -3.4086, -3.4119, -3.4369, -2.1066,\n",
      "         2.5680, -3.4578, -3.3141,  2.5068])\n",
      "x_opt  tensor([-1.0101])\n",
      "tensor([ 3.2115,  2.5982,  3.2771, -3.5237, -3.4086, -3.4119, -3.4369, -2.1066,\n",
      "         2.5680, -3.4578, -3.3141,  2.5068])\n",
      "x_opt  tensor([-0.8485])\n",
      "tensor([ 3.2115,  2.5982,  3.2771, -3.5237, -3.4086, -3.4119, -3.4369, -2.1066,\n",
      "         2.5680, -3.4578, -3.3141,  2.5068])\n",
      "x_opt  tensor([-0.9293])\n",
      "tensor([ 3.2115,  2.5982,  3.2771, -3.5237, -3.4086, -3.4119, -3.4369, -2.1066,\n",
      "         2.5680, -3.4578, -3.3141,  2.5068])\n",
      "x_opt  tensor([-1.0909])\n",
      "tensor([ 3.2115,  2.5982,  3.2771, -3.5237, -3.4086, -3.4119, -3.4369, -2.1066,\n",
      "         2.5680, -3.4578, -3.3141,  2.5068])\n",
      "x_opt  tensor([-1.5758])\n",
      "tensor([ 3.2115,  2.5982,  3.2771, -3.5237, -3.4086, -3.4119, -3.4369, -2.1066,\n",
      "         2.5680, -3.4578, -3.3141,  2.5068])\n"
     ]
    },
    {
     "name": "stderr",
     "output_type": "stream",
     "text": []
    },
    {
     "name": "stdout",
     "output_type": "stream",
     "text": [
      "Iteration 10: Elapsed Time: 3.6421687602996826 seconds\n",
      "x_opt  tensor([-1.4141])\n",
      "tensor([ 3.2115,  2.5982,  3.2771, -3.5237, -3.4086, -3.4119, -3.4369, -2.1066,\n",
      "         2.5680, -3.4578, -3.3141,  2.5068, -3.4161])\n",
      "x_opt  tensor([-2.1414])\n",
      "tensor([ 3.2115,  2.5982,  3.2771, -3.5237, -3.4086, -3.4119, -3.4369, -2.1066,\n",
      "         2.5680, -3.4578, -3.3141,  2.5068, -3.4161])\n",
      "x_opt  tensor([-0.7677])\n",
      "tensor([ 3.2115,  2.5982,  3.2771, -3.5237, -3.4086, -3.4119, -3.4369, -2.1066,\n",
      "         2.5680, -3.4578, -3.3141,  2.5068, -3.4161])\n",
      "x_opt  tensor([-1.1717])\n",
      "tensor([ 3.2115,  2.5982,  3.2771, -3.5237, -3.4086, -3.4119, -3.4369, -2.1066,\n",
      "         2.5680, -3.4578, -3.3141,  2.5068, -3.4161])\n",
      "x_opt  tensor([-2.0606])\n",
      "tensor([ 3.2115,  2.5982,  3.2771, -3.5237, -3.4086, -3.4119, -3.4369, -2.1066,\n",
      "         2.5680, -3.4578, -3.3141,  2.5068, -3.4161])\n",
      "x_opt  tensor([-1.1717])\n",
      "tensor([ 3.2115,  2.5982,  3.2771, -3.5237, -3.4086, -3.4119, -3.4369, -2.1066,\n",
      "         2.5680, -3.4578, -3.3141,  2.5068, -3.4161])\n",
      "x_opt  tensor([-1.6566])\n",
      "tensor([ 3.2115,  2.5982,  3.2771, -3.5237, -3.4086, -3.4119, -3.4369, -2.1066,\n",
      "         2.5680, -3.4578, -3.3141,  2.5068, -3.4161])\n",
      "x_opt  tensor([4.])\n",
      "tensor([ 3.2115,  2.5982,  3.2771, -3.5237, -3.4086, -3.4119, -3.4369, -2.1066,\n",
      "         2.5680, -3.4578, -3.3141,  2.5068, -3.4161])\n",
      "x_opt  tensor([-0.6061])\n",
      "tensor([ 3.2115,  2.5982,  3.2771, -3.5237, -3.4086, -3.4119, -3.4369, -2.1066,\n",
      "         2.5680, -3.4578, -3.3141,  2.5068, -3.4161])\n",
      "x_opt  tensor([-1.6566])\n"
     ]
    },
    {
     "name": "stderr",
     "output_type": "stream",
     "text": []
    },
    {
     "name": "stdout",
     "output_type": "stream",
     "text": [
      "tensor([ 3.2115,  2.5982,  3.2771, -3.5237, -3.4086, -3.4119, -3.4369, -2.1066,\n",
      "         2.5680, -3.4578, -3.3141,  2.5068, -3.4161])\n",
      "Iteration 11: Elapsed Time: 3.8559632301330566 seconds\n",
      "x_opt  tensor([-1.0909])\n",
      "tensor([ 3.2115,  2.5982,  3.2771, -3.5237, -3.4086, -3.4119, -3.4369, -2.1066,\n",
      "         2.5680, -3.4578, -3.3141,  2.5068, -3.4161, -3.4865])\n",
      "x_opt  tensor([-1.9798])\n",
      "tensor([ 3.2115,  2.5982,  3.2771, -3.5237, -3.4086, -3.4119, -3.4369, -2.1066,\n",
      "         2.5680, -3.4578, -3.3141,  2.5068, -3.4161, -3.4865])\n",
      "x_opt  tensor([-1.1717])\n",
      "tensor([ 3.2115,  2.5982,  3.2771, -3.5237, -3.4086, -3.4119, -3.4369, -2.1066,\n",
      "         2.5680, -3.4578, -3.3141,  2.5068, -3.4161, -3.4865])\n",
      "x_opt  tensor([4.])\n",
      "tensor([ 3.2115,  2.5982,  3.2771, -3.5237, -3.4086, -3.4119, -3.4369, -2.1066,\n",
      "         2.5680, -3.4578, -3.3141,  2.5068, -3.4161, -3.4865])\n",
      "x_opt  tensor([-1.4141])\n",
      "tensor([ 3.2115,  2.5982,  3.2771, -3.5237, -3.4086, -3.4119, -3.4369, -2.1066,\n",
      "         2.5680, -3.4578, -3.3141,  2.5068, -3.4161, -3.4865])\n",
      "x_opt  tensor([-1.8990])\n",
      "tensor([ 3.2115,  2.5982,  3.2771, -3.5237, -3.4086, -3.4119, -3.4369, -2.1066,\n",
      "         2.5680, -3.4578, -3.3141,  2.5068, -3.4161, -3.4865])\n",
      "x_opt  tensor([-0.3636])\n",
      "tensor([ 3.2115,  2.5982,  3.2771, -3.5237, -3.4086, -3.4119, -3.4369, -2.1066,\n",
      "         2.5680, -3.4578, -3.3141,  2.5068, -3.4161, -3.4865])\n",
      "x_opt  tensor([-1.4141])\n",
      "tensor([ 3.2115,  2.5982,  3.2771, -3.5237, -3.4086, -3.4119, -3.4369, -2.1066,\n",
      "         2.5680, -3.4578, -3.3141,  2.5068, -3.4161, -3.4865])\n",
      "x_opt  tensor([-2.1414])\n",
      "tensor([ 3.2115,  2.5982,  3.2771, -3.5237, -3.4086, -3.4119, -3.4369, -2.1066,\n",
      "         2.5680, -3.4578, -3.3141,  2.5068, -3.4161, -3.4865])\n",
      "x_opt  tensor([-1.9798])\n",
      "tensor([ 3.2115,  2.5982,  3.2771, -3.5237, -3.4086, -3.4119, -3.4369, -2.1066,\n",
      "         2.5680, -3.4578, -3.3141,  2.5068, -3.4161, -3.4865])\n"
     ]
    },
    {
     "name": "stderr",
     "output_type": "stream",
     "text": []
    },
    {
     "name": "stdout",
     "output_type": "stream",
     "text": [
      "Iteration 12: Elapsed Time: 3.753432035446167 seconds\n",
      "x_opt  tensor([-1.3333])\n",
      "tensor([ 3.2115,  2.5982,  3.2771, -3.5237, -3.4086, -3.4119, -3.4369, -2.1066,\n",
      "         2.5680, -3.4578, -3.3141,  2.5068, -3.4161, -3.4865, -3.4277])\n",
      "x_opt  tensor([-1.6566])\n",
      "tensor([ 3.2115,  2.5982,  3.2771, -3.5237, -3.4086, -3.4119, -3.4369, -2.1066,\n",
      "         2.5680, -3.4578, -3.3141,  2.5068, -3.4161, -3.4865, -3.4277])\n",
      "x_opt  tensor([-1.2525])\n",
      "tensor([ 3.2115,  2.5982,  3.2771, -3.5237, -3.4086, -3.4119, -3.4369, -2.1066,\n",
      "         2.5680, -3.4578, -3.3141,  2.5068, -3.4161, -3.4865, -3.4277])\n",
      "x_opt  tensor([-1.2525])\n",
      "tensor([ 3.2115,  2.5982,  3.2771, -3.5237, -3.4086, -3.4119, -3.4369, -2.1066,\n",
      "         2.5680, -3.4578, -3.3141,  2.5068, -3.4161, -3.4865, -3.4277])\n",
      "x_opt  tensor([-1.7374])\n",
      "tensor([ 3.2115,  2.5982,  3.2771, -3.5237, -3.4086, -3.4119, -3.4369, -2.1066,\n",
      "         2.5680, -3.4578, -3.3141,  2.5068, -3.4161, -3.4865, -3.4277])\n",
      "x_opt  tensor([-1.7374])\n",
      "tensor([ 3.2115,  2.5982,  3.2771, -3.5237, -3.4086, -3.4119, -3.4369, -2.1066,\n",
      "         2.5680, -3.4578, -3.3141,  2.5068, -3.4161, -3.4865, -3.4277])\n",
      "x_opt  tensor([-0.8485])\n",
      "tensor([ 3.2115,  2.5982,  3.2771, -3.5237, -3.4086, -3.4119, -3.4369, -2.1066,\n",
      "         2.5680, -3.4578, -3.3141,  2.5068, -3.4161, -3.4865, -3.4277])\n",
      "x_opt  tensor([-1.8182])\n",
      "tensor([ 3.2115,  2.5982,  3.2771, -3.5237, -3.4086, -3.4119, -3.4369, -2.1066,\n",
      "         2.5680, -3.4578, -3.3141,  2.5068, -3.4161, -3.4865, -3.4277])\n",
      "x_opt  tensor([-0.7677])\n",
      "tensor([ 3.2115,  2.5982,  3.2771, -3.5237, -3.4086, -3.4119, -3.4369, -2.1066,\n",
      "         2.5680, -3.4578, -3.3141,  2.5068, -3.4161, -3.4865, -3.4277])\n",
      "x_opt  tensor([4.])\n",
      "tensor([ 3.2115,  2.5982,  3.2771, -3.5237, -3.4086, -3.4119, -3.4369, -2.1066,\n",
      "         2.5680, -3.4578, -3.3141,  2.5068, -3.4161, -3.4865, -3.4277])\n"
     ]
    },
    {
     "name": "stderr",
     "output_type": "stream",
     "text": []
    },
    {
     "name": "stdout",
     "output_type": "stream",
     "text": [
      "Iteration 13: Elapsed Time: 3.8675060272216797 seconds\n",
      "x_opt  tensor([-1.4141])\n",
      "tensor([ 3.2115,  2.5982,  3.2771, -3.5237, -3.4086, -3.4119, -3.4369, -2.1066,\n",
      "         2.5680, -3.4578, -3.3141,  2.5068, -3.4161, -3.4865, -3.4277,  2.6095])\n",
      "x_opt  tensor([-0.6869])\n",
      "tensor([ 3.2115,  2.5982,  3.2771, -3.5237, -3.4086, -3.4119, -3.4369, -2.1066,\n",
      "         2.5680, -3.4578, -3.3141,  2.5068, -3.4161, -3.4865, -3.4277,  2.6095])\n",
      "x_opt  tensor([-1.7374])\n",
      "tensor([ 3.2115,  2.5982,  3.2771, -3.5237, -3.4086, -3.4119, -3.4369, -2.1066,\n",
      "         2.5680, -3.4578, -3.3141,  2.5068, -3.4161, -3.4865, -3.4277,  2.6095])\n",
      "x_opt  tensor([-1.1717])\n",
      "tensor([ 3.2115,  2.5982,  3.2771, -3.5237, -3.4086, -3.4119, -3.4369, -2.1066,\n",
      "         2.5680, -3.4578, -3.3141,  2.5068, -3.4161, -3.4865, -3.4277,  2.6095])\n",
      "x_opt  tensor([-1.3333])\n",
      "tensor([ 3.2115,  2.5982,  3.2771, -3.5237, -3.4086, -3.4119, -3.4369, -2.1066,\n",
      "         2.5680, -3.4578, -3.3141,  2.5068, -3.4161, -3.4865, -3.4277,  2.6095])\n",
      "x_opt  tensor([-1.8990])\n",
      "tensor([ 3.2115,  2.5982,  3.2771, -3.5237, -3.4086, -3.4119, -3.4369, -2.1066,\n",
      "         2.5680, -3.4578, -3.3141,  2.5068, -3.4161, -3.4865, -3.4277,  2.6095])\n",
      "x_opt  tensor([-2.5455])\n",
      "tensor([ 3.2115,  2.5982,  3.2771, -3.5237, -3.4086, -3.4119, -3.4369, -2.1066,\n",
      "         2.5680, -3.4578, -3.3141,  2.5068, -3.4161, -3.4865, -3.4277,  2.6095])\n",
      "x_opt  tensor([-1.4949])\n",
      "tensor([ 3.2115,  2.5982,  3.2771, -3.5237, -3.4086, -3.4119, -3.4369, -2.1066,\n",
      "         2.5680, -3.4578, -3.3141,  2.5068, -3.4161, -3.4865, -3.4277,  2.6095])\n",
      "x_opt  tensor([-1.2525])\n",
      "tensor([ 3.2115,  2.5982,  3.2771, -3.5237, -3.4086, -3.4119, -3.4369, -2.1066,\n",
      "         2.5680, -3.4578, -3.3141,  2.5068, -3.4161, -3.4865, -3.4277,  2.6095])\n",
      "x_opt  tensor([-1.4141])\n",
      "tensor([ 3.2115,  2.5982,  3.2771, -3.5237, -3.4086, -3.4119, -3.4369, -2.1066,\n",
      "         2.5680, -3.4578, -3.3141,  2.5068, -3.4161, -3.4865, -3.4277,  2.6095])\n"
     ]
    },
    {
     "name": "stderr",
     "output_type": "stream",
     "text": []
    },
    {
     "name": "stdout",
     "output_type": "stream",
     "text": [
      "Iteration 14: Elapsed Time: 3.992626905441284 seconds\n",
      "x_opt  tensor([-1.1717])\n",
      "tensor([ 3.2115,  2.5982,  3.2771, -3.5237, -3.4086, -3.4119, -3.4369, -2.1066,\n",
      "         2.5680, -3.4578, -3.3141,  2.5068, -3.4161, -3.4865, -3.4277,  2.6095,\n",
      "         2.3961])\n",
      "x_opt  tensor([-0.3636])\n",
      "tensor([ 3.2115,  2.5982,  3.2771, -3.5237, -3.4086, -3.4119, -3.4369, -2.1066,\n",
      "         2.5680, -3.4578, -3.3141,  2.5068, -3.4161, -3.4865, -3.4277,  2.6095,\n",
      "         2.3961])\n",
      "x_opt  tensor([-1.6566])\n",
      "tensor([ 3.2115,  2.5982,  3.2771, -3.5237, -3.4086, -3.4119, -3.4369, -2.1066,\n",
      "         2.5680, -3.4578, -3.3141,  2.5068, -3.4161, -3.4865, -3.4277,  2.6095,\n",
      "         2.3961])\n",
      "x_opt  tensor([-1.1717])\n",
      "tensor([ 3.2115,  2.5982,  3.2771, -3.5237, -3.4086, -3.4119, -3.4369, -2.1066,\n",
      "         2.5680, -3.4578, -3.3141,  2.5068, -3.4161, -3.4865, -3.4277,  2.6095,\n",
      "         2.3961])\n",
      "x_opt  tensor([-1.4141])\n",
      "tensor([ 3.2115,  2.5982,  3.2771, -3.5237, -3.4086, -3.4119, -3.4369, -2.1066,\n",
      "         2.5680, -3.4578, -3.3141,  2.5068, -3.4161, -3.4865, -3.4277,  2.6095,\n",
      "         2.3961])\n",
      "x_opt  tensor([-1.4949])\n",
      "tensor([ 3.2115,  2.5982,  3.2771, -3.5237, -3.4086, -3.4119, -3.4369, -2.1066,\n",
      "         2.5680, -3.4578, -3.3141,  2.5068, -3.4161, -3.4865, -3.4277,  2.6095,\n",
      "         2.3961])\n",
      "x_opt  tensor([-1.9798])\n",
      "tensor([ 3.2115,  2.5982,  3.2771, -3.5237, -3.4086, -3.4119, -3.4369, -2.1066,\n",
      "         2.5680, -3.4578, -3.3141,  2.5068, -3.4161, -3.4865, -3.4277,  2.6095,\n",
      "         2.3961])\n",
      "x_opt  tensor([-1.2525])\n",
      "tensor([ 3.2115,  2.5982,  3.2771, -3.5237, -3.4086, -3.4119, -3.4369, -2.1066,\n",
      "         2.5680, -3.4578, -3.3141,  2.5068, -3.4161, -3.4865, -3.4277,  2.6095,\n",
      "         2.3961])\n",
      "x_opt  tensor([-0.7677])\n",
      "tensor([ 3.2115,  2.5982,  3.2771, -3.5237, -3.4086, -3.4119, -3.4369, -2.1066,\n",
      "         2.5680, -3.4578, -3.3141,  2.5068, -3.4161, -3.4865, -3.4277,  2.6095,\n",
      "         2.3961])\n",
      "x_opt  tensor([-1.7374])\n",
      "tensor([ 3.2115,  2.5982,  3.2771, -3.5237, -3.4086, -3.4119, -3.4369, -2.1066,\n",
      "         2.5680, -3.4578, -3.3141,  2.5068, -3.4161, -3.4865, -3.4277,  2.6095,\n",
      "         2.3961])\n"
     ]
    },
    {
     "name": "stderr",
     "output_type": "stream",
     "text": []
    },
    {
     "name": "stdout",
     "output_type": "stream",
     "text": [
      "Iteration 15: Elapsed Time: 3.8920252323150635 seconds\n",
      "x_opt  tensor([-1.9798])\n",
      "tensor([ 3.2115,  2.5982,  3.2771, -3.5237, -3.4086, -3.4119, -3.4369, -2.1066,\n",
      "         2.5680, -3.4578, -3.3141,  2.5068, -3.4161, -3.4865, -3.4277,  2.6095,\n",
      "         2.3961,  2.3322])\n",
      "x_opt  tensor([-1.5758])\n",
      "tensor([ 3.2115,  2.5982,  3.2771, -3.5237, -3.4086, -3.4119, -3.4369, -2.1066,\n",
      "         2.5680, -3.4578, -3.3141,  2.5068, -3.4161, -3.4865, -3.4277,  2.6095,\n",
      "         2.3961,  2.3322])\n",
      "x_opt  tensor([-1.7374])\n",
      "tensor([ 3.2115,  2.5982,  3.2771, -3.5237, -3.4086, -3.4119, -3.4369, -2.1066,\n",
      "         2.5680, -3.4578, -3.3141,  2.5068, -3.4161, -3.4865, -3.4277,  2.6095,\n",
      "         2.3961,  2.3322])\n",
      "x_opt  tensor([-2.0606])\n",
      "tensor([ 3.2115,  2.5982,  3.2771, -3.5237, -3.4086, -3.4119, -3.4369, -2.1066,\n",
      "         2.5680, -3.4578, -3.3141,  2.5068, -3.4161, -3.4865, -3.4277,  2.6095,\n",
      "         2.3961,  2.3322])\n",
      "x_opt  tensor([-1.4949])\n",
      "tensor([ 3.2115,  2.5982,  3.2771, -3.5237, -3.4086, -3.4119, -3.4369, -2.1066,\n",
      "         2.5680, -3.4578, -3.3141,  2.5068, -3.4161, -3.4865, -3.4277,  2.6095,\n",
      "         2.3961,  2.3322])\n",
      "x_opt  tensor([-1.2525])\n",
      "tensor([ 3.2115,  2.5982,  3.2771, -3.5237, -3.4086, -3.4119, -3.4369, -2.1066,\n",
      "         2.5680, -3.4578, -3.3141,  2.5068, -3.4161, -3.4865, -3.4277,  2.6095,\n",
      "         2.3961,  2.3322])\n",
      "x_opt  tensor([-0.7677])\n",
      "tensor([ 3.2115,  2.5982,  3.2771, -3.5237, -3.4086, -3.4119, -3.4369, -2.1066,\n",
      "         2.5680, -3.4578, -3.3141,  2.5068, -3.4161, -3.4865, -3.4277,  2.6095,\n",
      "         2.3961,  2.3322])\n",
      "x_opt  tensor([-0.6869])\n",
      "tensor([ 3.2115,  2.5982,  3.2771, -3.5237, -3.4086, -3.4119, -3.4369, -2.1066,\n",
      "         2.5680, -3.4578, -3.3141,  2.5068, -3.4161, -3.4865, -3.4277,  2.6095,\n",
      "         2.3961,  2.3322])\n",
      "x_opt  tensor([-1.8182])\n",
      "tensor([ 3.2115,  2.5982,  3.2771, -3.5237, -3.4086, -3.4119, -3.4369, -2.1066,\n",
      "         2.5680, -3.4578, -3.3141,  2.5068, -3.4161, -3.4865, -3.4277,  2.6095,\n",
      "         2.3961,  2.3322])\n",
      "x_opt  tensor([-2.2222])\n",
      "tensor([ 3.2115,  2.5982,  3.2771, -3.5237, -3.4086, -3.4119, -3.4369, -2.1066,\n",
      "         2.5680, -3.4578, -3.3141,  2.5068, -3.4161, -3.4865, -3.4277,  2.6095,\n",
      "         2.3961,  2.3322])\n"
     ]
    },
    {
     "name": "stderr",
     "output_type": "stream",
     "text": []
    },
    {
     "name": "stdout",
     "output_type": "stream",
     "text": [
      "Iteration 16: Elapsed Time: 3.9167542457580566 seconds\n",
      "x_opt  tensor([-1.8990])\n",
      "tensor([ 3.2115,  2.5982,  3.2771, -3.5237, -3.4086, -3.4119, -3.4369, -2.1066,\n",
      "         2.5680, -3.4578, -3.3141,  2.5068, -3.4161, -3.4865, -3.4277,  2.6095,\n",
      "         2.3961,  2.3322, -3.5265])\n",
      "x_opt  tensor([-1.6566])\n",
      "tensor([ 3.2115,  2.5982,  3.2771, -3.5237, -3.4086, -3.4119, -3.4369, -2.1066,\n",
      "         2.5680, -3.4578, -3.3141,  2.5068, -3.4161, -3.4865, -3.4277,  2.6095,\n",
      "         2.3961,  2.3322, -3.5265])\n",
      "x_opt  tensor([-1.5758])\n",
      "tensor([ 3.2115,  2.5982,  3.2771, -3.5237, -3.4086, -3.4119, -3.4369, -2.1066,\n",
      "         2.5680, -3.4578, -3.3141,  2.5068, -3.4161, -3.4865, -3.4277,  2.6095,\n",
      "         2.3961,  2.3322, -3.5265])\n",
      "x_opt  tensor([-1.3333])\n",
      "tensor([ 3.2115,  2.5982,  3.2771, -3.5237, -3.4086, -3.4119, -3.4369, -2.1066,\n",
      "         2.5680, -3.4578, -3.3141,  2.5068, -3.4161, -3.4865, -3.4277,  2.6095,\n",
      "         2.3961,  2.3322, -3.5265])\n",
      "x_opt  tensor([-1.3333])\n",
      "tensor([ 3.2115,  2.5982,  3.2771, -3.5237, -3.4086, -3.4119, -3.4369, -2.1066,\n",
      "         2.5680, -3.4578, -3.3141,  2.5068, -3.4161, -3.4865, -3.4277,  2.6095,\n",
      "         2.3961,  2.3322, -3.5265])\n",
      "x_opt  tensor([-2.0606])\n",
      "tensor([ 3.2115,  2.5982,  3.2771, -3.5237, -3.4086, -3.4119, -3.4369, -2.1066,\n",
      "         2.5680, -3.4578, -3.3141,  2.5068, -3.4161, -3.4865, -3.4277,  2.6095,\n",
      "         2.3961,  2.3322, -3.5265])\n",
      "x_opt  tensor([-1.2525])\n",
      "tensor([ 3.2115,  2.5982,  3.2771, -3.5237, -3.4086, -3.4119, -3.4369, -2.1066,\n",
      "         2.5680, -3.4578, -3.3141,  2.5068, -3.4161, -3.4865, -3.4277,  2.6095,\n",
      "         2.3961,  2.3322, -3.5265])\n",
      "x_opt  tensor([-1.9798])\n",
      "tensor([ 3.2115,  2.5982,  3.2771, -3.5237, -3.4086, -3.4119, -3.4369, -2.1066,\n",
      "         2.5680, -3.4578, -3.3141,  2.5068, -3.4161, -3.4865, -3.4277,  2.6095,\n",
      "         2.3961,  2.3322, -3.5265])\n",
      "x_opt  tensor([-1.6566])\n",
      "tensor([ 3.2115,  2.5982,  3.2771, -3.5237, -3.4086, -3.4119, -3.4369, -2.1066,\n",
      "         2.5680, -3.4578, -3.3141,  2.5068, -3.4161, -3.4865, -3.4277,  2.6095,\n",
      "         2.3961,  2.3322, -3.5265])\n",
      "x_opt  tensor([-1.6566])\n",
      "tensor([ 3.2115,  2.5982,  3.2771, -3.5237, -3.4086, -3.4119, -3.4369, -2.1066,\n",
      "         2.5680, -3.4578, -3.3141,  2.5068, -3.4161, -3.4865, -3.4277,  2.6095,\n",
      "         2.3961,  2.3322, -3.5265])\n"
     ]
    },
    {
     "name": "stderr",
     "output_type": "stream",
     "text": [
      "100%|██████████| 17/17 [01:05<00:00,  3.87s/it]"
     ]
    },
    {
     "name": "stdout",
     "output_type": "stream",
     "text": [
      "Iteration 17: Elapsed Time: 4.0696861743927 seconds\n"
     ]
    },
    {
     "name": "stderr",
     "output_type": "stream",
     "text": [
      "\n",
      " 20%|██        | 1/5 [01:06<04:24, 66.13s/it]"
     ]
    },
    {
     "name": "stdout",
     "output_type": "stream",
     "text": [
      "[-0.00244544 -1.95250293 -1.93519495]\n"
     ]
    },
    {
     "name": "stderr",
     "output_type": "stream",
     "text": []
    },
    {
     "name": "stdout",
     "output_type": "stream",
     "text": [
      "x_opt  tensor([4.])\n",
      "tensor([-0.7752, -3.9585, -3.9635])\n",
      "x_opt  tensor([3.6768])\n",
      "tensor([-0.7752, -3.9585, -3.9635])\n",
      "x_opt  tensor([-1.8990])\n",
      "tensor([-0.7752, -3.9585, -3.9635])\n",
      "x_opt  tensor([1.8182])\n",
      "tensor([-0.7752, -3.9585, -3.9635])\n",
      "x_opt  tensor([-2.7071])\n",
      "tensor([-0.7752, -3.9585, -3.9635])\n",
      "x_opt  tensor([-1.8182])\n",
      "tensor([-0.7752, -3.9585, -3.9635])\n",
      "x_opt  tensor([-4.])\n",
      "tensor([-0.7752, -3.9585, -3.9635])\n",
      "x_opt  tensor([-3.0303])\n",
      "tensor([-0.7752, -3.9585, -3.9635])\n"
     ]
    },
    {
     "name": "stderr",
     "output_type": "stream",
     "text": []
    },
    {
     "name": "stdout",
     "output_type": "stream",
     "text": [
      "x_opt  tensor([4.])\n",
      "tensor([-0.7752, -3.9585, -3.9635])\n",
      "x_opt  tensor([3.7576])\n",
      "tensor([-0.7752, -3.9585, -3.9635])\n",
      "Iteration 1: Elapsed Time: 3.444074869155884 seconds\n",
      "x_opt  tensor([-2.2222])\n",
      "tensor([-0.7752, -3.9585, -3.9635,  2.4265])\n",
      "x_opt  tensor([-1.2525])\n",
      "tensor([-0.7752, -3.9585, -3.9635,  2.4265])\n",
      "x_opt  tensor([-1.7374])\n",
      "tensor([-0.7752, -3.9585, -3.9635,  2.4265])\n",
      "x_opt  tensor([-2.1414])\n",
      "tensor([-0.7752, -3.9585, -3.9635,  2.4265])\n",
      "x_opt  tensor([-2.4646])\n",
      "tensor([-0.7752, -3.9585, -3.9635,  2.4265])\n",
      "x_opt  tensor([-1.8182])\n",
      "tensor([-0.7752, -3.9585, -3.9635,  2.4265])\n",
      "x_opt  tensor([2.1414])\n",
      "tensor([-0.7752, -3.9585, -3.9635,  2.4265])\n",
      "x_opt  tensor([-2.3030])\n",
      "tensor([-0.7752, -3.9585, -3.9635,  2.4265])\n",
      "x_opt  tensor([-2.0606])\n",
      "tensor([-0.7752, -3.9585, -3.9635,  2.4265])\n",
      "x_opt  tensor([-1.7374])\n",
      "tensor([-0.7752, -3.9585, -3.9635,  2.4265])\n"
     ]
    },
    {
     "name": "stderr",
     "output_type": "stream",
     "text": []
    },
    {
     "name": "stdout",
     "output_type": "stream",
     "text": [
      "Iteration 2: Elapsed Time: 3.488016128540039 seconds\n",
      "x_opt  tensor([-1.5758])\n",
      "tensor([-0.7752, -3.9585, -3.9635,  2.4265, -3.3823])\n",
      "x_opt  tensor([-1.8182])\n",
      "tensor([-0.7752, -3.9585, -3.9635,  2.4265, -3.3823])\n",
      "x_opt  tensor([-2.0606])\n",
      "tensor([-0.7752, -3.9585, -3.9635,  2.4265, -3.3823])\n",
      "x_opt  tensor([-1.8182])\n",
      "tensor([-0.7752, -3.9585, -3.9635,  2.4265, -3.3823])\n",
      "x_opt  tensor([-2.0606])\n",
      "tensor([-0.7752, -3.9585, -3.9635,  2.4265, -3.3823])\n",
      "x_opt  tensor([-2.2222])\n",
      "tensor([-0.7752, -3.9585, -3.9635,  2.4265, -3.3823])\n",
      "x_opt  tensor([-1.8990])\n",
      "tensor([-0.7752, -3.9585, -3.9635,  2.4265, -3.3823])\n",
      "x_opt  tensor([-2.1414])\n",
      "tensor([-0.7752, -3.9585, -3.9635,  2.4265, -3.3823])\n",
      "x_opt  tensor([-1.6566])\n",
      "tensor([-0.7752, -3.9585, -3.9635,  2.4265, -3.3823])\n"
     ]
    },
    {
     "name": "stderr",
     "output_type": "stream",
     "text": []
    },
    {
     "name": "stdout",
     "output_type": "stream",
     "text": [
      "x_opt  tensor([-1.8990])\n",
      "tensor([-0.7752, -3.9585, -3.9635,  2.4265, -3.3823])\n",
      "Iteration 3: Elapsed Time: 3.469568967819214 seconds\n",
      "x_opt  tensor([-2.2222])\n",
      "tensor([-0.7752, -3.9585, -3.9635,  2.4265, -3.3823,  3.8533])\n",
      "x_opt  tensor([-1.9798])\n",
      "tensor([-0.7752, -3.9585, -3.9635,  2.4265, -3.3823,  3.8533])\n",
      "x_opt  tensor([-1.8182])\n",
      "tensor([-0.7752, -3.9585, -3.9635,  2.4265, -3.3823,  3.8533])\n",
      "x_opt  tensor([-2.4646])\n",
      "tensor([-0.7752, -3.9585, -3.9635,  2.4265, -3.3823,  3.8533])\n",
      "x_opt  tensor([-2.3838])\n",
      "tensor([-0.7752, -3.9585, -3.9635,  2.4265, -3.3823,  3.8533])\n",
      "x_opt  tensor([-2.3030])\n",
      "tensor([-0.7752, -3.9585, -3.9635,  2.4265, -3.3823,  3.8533])\n",
      "x_opt  tensor([-1.1717])\n",
      "tensor([-0.7752, -3.9585, -3.9635,  2.4265, -3.3823,  3.8533])\n",
      "x_opt  tensor([-2.3030])\n",
      "tensor([-0.7752, -3.9585, -3.9635,  2.4265, -3.3823,  3.8533])\n",
      "x_opt  tensor([-1.8990])\n",
      "tensor([-0.7752, -3.9585, -3.9635,  2.4265, -3.3823,  3.8533])\n"
     ]
    },
    {
     "name": "stderr",
     "output_type": "stream",
     "text": []
    },
    {
     "name": "stdout",
     "output_type": "stream",
     "text": [
      "x_opt  tensor([-2.3838])\n",
      "tensor([-0.7752, -3.9585, -3.9635,  2.4265, -3.3823,  3.8533])\n",
      "Iteration 4: Elapsed Time: 3.5517163276672363 seconds\n",
      "x_opt  tensor([-1.4949])\n",
      "tensor([-0.7752, -3.9585, -3.9635,  2.4265, -3.3823,  3.8533, -0.6421])\n",
      "x_opt  tensor([-1.4949])\n",
      "tensor([-0.7752, -3.9585, -3.9635,  2.4265, -3.3823,  3.8533, -0.6421])\n",
      "x_opt  tensor([-1.8182])\n",
      "tensor([-0.7752, -3.9585, -3.9635,  2.4265, -3.3823,  3.8533, -0.6421])\n",
      "x_opt  tensor([-2.0606])\n",
      "tensor([-0.7752, -3.9585, -3.9635,  2.4265, -3.3823,  3.8533, -0.6421])\n",
      "x_opt  tensor([-2.0606])\n",
      "tensor([-0.7752, -3.9585, -3.9635,  2.4265, -3.3823,  3.8533, -0.6421])\n",
      "x_opt  tensor([-1.9798])\n",
      "tensor([-0.7752, -3.9585, -3.9635,  2.4265, -3.3823,  3.8533, -0.6421])\n",
      "x_opt  tensor([-1.0101])\n",
      "tensor([-0.7752, -3.9585, -3.9635,  2.4265, -3.3823,  3.8533, -0.6421])\n",
      "x_opt  tensor([-1.9798])\n",
      "tensor([-0.7752, -3.9585, -3.9635,  2.4265, -3.3823,  3.8533, -0.6421])\n",
      "x_opt  tensor([-2.0606])\n",
      "tensor([-0.7752, -3.9585, -3.9635,  2.4265, -3.3823,  3.8533, -0.6421])\n"
     ]
    },
    {
     "name": "stderr",
     "output_type": "stream",
     "text": []
    },
    {
     "name": "stdout",
     "output_type": "stream",
     "text": [
      "x_opt  tensor([4.])\n",
      "tensor([-0.7752, -3.9585, -3.9635,  2.4265, -3.3823,  3.8533, -0.6421])\n",
      "Iteration 5: Elapsed Time: 3.5815749168395996 seconds\n",
      "x_opt  tensor([-1.6566])\n",
      "tensor([-0.7752, -3.9585, -3.9635,  2.4265, -3.3823,  3.8533, -0.6421,  0.5292])\n",
      "x_opt  tensor([-1.9798])\n",
      "tensor([-0.7752, -3.9585, -3.9635,  2.4265, -3.3823,  3.8533, -0.6421,  0.5292])\n",
      "x_opt  tensor([-2.0606])\n",
      "tensor([-0.7752, -3.9585, -3.9635,  2.4265, -3.3823,  3.8533, -0.6421,  0.5292])\n",
      "x_opt  tensor([4.])\n",
      "tensor([-0.7752, -3.9585, -3.9635,  2.4265, -3.3823,  3.8533, -0.6421,  0.5292])\n",
      "x_opt  tensor([-1.8990])\n",
      "tensor([-0.7752, -3.9585, -3.9635,  2.4265, -3.3823,  3.8533, -0.6421,  0.5292])\n",
      "x_opt  tensor([-1.8990])\n",
      "tensor([-0.7752, -3.9585, -3.9635,  2.4265, -3.3823,  3.8533, -0.6421,  0.5292])\n",
      "x_opt  tensor([-2.1414])\n",
      "tensor([-0.7752, -3.9585, -3.9635,  2.4265, -3.3823,  3.8533, -0.6421,  0.5292])\n",
      "x_opt  tensor([-1.9798])\n",
      "tensor([-0.7752, -3.9585, -3.9635,  2.4265, -3.3823,  3.8533, -0.6421,  0.5292])\n",
      "x_opt  tensor([-1.9798])\n",
      "tensor([-0.7752, -3.9585, -3.9635,  2.4265, -3.3823,  3.8533, -0.6421,  0.5292])\n"
     ]
    },
    {
     "name": "stderr",
     "output_type": "stream",
     "text": []
    },
    {
     "name": "stdout",
     "output_type": "stream",
     "text": [
      "x_opt  tensor([-1.3333])\n",
      "tensor([-0.7752, -3.9585, -3.9635,  2.4265, -3.3823,  3.8533, -0.6421,  0.5292])\n",
      "Iteration 6: Elapsed Time: 3.5454208850860596 seconds\n",
      "x_opt  tensor([-1.7374])\n",
      "tensor([-0.7752, -3.9585, -3.9635,  2.4265, -3.3823,  3.8533, -0.6421,  0.5292,\n",
      "        -2.4876])\n",
      "x_opt  tensor([-1.4949])\n",
      "tensor([-0.7752, -3.9585, -3.9635,  2.4265, -3.3823,  3.8533, -0.6421,  0.5292,\n",
      "        -2.4876])\n",
      "x_opt  tensor([-1.8182])\n",
      "tensor([-0.7752, -3.9585, -3.9635,  2.4265, -3.3823,  3.8533, -0.6421,  0.5292,\n",
      "        -2.4876])\n",
      "x_opt  tensor([-2.0606])\n",
      "tensor([-0.7752, -3.9585, -3.9635,  2.4265, -3.3823,  3.8533, -0.6421,  0.5292,\n",
      "        -2.4876])\n",
      "x_opt  tensor([-2.1414])\n",
      "tensor([-0.7752, -3.9585, -3.9635,  2.4265, -3.3823,  3.8533, -0.6421,  0.5292,\n",
      "        -2.4876])\n",
      "x_opt  tensor([-2.2222])\n",
      "tensor([-0.7752, -3.9585, -3.9635,  2.4265, -3.3823,  3.8533, -0.6421,  0.5292,\n",
      "        -2.4876])\n",
      "x_opt  tensor([-1.6566])\n",
      "tensor([-0.7752, -3.9585, -3.9635,  2.4265, -3.3823,  3.8533, -0.6421,  0.5292,\n",
      "        -2.4876])\n",
      "x_opt  tensor([-1.7374])\n",
      "tensor([-0.7752, -3.9585, -3.9635,  2.4265, -3.3823,  3.8533, -0.6421,  0.5292,\n",
      "        -2.4876])\n",
      "x_opt  tensor([-1.0101])\n",
      "tensor([-0.7752, -3.9585, -3.9635,  2.4265, -3.3823,  3.8533, -0.6421,  0.5292,\n",
      "        -2.4876])\n"
     ]
    },
    {
     "name": "stderr",
     "output_type": "stream",
     "text": []
    },
    {
     "name": "stdout",
     "output_type": "stream",
     "text": [
      "x_opt  tensor([-1.9798])\n",
      "tensor([-0.7752, -3.9585, -3.9635,  2.4265, -3.3823,  3.8533, -0.6421,  0.5292,\n",
      "        -2.4876])\n",
      "Iteration 7: Elapsed Time: 3.64694881439209 seconds\n",
      "x_opt  tensor([-1.7374])\n",
      "tensor([-0.7752, -3.9585, -3.9635,  2.4265, -3.3823,  3.8533, -0.6421,  0.5292,\n",
      "        -2.4876, -3.3133])\n",
      "x_opt  tensor([-1.5758])\n",
      "tensor([-0.7752, -3.9585, -3.9635,  2.4265, -3.3823,  3.8533, -0.6421,  0.5292,\n",
      "        -2.4876, -3.3133])\n",
      "x_opt  tensor([-1.8182])\n",
      "tensor([-0.7752, -3.9585, -3.9635,  2.4265, -3.3823,  3.8533, -0.6421,  0.5292,\n",
      "        -2.4876, -3.3133])\n",
      "x_opt  tensor([-1.4949])\n",
      "tensor([-0.7752, -3.9585, -3.9635,  2.4265, -3.3823,  3.8533, -0.6421,  0.5292,\n",
      "        -2.4876, -3.3133])\n",
      "x_opt  tensor([-1.8182])\n",
      "tensor([-0.7752, -3.9585, -3.9635,  2.4265, -3.3823,  3.8533, -0.6421,  0.5292,\n",
      "        -2.4876, -3.3133])\n",
      "x_opt  tensor([-1.1717])\n",
      "tensor([-0.7752, -3.9585, -3.9635,  2.4265, -3.3823,  3.8533, -0.6421,  0.5292,\n",
      "        -2.4876, -3.3133])\n",
      "x_opt  tensor([-1.5758])\n",
      "tensor([-0.7752, -3.9585, -3.9635,  2.4265, -3.3823,  3.8533, -0.6421,  0.5292,\n",
      "        -2.4876, -3.3133])\n",
      "x_opt  tensor([-1.7374])\n",
      "tensor([-0.7752, -3.9585, -3.9635,  2.4265, -3.3823,  3.8533, -0.6421,  0.5292,\n",
      "        -2.4876, -3.3133])\n",
      "x_opt  tensor([-1.0909])\n",
      "tensor([-0.7752, -3.9585, -3.9635,  2.4265, -3.3823,  3.8533, -0.6421,  0.5292,\n",
      "        -2.4876, -3.3133])\n",
      "x_opt  tensor([-1.4949])\n",
      "tensor([-0.7752, -3.9585, -3.9635,  2.4265, -3.3823,  3.8533, -0.6421,  0.5292,\n",
      "        -2.4876, -3.3133])\n"
     ]
    },
    {
     "name": "stderr",
     "output_type": "stream",
     "text": []
    },
    {
     "name": "stdout",
     "output_type": "stream",
     "text": [
      "Iteration 8: Elapsed Time: 3.7501988410949707 seconds\n",
      "x_opt  tensor([4.])\n",
      "tensor([-0.7752, -3.9585, -3.9635,  2.4265, -3.3823,  3.8533, -0.6421,  0.5292,\n",
      "        -2.4876, -3.3133,  2.6019])\n",
      "x_opt  tensor([-1.8990])\n",
      "tensor([-0.7752, -3.9585, -3.9635,  2.4265, -3.3823,  3.8533, -0.6421,  0.5292,\n",
      "        -2.4876, -3.3133,  2.6019])\n",
      "x_opt  tensor([-2.1414])\n",
      "tensor([-0.7752, -3.9585, -3.9635,  2.4265, -3.3823,  3.8533, -0.6421,  0.5292,\n",
      "        -2.4876, -3.3133,  2.6019])\n",
      "x_opt  tensor([-1.3333])\n",
      "tensor([-0.7752, -3.9585, -3.9635,  2.4265, -3.3823,  3.8533, -0.6421,  0.5292,\n",
      "        -2.4876, -3.3133,  2.6019])\n",
      "x_opt  tensor([-2.3030])\n",
      "tensor([-0.7752, -3.9585, -3.9635,  2.4265, -3.3823,  3.8533, -0.6421,  0.5292,\n",
      "        -2.4876, -3.3133,  2.6019])\n",
      "x_opt  tensor([-1.7374])\n",
      "tensor([-0.7752, -3.9585, -3.9635,  2.4265, -3.3823,  3.8533, -0.6421,  0.5292,\n",
      "        -2.4876, -3.3133,  2.6019])\n",
      "x_opt  tensor([-1.7374])\n",
      "tensor([-0.7752, -3.9585, -3.9635,  2.4265, -3.3823,  3.8533, -0.6421,  0.5292,\n",
      "        -2.4876, -3.3133,  2.6019])\n",
      "x_opt  tensor([-1.2525])\n",
      "tensor([-0.7752, -3.9585, -3.9635,  2.4265, -3.3823,  3.8533, -0.6421,  0.5292,\n",
      "        -2.4876, -3.3133,  2.6019])\n",
      "x_opt  tensor([-1.0101])\n",
      "tensor([-0.7752, -3.9585, -3.9635,  2.4265, -3.3823,  3.8533, -0.6421,  0.5292,\n",
      "        -2.4876, -3.3133,  2.6019])\n",
      "x_opt  tensor([-2.1414])\n",
      "tensor([-0.7752, -3.9585, -3.9635,  2.4265, -3.3823,  3.8533, -0.6421,  0.5292,\n",
      "        -2.4876, -3.3133,  2.6019])\n"
     ]
    },
    {
     "name": "stderr",
     "output_type": "stream",
     "text": []
    },
    {
     "name": "stdout",
     "output_type": "stream",
     "text": [
      "Iteration 9: Elapsed Time: 3.640610933303833 seconds\n",
      "x_opt  tensor([-1.2525])\n",
      "tensor([-0.7752, -3.9585, -3.9635,  2.4265, -3.3823,  3.8533, -0.6421,  0.5292,\n",
      "        -2.4876, -3.3133,  2.6019,  2.3339])\n",
      "x_opt  tensor([-1.9798])\n",
      "tensor([-0.7752, -3.9585, -3.9635,  2.4265, -3.3823,  3.8533, -0.6421,  0.5292,\n",
      "        -2.4876, -3.3133,  2.6019,  2.3339])\n",
      "x_opt  tensor([-0.9293])\n",
      "tensor([-0.7752, -3.9585, -3.9635,  2.4265, -3.3823,  3.8533, -0.6421,  0.5292,\n",
      "        -2.4876, -3.3133,  2.6019,  2.3339])\n",
      "x_opt  tensor([4.])\n",
      "tensor([-0.7752, -3.9585, -3.9635,  2.4265, -3.3823,  3.8533, -0.6421,  0.5292,\n",
      "        -2.4876, -3.3133,  2.6019,  2.3339])\n",
      "x_opt  tensor([-0.8485])\n",
      "tensor([-0.7752, -3.9585, -3.9635,  2.4265, -3.3823,  3.8533, -0.6421,  0.5292,\n",
      "        -2.4876, -3.3133,  2.6019,  2.3339])\n",
      "x_opt  tensor([-1.2525])\n",
      "tensor([-0.7752, -3.9585, -3.9635,  2.4265, -3.3823,  3.8533, -0.6421,  0.5292,\n",
      "        -2.4876, -3.3133,  2.6019,  2.3339])\n",
      "x_opt  tensor([-1.8182])\n",
      "tensor([-0.7752, -3.9585, -3.9635,  2.4265, -3.3823,  3.8533, -0.6421,  0.5292,\n",
      "        -2.4876, -3.3133,  2.6019,  2.3339])\n",
      "x_opt  tensor([-0.9293])\n",
      "tensor([-0.7752, -3.9585, -3.9635,  2.4265, -3.3823,  3.8533, -0.6421,  0.5292,\n",
      "        -2.4876, -3.3133,  2.6019,  2.3339])\n",
      "x_opt  tensor([-0.9293])\n",
      "tensor([-0.7752, -3.9585, -3.9635,  2.4265, -3.3823,  3.8533, -0.6421,  0.5292,\n",
      "        -2.4876, -3.3133,  2.6019,  2.3339])\n",
      "x_opt  tensor([-1.8182])\n",
      "tensor([-0.7752, -3.9585, -3.9635,  2.4265, -3.3823,  3.8533, -0.6421,  0.5292,\n",
      "        -2.4876, -3.3133,  2.6019,  2.3339])\n"
     ]
    },
    {
     "name": "stderr",
     "output_type": "stream",
     "text": []
    },
    {
     "name": "stdout",
     "output_type": "stream",
     "text": [
      "Iteration 10: Elapsed Time: 3.7555739879608154 seconds\n",
      "x_opt  tensor([-1.4949])\n",
      "tensor([-0.7752, -3.9585, -3.9635,  2.4265, -3.3823,  3.8533, -0.6421,  0.5292,\n",
      "        -2.4876, -3.3133,  2.6019,  2.3339,  2.4505])\n",
      "x_opt  tensor([-1.7374])\n",
      "tensor([-0.7752, -3.9585, -3.9635,  2.4265, -3.3823,  3.8533, -0.6421,  0.5292,\n",
      "        -2.4876, -3.3133,  2.6019,  2.3339,  2.4505])\n",
      "x_opt  tensor([-1.8182])\n",
      "tensor([-0.7752, -3.9585, -3.9635,  2.4265, -3.3823,  3.8533, -0.6421,  0.5292,\n",
      "        -2.4876, -3.3133,  2.6019,  2.3339,  2.4505])\n",
      "x_opt  tensor([-1.6566])\n",
      "tensor([-0.7752, -3.9585, -3.9635,  2.4265, -3.3823,  3.8533, -0.6421,  0.5292,\n",
      "        -2.4876, -3.3133,  2.6019,  2.3339,  2.4505])\n",
      "x_opt  tensor([-1.8990])\n",
      "tensor([-0.7752, -3.9585, -3.9635,  2.4265, -3.3823,  3.8533, -0.6421,  0.5292,\n",
      "        -2.4876, -3.3133,  2.6019,  2.3339,  2.4505])\n",
      "x_opt  tensor([-1.6566])\n",
      "tensor([-0.7752, -3.9585, -3.9635,  2.4265, -3.3823,  3.8533, -0.6421,  0.5292,\n",
      "        -2.4876, -3.3133,  2.6019,  2.3339,  2.4505])\n",
      "x_opt  tensor([-1.5758])\n",
      "tensor([-0.7752, -3.9585, -3.9635,  2.4265, -3.3823,  3.8533, -0.6421,  0.5292,\n",
      "        -2.4876, -3.3133,  2.6019,  2.3339,  2.4505])\n",
      "x_opt  tensor([-0.7677])\n",
      "tensor([-0.7752, -3.9585, -3.9635,  2.4265, -3.3823,  3.8533, -0.6421,  0.5292,\n",
      "        -2.4876, -3.3133,  2.6019,  2.3339,  2.4505])\n",
      "x_opt  tensor([-1.2525])\n",
      "tensor([-0.7752, -3.9585, -3.9635,  2.4265, -3.3823,  3.8533, -0.6421,  0.5292,\n",
      "        -2.4876, -3.3133,  2.6019,  2.3339,  2.4505])\n",
      "x_opt  tensor([-1.3333])\n",
      "tensor([-0.7752, -3.9585, -3.9635,  2.4265, -3.3823,  3.8533, -0.6421,  0.5292,\n",
      "        -2.4876, -3.3133,  2.6019,  2.3339,  2.4505])\n"
     ]
    },
    {
     "name": "stderr",
     "output_type": "stream",
     "text": []
    },
    {
     "name": "stdout",
     "output_type": "stream",
     "text": [
      "Iteration 11: Elapsed Time: 3.748661994934082 seconds\n",
      "x_opt  tensor([-0.6869])\n",
      "tensor([-0.7752, -3.9585, -3.9635,  2.4265, -3.3823,  3.8533, -0.6421,  0.5292,\n",
      "        -2.4876, -3.3133,  2.6019,  2.3339,  2.4505,  2.4100])\n",
      "x_opt  tensor([-1.9798])\n",
      "tensor([-0.7752, -3.9585, -3.9635,  2.4265, -3.3823,  3.8533, -0.6421,  0.5292,\n",
      "        -2.4876, -3.3133,  2.6019,  2.3339,  2.4505,  2.4100])\n",
      "x_opt  tensor([-0.8485])\n",
      "tensor([-0.7752, -3.9585, -3.9635,  2.4265, -3.3823,  3.8533, -0.6421,  0.5292,\n",
      "        -2.4876, -3.3133,  2.6019,  2.3339,  2.4505,  2.4100])\n",
      "x_opt  tensor([-1.2525])\n",
      "tensor([-0.7752, -3.9585, -3.9635,  2.4265, -3.3823,  3.8533, -0.6421,  0.5292,\n",
      "        -2.4876, -3.3133,  2.6019,  2.3339,  2.4505,  2.4100])\n",
      "x_opt  tensor([-1.8990])\n",
      "tensor([-0.7752, -3.9585, -3.9635,  2.4265, -3.3823,  3.8533, -0.6421,  0.5292,\n",
      "        -2.4876, -3.3133,  2.6019,  2.3339,  2.4505,  2.4100])\n",
      "x_opt  tensor([-0.6061])\n",
      "tensor([-0.7752, -3.9585, -3.9635,  2.4265, -3.3823,  3.8533, -0.6421,  0.5292,\n",
      "        -2.4876, -3.3133,  2.6019,  2.3339,  2.4505,  2.4100])\n",
      "x_opt  tensor([-0.9293])\n",
      "tensor([-0.7752, -3.9585, -3.9635,  2.4265, -3.3823,  3.8533, -0.6421,  0.5292,\n",
      "        -2.4876, -3.3133,  2.6019,  2.3339,  2.4505,  2.4100])\n",
      "x_opt  tensor([-0.7677])\n",
      "tensor([-0.7752, -3.9585, -3.9635,  2.4265, -3.3823,  3.8533, -0.6421,  0.5292,\n",
      "        -2.4876, -3.3133,  2.6019,  2.3339,  2.4505,  2.4100])\n",
      "x_opt  tensor([-1.4141])\n",
      "tensor([-0.7752, -3.9585, -3.9635,  2.4265, -3.3823,  3.8533, -0.6421,  0.5292,\n",
      "        -2.4876, -3.3133,  2.6019,  2.3339,  2.4505,  2.4100])\n",
      "x_opt  tensor([-1.2525])\n"
     ]
    },
    {
     "name": "stderr",
     "output_type": "stream",
     "text": []
    },
    {
     "name": "stdout",
     "output_type": "stream",
     "text": [
      "tensor([-0.7752, -3.9585, -3.9635,  2.4265, -3.3823,  3.8533, -0.6421,  0.5292,\n",
      "        -2.4876, -3.3133,  2.6019,  2.3339,  2.4505,  2.4100])\n",
      "Iteration 12: Elapsed Time: 3.714790105819702 seconds\n",
      "x_opt  tensor([-1.5758])\n",
      "tensor([-0.7752, -3.9585, -3.9635,  2.4265, -3.3823,  3.8533, -0.6421,  0.5292,\n",
      "        -2.4876, -3.3133,  2.6019,  2.3339,  2.4505,  2.4100,  2.4541])\n",
      "x_opt  tensor([-1.4141])\n",
      "tensor([-0.7752, -3.9585, -3.9635,  2.4265, -3.3823,  3.8533, -0.6421,  0.5292,\n",
      "        -2.4876, -3.3133,  2.6019,  2.3339,  2.4505,  2.4100,  2.4541])\n",
      "x_opt  tensor([-1.1717])\n",
      "tensor([-0.7752, -3.9585, -3.9635,  2.4265, -3.3823,  3.8533, -0.6421,  0.5292,\n",
      "        -2.4876, -3.3133,  2.6019,  2.3339,  2.4505,  2.4100,  2.4541])\n",
      "x_opt  tensor([-0.6869])\n",
      "tensor([-0.7752, -3.9585, -3.9635,  2.4265, -3.3823,  3.8533, -0.6421,  0.5292,\n",
      "        -2.4876, -3.3133,  2.6019,  2.3339,  2.4505,  2.4100,  2.4541])\n",
      "x_opt  tensor([-1.4141])\n",
      "tensor([-0.7752, -3.9585, -3.9635,  2.4265, -3.3823,  3.8533, -0.6421,  0.5292,\n",
      "        -2.4876, -3.3133,  2.6019,  2.3339,  2.4505,  2.4100,  2.4541])\n",
      "x_opt  tensor([-0.3636])\n",
      "tensor([-0.7752, -3.9585, -3.9635,  2.4265, -3.3823,  3.8533, -0.6421,  0.5292,\n",
      "        -2.4876, -3.3133,  2.6019,  2.3339,  2.4505,  2.4100,  2.4541])\n",
      "x_opt  tensor([-1.4141])\n",
      "tensor([-0.7752, -3.9585, -3.9635,  2.4265, -3.3823,  3.8533, -0.6421,  0.5292,\n",
      "        -2.4876, -3.3133,  2.6019,  2.3339,  2.4505,  2.4100,  2.4541])\n",
      "x_opt  tensor([-1.9798])\n",
      "tensor([-0.7752, -3.9585, -3.9635,  2.4265, -3.3823,  3.8533, -0.6421,  0.5292,\n",
      "        -2.4876, -3.3133,  2.6019,  2.3339,  2.4505,  2.4100,  2.4541])\n",
      "x_opt  tensor([-1.6566])\n",
      "tensor([-0.7752, -3.9585, -3.9635,  2.4265, -3.3823,  3.8533, -0.6421,  0.5292,\n",
      "        -2.4876, -3.3133,  2.6019,  2.3339,  2.4505,  2.4100,  2.4541])\n",
      "x_opt  tensor([4.])\n",
      "tensor([-0.7752, -3.9585, -3.9635,  2.4265, -3.3823,  3.8533, -0.6421,  0.5292,\n",
      "        -2.4876, -3.3133,  2.6019,  2.3339,  2.4505,  2.4100,  2.4541])\n"
     ]
    },
    {
     "name": "stderr",
     "output_type": "stream",
     "text": []
    },
    {
     "name": "stdout",
     "output_type": "stream",
     "text": [
      "Iteration 13: Elapsed Time: 3.7969038486480713 seconds\n",
      "x_opt  tensor([-1.2525])\n",
      "tensor([-0.7752, -3.9585, -3.9635,  2.4265, -3.3823,  3.8533, -0.6421,  0.5292,\n",
      "        -2.4876, -3.3133,  2.6019,  2.3339,  2.4505,  2.4100,  2.4541,  2.3325])\n",
      "x_opt  tensor([-1.0101])\n",
      "tensor([-0.7752, -3.9585, -3.9635,  2.4265, -3.3823,  3.8533, -0.6421,  0.5292,\n",
      "        -2.4876, -3.3133,  2.6019,  2.3339,  2.4505,  2.4100,  2.4541,  2.3325])\n",
      "x_opt  tensor([-1.0909])\n",
      "tensor([-0.7752, -3.9585, -3.9635,  2.4265, -3.3823,  3.8533, -0.6421,  0.5292,\n",
      "        -2.4876, -3.3133,  2.6019,  2.3339,  2.4505,  2.4100,  2.4541,  2.3325])\n",
      "x_opt  tensor([-1.6566])\n",
      "tensor([-0.7752, -3.9585, -3.9635,  2.4265, -3.3823,  3.8533, -0.6421,  0.5292,\n",
      "        -2.4876, -3.3133,  2.6019,  2.3339,  2.4505,  2.4100,  2.4541,  2.3325])\n",
      "x_opt  tensor([-1.0909])\n",
      "tensor([-0.7752, -3.9585, -3.9635,  2.4265, -3.3823,  3.8533, -0.6421,  0.5292,\n",
      "        -2.4876, -3.3133,  2.6019,  2.3339,  2.4505,  2.4100,  2.4541,  2.3325])\n",
      "x_opt  tensor([-0.2828])\n",
      "tensor([-0.7752, -3.9585, -3.9635,  2.4265, -3.3823,  3.8533, -0.6421,  0.5292,\n",
      "        -2.4876, -3.3133,  2.6019,  2.3339,  2.4505,  2.4100,  2.4541,  2.3325])\n",
      "x_opt  tensor([-1.7374])\n",
      "tensor([-0.7752, -3.9585, -3.9635,  2.4265, -3.3823,  3.8533, -0.6421,  0.5292,\n",
      "        -2.4876, -3.3133,  2.6019,  2.3339,  2.4505,  2.4100,  2.4541,  2.3325])\n",
      "x_opt  tensor([-0.4444])\n",
      "tensor([-0.7752, -3.9585, -3.9635,  2.4265, -3.3823,  3.8533, -0.6421,  0.5292,\n",
      "        -2.4876, -3.3133,  2.6019,  2.3339,  2.4505,  2.4100,  2.4541,  2.3325])\n",
      "x_opt  tensor([-0.9293])\n",
      "tensor([-0.7752, -3.9585, -3.9635,  2.4265, -3.3823,  3.8533, -0.6421,  0.5292,\n",
      "        -2.4876, -3.3133,  2.6019,  2.3339,  2.4505,  2.4100,  2.4541,  2.3325])\n",
      "x_opt  tensor([-1.7374])\n",
      "tensor([-0.7752, -3.9585, -3.9635,  2.4265, -3.3823,  3.8533, -0.6421,  0.5292,\n",
      "        -2.4876, -3.3133,  2.6019,  2.3339,  2.4505,  2.4100,  2.4541,  2.3325])\n"
     ]
    },
    {
     "name": "stderr",
     "output_type": "stream",
     "text": []
    },
    {
     "name": "stdout",
     "output_type": "stream",
     "text": [
      "Iteration 14: Elapsed Time: 3.7895779609680176 seconds\n",
      "x_opt  tensor([-1.8182])\n",
      "tensor([-0.7752, -3.9585, -3.9635,  2.4265, -3.3823,  3.8533, -0.6421,  0.5292,\n",
      "        -2.4876, -3.3133,  2.6019,  2.3339,  2.4505,  2.4100,  2.4541,  2.3325,\n",
      "         2.4307])\n",
      "x_opt  tensor([-0.3636])\n",
      "tensor([-0.7752, -3.9585, -3.9635,  2.4265, -3.3823,  3.8533, -0.6421,  0.5292,\n",
      "        -2.4876, -3.3133,  2.6019,  2.3339,  2.4505,  2.4100,  2.4541,  2.3325,\n",
      "         2.4307])\n",
      "x_opt  tensor([-1.7374])\n",
      "tensor([-0.7752, -3.9585, -3.9635,  2.4265, -3.3823,  3.8533, -0.6421,  0.5292,\n",
      "        -2.4876, -3.3133,  2.6019,  2.3339,  2.4505,  2.4100,  2.4541,  2.3325,\n",
      "         2.4307])\n",
      "x_opt  tensor([-0.6869])\n",
      "tensor([-0.7752, -3.9585, -3.9635,  2.4265, -3.3823,  3.8533, -0.6421,  0.5292,\n",
      "        -2.4876, -3.3133,  2.6019,  2.3339,  2.4505,  2.4100,  2.4541,  2.3325,\n",
      "         2.4307])\n",
      "x_opt  tensor([-1.1717])\n",
      "tensor([-0.7752, -3.9585, -3.9635,  2.4265, -3.3823,  3.8533, -0.6421,  0.5292,\n",
      "        -2.4876, -3.3133,  2.6019,  2.3339,  2.4505,  2.4100,  2.4541,  2.3325,\n",
      "         2.4307])\n",
      "x_opt  tensor([-1.0101])\n",
      "tensor([-0.7752, -3.9585, -3.9635,  2.4265, -3.3823,  3.8533, -0.6421,  0.5292,\n",
      "        -2.4876, -3.3133,  2.6019,  2.3339,  2.4505,  2.4100,  2.4541,  2.3325,\n",
      "         2.4307])\n",
      "x_opt  tensor([-0.6869])\n",
      "tensor([-0.7752, -3.9585, -3.9635,  2.4265, -3.3823,  3.8533, -0.6421,  0.5292,\n",
      "        -2.4876, -3.3133,  2.6019,  2.3339,  2.4505,  2.4100,  2.4541,  2.3325,\n",
      "         2.4307])\n",
      "x_opt  tensor([-1.5758])\n",
      "tensor([-0.7752, -3.9585, -3.9635,  2.4265, -3.3823,  3.8533, -0.6421,  0.5292,\n",
      "        -2.4876, -3.3133,  2.6019,  2.3339,  2.4505,  2.4100,  2.4541,  2.3325,\n",
      "         2.4307])\n",
      "x_opt  tensor([-2.3030])\n",
      "tensor([-0.7752, -3.9585, -3.9635,  2.4265, -3.3823,  3.8533, -0.6421,  0.5292,\n",
      "        -2.4876, -3.3133,  2.6019,  2.3339,  2.4505,  2.4100,  2.4541,  2.3325,\n",
      "         2.4307])\n",
      "x_opt  tensor([-2.1414])\n",
      "tensor([-0.7752, -3.9585, -3.9635,  2.4265, -3.3823,  3.8533, -0.6421,  0.5292,\n",
      "        -2.4876, -3.3133,  2.6019,  2.3339,  2.4505,  2.4100,  2.4541,  2.3325,\n",
      "         2.4307])\n"
     ]
    },
    {
     "name": "stderr",
     "output_type": "stream",
     "text": []
    },
    {
     "name": "stdout",
     "output_type": "stream",
     "text": [
      "Iteration 15: Elapsed Time: 3.839444875717163 seconds\n",
      "x_opt  tensor([-0.5253])\n",
      "tensor([-0.7752, -3.9585, -3.9635,  2.4265, -3.3823,  3.8533, -0.6421,  0.5292,\n",
      "        -2.4876, -3.3133,  2.6019,  2.3339,  2.4505,  2.4100,  2.4541,  2.3325,\n",
      "         2.4307,  2.3577])\n",
      "x_opt  tensor([-0.6869])\n",
      "tensor([-0.7752, -3.9585, -3.9635,  2.4265, -3.3823,  3.8533, -0.6421,  0.5292,\n",
      "        -2.4876, -3.3133,  2.6019,  2.3339,  2.4505,  2.4100,  2.4541,  2.3325,\n",
      "         2.4307,  2.3577])\n",
      "x_opt  tensor([-0.6869])\n",
      "tensor([-0.7752, -3.9585, -3.9635,  2.4265, -3.3823,  3.8533, -0.6421,  0.5292,\n",
      "        -2.4876, -3.3133,  2.6019,  2.3339,  2.4505,  2.4100,  2.4541,  2.3325,\n",
      "         2.4307,  2.3577])\n",
      "x_opt  tensor([-1.0909])\n",
      "tensor([-0.7752, -3.9585, -3.9635,  2.4265, -3.3823,  3.8533, -0.6421,  0.5292,\n",
      "        -2.4876, -3.3133,  2.6019,  2.3339,  2.4505,  2.4100,  2.4541,  2.3325,\n",
      "         2.4307,  2.3577])\n",
      "x_opt  tensor([-1.4949])\n",
      "tensor([-0.7752, -3.9585, -3.9635,  2.4265, -3.3823,  3.8533, -0.6421,  0.5292,\n",
      "        -2.4876, -3.3133,  2.6019,  2.3339,  2.4505,  2.4100,  2.4541,  2.3325,\n",
      "         2.4307,  2.3577])\n",
      "x_opt  tensor([-1.4141])\n",
      "tensor([-0.7752, -3.9585, -3.9635,  2.4265, -3.3823,  3.8533, -0.6421,  0.5292,\n",
      "        -2.4876, -3.3133,  2.6019,  2.3339,  2.4505,  2.4100,  2.4541,  2.3325,\n",
      "         2.4307,  2.3577])\n",
      "x_opt  tensor([-1.0101])\n",
      "tensor([-0.7752, -3.9585, -3.9635,  2.4265, -3.3823,  3.8533, -0.6421,  0.5292,\n",
      "        -2.4876, -3.3133,  2.6019,  2.3339,  2.4505,  2.4100,  2.4541,  2.3325,\n",
      "         2.4307,  2.3577])\n",
      "x_opt  tensor([-1.1717])\n",
      "tensor([-0.7752, -3.9585, -3.9635,  2.4265, -3.3823,  3.8533, -0.6421,  0.5292,\n",
      "        -2.4876, -3.3133,  2.6019,  2.3339,  2.4505,  2.4100,  2.4541,  2.3325,\n",
      "         2.4307,  2.3577])\n",
      "x_opt  tensor([-1.6566])\n",
      "tensor([-0.7752, -3.9585, -3.9635,  2.4265, -3.3823,  3.8533, -0.6421,  0.5292,\n",
      "        -2.4876, -3.3133,  2.6019,  2.3339,  2.4505,  2.4100,  2.4541,  2.3325,\n",
      "         2.4307,  2.3577])\n",
      "x_opt  tensor([-0.7677])\n",
      "tensor([-0.7752, -3.9585, -3.9635,  2.4265, -3.3823,  3.8533, -0.6421,  0.5292,\n",
      "        -2.4876, -3.3133,  2.6019,  2.3339,  2.4505,  2.4100,  2.4541,  2.3325,\n",
      "         2.4307,  2.3577])\n"
     ]
    },
    {
     "name": "stderr",
     "output_type": "stream",
     "text": []
    },
    {
     "name": "stdout",
     "output_type": "stream",
     "text": [
      "Iteration 16: Elapsed Time: 4.007538795471191 seconds\n",
      "x_opt  tensor([-0.5253])\n",
      "tensor([-0.7752, -3.9585, -3.9635,  2.4265, -3.3823,  3.8533, -0.6421,  0.5292,\n",
      "        -2.4876, -3.3133,  2.6019,  2.3339,  2.4505,  2.4100,  2.4541,  2.3325,\n",
      "         2.4307,  2.3577,  2.3742])\n",
      "x_opt  tensor([-1.2525])\n",
      "tensor([-0.7752, -3.9585, -3.9635,  2.4265, -3.3823,  3.8533, -0.6421,  0.5292,\n",
      "        -2.4876, -3.3133,  2.6019,  2.3339,  2.4505,  2.4100,  2.4541,  2.3325,\n",
      "         2.4307,  2.3577,  2.3742])\n",
      "x_opt  tensor([-1.3333])\n",
      "tensor([-0.7752, -3.9585, -3.9635,  2.4265, -3.3823,  3.8533, -0.6421,  0.5292,\n",
      "        -2.4876, -3.3133,  2.6019,  2.3339,  2.4505,  2.4100,  2.4541,  2.3325,\n",
      "         2.4307,  2.3577,  2.3742])\n",
      "x_opt  tensor([-1.8182])\n",
      "tensor([-0.7752, -3.9585, -3.9635,  2.4265, -3.3823,  3.8533, -0.6421,  0.5292,\n",
      "        -2.4876, -3.3133,  2.6019,  2.3339,  2.4505,  2.4100,  2.4541,  2.3325,\n",
      "         2.4307,  2.3577,  2.3742])\n",
      "x_opt  tensor([-1.0909])\n",
      "tensor([-0.7752, -3.9585, -3.9635,  2.4265, -3.3823,  3.8533, -0.6421,  0.5292,\n",
      "        -2.4876, -3.3133,  2.6019,  2.3339,  2.4505,  2.4100,  2.4541,  2.3325,\n",
      "         2.4307,  2.3577,  2.3742])\n",
      "x_opt  tensor([-1.5758])\n",
      "tensor([-0.7752, -3.9585, -3.9635,  2.4265, -3.3823,  3.8533, -0.6421,  0.5292,\n",
      "        -2.4876, -3.3133,  2.6019,  2.3339,  2.4505,  2.4100,  2.4541,  2.3325,\n",
      "         2.4307,  2.3577,  2.3742])\n",
      "x_opt  tensor([-1.6566])\n",
      "tensor([-0.7752, -3.9585, -3.9635,  2.4265, -3.3823,  3.8533, -0.6421,  0.5292,\n",
      "        -2.4876, -3.3133,  2.6019,  2.3339,  2.4505,  2.4100,  2.4541,  2.3325,\n",
      "         2.4307,  2.3577,  2.3742])\n",
      "x_opt  tensor([-0.7677])\n",
      "tensor([-0.7752, -3.9585, -3.9635,  2.4265, -3.3823,  3.8533, -0.6421,  0.5292,\n",
      "        -2.4876, -3.3133,  2.6019,  2.3339,  2.4505,  2.4100,  2.4541,  2.3325,\n",
      "         2.4307,  2.3577,  2.3742])\n",
      "x_opt  tensor([-1.0909])\n",
      "tensor([-0.7752, -3.9585, -3.9635,  2.4265, -3.3823,  3.8533, -0.6421,  0.5292,\n",
      "        -2.4876, -3.3133,  2.6019,  2.3339,  2.4505,  2.4100,  2.4541,  2.3325,\n",
      "         2.4307,  2.3577,  2.3742])\n",
      "x_opt  tensor([-0.9293])\n",
      "tensor([-0.7752, -3.9585, -3.9635,  2.4265, -3.3823,  3.8533, -0.6421,  0.5292,\n",
      "        -2.4876, -3.3133,  2.6019,  2.3339,  2.4505,  2.4100,  2.4541,  2.3325,\n",
      "         2.4307,  2.3577,  2.3742])\n"
     ]
    },
    {
     "name": "stderr",
     "output_type": "stream",
     "text": [
      "100%|██████████| 17/17 [01:02<00:00,  3.69s/it]"
     ]
    },
    {
     "name": "stdout",
     "output_type": "stream",
     "text": [
      "Iteration 17: Elapsed Time: 3.989565849304199 seconds\n"
     ]
    },
    {
     "name": "stderr",
     "output_type": "stream",
     "text": [
      "\n",
      " 40%|████      | 2/5 [02:09<03:13, 64.34s/it]"
     ]
    },
    {
     "name": "stdout",
     "output_type": "stream",
     "text": [
      "[-2.76569937 -2.93040351 -1.09851627]\n"
     ]
    },
    {
     "name": "stderr",
     "output_type": "stream",
     "text": []
    },
    {
     "name": "stdout",
     "output_type": "stream",
     "text": [
      "x_opt  tensor([0.6061])\n",
      "tensor([-2.1496, -0.5013, -3.2605])\n",
      "x_opt  tensor([3.2727])\n",
      "tensor([-2.1496, -0.5013, -3.2605])\n",
      "x_opt  tensor([-3.7576])\n",
      "tensor([-2.1496, -0.5013, -3.2605])\n",
      "x_opt  tensor([1.7374])\n",
      "tensor([-2.1496, -0.5013, -3.2605])\n",
      "x_opt  tensor([-2.8687])\n",
      "tensor([-2.1496, -0.5013, -3.2605])\n",
      "x_opt  tensor([1.0101])\n",
      "tensor([-2.1496, -0.5013, -3.2605])\n",
      "x_opt  tensor([4.])\n",
      "tensor([-2.1496, -0.5013, -3.2605])\n",
      "x_opt  tensor([-1.4949])\n",
      "tensor([-2.1496, -0.5013, -3.2605])\n"
     ]
    },
    {
     "name": "stderr",
     "output_type": "stream",
     "text": []
    },
    {
     "name": "stdout",
     "output_type": "stream",
     "text": [
      "x_opt  tensor([-1.4949])\n",
      "tensor([-2.1496, -0.5013, -3.2605])\n",
      "x_opt  tensor([0.4444])\n",
      "tensor([-2.1496, -0.5013, -3.2605])\n",
      "Iteration 1: Elapsed Time: 3.332334280014038 seconds\n",
      "x_opt  tensor([-2.7071])\n",
      "tensor([-2.1496, -0.5013, -3.2605, -3.2924])\n",
      "x_opt  tensor([-2.3838])\n",
      "tensor([-2.1496, -0.5013, -3.2605, -3.2924])\n",
      "x_opt  tensor([0.3636])\n",
      "tensor([-2.1496, -0.5013, -3.2605, -3.2924])\n",
      "x_opt  tensor([3.9192])\n",
      "tensor([-2.1496, -0.5013, -3.2605, -3.2924])\n",
      "x_opt  tensor([3.5152])\n",
      "tensor([-2.1496, -0.5013, -3.2605, -3.2924])\n",
      "x_opt  tensor([4.])\n",
      "tensor([-2.1496, -0.5013, -3.2605, -3.2924])\n",
      "x_opt  tensor([-3.0303])\n",
      "tensor([-2.1496, -0.5013, -3.2605, -3.2924])\n",
      "x_opt  tensor([0.8485])\n",
      "tensor([-2.1496, -0.5013, -3.2605, -3.2924])\n",
      "x_opt  tensor([4.])\n",
      "tensor([-2.1496, -0.5013, -3.2605, -3.2924])\n",
      "x_opt  tensor([-3.4343])\n",
      "tensor([-2.1496, -0.5013, -3.2605, -3.2924])\n"
     ]
    },
    {
     "name": "stderr",
     "output_type": "stream",
     "text": []
    },
    {
     "name": "stdout",
     "output_type": "stream",
     "text": [
      "Iteration 2: Elapsed Time: 3.3793461322784424 seconds\n",
      "x_opt  tensor([-1.4141])\n",
      "tensor([-2.1496, -0.5013, -3.2605, -3.2924,  0.6333])\n",
      "x_opt  tensor([1.0909])\n",
      "tensor([-2.1496, -0.5013, -3.2605, -3.2924,  0.6333])\n",
      "x_opt  tensor([-2.9495])\n",
      "tensor([-2.1496, -0.5013, -3.2605, -3.2924,  0.6333])\n",
      "x_opt  tensor([-0.2020])\n",
      "tensor([-2.1496, -0.5013, -3.2605, -3.2924,  0.6333])\n",
      "x_opt  tensor([-1.4141])\n",
      "tensor([-2.1496, -0.5013, -3.2605, -3.2924,  0.6333])\n",
      "x_opt  tensor([4.])\n",
      "tensor([-2.1496, -0.5013, -3.2605, -3.2924,  0.6333])\n",
      "x_opt  tensor([-4.])\n",
      "tensor([-2.1496, -0.5013, -3.2605, -3.2924,  0.6333])\n",
      "x_opt  tensor([-0.3636])\n",
      "tensor([-2.1496, -0.5013, -3.2605, -3.2924,  0.6333])\n",
      "x_opt  tensor([-2.3030])\n",
      "tensor([-2.1496, -0.5013, -3.2605, -3.2924,  0.6333])\n",
      "x_opt  tensor([-4.])\n",
      "tensor([-2.1496, -0.5013, -3.2605, -3.2924,  0.6333])\n"
     ]
    },
    {
     "name": "stderr",
     "output_type": "stream",
     "text": []
    },
    {
     "name": "stdout",
     "output_type": "stream",
     "text": [
      "Iteration 3: Elapsed Time: 3.423081874847412 seconds\n",
      "x_opt  tensor([1.7374])\n",
      "tensor([-2.1496, -0.5013, -3.2605, -3.2924,  0.6333, -3.1805])\n",
      "x_opt  tensor([-3.9192])\n",
      "tensor([-2.1496, -0.5013, -3.2605, -3.2924,  0.6333, -3.1805])\n",
      "x_opt  tensor([-2.0606])\n",
      "tensor([-2.1496, -0.5013, -3.2605, -3.2924,  0.6333, -3.1805])\n",
      "x_opt  tensor([4.])\n",
      "tensor([-2.1496, -0.5013, -3.2605, -3.2924,  0.6333, -3.1805])\n",
      "x_opt  tensor([3.1111])\n",
      "tensor([-2.1496, -0.5013, -3.2605, -3.2924,  0.6333, -3.1805])\n",
      "x_opt  tensor([-0.7677])\n",
      "tensor([-2.1496, -0.5013, -3.2605, -3.2924,  0.6333, -3.1805])\n",
      "x_opt  tensor([-1.0101])\n",
      "tensor([-2.1496, -0.5013, -3.2605, -3.2924,  0.6333, -3.1805])\n",
      "x_opt  tensor([1.2525])\n",
      "tensor([-2.1496, -0.5013, -3.2605, -3.2924,  0.6333, -3.1805])\n",
      "x_opt  tensor([-4.])\n",
      "tensor([-2.1496, -0.5013, -3.2605, -3.2924,  0.6333, -3.1805])\n"
     ]
    },
    {
     "name": "stderr",
     "output_type": "stream",
     "text": []
    },
    {
     "name": "stdout",
     "output_type": "stream",
     "text": [
      "x_opt  tensor([0.3636])\n",
      "tensor([-2.1496, -0.5013, -3.2605, -3.2924,  0.6333, -3.1805])\n",
      "Iteration 4: Elapsed Time: 3.4673478603363037 seconds\n",
      "x_opt  tensor([2.8687])\n",
      "tensor([-2.1496, -0.5013, -3.2605, -3.2924,  0.6333, -3.1805, -0.8760])\n",
      "x_opt  tensor([-2.8687])\n",
      "tensor([-2.1496, -0.5013, -3.2605, -3.2924,  0.6333, -3.1805, -0.8760])\n",
      "x_opt  tensor([-0.4444])\n",
      "tensor([-2.1496, -0.5013, -3.2605, -3.2924,  0.6333, -3.1805, -0.8760])\n",
      "x_opt  tensor([-1.4949])\n",
      "tensor([-2.1496, -0.5013, -3.2605, -3.2924,  0.6333, -3.1805, -0.8760])\n",
      "x_opt  tensor([-3.5152])\n",
      "tensor([-2.1496, -0.5013, -3.2605, -3.2924,  0.6333, -3.1805, -0.8760])\n",
      "x_opt  tensor([2.7879])\n",
      "tensor([-2.1496, -0.5013, -3.2605, -3.2924,  0.6333, -3.1805, -0.8760])\n",
      "x_opt  tensor([3.1919])\n",
      "tensor([-2.1496, -0.5013, -3.2605, -3.2924,  0.6333, -3.1805, -0.8760])\n",
      "x_opt  tensor([3.8384])\n",
      "tensor([-2.1496, -0.5013, -3.2605, -3.2924,  0.6333, -3.1805, -0.8760])\n",
      "x_opt  tensor([-1.0909])\n",
      "tensor([-2.1496, -0.5013, -3.2605, -3.2924,  0.6333, -3.1805, -0.8760])\n"
     ]
    },
    {
     "name": "stderr",
     "output_type": "stream",
     "text": []
    },
    {
     "name": "stdout",
     "output_type": "stream",
     "text": [
      "x_opt  tensor([0.7677])\n",
      "tensor([-2.1496, -0.5013, -3.2605, -3.2924,  0.6333, -3.1805, -0.8760])\n",
      "Iteration 5: Elapsed Time: 3.4962072372436523 seconds\n",
      "x_opt  tensor([-0.7677])\n",
      "tensor([-2.1496, -0.5013, -3.2605, -3.2924,  0.6333, -3.1805, -0.8760, -3.2192])\n",
      "x_opt  tensor([-3.0303])\n",
      "tensor([-2.1496, -0.5013, -3.2605, -3.2924,  0.6333, -3.1805, -0.8760, -3.2192])\n",
      "x_opt  tensor([-4.])\n",
      "tensor([-2.1496, -0.5013, -3.2605, -3.2924,  0.6333, -3.1805, -0.8760, -3.2192])\n",
      "x_opt  tensor([3.6768])\n",
      "tensor([-2.1496, -0.5013, -3.2605, -3.2924,  0.6333, -3.1805, -0.8760, -3.2192])\n",
      "x_opt  tensor([0.6869])\n",
      "tensor([-2.1496, -0.5013, -3.2605, -3.2924,  0.6333, -3.1805, -0.8760, -3.2192])\n",
      "x_opt  tensor([3.2727])\n",
      "tensor([-2.1496, -0.5013, -3.2605, -3.2924,  0.6333, -3.1805, -0.8760, -3.2192])\n",
      "x_opt  tensor([-1.5758])\n",
      "tensor([-2.1496, -0.5013, -3.2605, -3.2924,  0.6333, -3.1805, -0.8760, -3.2192])\n",
      "x_opt  tensor([-3.7576])\n",
      "tensor([-2.1496, -0.5013, -3.2605, -3.2924,  0.6333, -3.1805, -0.8760, -3.2192])\n",
      "x_opt  tensor([3.1919])\n",
      "tensor([-2.1496, -0.5013, -3.2605, -3.2924,  0.6333, -3.1805, -0.8760, -3.2192])\n"
     ]
    },
    {
     "name": "stderr",
     "output_type": "stream",
     "text": []
    },
    {
     "name": "stdout",
     "output_type": "stream",
     "text": [
      "x_opt  tensor([-4.])\n",
      "tensor([-2.1496, -0.5013, -3.2605, -3.2924,  0.6333, -3.1805, -0.8760, -3.2192])\n",
      "Iteration 6: Elapsed Time: 3.480701208114624 seconds\n",
      "x_opt  tensor([-1.8990])\n",
      "tensor([-2.1496, -0.5013, -3.2605, -3.2924,  0.6333, -3.1805, -0.8760, -3.2192,\n",
      "         0.9622])\n",
      "x_opt  tensor([-1.8990])\n",
      "tensor([-2.1496, -0.5013, -3.2605, -3.2924,  0.6333, -3.1805, -0.8760, -3.2192,\n",
      "         0.9622])\n",
      "x_opt  tensor([3.7576])\n",
      "tensor([-2.1496, -0.5013, -3.2605, -3.2924,  0.6333, -3.1805, -0.8760, -3.2192,\n",
      "         0.9622])\n",
      "x_opt  tensor([-1.8990])\n",
      "tensor([-2.1496, -0.5013, -3.2605, -3.2924,  0.6333, -3.1805, -0.8760, -3.2192,\n",
      "         0.9622])\n",
      "x_opt  tensor([4.])\n",
      "tensor([-2.1496, -0.5013, -3.2605, -3.2924,  0.6333, -3.1805, -0.8760, -3.2192,\n",
      "         0.9622])\n",
      "x_opt  tensor([3.8384])\n",
      "tensor([-2.1496, -0.5013, -3.2605, -3.2924,  0.6333, -3.1805, -0.8760, -3.2192,\n",
      "         0.9622])\n",
      "x_opt  tensor([-0.2828])\n",
      "tensor([-2.1496, -0.5013, -3.2605, -3.2924,  0.6333, -3.1805, -0.8760, -3.2192,\n",
      "         0.9622])\n",
      "x_opt  tensor([-0.2828])\n",
      "tensor([-2.1496, -0.5013, -3.2605, -3.2924,  0.6333, -3.1805, -0.8760, -3.2192,\n",
      "         0.9622])\n",
      "x_opt  tensor([4.])\n"
     ]
    },
    {
     "name": "stderr",
     "output_type": "stream",
     "text": []
    },
    {
     "name": "stdout",
     "output_type": "stream",
     "text": [
      "tensor([-2.1496, -0.5013, -3.2605, -3.2924,  0.6333, -3.1805, -0.8760, -3.2192,\n",
      "         0.9622])\n",
      "x_opt  tensor([-0.6869])\n",
      "tensor([-2.1496, -0.5013, -3.2605, -3.2924,  0.6333, -3.1805, -0.8760, -3.2192,\n",
      "         0.9622])\n",
      "Iteration 7: Elapsed Time: 3.620405912399292 seconds\n",
      "x_opt  tensor([-1.4141])\n",
      "tensor([-2.1496, -0.5013, -3.2605, -3.2924,  0.6333, -3.1805, -0.8760, -3.2192,\n",
      "         0.9622,  3.9563])\n",
      "x_opt  tensor([-2.0606])\n",
      "tensor([-2.1496, -0.5013, -3.2605, -3.2924,  0.6333, -3.1805, -0.8760, -3.2192,\n",
      "         0.9622,  3.9563])\n",
      "x_opt  tensor([-1.6566])\n",
      "tensor([-2.1496, -0.5013, -3.2605, -3.2924,  0.6333, -3.1805, -0.8760, -3.2192,\n",
      "         0.9622,  3.9563])\n",
      "x_opt  tensor([-2.0606])\n",
      "tensor([-2.1496, -0.5013, -3.2605, -3.2924,  0.6333, -3.1805, -0.8760, -3.2192,\n",
      "         0.9622,  3.9563])\n",
      "x_opt  tensor([-1.3333])\n",
      "tensor([-2.1496, -0.5013, -3.2605, -3.2924,  0.6333, -3.1805, -0.8760, -3.2192,\n",
      "         0.9622,  3.9563])\n",
      "x_opt  tensor([4.])\n",
      "tensor([-2.1496, -0.5013, -3.2605, -3.2924,  0.6333, -3.1805, -0.8760, -3.2192,\n",
      "         0.9622,  3.9563])\n",
      "x_opt  tensor([-1.3333])\n",
      "tensor([-2.1496, -0.5013, -3.2605, -3.2924,  0.6333, -3.1805, -0.8760, -3.2192,\n",
      "         0.9622,  3.9563])\n",
      "x_opt  tensor([-0.9293])\n",
      "tensor([-2.1496, -0.5013, -3.2605, -3.2924,  0.6333, -3.1805, -0.8760, -3.2192,\n",
      "         0.9622,  3.9563])\n",
      "x_opt  tensor([-1.1717])\n",
      "tensor([-2.1496, -0.5013, -3.2605, -3.2924,  0.6333, -3.1805, -0.8760, -3.2192,\n",
      "         0.9622,  3.9563])\n"
     ]
    },
    {
     "name": "stderr",
     "output_type": "stream",
     "text": []
    },
    {
     "name": "stdout",
     "output_type": "stream",
     "text": [
      "x_opt  tensor([-1.4949])\n",
      "tensor([-2.1496, -0.5013, -3.2605, -3.2924,  0.6333, -3.1805, -0.8760, -3.2192,\n",
      "         0.9622,  3.9563])\n",
      "Iteration 8: Elapsed Time: 3.519036054611206 seconds\n",
      "x_opt  tensor([-0.5253])\n",
      "tensor([-2.1496, -0.5013, -3.2605, -3.2924,  0.6333, -3.1805, -0.8760, -3.2192,\n",
      "         0.9622,  3.9563, -3.4598])\n",
      "x_opt  tensor([-1.8182])\n",
      "tensor([-2.1496, -0.5013, -3.2605, -3.2924,  0.6333, -3.1805, -0.8760, -3.2192,\n",
      "         0.9622,  3.9563, -3.4598])\n",
      "x_opt  tensor([-1.1717])\n",
      "tensor([-2.1496, -0.5013, -3.2605, -3.2924,  0.6333, -3.1805, -0.8760, -3.2192,\n",
      "         0.9622,  3.9563, -3.4598])\n",
      "x_opt  tensor([-1.2525])\n",
      "tensor([-2.1496, -0.5013, -3.2605, -3.2924,  0.6333, -3.1805, -0.8760, -3.2192,\n",
      "         0.9622,  3.9563, -3.4598])\n",
      "x_opt  tensor([-0.6061])\n",
      "tensor([-2.1496, -0.5013, -3.2605, -3.2924,  0.6333, -3.1805, -0.8760, -3.2192,\n",
      "         0.9622,  3.9563, -3.4598])\n",
      "x_opt  tensor([-0.9293])\n",
      "tensor([-2.1496, -0.5013, -3.2605, -3.2924,  0.6333, -3.1805, -0.8760, -3.2192,\n",
      "         0.9622,  3.9563, -3.4598])\n",
      "x_opt  tensor([-1.4949])\n",
      "tensor([-2.1496, -0.5013, -3.2605, -3.2924,  0.6333, -3.1805, -0.8760, -3.2192,\n",
      "         0.9622,  3.9563, -3.4598])\n",
      "x_opt  tensor([-1.3333])\n",
      "tensor([-2.1496, -0.5013, -3.2605, -3.2924,  0.6333, -3.1805, -0.8760, -3.2192,\n",
      "         0.9622,  3.9563, -3.4598])\n",
      "x_opt  tensor([-2.6263])\n",
      "tensor([-2.1496, -0.5013, -3.2605, -3.2924,  0.6333, -3.1805, -0.8760, -3.2192,\n",
      "         0.9622,  3.9563, -3.4598])\n"
     ]
    },
    {
     "name": "stderr",
     "output_type": "stream",
     "text": []
    },
    {
     "name": "stdout",
     "output_type": "stream",
     "text": [
      "x_opt  tensor([-1.0101])\n",
      "tensor([-2.1496, -0.5013, -3.2605, -3.2924,  0.6333, -3.1805, -0.8760, -3.2192,\n",
      "         0.9622,  3.9563, -3.4598])\n",
      "Iteration 9: Elapsed Time: 3.9294910430908203 seconds\n",
      "x_opt  tensor([-2.2222])\n",
      "tensor([-2.1496, -0.5013, -3.2605, -3.2924,  0.6333, -3.1805, -0.8760, -3.2192,\n",
      "         0.9622,  3.9563, -3.4598,  2.5236])\n",
      "x_opt  tensor([-1.8182])\n",
      "tensor([-2.1496, -0.5013, -3.2605, -3.2924,  0.6333, -3.1805, -0.8760, -3.2192,\n",
      "         0.9622,  3.9563, -3.4598,  2.5236])\n",
      "x_opt  tensor([-2.2222])\n",
      "tensor([-2.1496, -0.5013, -3.2605, -3.2924,  0.6333, -3.1805, -0.8760, -3.2192,\n",
      "         0.9622,  3.9563, -3.4598,  2.5236])\n",
      "x_opt  tensor([-1.4949])\n",
      "tensor([-2.1496, -0.5013, -3.2605, -3.2924,  0.6333, -3.1805, -0.8760, -3.2192,\n",
      "         0.9622,  3.9563, -3.4598,  2.5236])\n",
      "x_opt  tensor([-1.4141])\n",
      "tensor([-2.1496, -0.5013, -3.2605, -3.2924,  0.6333, -3.1805, -0.8760, -3.2192,\n",
      "         0.9622,  3.9563, -3.4598,  2.5236])\n",
      "x_opt  tensor([-0.7677])\n",
      "tensor([-2.1496, -0.5013, -3.2605, -3.2924,  0.6333, -3.1805, -0.8760, -3.2192,\n",
      "         0.9622,  3.9563, -3.4598,  2.5236])\n",
      "x_opt  tensor([-1.3333])\n",
      "tensor([-2.1496, -0.5013, -3.2605, -3.2924,  0.6333, -3.1805, -0.8760, -3.2192,\n",
      "         0.9622,  3.9563, -3.4598,  2.5236])\n",
      "x_opt  tensor([-1.6566])\n",
      "tensor([-2.1496, -0.5013, -3.2605, -3.2924,  0.6333, -3.1805, -0.8760, -3.2192,\n",
      "         0.9622,  3.9563, -3.4598,  2.5236])\n",
      "x_opt  tensor([-1.7374])\n",
      "tensor([-2.1496, -0.5013, -3.2605, -3.2924,  0.6333, -3.1805, -0.8760, -3.2192,\n",
      "         0.9622,  3.9563, -3.4598,  2.5236])\n",
      "x_opt  tensor([-1.5758])\n",
      "tensor([-2.1496, -0.5013, -3.2605, -3.2924,  0.6333, -3.1805, -0.8760, -3.2192,\n",
      "         0.9622,  3.9563, -3.4598,  2.5236])\n"
     ]
    },
    {
     "name": "stderr",
     "output_type": "stream",
     "text": []
    },
    {
     "name": "stdout",
     "output_type": "stream",
     "text": [
      "Iteration 10: Elapsed Time: 3.6559712886810303 seconds\n",
      "x_opt  tensor([-1.6566])\n",
      "tensor([-2.1496, -0.5013, -3.2605, -3.2924,  0.6333, -3.1805, -0.8760, -3.2192,\n",
      "         0.9622,  3.9563, -3.4598,  2.5236,  2.6338])\n",
      "x_opt  tensor([-2.0606])\n",
      "tensor([-2.1496, -0.5013, -3.2605, -3.2924,  0.6333, -3.1805, -0.8760, -3.2192,\n",
      "         0.9622,  3.9563, -3.4598,  2.5236,  2.6338])\n",
      "x_opt  tensor([-1.5758])\n",
      "tensor([-2.1496, -0.5013, -3.2605, -3.2924,  0.6333, -3.1805, -0.8760, -3.2192,\n",
      "         0.9622,  3.9563, -3.4598,  2.5236,  2.6338])\n",
      "x_opt  tensor([-1.4141])\n",
      "tensor([-2.1496, -0.5013, -3.2605, -3.2924,  0.6333, -3.1805, -0.8760, -3.2192,\n",
      "         0.9622,  3.9563, -3.4598,  2.5236,  2.6338])\n",
      "x_opt  tensor([4.])\n",
      "tensor([-2.1496, -0.5013, -3.2605, -3.2924,  0.6333, -3.1805, -0.8760, -3.2192,\n",
      "         0.9622,  3.9563, -3.4598,  2.5236,  2.6338])\n",
      "x_opt  tensor([-1.8182])\n",
      "tensor([-2.1496, -0.5013, -3.2605, -3.2924,  0.6333, -3.1805, -0.8760, -3.2192,\n",
      "         0.9622,  3.9563, -3.4598,  2.5236,  2.6338])\n",
      "x_opt  tensor([-2.1414])\n",
      "tensor([-2.1496, -0.5013, -3.2605, -3.2924,  0.6333, -3.1805, -0.8760, -3.2192,\n",
      "         0.9622,  3.9563, -3.4598,  2.5236,  2.6338])\n",
      "x_opt  tensor([-1.4141])\n",
      "tensor([-2.1496, -0.5013, -3.2605, -3.2924,  0.6333, -3.1805, -0.8760, -3.2192,\n",
      "         0.9622,  3.9563, -3.4598,  2.5236,  2.6338])\n",
      "x_opt  tensor([-2.1414])\n",
      "tensor([-2.1496, -0.5013, -3.2605, -3.2924,  0.6333, -3.1805, -0.8760, -3.2192,\n",
      "         0.9622,  3.9563, -3.4598,  2.5236,  2.6338])\n",
      "x_opt  tensor([-2.0606])\n",
      "tensor([-2.1496, -0.5013, -3.2605, -3.2924,  0.6333, -3.1805, -0.8760, -3.2192,\n",
      "         0.9622,  3.9563, -3.4598,  2.5236,  2.6338])\n"
     ]
    },
    {
     "name": "stderr",
     "output_type": "stream",
     "text": []
    },
    {
     "name": "stdout",
     "output_type": "stream",
     "text": [
      "Iteration 11: Elapsed Time: 3.7794382572174072 seconds\n",
      "x_opt  tensor([-1.4141])\n",
      "tensor([-2.1496, -0.5013, -3.2605, -3.2924,  0.6333, -3.1805, -0.8760, -3.2192,\n",
      "         0.9622,  3.9563, -3.4598,  2.5236,  2.6338,  2.4794])\n",
      "x_opt  tensor([-1.2525])\n",
      "tensor([-2.1496, -0.5013, -3.2605, -3.2924,  0.6333, -3.1805, -0.8760, -3.2192,\n",
      "         0.9622,  3.9563, -3.4598,  2.5236,  2.6338,  2.4794])\n",
      "x_opt  tensor([-1.3333])\n",
      "tensor([-2.1496, -0.5013, -3.2605, -3.2924,  0.6333, -3.1805, -0.8760, -3.2192,\n",
      "         0.9622,  3.9563, -3.4598,  2.5236,  2.6338,  2.4794])\n",
      "x_opt  tensor([-1.0909])\n",
      "tensor([-2.1496, -0.5013, -3.2605, -3.2924,  0.6333, -3.1805, -0.8760, -3.2192,\n",
      "         0.9622,  3.9563, -3.4598,  2.5236,  2.6338,  2.4794])\n",
      "x_opt  tensor([-0.7677])\n",
      "tensor([-2.1496, -0.5013, -3.2605, -3.2924,  0.6333, -3.1805, -0.8760, -3.2192,\n",
      "         0.9622,  3.9563, -3.4598,  2.5236,  2.6338,  2.4794])\n",
      "x_opt  tensor([-1.4141])\n",
      "tensor([-2.1496, -0.5013, -3.2605, -3.2924,  0.6333, -3.1805, -0.8760, -3.2192,\n",
      "         0.9622,  3.9563, -3.4598,  2.5236,  2.6338,  2.4794])\n",
      "x_opt  tensor([-0.9293])\n",
      "tensor([-2.1496, -0.5013, -3.2605, -3.2924,  0.6333, -3.1805, -0.8760, -3.2192,\n",
      "         0.9622,  3.9563, -3.4598,  2.5236,  2.6338,  2.4794])\n",
      "x_opt  tensor([-1.4949])\n",
      "tensor([-2.1496, -0.5013, -3.2605, -3.2924,  0.6333, -3.1805, -0.8760, -3.2192,\n",
      "         0.9622,  3.9563, -3.4598,  2.5236,  2.6338,  2.4794])\n",
      "x_opt  tensor([-1.0101])\n",
      "tensor([-2.1496, -0.5013, -3.2605, -3.2924,  0.6333, -3.1805, -0.8760, -3.2192,\n",
      "         0.9622,  3.9563, -3.4598,  2.5236,  2.6338,  2.4794])\n",
      "x_opt  tensor([-1.6566])\n",
      "tensor([-2.1496, -0.5013, -3.2605, -3.2924,  0.6333, -3.1805, -0.8760, -3.2192,\n",
      "         0.9622,  3.9563, -3.4598,  2.5236,  2.6338,  2.4794])\n"
     ]
    },
    {
     "name": "stderr",
     "output_type": "stream",
     "text": []
    },
    {
     "name": "stdout",
     "output_type": "stream",
     "text": [
      "Iteration 12: Elapsed Time: 3.774679660797119 seconds\n",
      "x_opt  tensor([-1.8182])\n",
      "tensor([-2.1496, -0.5013, -3.2605, -3.2924,  0.6333, -3.1805, -0.8760, -3.2192,\n",
      "         0.9622,  3.9563, -3.4598,  2.5236,  2.6338,  2.4794, -3.6049])\n",
      "x_opt  tensor([-1.1717])\n",
      "tensor([-2.1496, -0.5013, -3.2605, -3.2924,  0.6333, -3.1805, -0.8760, -3.2192,\n",
      "         0.9622,  3.9563, -3.4598,  2.5236,  2.6338,  2.4794, -3.6049])\n",
      "x_opt  tensor([-1.7374])\n",
      "tensor([-2.1496, -0.5013, -3.2605, -3.2924,  0.6333, -3.1805, -0.8760, -3.2192,\n",
      "         0.9622,  3.9563, -3.4598,  2.5236,  2.6338,  2.4794, -3.6049])\n",
      "x_opt  tensor([-1.3333])\n",
      "tensor([-2.1496, -0.5013, -3.2605, -3.2924,  0.6333, -3.1805, -0.8760, -3.2192,\n",
      "         0.9622,  3.9563, -3.4598,  2.5236,  2.6338,  2.4794, -3.6049])\n",
      "x_opt  tensor([-1.0909])\n",
      "tensor([-2.1496, -0.5013, -3.2605, -3.2924,  0.6333, -3.1805, -0.8760, -3.2192,\n",
      "         0.9622,  3.9563, -3.4598,  2.5236,  2.6338,  2.4794, -3.6049])\n",
      "x_opt  tensor([-1.4949])\n",
      "tensor([-2.1496, -0.5013, -3.2605, -3.2924,  0.6333, -3.1805, -0.8760, -3.2192,\n",
      "         0.9622,  3.9563, -3.4598,  2.5236,  2.6338,  2.4794, -3.6049])\n",
      "x_opt  tensor([-2.1414])\n",
      "tensor([-2.1496, -0.5013, -3.2605, -3.2924,  0.6333, -3.1805, -0.8760, -3.2192,\n",
      "         0.9622,  3.9563, -3.4598,  2.5236,  2.6338,  2.4794, -3.6049])\n",
      "x_opt  tensor([-1.6566])\n",
      "tensor([-2.1496, -0.5013, -3.2605, -3.2924,  0.6333, -3.1805, -0.8760, -3.2192,\n",
      "         0.9622,  3.9563, -3.4598,  2.5236,  2.6338,  2.4794, -3.6049])\n",
      "x_opt  tensor([-1.4141])\n",
      "tensor([-2.1496, -0.5013, -3.2605, -3.2924,  0.6333, -3.1805, -0.8760, -3.2192,\n",
      "         0.9622,  3.9563, -3.4598,  2.5236,  2.6338,  2.4794, -3.6049])\n"
     ]
    },
    {
     "name": "stderr",
     "output_type": "stream",
     "text": []
    },
    {
     "name": "stdout",
     "output_type": "stream",
     "text": [
      "x_opt  tensor([-1.7374])\n",
      "tensor([-2.1496, -0.5013, -3.2605, -3.2924,  0.6333, -3.1805, -0.8760, -3.2192,\n",
      "         0.9622,  3.9563, -3.4598,  2.5236,  2.6338,  2.4794, -3.6049])\n",
      "Iteration 13: Elapsed Time: 3.8170669078826904 seconds\n",
      "x_opt  tensor([-1.7374])\n",
      "tensor([-2.1496, -0.5013, -3.2605, -3.2924,  0.6333, -3.1805, -0.8760, -3.2192,\n",
      "         0.9622,  3.9563, -3.4598,  2.5236,  2.6338,  2.4794, -3.6049,  2.5608])\n",
      "x_opt  tensor([-1.3333])\n",
      "tensor([-2.1496, -0.5013, -3.2605, -3.2924,  0.6333, -3.1805, -0.8760, -3.2192,\n",
      "         0.9622,  3.9563, -3.4598,  2.5236,  2.6338,  2.4794, -3.6049,  2.5608])\n",
      "x_opt  tensor([-0.6869])\n",
      "tensor([-2.1496, -0.5013, -3.2605, -3.2924,  0.6333, -3.1805, -0.8760, -3.2192,\n",
      "         0.9622,  3.9563, -3.4598,  2.5236,  2.6338,  2.4794, -3.6049,  2.5608])\n",
      "x_opt  tensor([-1.8182])\n",
      "tensor([-2.1496, -0.5013, -3.2605, -3.2924,  0.6333, -3.1805, -0.8760, -3.2192,\n",
      "         0.9622,  3.9563, -3.4598,  2.5236,  2.6338,  2.4794, -3.6049,  2.5608])\n",
      "x_opt  tensor([-1.2525])\n",
      "tensor([-2.1496, -0.5013, -3.2605, -3.2924,  0.6333, -3.1805, -0.8760, -3.2192,\n",
      "         0.9622,  3.9563, -3.4598,  2.5236,  2.6338,  2.4794, -3.6049,  2.5608])\n",
      "x_opt  tensor([-0.0404])\n",
      "tensor([-2.1496, -0.5013, -3.2605, -3.2924,  0.6333, -3.1805, -0.8760, -3.2192,\n",
      "         0.9622,  3.9563, -3.4598,  2.5236,  2.6338,  2.4794, -3.6049,  2.5608])\n",
      "x_opt  tensor([-1.8990])\n",
      "tensor([-2.1496, -0.5013, -3.2605, -3.2924,  0.6333, -3.1805, -0.8760, -3.2192,\n",
      "         0.9622,  3.9563, -3.4598,  2.5236,  2.6338,  2.4794, -3.6049,  2.5608])\n",
      "x_opt  tensor([-1.9798])\n",
      "tensor([-2.1496, -0.5013, -3.2605, -3.2924,  0.6333, -3.1805, -0.8760, -3.2192,\n",
      "         0.9622,  3.9563, -3.4598,  2.5236,  2.6338,  2.4794, -3.6049,  2.5608])\n",
      "x_opt  tensor([-1.0909])\n",
      "tensor([-2.1496, -0.5013, -3.2605, -3.2924,  0.6333, -3.1805, -0.8760, -3.2192,\n",
      "         0.9622,  3.9563, -3.4598,  2.5236,  2.6338,  2.4794, -3.6049,  2.5608])\n",
      "x_opt  tensor([-1.7374])\n",
      "tensor([-2.1496, -0.5013, -3.2605, -3.2924,  0.6333, -3.1805, -0.8760, -3.2192,\n",
      "         0.9622,  3.9563, -3.4598,  2.5236,  2.6338,  2.4794, -3.6049,  2.5608])\n"
     ]
    },
    {
     "name": "stderr",
     "output_type": "stream",
     "text": []
    },
    {
     "name": "stdout",
     "output_type": "stream",
     "text": [
      "Iteration 14: Elapsed Time: 3.7555079460144043 seconds\n",
      "x_opt  tensor([-1.2525])\n",
      "tensor([-2.1496, -0.5013, -3.2605, -3.2924,  0.6333, -3.1805, -0.8760, -3.2192,\n",
      "         0.9622,  3.9563, -3.4598,  2.5236,  2.6338,  2.4794, -3.6049,  2.5608,\n",
      "         2.3448])\n",
      "x_opt  tensor([-1.4949])\n",
      "tensor([-2.1496, -0.5013, -3.2605, -3.2924,  0.6333, -3.1805, -0.8760, -3.2192,\n",
      "         0.9622,  3.9563, -3.4598,  2.5236,  2.6338,  2.4794, -3.6049,  2.5608,\n",
      "         2.3448])\n",
      "x_opt  tensor([-0.9293])\n",
      "tensor([-2.1496, -0.5013, -3.2605, -3.2924,  0.6333, -3.1805, -0.8760, -3.2192,\n",
      "         0.9622,  3.9563, -3.4598,  2.5236,  2.6338,  2.4794, -3.6049,  2.5608,\n",
      "         2.3448])\n",
      "x_opt  tensor([-2.0606])\n",
      "tensor([-2.1496, -0.5013, -3.2605, -3.2924,  0.6333, -3.1805, -0.8760, -3.2192,\n",
      "         0.9622,  3.9563, -3.4598,  2.5236,  2.6338,  2.4794, -3.6049,  2.5608,\n",
      "         2.3448])\n",
      "x_opt  tensor([-1.8182])\n",
      "tensor([-2.1496, -0.5013, -3.2605, -3.2924,  0.6333, -3.1805, -0.8760, -3.2192,\n",
      "         0.9622,  3.9563, -3.4598,  2.5236,  2.6338,  2.4794, -3.6049,  2.5608,\n",
      "         2.3448])\n",
      "x_opt  tensor([-1.0101])\n",
      "tensor([-2.1496, -0.5013, -3.2605, -3.2924,  0.6333, -3.1805, -0.8760, -3.2192,\n",
      "         0.9622,  3.9563, -3.4598,  2.5236,  2.6338,  2.4794, -3.6049,  2.5608,\n",
      "         2.3448])\n",
      "x_opt  tensor([4.])\n",
      "tensor([-2.1496, -0.5013, -3.2605, -3.2924,  0.6333, -3.1805, -0.8760, -3.2192,\n",
      "         0.9622,  3.9563, -3.4598,  2.5236,  2.6338,  2.4794, -3.6049,  2.5608,\n",
      "         2.3448])\n",
      "x_opt  tensor([-1.1717])\n",
      "tensor([-2.1496, -0.5013, -3.2605, -3.2924,  0.6333, -3.1805, -0.8760, -3.2192,\n",
      "         0.9622,  3.9563, -3.4598,  2.5236,  2.6338,  2.4794, -3.6049,  2.5608,\n",
      "         2.3448])\n",
      "x_opt  tensor([-2.0606])\n",
      "tensor([-2.1496, -0.5013, -3.2605, -3.2924,  0.6333, -3.1805, -0.8760, -3.2192,\n",
      "         0.9622,  3.9563, -3.4598,  2.5236,  2.6338,  2.4794, -3.6049,  2.5608,\n",
      "         2.3448])\n",
      "x_opt  tensor([-1.0909])\n",
      "tensor([-2.1496, -0.5013, -3.2605, -3.2924,  0.6333, -3.1805, -0.8760, -3.2192,\n",
      "         0.9622,  3.9563, -3.4598,  2.5236,  2.6338,  2.4794, -3.6049,  2.5608,\n",
      "         2.3448])\n"
     ]
    },
    {
     "name": "stderr",
     "output_type": "stream",
     "text": []
    },
    {
     "name": "stdout",
     "output_type": "stream",
     "text": [
      "Iteration 15: Elapsed Time: 3.906597137451172 seconds\n",
      "x_opt  tensor([-1.2525])\n",
      "tensor([-2.1496, -0.5013, -3.2605, -3.2924,  0.6333, -3.1805, -0.8760, -3.2192,\n",
      "         0.9622,  3.9563, -3.4598,  2.5236,  2.6338,  2.4794, -3.6049,  2.5608,\n",
      "         2.3448,  2.4018])\n",
      "x_opt  tensor([-1.1717])\n",
      "tensor([-2.1496, -0.5013, -3.2605, -3.2924,  0.6333, -3.1805, -0.8760, -3.2192,\n",
      "         0.9622,  3.9563, -3.4598,  2.5236,  2.6338,  2.4794, -3.6049,  2.5608,\n",
      "         2.3448,  2.4018])\n",
      "x_opt  tensor([-1.2525])\n",
      "tensor([-2.1496, -0.5013, -3.2605, -3.2924,  0.6333, -3.1805, -0.8760, -3.2192,\n",
      "         0.9622,  3.9563, -3.4598,  2.5236,  2.6338,  2.4794, -3.6049,  2.5608,\n",
      "         2.3448,  2.4018])\n",
      "x_opt  tensor([-0.8485])\n",
      "tensor([-2.1496, -0.5013, -3.2605, -3.2924,  0.6333, -3.1805, -0.8760, -3.2192,\n",
      "         0.9622,  3.9563, -3.4598,  2.5236,  2.6338,  2.4794, -3.6049,  2.5608,\n",
      "         2.3448,  2.4018])\n",
      "x_opt  tensor([-1.8182])\n",
      "tensor([-2.1496, -0.5013, -3.2605, -3.2924,  0.6333, -3.1805, -0.8760, -3.2192,\n",
      "         0.9622,  3.9563, -3.4598,  2.5236,  2.6338,  2.4794, -3.6049,  2.5608,\n",
      "         2.3448,  2.4018])\n",
      "x_opt  tensor([-1.1717])\n",
      "tensor([-2.1496, -0.5013, -3.2605, -3.2924,  0.6333, -3.1805, -0.8760, -3.2192,\n",
      "         0.9622,  3.9563, -3.4598,  2.5236,  2.6338,  2.4794, -3.6049,  2.5608,\n",
      "         2.3448,  2.4018])\n",
      "x_opt  tensor([-1.4141])\n",
      "tensor([-2.1496, -0.5013, -3.2605, -3.2924,  0.6333, -3.1805, -0.8760, -3.2192,\n",
      "         0.9622,  3.9563, -3.4598,  2.5236,  2.6338,  2.4794, -3.6049,  2.5608,\n",
      "         2.3448,  2.4018])\n",
      "x_opt  tensor([-1.0909])\n",
      "tensor([-2.1496, -0.5013, -3.2605, -3.2924,  0.6333, -3.1805, -0.8760, -3.2192,\n",
      "         0.9622,  3.9563, -3.4598,  2.5236,  2.6338,  2.4794, -3.6049,  2.5608,\n",
      "         2.3448,  2.4018])\n",
      "x_opt  tensor([-1.1717])\n",
      "tensor([-2.1496, -0.5013, -3.2605, -3.2924,  0.6333, -3.1805, -0.8760, -3.2192,\n",
      "         0.9622,  3.9563, -3.4598,  2.5236,  2.6338,  2.4794, -3.6049,  2.5608,\n",
      "         2.3448,  2.4018])\n",
      "x_opt  tensor([-1.9798])\n",
      "tensor([-2.1496, -0.5013, -3.2605, -3.2924,  0.6333, -3.1805, -0.8760, -3.2192,\n",
      "         0.9622,  3.9563, -3.4598,  2.5236,  2.6338,  2.4794, -3.6049,  2.5608,\n",
      "         2.3448,  2.4018])\n"
     ]
    },
    {
     "name": "stderr",
     "output_type": "stream",
     "text": []
    },
    {
     "name": "stdout",
     "output_type": "stream",
     "text": [
      "Iteration 16: Elapsed Time: 3.877079963684082 seconds\n",
      "x_opt  tensor([-1.4949])\n",
      "tensor([-2.1496, -0.5013, -3.2605, -3.2924,  0.6333, -3.1805, -0.8760, -3.2192,\n",
      "         0.9622,  3.9563, -3.4598,  2.5236,  2.6338,  2.4794, -3.6049,  2.5608,\n",
      "         2.3448,  2.4018,  2.5008])\n",
      "x_opt  tensor([-1.9798])\n",
      "tensor([-2.1496, -0.5013, -3.2605, -3.2924,  0.6333, -3.1805, -0.8760, -3.2192,\n",
      "         0.9622,  3.9563, -3.4598,  2.5236,  2.6338,  2.4794, -3.6049,  2.5608,\n",
      "         2.3448,  2.4018,  2.5008])\n",
      "x_opt  tensor([-0.6869])\n",
      "tensor([-2.1496, -0.5013, -3.2605, -3.2924,  0.6333, -3.1805, -0.8760, -3.2192,\n",
      "         0.9622,  3.9563, -3.4598,  2.5236,  2.6338,  2.4794, -3.6049,  2.5608,\n",
      "         2.3448,  2.4018,  2.5008])\n",
      "x_opt  tensor([-0.7677])\n",
      "tensor([-2.1496, -0.5013, -3.2605, -3.2924,  0.6333, -3.1805, -0.8760, -3.2192,\n",
      "         0.9622,  3.9563, -3.4598,  2.5236,  2.6338,  2.4794, -3.6049,  2.5608,\n",
      "         2.3448,  2.4018,  2.5008])\n",
      "x_opt  tensor([-1.3333])\n",
      "tensor([-2.1496, -0.5013, -3.2605, -3.2924,  0.6333, -3.1805, -0.8760, -3.2192,\n",
      "         0.9622,  3.9563, -3.4598,  2.5236,  2.6338,  2.4794, -3.6049,  2.5608,\n",
      "         2.3448,  2.4018,  2.5008])\n",
      "x_opt  tensor([-1.0909])\n",
      "tensor([-2.1496, -0.5013, -3.2605, -3.2924,  0.6333, -3.1805, -0.8760, -3.2192,\n",
      "         0.9622,  3.9563, -3.4598,  2.5236,  2.6338,  2.4794, -3.6049,  2.5608,\n",
      "         2.3448,  2.4018,  2.5008])\n",
      "x_opt  tensor([-1.3333])\n",
      "tensor([-2.1496, -0.5013, -3.2605, -3.2924,  0.6333, -3.1805, -0.8760, -3.2192,\n",
      "         0.9622,  3.9563, -3.4598,  2.5236,  2.6338,  2.4794, -3.6049,  2.5608,\n",
      "         2.3448,  2.4018,  2.5008])\n",
      "x_opt  tensor([-1.0909])\n",
      "tensor([-2.1496, -0.5013, -3.2605, -3.2924,  0.6333, -3.1805, -0.8760, -3.2192,\n",
      "         0.9622,  3.9563, -3.4598,  2.5236,  2.6338,  2.4794, -3.6049,  2.5608,\n",
      "         2.3448,  2.4018,  2.5008])\n",
      "x_opt  tensor([-1.6566])\n",
      "tensor([-2.1496, -0.5013, -3.2605, -3.2924,  0.6333, -3.1805, -0.8760, -3.2192,\n",
      "         0.9622,  3.9563, -3.4598,  2.5236,  2.6338,  2.4794, -3.6049,  2.5608,\n",
      "         2.3448,  2.4018,  2.5008])\n",
      "x_opt  tensor([-1.3333])\n",
      "tensor([-2.1496, -0.5013, -3.2605, -3.2924,  0.6333, -3.1805, -0.8760, -3.2192,\n",
      "         0.9622,  3.9563, -3.4598,  2.5236,  2.6338,  2.4794, -3.6049,  2.5608,\n",
      "         2.3448,  2.4018,  2.5008])\n"
     ]
    },
    {
     "name": "stderr",
     "output_type": "stream",
     "text": [
      "100%|██████████| 17/17 [01:02<00:00,  3.66s/it]"
     ]
    },
    {
     "name": "stdout",
     "output_type": "stream",
     "text": [
      "Iteration 17: Elapsed Time: 3.9444990158081055 seconds\n"
     ]
    },
    {
     "name": "stderr",
     "output_type": "stream",
     "text": [
      "\n",
      " 60%|██████    | 3/5 [03:11<02:06, 63.48s/it]"
     ]
    },
    {
     "name": "stdout",
     "output_type": "stream",
     "text": [
      "[-3.91700677  0.01499674 -0.03381365]\n"
     ]
    },
    {
     "name": "stderr",
     "output_type": "stream",
     "text": []
    },
    {
     "name": "stdout",
     "output_type": "stream",
     "text": [
      "x_opt  tensor([-0.6869])\n",
      "tensor([ 2.3905,  0.6489, -0.8179])\n",
      "x_opt  tensor([0.7677])\n",
      "tensor([ 2.3905,  0.6489, -0.8179])\n",
      "x_opt  tensor([0.9293])\n",
      "tensor([ 2.3905,  0.6489, -0.8179])\n",
      "x_opt  tensor([-0.4444])\n",
      "tensor([ 2.3905,  0.6489, -0.8179])\n",
      "x_opt  tensor([-1.0101])\n",
      "tensor([ 2.3905,  0.6489, -0.8179])\n",
      "x_opt  tensor([1.8182])\n",
      "tensor([ 2.3905,  0.6489, -0.8179])\n",
      "x_opt  tensor([0.7677])\n",
      "tensor([ 2.3905,  0.6489, -0.8179])\n",
      "x_opt  tensor([2.6263])\n",
      "tensor([ 2.3905,  0.6489, -0.8179])\n"
     ]
    },
    {
     "name": "stderr",
     "output_type": "stream",
     "text": []
    },
    {
     "name": "stdout",
     "output_type": "stream",
     "text": [
      "x_opt  tensor([-0.2828])\n",
      "tensor([ 2.3905,  0.6489, -0.8179])\n",
      "x_opt  tensor([-1.4141])\n",
      "tensor([ 2.3905,  0.6489, -0.8179])\n",
      "Iteration 1: Elapsed Time: 3.300278902053833 seconds\n",
      "x_opt  tensor([3.7576])\n",
      "tensor([ 2.3905,  0.6489, -0.8179, -3.4804])\n",
      "x_opt  tensor([3.1111])\n",
      "tensor([ 2.3905,  0.6489, -0.8179, -3.4804])\n",
      "x_opt  tensor([1.3333])\n",
      "tensor([ 2.3905,  0.6489, -0.8179, -3.4804])\n",
      "x_opt  tensor([-1.6566])\n",
      "tensor([ 2.3905,  0.6489, -0.8179, -3.4804])\n",
      "x_opt  tensor([4.])\n",
      "tensor([ 2.3905,  0.6489, -0.8179, -3.4804])\n",
      "x_opt  tensor([-0.3636])\n",
      "tensor([ 2.3905,  0.6489, -0.8179, -3.4804])\n",
      "x_opt  tensor([3.5152])\n",
      "tensor([ 2.3905,  0.6489, -0.8179, -3.4804])\n",
      "x_opt  tensor([2.2222])\n",
      "tensor([ 2.3905,  0.6489, -0.8179, -3.4804])\n",
      "x_opt  tensor([-0.3636])\n",
      "tensor([ 2.3905,  0.6489, -0.8179, -3.4804])\n",
      "x_opt  tensor([3.1919])\n",
      "tensor([ 2.3905,  0.6489, -0.8179, -3.4804])\n"
     ]
    },
    {
     "name": "stderr",
     "output_type": "stream",
     "text": []
    },
    {
     "name": "stdout",
     "output_type": "stream",
     "text": [
      "Iteration 2: Elapsed Time: 3.4563698768615723 seconds\n",
      "x_opt  tensor([3.4343])\n",
      "tensor([ 2.3905,  0.6489, -0.8179, -3.4804, -2.5319])\n",
      "x_opt  tensor([3.8384])\n",
      "tensor([ 2.3905,  0.6489, -0.8179, -3.4804, -2.5319])\n",
      "x_opt  tensor([3.3535])\n",
      "tensor([ 2.3905,  0.6489, -0.8179, -3.4804, -2.5319])\n",
      "x_opt  tensor([3.0303])\n",
      "tensor([ 2.3905,  0.6489, -0.8179, -3.4804, -2.5319])\n",
      "x_opt  tensor([3.7576])\n",
      "tensor([ 2.3905,  0.6489, -0.8179, -3.4804, -2.5319])\n",
      "x_opt  tensor([4.])\n",
      "tensor([ 2.3905,  0.6489, -0.8179, -3.4804, -2.5319])\n",
      "x_opt  tensor([2.9495])\n",
      "tensor([ 2.3905,  0.6489, -0.8179, -3.4804, -2.5319])\n",
      "x_opt  tensor([3.5152])\n",
      "tensor([ 2.3905,  0.6489, -0.8179, -3.4804, -2.5319])\n",
      "x_opt  tensor([3.2727])\n",
      "tensor([ 2.3905,  0.6489, -0.8179, -3.4804, -2.5319])\n"
     ]
    },
    {
     "name": "stderr",
     "output_type": "stream",
     "text": []
    },
    {
     "name": "stdout",
     "output_type": "stream",
     "text": [
      "x_opt  tensor([2.6263])\n",
      "tensor([ 2.3905,  0.6489, -0.8179, -3.4804, -2.5319])\n",
      "Iteration 3: Elapsed Time: 3.599729299545288 seconds\n",
      "x_opt  tensor([4.])\n",
      "tensor([ 2.3905,  0.6489, -0.8179, -3.4804, -2.5319,  2.1968])\n",
      "x_opt  tensor([3.2727])\n",
      "tensor([ 2.3905,  0.6489, -0.8179, -3.4804, -2.5319,  2.1968])\n",
      "x_opt  tensor([3.1919])\n",
      "tensor([ 2.3905,  0.6489, -0.8179, -3.4804, -2.5319,  2.1968])\n",
      "x_opt  tensor([4.])\n",
      "tensor([ 2.3905,  0.6489, -0.8179, -3.4804, -2.5319,  2.1968])\n",
      "x_opt  tensor([2.3838])\n",
      "tensor([ 2.3905,  0.6489, -0.8179, -3.4804, -2.5319,  2.1968])\n",
      "x_opt  tensor([3.6768])\n",
      "tensor([ 2.3905,  0.6489, -0.8179, -3.4804, -2.5319,  2.1968])\n",
      "x_opt  tensor([3.5960])\n",
      "tensor([ 2.3905,  0.6489, -0.8179, -3.4804, -2.5319,  2.1968])\n",
      "x_opt  tensor([0.1212])\n",
      "tensor([ 2.3905,  0.6489, -0.8179, -3.4804, -2.5319,  2.1968])\n",
      "x_opt  tensor([3.1919])\n",
      "tensor([ 2.3905,  0.6489, -0.8179, -3.4804, -2.5319,  2.1968])\n"
     ]
    },
    {
     "name": "stderr",
     "output_type": "stream",
     "text": []
    },
    {
     "name": "stdout",
     "output_type": "stream",
     "text": [
      "x_opt  tensor([3.2727])\n",
      "tensor([ 2.3905,  0.6489, -0.8179, -3.4804, -2.5319,  2.1968])\n",
      "Iteration 4: Elapsed Time: 3.4651389122009277 seconds\n",
      "x_opt  tensor([3.9192])\n",
      "tensor([ 2.3905,  0.6489, -0.8179, -3.4804, -2.5319,  2.1968, -3.3726])\n",
      "x_opt  tensor([3.3535])\n",
      "tensor([ 2.3905,  0.6489, -0.8179, -3.4804, -2.5319,  2.1968, -3.3726])\n",
      "x_opt  tensor([2.5455])\n",
      "tensor([ 2.3905,  0.6489, -0.8179, -3.4804, -2.5319,  2.1968, -3.3726])\n",
      "x_opt  tensor([3.5960])\n",
      "tensor([ 2.3905,  0.6489, -0.8179, -3.4804, -2.5319,  2.1968, -3.3726])\n",
      "x_opt  tensor([3.1919])\n",
      "tensor([ 2.3905,  0.6489, -0.8179, -3.4804, -2.5319,  2.1968, -3.3726])\n",
      "x_opt  tensor([4.])\n",
      "tensor([ 2.3905,  0.6489, -0.8179, -3.4804, -2.5319,  2.1968, -3.3726])\n",
      "x_opt  tensor([3.4343])\n",
      "tensor([ 2.3905,  0.6489, -0.8179, -3.4804, -2.5319,  2.1968, -3.3726])\n",
      "x_opt  tensor([3.6768])\n",
      "tensor([ 2.3905,  0.6489, -0.8179, -3.4804, -2.5319,  2.1968, -3.3726])\n",
      "x_opt  tensor([3.7576])\n",
      "tensor([ 2.3905,  0.6489, -0.8179, -3.4804, -2.5319,  2.1968, -3.3726])\n",
      "x_opt  tensor([3.0303])\n",
      "tensor([ 2.3905,  0.6489, -0.8179, -3.4804, -2.5319,  2.1968, -3.3726])\n"
     ]
    },
    {
     "name": "stderr",
     "output_type": "stream",
     "text": []
    },
    {
     "name": "stdout",
     "output_type": "stream",
     "text": [
      "Iteration 5: Elapsed Time: 4.184399843215942 seconds\n",
      "x_opt  tensor([-1.8182])\n",
      "tensor([ 2.3905,  0.6489, -0.8179, -3.4804, -2.5319,  2.1968, -3.3726, -3.8529])\n",
      "x_opt  tensor([-1.0909])\n",
      "tensor([ 2.3905,  0.6489, -0.8179, -3.4804, -2.5319,  2.1968, -3.3726, -3.8529])\n",
      "x_opt  tensor([-1.8182])\n",
      "tensor([ 2.3905,  0.6489, -0.8179, -3.4804, -2.5319,  2.1968, -3.3726, -3.8529])\n",
      "x_opt  tensor([-1.7374])\n",
      "tensor([ 2.3905,  0.6489, -0.8179, -3.4804, -2.5319,  2.1968, -3.3726, -3.8529])\n",
      "x_opt  tensor([-1.2525])\n",
      "tensor([ 2.3905,  0.6489, -0.8179, -3.4804, -2.5319,  2.1968, -3.3726, -3.8529])\n",
      "x_opt  tensor([-1.6566])\n",
      "tensor([ 2.3905,  0.6489, -0.8179, -3.4804, -2.5319,  2.1968, -3.3726, -3.8529])\n",
      "x_opt  tensor([-1.8990])\n",
      "tensor([ 2.3905,  0.6489, -0.8179, -3.4804, -2.5319,  2.1968, -3.3726, -3.8529])\n",
      "x_opt  tensor([2.5455])\n",
      "tensor([ 2.3905,  0.6489, -0.8179, -3.4804, -2.5319,  2.1968, -3.3726, -3.8529])\n",
      "x_opt  tensor([3.7576])\n",
      "tensor([ 2.3905,  0.6489, -0.8179, -3.4804, -2.5319,  2.1968, -3.3726, -3.8529])\n"
     ]
    },
    {
     "name": "stderr",
     "output_type": "stream",
     "text": []
    },
    {
     "name": "stdout",
     "output_type": "stream",
     "text": [
      "x_opt  tensor([3.2727])\n",
      "tensor([ 2.3905,  0.6489, -0.8179, -3.4804, -2.5319,  2.1968, -3.3726, -3.8529])\n",
      "Iteration 6: Elapsed Time: 3.6420600414276123 seconds\n",
      "x_opt  tensor([-1.3333])\n",
      "tensor([ 2.3905,  0.6489, -0.8179, -3.4804, -2.5319,  2.1968, -3.3726, -3.8529,\n",
      "        -2.3745])\n",
      "x_opt  tensor([-1.1717])\n",
      "tensor([ 2.3905,  0.6489, -0.8179, -3.4804, -2.5319,  2.1968, -3.3726, -3.8529,\n",
      "        -2.3745])\n",
      "x_opt  tensor([-1.6566])\n",
      "tensor([ 2.3905,  0.6489, -0.8179, -3.4804, -2.5319,  2.1968, -3.3726, -3.8529,\n",
      "        -2.3745])\n",
      "x_opt  tensor([2.7071])\n",
      "tensor([ 2.3905,  0.6489, -0.8179, -3.4804, -2.5319,  2.1968, -3.3726, -3.8529,\n",
      "        -2.3745])\n",
      "x_opt  tensor([-1.5758])\n",
      "tensor([ 2.3905,  0.6489, -0.8179, -3.4804, -2.5319,  2.1968, -3.3726, -3.8529,\n",
      "        -2.3745])\n",
      "x_opt  tensor([-1.8990])\n",
      "tensor([ 2.3905,  0.6489, -0.8179, -3.4804, -2.5319,  2.1968, -3.3726, -3.8529,\n",
      "        -2.3745])\n",
      "x_opt  tensor([-1.3333])\n",
      "tensor([ 2.3905,  0.6489, -0.8179, -3.4804, -2.5319,  2.1968, -3.3726, -3.8529,\n",
      "        -2.3745])\n",
      "x_opt  tensor([-1.4949])\n",
      "tensor([ 2.3905,  0.6489, -0.8179, -3.4804, -2.5319,  2.1968, -3.3726, -3.8529,\n",
      "        -2.3745])\n",
      "x_opt  tensor([-1.9798])\n",
      "tensor([ 2.3905,  0.6489, -0.8179, -3.4804, -2.5319,  2.1968, -3.3726, -3.8529,\n",
      "        -2.3745])\n"
     ]
    },
    {
     "name": "stderr",
     "output_type": "stream",
     "text": []
    },
    {
     "name": "stdout",
     "output_type": "stream",
     "text": [
      "x_opt  tensor([-1.4141])\n",
      "tensor([ 2.3905,  0.6489, -0.8179, -3.4804, -2.5319,  2.1968, -3.3726, -3.8529,\n",
      "        -2.3745])\n",
      "Iteration 7: Elapsed Time: 3.5884430408477783 seconds\n",
      "x_opt  tensor([4.])\n",
      "tensor([ 2.3905,  0.6489, -0.8179, -3.4804, -2.5319,  2.1968, -3.3726, -3.8529,\n",
      "        -2.3745,  3.4102])\n",
      "x_opt  tensor([-1.7374])\n",
      "tensor([ 2.3905,  0.6489, -0.8179, -3.4804, -2.5319,  2.1968, -3.3726, -3.8529,\n",
      "        -2.3745,  3.4102])\n",
      "x_opt  tensor([-1.4949])\n",
      "tensor([ 2.3905,  0.6489, -0.8179, -3.4804, -2.5319,  2.1968, -3.3726, -3.8529,\n",
      "        -2.3745,  3.4102])\n",
      "x_opt  tensor([3.6768])\n",
      "tensor([ 2.3905,  0.6489, -0.8179, -3.4804, -2.5319,  2.1968, -3.3726, -3.8529,\n",
      "        -2.3745,  3.4102])\n",
      "x_opt  tensor([-1.3333])\n",
      "tensor([ 2.3905,  0.6489, -0.8179, -3.4804, -2.5319,  2.1968, -3.3726, -3.8529,\n",
      "        -2.3745,  3.4102])\n",
      "x_opt  tensor([-1.7374])\n",
      "tensor([ 2.3905,  0.6489, -0.8179, -3.4804, -2.5319,  2.1968, -3.3726, -3.8529,\n",
      "        -2.3745,  3.4102])\n",
      "x_opt  tensor([-1.8182])\n",
      "tensor([ 2.3905,  0.6489, -0.8179, -3.4804, -2.5319,  2.1968, -3.3726, -3.8529,\n",
      "        -2.3745,  3.4102])\n",
      "x_opt  tensor([-1.7374])\n",
      "tensor([ 2.3905,  0.6489, -0.8179, -3.4804, -2.5319,  2.1968, -3.3726, -3.8529,\n",
      "        -2.3745,  3.4102])\n",
      "x_opt  tensor([-1.3333])\n",
      "tensor([ 2.3905,  0.6489, -0.8179, -3.4804, -2.5319,  2.1968, -3.3726, -3.8529,\n",
      "        -2.3745,  3.4102])\n"
     ]
    },
    {
     "name": "stderr",
     "output_type": "stream",
     "text": []
    },
    {
     "name": "stdout",
     "output_type": "stream",
     "text": [
      "x_opt  tensor([-1.0101])\n",
      "tensor([ 2.3905,  0.6489, -0.8179, -3.4804, -2.5319,  2.1968, -3.3726, -3.8529,\n",
      "        -2.3745,  3.4102])\n",
      "Iteration 8: Elapsed Time: 3.666801929473877 seconds\n",
      "x_opt  tensor([-1.0101])\n",
      "tensor([ 2.3905,  0.6489, -0.8179, -3.4804, -2.5319,  2.1968, -3.3726, -3.8529,\n",
      "        -2.3745,  3.4102,  2.3454])\n",
      "x_opt  tensor([-1.8182])\n",
      "tensor([ 2.3905,  0.6489, -0.8179, -3.4804, -2.5319,  2.1968, -3.3726, -3.8529,\n",
      "        -2.3745,  3.4102,  2.3454])\n",
      "x_opt  tensor([-1.6566])\n",
      "tensor([ 2.3905,  0.6489, -0.8179, -3.4804, -2.5319,  2.1968, -3.3726, -3.8529,\n",
      "        -2.3745,  3.4102,  2.3454])\n",
      "x_opt  tensor([-1.6566])\n",
      "tensor([ 2.3905,  0.6489, -0.8179, -3.4804, -2.5319,  2.1968, -3.3726, -3.8529,\n",
      "        -2.3745,  3.4102,  2.3454])\n",
      "x_opt  tensor([-0.7677])\n",
      "tensor([ 2.3905,  0.6489, -0.8179, -3.4804, -2.5319,  2.1968, -3.3726, -3.8529,\n",
      "        -2.3745,  3.4102,  2.3454])\n",
      "x_opt  tensor([-1.4141])\n",
      "tensor([ 2.3905,  0.6489, -0.8179, -3.4804, -2.5319,  2.1968, -3.3726, -3.8529,\n",
      "        -2.3745,  3.4102,  2.3454])\n",
      "x_opt  tensor([-1.6566])\n",
      "tensor([ 2.3905,  0.6489, -0.8179, -3.4804, -2.5319,  2.1968, -3.3726, -3.8529,\n",
      "        -2.3745,  3.4102,  2.3454])\n",
      "x_opt  tensor([-2.4646])\n",
      "tensor([ 2.3905,  0.6489, -0.8179, -3.4804, -2.5319,  2.1968, -3.3726, -3.8529,\n",
      "        -2.3745,  3.4102,  2.3454])\n",
      "x_opt  tensor([-1.7374])\n",
      "tensor([ 2.3905,  0.6489, -0.8179, -3.4804, -2.5319,  2.1968, -3.3726, -3.8529,\n",
      "        -2.3745,  3.4102,  2.3454])\n",
      "x_opt  tensor([-1.8990])\n",
      "tensor([ 2.3905,  0.6489, -0.8179, -3.4804, -2.5319,  2.1968, -3.3726, -3.8529,\n",
      "        -2.3745,  3.4102,  2.3454])\n"
     ]
    },
    {
     "name": "stderr",
     "output_type": "stream",
     "text": []
    },
    {
     "name": "stdout",
     "output_type": "stream",
     "text": [
      "Iteration 9: Elapsed Time: 3.679621696472168 seconds\n",
      "x_opt  tensor([-2.4646])\n",
      "tensor([ 2.3905,  0.6489, -0.8179, -3.4804, -2.5319,  2.1968, -3.3726, -3.8529,\n",
      "        -2.3745,  3.4102,  2.3454,  2.5840])\n",
      "x_opt  tensor([-1.7374])\n",
      "tensor([ 2.3905,  0.6489, -0.8179, -3.4804, -2.5319,  2.1968, -3.3726, -3.8529,\n",
      "        -2.3745,  3.4102,  2.3454,  2.5840])\n",
      "x_opt  tensor([-0.6061])\n",
      "tensor([ 2.3905,  0.6489, -0.8179, -3.4804, -2.5319,  2.1968, -3.3726, -3.8529,\n",
      "        -2.3745,  3.4102,  2.3454,  2.5840])\n",
      "x_opt  tensor([-1.8182])\n",
      "tensor([ 2.3905,  0.6489, -0.8179, -3.4804, -2.5319,  2.1968, -3.3726, -3.8529,\n",
      "        -2.3745,  3.4102,  2.3454,  2.5840])\n",
      "x_opt  tensor([-1.1717])\n",
      "tensor([ 2.3905,  0.6489, -0.8179, -3.4804, -2.5319,  2.1968, -3.3726, -3.8529,\n",
      "        -2.3745,  3.4102,  2.3454,  2.5840])\n",
      "x_opt  tensor([-0.6869])\n",
      "tensor([ 2.3905,  0.6489, -0.8179, -3.4804, -2.5319,  2.1968, -3.3726, -3.8529,\n",
      "        -2.3745,  3.4102,  2.3454,  2.5840])\n",
      "x_opt  tensor([-1.5758])\n",
      "tensor([ 2.3905,  0.6489, -0.8179, -3.4804, -2.5319,  2.1968, -3.3726, -3.8529,\n",
      "        -2.3745,  3.4102,  2.3454,  2.5840])\n",
      "x_opt  tensor([-1.5758])\n",
      "tensor([ 2.3905,  0.6489, -0.8179, -3.4804, -2.5319,  2.1968, -3.3726, -3.8529,\n",
      "        -2.3745,  3.4102,  2.3454,  2.5840])\n",
      "x_opt  tensor([-1.0909])\n"
     ]
    },
    {
     "name": "stderr",
     "output_type": "stream",
     "text": []
    },
    {
     "name": "stdout",
     "output_type": "stream",
     "text": [
      "tensor([ 2.3905,  0.6489, -0.8179, -3.4804, -2.5319,  2.1968, -3.3726, -3.8529,\n",
      "        -2.3745,  3.4102,  2.3454,  2.5840])\n",
      "x_opt  tensor([-1.4141])\n",
      "tensor([ 2.3905,  0.6489, -0.8179, -3.4804, -2.5319,  2.1968, -3.3726, -3.8529,\n",
      "        -2.3745,  3.4102,  2.3454,  2.5840])\n",
      "Iteration 10: Elapsed Time: 4.194367170333862 seconds\n",
      "x_opt  tensor([-1.7374])\n",
      "tensor([ 2.3905,  0.6489, -0.8179, -3.4804, -2.5319,  2.1968, -3.3726, -3.8529,\n",
      "        -2.3745,  3.4102,  2.3454,  2.5840,  2.5216])\n",
      "x_opt  tensor([-1.9798])\n",
      "tensor([ 2.3905,  0.6489, -0.8179, -3.4804, -2.5319,  2.1968, -3.3726, -3.8529,\n",
      "        -2.3745,  3.4102,  2.3454,  2.5840,  2.5216])\n",
      "x_opt  tensor([-1.4141])\n",
      "tensor([ 2.3905,  0.6489, -0.8179, -3.4804, -2.5319,  2.1968, -3.3726, -3.8529,\n",
      "        -2.3745,  3.4102,  2.3454,  2.5840,  2.5216])\n",
      "x_opt  tensor([-2.0606])\n",
      "tensor([ 2.3905,  0.6489, -0.8179, -3.4804, -2.5319,  2.1968, -3.3726, -3.8529,\n",
      "        -2.3745,  3.4102,  2.3454,  2.5840,  2.5216])\n",
      "x_opt  tensor([-2.2222])\n",
      "tensor([ 2.3905,  0.6489, -0.8179, -3.4804, -2.5319,  2.1968, -3.3726, -3.8529,\n",
      "        -2.3745,  3.4102,  2.3454,  2.5840,  2.5216])\n",
      "x_opt  tensor([-2.1414])\n",
      "tensor([ 2.3905,  0.6489, -0.8179, -3.4804, -2.5319,  2.1968, -3.3726, -3.8529,\n",
      "        -2.3745,  3.4102,  2.3454,  2.5840,  2.5216])\n",
      "x_opt  tensor([-1.5758])\n",
      "tensor([ 2.3905,  0.6489, -0.8179, -3.4804, -2.5319,  2.1968, -3.3726, -3.8529,\n",
      "        -2.3745,  3.4102,  2.3454,  2.5840,  2.5216])\n",
      "x_opt  tensor([-1.2525])\n",
      "tensor([ 2.3905,  0.6489, -0.8179, -3.4804, -2.5319,  2.1968, -3.3726, -3.8529,\n",
      "        -2.3745,  3.4102,  2.3454,  2.5840,  2.5216])\n",
      "x_opt  tensor([-1.3333])\n",
      "tensor([ 2.3905,  0.6489, -0.8179, -3.4804, -2.5319,  2.1968, -3.3726, -3.8529,\n",
      "        -2.3745,  3.4102,  2.3454,  2.5840,  2.5216])\n",
      "x_opt  tensor([-2.3838])\n",
      "tensor([ 2.3905,  0.6489, -0.8179, -3.4804, -2.5319,  2.1968, -3.3726, -3.8529,\n",
      "        -2.3745,  3.4102,  2.3454,  2.5840,  2.5216])\n"
     ]
    },
    {
     "name": "stderr",
     "output_type": "stream",
     "text": []
    },
    {
     "name": "stdout",
     "output_type": "stream",
     "text": [
      "Iteration 11: Elapsed Time: 3.976114273071289 seconds\n",
      "x_opt  tensor([-1.5758])\n",
      "tensor([ 2.3905,  0.6489, -0.8179, -3.4804, -2.5319,  2.1968, -3.3726, -3.8529,\n",
      "        -2.3745,  3.4102,  2.3454,  2.5840,  2.5216,  2.4853])\n",
      "x_opt  tensor([-0.7677])\n",
      "tensor([ 2.3905,  0.6489, -0.8179, -3.4804, -2.5319,  2.1968, -3.3726, -3.8529,\n",
      "        -2.3745,  3.4102,  2.3454,  2.5840,  2.5216,  2.4853])\n",
      "x_opt  tensor([4.])\n",
      "tensor([ 2.3905,  0.6489, -0.8179, -3.4804, -2.5319,  2.1968, -3.3726, -3.8529,\n",
      "        -2.3745,  3.4102,  2.3454,  2.5840,  2.5216,  2.4853])\n",
      "x_opt  tensor([-1.4141])\n",
      "tensor([ 2.3905,  0.6489, -0.8179, -3.4804, -2.5319,  2.1968, -3.3726, -3.8529,\n",
      "        -2.3745,  3.4102,  2.3454,  2.5840,  2.5216,  2.4853])\n",
      "x_opt  tensor([-1.4141])\n",
      "tensor([ 2.3905,  0.6489, -0.8179, -3.4804, -2.5319,  2.1968, -3.3726, -3.8529,\n",
      "        -2.3745,  3.4102,  2.3454,  2.5840,  2.5216,  2.4853])\n",
      "x_opt  tensor([-1.2525])\n",
      "tensor([ 2.3905,  0.6489, -0.8179, -3.4804, -2.5319,  2.1968, -3.3726, -3.8529,\n",
      "        -2.3745,  3.4102,  2.3454,  2.5840,  2.5216,  2.4853])\n",
      "x_opt  tensor([-1.4949])\n",
      "tensor([ 2.3905,  0.6489, -0.8179, -3.4804, -2.5319,  2.1968, -3.3726, -3.8529,\n",
      "        -2.3745,  3.4102,  2.3454,  2.5840,  2.5216,  2.4853])\n",
      "x_opt  tensor([-1.8182])\n",
      "tensor([ 2.3905,  0.6489, -0.8179, -3.4804, -2.5319,  2.1968, -3.3726, -3.8529,\n",
      "        -2.3745,  3.4102,  2.3454,  2.5840,  2.5216,  2.4853])\n",
      "x_opt  tensor([-0.8485])\n",
      "tensor([ 2.3905,  0.6489, -0.8179, -3.4804, -2.5319,  2.1968, -3.3726, -3.8529,\n",
      "        -2.3745,  3.4102,  2.3454,  2.5840,  2.5216,  2.4853])\n",
      "x_opt  tensor([-0.6869])\n",
      "tensor([ 2.3905,  0.6489, -0.8179, -3.4804, -2.5319,  2.1968, -3.3726, -3.8529,\n",
      "        -2.3745,  3.4102,  2.3454,  2.5840,  2.5216,  2.4853])\n"
     ]
    },
    {
     "name": "stderr",
     "output_type": "stream",
     "text": []
    },
    {
     "name": "stdout",
     "output_type": "stream",
     "text": [
      "Iteration 12: Elapsed Time: 3.7625699043273926 seconds\n",
      "x_opt  tensor([-1.3333])\n",
      "tensor([ 2.3905,  0.6489, -0.8179, -3.4804, -2.5319,  2.1968, -3.3726, -3.8529,\n",
      "        -2.3745,  3.4102,  2.3454,  2.5840,  2.5216,  2.4853, -1.9782])\n",
      "x_opt  tensor([-1.0101])\n",
      "tensor([ 2.3905,  0.6489, -0.8179, -3.4804, -2.5319,  2.1968, -3.3726, -3.8529,\n",
      "        -2.3745,  3.4102,  2.3454,  2.5840,  2.5216,  2.4853, -1.9782])\n",
      "x_opt  tensor([-0.6061])\n",
      "tensor([ 2.3905,  0.6489, -0.8179, -3.4804, -2.5319,  2.1968, -3.3726, -3.8529,\n",
      "        -2.3745,  3.4102,  2.3454,  2.5840,  2.5216,  2.4853, -1.9782])\n",
      "x_opt  tensor([-1.4949])\n",
      "tensor([ 2.3905,  0.6489, -0.8179, -3.4804, -2.5319,  2.1968, -3.3726, -3.8529,\n",
      "        -2.3745,  3.4102,  2.3454,  2.5840,  2.5216,  2.4853, -1.9782])\n",
      "x_opt  tensor([-1.6566])\n",
      "tensor([ 2.3905,  0.6489, -0.8179, -3.4804, -2.5319,  2.1968, -3.3726, -3.8529,\n",
      "        -2.3745,  3.4102,  2.3454,  2.5840,  2.5216,  2.4853, -1.9782])\n",
      "x_opt  tensor([-1.3333])\n",
      "tensor([ 2.3905,  0.6489, -0.8179, -3.4804, -2.5319,  2.1968, -3.3726, -3.8529,\n",
      "        -2.3745,  3.4102,  2.3454,  2.5840,  2.5216,  2.4853, -1.9782])\n",
      "x_opt  tensor([-2.4646])\n",
      "tensor([ 2.3905,  0.6489, -0.8179, -3.4804, -2.5319,  2.1968, -3.3726, -3.8529,\n",
      "        -2.3745,  3.4102,  2.3454,  2.5840,  2.5216,  2.4853, -1.9782])\n",
      "x_opt  tensor([-1.1717])\n",
      "tensor([ 2.3905,  0.6489, -0.8179, -3.4804, -2.5319,  2.1968, -3.3726, -3.8529,\n",
      "        -2.3745,  3.4102,  2.3454,  2.5840,  2.5216,  2.4853, -1.9782])\n",
      "x_opt  tensor([-0.8485])\n",
      "tensor([ 2.3905,  0.6489, -0.8179, -3.4804, -2.5319,  2.1968, -3.3726, -3.8529,\n",
      "        -2.3745,  3.4102,  2.3454,  2.5840,  2.5216,  2.4853, -1.9782])\n",
      "x_opt  tensor([-1.7374])\n"
     ]
    },
    {
     "name": "stderr",
     "output_type": "stream",
     "text": []
    },
    {
     "name": "stdout",
     "output_type": "stream",
     "text": [
      "tensor([ 2.3905,  0.6489, -0.8179, -3.4804, -2.5319,  2.1968, -3.3726, -3.8529,\n",
      "        -2.3745,  3.4102,  2.3454,  2.5840,  2.5216,  2.4853, -1.9782])\n",
      "Iteration 13: Elapsed Time: 4.329474210739136 seconds\n",
      "x_opt  tensor([-2.3030])\n",
      "tensor([ 2.3905,  0.6489, -0.8179, -3.4804, -2.5319,  2.1968, -3.3726, -3.8529,\n",
      "        -2.3745,  3.4102,  2.3454,  2.5840,  2.5216,  2.4853, -1.9782,  2.4257])\n",
      "x_opt  tensor([3.9192])\n",
      "tensor([ 2.3905,  0.6489, -0.8179, -3.4804, -2.5319,  2.1968, -3.3726, -3.8529,\n",
      "        -2.3745,  3.4102,  2.3454,  2.5840,  2.5216,  2.4853, -1.9782,  2.4257])\n",
      "x_opt  tensor([-1.1717])\n",
      "tensor([ 2.3905,  0.6489, -0.8179, -3.4804, -2.5319,  2.1968, -3.3726, -3.8529,\n",
      "        -2.3745,  3.4102,  2.3454,  2.5840,  2.5216,  2.4853, -1.9782,  2.4257])\n",
      "x_opt  tensor([-1.5758])\n",
      "tensor([ 2.3905,  0.6489, -0.8179, -3.4804, -2.5319,  2.1968, -3.3726, -3.8529,\n",
      "        -2.3745,  3.4102,  2.3454,  2.5840,  2.5216,  2.4853, -1.9782,  2.4257])\n",
      "x_opt  tensor([-1.0909])\n",
      "tensor([ 2.3905,  0.6489, -0.8179, -3.4804, -2.5319,  2.1968, -3.3726, -3.8529,\n",
      "        -2.3745,  3.4102,  2.3454,  2.5840,  2.5216,  2.4853, -1.9782,  2.4257])\n",
      "x_opt  tensor([-1.8990])\n",
      "tensor([ 2.3905,  0.6489, -0.8179, -3.4804, -2.5319,  2.1968, -3.3726, -3.8529,\n",
      "        -2.3745,  3.4102,  2.3454,  2.5840,  2.5216,  2.4853, -1.9782,  2.4257])\n",
      "x_opt  tensor([-1.2525])\n",
      "tensor([ 2.3905,  0.6489, -0.8179, -3.4804, -2.5319,  2.1968, -3.3726, -3.8529,\n",
      "        -2.3745,  3.4102,  2.3454,  2.5840,  2.5216,  2.4853, -1.9782,  2.4257])\n",
      "x_opt  tensor([-0.5253])\n",
      "tensor([ 2.3905,  0.6489, -0.8179, -3.4804, -2.5319,  2.1968, -3.3726, -3.8529,\n",
      "        -2.3745,  3.4102,  2.3454,  2.5840,  2.5216,  2.4853, -1.9782,  2.4257])\n",
      "x_opt  tensor([-1.8182])\n",
      "tensor([ 2.3905,  0.6489, -0.8179, -3.4804, -2.5319,  2.1968, -3.3726, -3.8529,\n",
      "        -2.3745,  3.4102,  2.3454,  2.5840,  2.5216,  2.4853, -1.9782,  2.4257])\n"
     ]
    },
    {
     "name": "stderr",
     "output_type": "stream",
     "text": []
    },
    {
     "name": "stdout",
     "output_type": "stream",
     "text": [
      "x_opt  tensor([-0.7677])\n",
      "tensor([ 2.3905,  0.6489, -0.8179, -3.4804, -2.5319,  2.1968, -3.3726, -3.8529,\n",
      "        -2.3745,  3.4102,  2.3454,  2.5840,  2.5216,  2.4853, -1.9782,  2.4257])\n",
      "Iteration 14: Elapsed Time: 3.9088950157165527 seconds\n",
      "x_opt  tensor([-1.0101])\n",
      "tensor([ 2.3905,  0.6489, -0.8179, -3.4804, -2.5319,  2.1968, -3.3726, -3.8529,\n",
      "        -2.3745,  3.4102,  2.3454,  2.5840,  2.5216,  2.4853, -1.9782,  2.4257,\n",
      "         2.4393])\n",
      "x_opt  tensor([-0.9293])\n",
      "tensor([ 2.3905,  0.6489, -0.8179, -3.4804, -2.5319,  2.1968, -3.3726, -3.8529,\n",
      "        -2.3745,  3.4102,  2.3454,  2.5840,  2.5216,  2.4853, -1.9782,  2.4257,\n",
      "         2.4393])\n",
      "x_opt  tensor([-1.8990])\n",
      "tensor([ 2.3905,  0.6489, -0.8179, -3.4804, -2.5319,  2.1968, -3.3726, -3.8529,\n",
      "        -2.3745,  3.4102,  2.3454,  2.5840,  2.5216,  2.4853, -1.9782,  2.4257,\n",
      "         2.4393])\n",
      "x_opt  tensor([-2.0606])\n",
      "tensor([ 2.3905,  0.6489, -0.8179, -3.4804, -2.5319,  2.1968, -3.3726, -3.8529,\n",
      "        -2.3745,  3.4102,  2.3454,  2.5840,  2.5216,  2.4853, -1.9782,  2.4257,\n",
      "         2.4393])\n",
      "x_opt  tensor([-1.8990])\n",
      "tensor([ 2.3905,  0.6489, -0.8179, -3.4804, -2.5319,  2.1968, -3.3726, -3.8529,\n",
      "        -2.3745,  3.4102,  2.3454,  2.5840,  2.5216,  2.4853, -1.9782,  2.4257,\n",
      "         2.4393])\n",
      "x_opt  tensor([4.])\n",
      "tensor([ 2.3905,  0.6489, -0.8179, -3.4804, -2.5319,  2.1968, -3.3726, -3.8529,\n",
      "        -2.3745,  3.4102,  2.3454,  2.5840,  2.5216,  2.4853, -1.9782,  2.4257,\n",
      "         2.4393])\n",
      "x_opt  tensor([-1.3333])\n",
      "tensor([ 2.3905,  0.6489, -0.8179, -3.4804, -2.5319,  2.1968, -3.3726, -3.8529,\n",
      "        -2.3745,  3.4102,  2.3454,  2.5840,  2.5216,  2.4853, -1.9782,  2.4257,\n",
      "         2.4393])\n",
      "x_opt  tensor([-1.0909])\n",
      "tensor([ 2.3905,  0.6489, -0.8179, -3.4804, -2.5319,  2.1968, -3.3726, -3.8529,\n",
      "        -2.3745,  3.4102,  2.3454,  2.5840,  2.5216,  2.4853, -1.9782,  2.4257,\n",
      "         2.4393])\n",
      "x_opt  tensor([-1.4949])\n",
      "tensor([ 2.3905,  0.6489, -0.8179, -3.4804, -2.5319,  2.1968, -3.3726, -3.8529,\n",
      "        -2.3745,  3.4102,  2.3454,  2.5840,  2.5216,  2.4853, -1.9782,  2.4257,\n",
      "         2.4393])\n",
      "x_opt  tensor([-1.7374])\n",
      "tensor([ 2.3905,  0.6489, -0.8179, -3.4804, -2.5319,  2.1968, -3.3726, -3.8529,\n",
      "        -2.3745,  3.4102,  2.3454,  2.5840,  2.5216,  2.4853, -1.9782,  2.4257,\n",
      "         2.4393])\n"
     ]
    },
    {
     "name": "stderr",
     "output_type": "stream",
     "text": []
    },
    {
     "name": "stdout",
     "output_type": "stream",
     "text": [
      "Iteration 15: Elapsed Time: 3.7464780807495117 seconds\n",
      "x_opt  tensor([-1.1717])\n",
      "tensor([ 2.3905,  0.6489, -0.8179, -3.4804, -2.5319,  2.1968, -3.3726, -3.8529,\n",
      "        -2.3745,  3.4102,  2.3454,  2.5840,  2.5216,  2.4853, -1.9782,  2.4257,\n",
      "         2.4393,  2.3030])\n",
      "x_opt  tensor([-1.3333])\n",
      "tensor([ 2.3905,  0.6489, -0.8179, -3.4804, -2.5319,  2.1968, -3.3726, -3.8529,\n",
      "        -2.3745,  3.4102,  2.3454,  2.5840,  2.5216,  2.4853, -1.9782,  2.4257,\n",
      "         2.4393,  2.3030])\n",
      "x_opt  tensor([4.])\n",
      "tensor([ 2.3905,  0.6489, -0.8179, -3.4804, -2.5319,  2.1968, -3.3726, -3.8529,\n",
      "        -2.3745,  3.4102,  2.3454,  2.5840,  2.5216,  2.4853, -1.9782,  2.4257,\n",
      "         2.4393,  2.3030])\n",
      "x_opt  tensor([4.])\n",
      "tensor([ 2.3905,  0.6489, -0.8179, -3.4804, -2.5319,  2.1968, -3.3726, -3.8529,\n",
      "        -2.3745,  3.4102,  2.3454,  2.5840,  2.5216,  2.4853, -1.9782,  2.4257,\n",
      "         2.4393,  2.3030])\n",
      "x_opt  tensor([-0.6869])\n",
      "tensor([ 2.3905,  0.6489, -0.8179, -3.4804, -2.5319,  2.1968, -3.3726, -3.8529,\n",
      "        -2.3745,  3.4102,  2.3454,  2.5840,  2.5216,  2.4853, -1.9782,  2.4257,\n",
      "         2.4393,  2.3030])\n",
      "x_opt  tensor([-0.8485])\n",
      "tensor([ 2.3905,  0.6489, -0.8179, -3.4804, -2.5319,  2.1968, -3.3726, -3.8529,\n",
      "        -2.3745,  3.4102,  2.3454,  2.5840,  2.5216,  2.4853, -1.9782,  2.4257,\n",
      "         2.4393,  2.3030])\n",
      "x_opt  tensor([-0.6869])\n",
      "tensor([ 2.3905,  0.6489, -0.8179, -3.4804, -2.5319,  2.1968, -3.3726, -3.8529,\n",
      "        -2.3745,  3.4102,  2.3454,  2.5840,  2.5216,  2.4853, -1.9782,  2.4257,\n",
      "         2.4393,  2.3030])\n",
      "x_opt  tensor([-0.6869])\n",
      "tensor([ 2.3905,  0.6489, -0.8179, -3.4804, -2.5319,  2.1968, -3.3726, -3.8529,\n",
      "        -2.3745,  3.4102,  2.3454,  2.5840,  2.5216,  2.4853, -1.9782,  2.4257,\n",
      "         2.4393,  2.3030])\n",
      "x_opt  tensor([-1.0909])\n",
      "tensor([ 2.3905,  0.6489, -0.8179, -3.4804, -2.5319,  2.1968, -3.3726, -3.8529,\n",
      "        -2.3745,  3.4102,  2.3454,  2.5840,  2.5216,  2.4853, -1.9782,  2.4257,\n",
      "         2.4393,  2.3030])\n",
      "x_opt  tensor([-2.0606])\n",
      "tensor([ 2.3905,  0.6489, -0.8179, -3.4804, -2.5319,  2.1968, -3.3726, -3.8529,\n",
      "        -2.3745,  3.4102,  2.3454,  2.5840,  2.5216,  2.4853, -1.9782,  2.4257,\n",
      "         2.4393,  2.3030])\n"
     ]
    },
    {
     "name": "stderr",
     "output_type": "stream",
     "text": []
    },
    {
     "name": "stdout",
     "output_type": "stream",
     "text": [
      "Iteration 16: Elapsed Time: 3.881861925125122 seconds\n",
      "x_opt  tensor([-2.3030])\n",
      "tensor([ 2.3905,  0.6489, -0.8179, -3.4804, -2.5319,  2.1968, -3.3726, -3.8529,\n",
      "        -2.3745,  3.4102,  2.3454,  2.5840,  2.5216,  2.4853, -1.9782,  2.4257,\n",
      "         2.4393,  2.3030,  2.4470])\n",
      "x_opt  tensor([-1.0909])\n",
      "tensor([ 2.3905,  0.6489, -0.8179, -3.4804, -2.5319,  2.1968, -3.3726, -3.8529,\n",
      "        -2.3745,  3.4102,  2.3454,  2.5840,  2.5216,  2.4853, -1.9782,  2.4257,\n",
      "         2.4393,  2.3030,  2.4470])\n",
      "x_opt  tensor([-2.0606])\n",
      "tensor([ 2.3905,  0.6489, -0.8179, -3.4804, -2.5319,  2.1968, -3.3726, -3.8529,\n",
      "        -2.3745,  3.4102,  2.3454,  2.5840,  2.5216,  2.4853, -1.9782,  2.4257,\n",
      "         2.4393,  2.3030,  2.4470])\n",
      "x_opt  tensor([-0.9293])\n",
      "tensor([ 2.3905,  0.6489, -0.8179, -3.4804, -2.5319,  2.1968, -3.3726, -3.8529,\n",
      "        -2.3745,  3.4102,  2.3454,  2.5840,  2.5216,  2.4853, -1.9782,  2.4257,\n",
      "         2.4393,  2.3030,  2.4470])\n",
      "x_opt  tensor([-0.7677])\n",
      "tensor([ 2.3905,  0.6489, -0.8179, -3.4804, -2.5319,  2.1968, -3.3726, -3.8529,\n",
      "        -2.3745,  3.4102,  2.3454,  2.5840,  2.5216,  2.4853, -1.9782,  2.4257,\n",
      "         2.4393,  2.3030,  2.4470])\n",
      "x_opt  tensor([-1.9798])\n",
      "tensor([ 2.3905,  0.6489, -0.8179, -3.4804, -2.5319,  2.1968, -3.3726, -3.8529,\n",
      "        -2.3745,  3.4102,  2.3454,  2.5840,  2.5216,  2.4853, -1.9782,  2.4257,\n",
      "         2.4393,  2.3030,  2.4470])\n",
      "x_opt  tensor([-1.6566])\n",
      "tensor([ 2.3905,  0.6489, -0.8179, -3.4804, -2.5319,  2.1968, -3.3726, -3.8529,\n",
      "        -2.3745,  3.4102,  2.3454,  2.5840,  2.5216,  2.4853, -1.9782,  2.4257,\n",
      "         2.4393,  2.3030,  2.4470])\n",
      "x_opt  tensor([-1.2525])\n",
      "tensor([ 2.3905,  0.6489, -0.8179, -3.4804, -2.5319,  2.1968, -3.3726, -3.8529,\n",
      "        -2.3745,  3.4102,  2.3454,  2.5840,  2.5216,  2.4853, -1.9782,  2.4257,\n",
      "         2.4393,  2.3030,  2.4470])\n",
      "x_opt  tensor([-0.8485])\n",
      "tensor([ 2.3905,  0.6489, -0.8179, -3.4804, -2.5319,  2.1968, -3.3726, -3.8529,\n",
      "        -2.3745,  3.4102,  2.3454,  2.5840,  2.5216,  2.4853, -1.9782,  2.4257,\n",
      "         2.4393,  2.3030,  2.4470])\n",
      "x_opt  tensor([-1.3333])\n",
      "tensor([ 2.3905,  0.6489, -0.8179, -3.4804, -2.5319,  2.1968, -3.3726, -3.8529,\n",
      "        -2.3745,  3.4102,  2.3454,  2.5840,  2.5216,  2.4853, -1.9782,  2.4257,\n",
      "         2.4393,  2.3030,  2.4470])\n"
     ]
    },
    {
     "name": "stderr",
     "output_type": "stream",
     "text": [
      "100%|██████████| 17/17 [01:04<00:00,  3.78s/it]"
     ]
    },
    {
     "name": "stdout",
     "output_type": "stream",
     "text": [
      "Iteration 17: Elapsed Time: 3.8150200843811035 seconds\n"
     ]
    },
    {
     "name": "stderr",
     "output_type": "stream",
     "text": [
      "\n",
      " 80%|████████  | 4/5 [04:16<01:03, 63.89s/it]"
     ]
    },
    {
     "name": "stdout",
     "output_type": "stream",
     "text": [
      "[-2.2508396  -3.74877824 -1.70299778]\n"
     ]
    },
    {
     "name": "stderr",
     "output_type": "stream",
     "text": []
    },
    {
     "name": "stdout",
     "output_type": "stream",
     "text": [
      "x_opt  tensor([0.4444])\n",
      "tensor([-3.2659,  2.3421, -3.8191])\n",
      "x_opt  tensor([-1.0101])\n",
      "tensor([-3.2659,  2.3421, -3.8191])\n",
      "x_opt  tensor([-2.0606])\n",
      "tensor([-3.2659,  2.3421, -3.8191])\n",
      "x_opt  tensor([0.1212])\n",
      "tensor([-3.2659,  2.3421, -3.8191])\n",
      "x_opt  tensor([3.0303])\n",
      "tensor([-3.2659,  2.3421, -3.8191])\n",
      "x_opt  tensor([-1.8990])\n",
      "tensor([-3.2659,  2.3421, -3.8191])\n",
      "x_opt  tensor([-1.8182])\n",
      "tensor([-3.2659,  2.3421, -3.8191])\n",
      "x_opt  tensor([-1.8990])\n",
      "tensor([-3.2659,  2.3421, -3.8191])\n"
     ]
    },
    {
     "name": "stderr",
     "output_type": "stream",
     "text": []
    },
    {
     "name": "stdout",
     "output_type": "stream",
     "text": [
      "x_opt  tensor([3.1919])\n",
      "tensor([-3.2659,  2.3421, -3.8191])\n",
      "x_opt  tensor([-0.6869])\n",
      "tensor([-3.2659,  2.3421, -3.8191])\n",
      "Iteration 1: Elapsed Time: 3.3082821369171143 seconds\n",
      "x_opt  tensor([-1.8182])\n",
      "tensor([-3.2659,  2.3421, -3.8191, -0.8745])\n",
      "x_opt  tensor([-1.8182])\n",
      "tensor([-3.2659,  2.3421, -3.8191, -0.8745])\n",
      "x_opt  tensor([3.5152])\n",
      "tensor([-3.2659,  2.3421, -3.8191, -0.8745])\n",
      "x_opt  tensor([-1.2525])\n",
      "tensor([-3.2659,  2.3421, -3.8191, -0.8745])\n",
      "x_opt  tensor([-2.2222])\n",
      "tensor([-3.2659,  2.3421, -3.8191, -0.8745])\n",
      "x_opt  tensor([-1.8990])\n",
      "tensor([-3.2659,  2.3421, -3.8191, -0.8745])\n",
      "x_opt  tensor([-2.1414])\n",
      "tensor([-3.2659,  2.3421, -3.8191, -0.8745])\n",
      "x_opt  tensor([2.6263])\n",
      "tensor([-3.2659,  2.3421, -3.8191, -0.8745])\n",
      "x_opt  tensor([2.6263])\n",
      "tensor([-3.2659,  2.3421, -3.8191, -0.8745])\n"
     ]
    },
    {
     "name": "stderr",
     "output_type": "stream",
     "text": []
    },
    {
     "name": "stdout",
     "output_type": "stream",
     "text": [
      "x_opt  tensor([-1.8182])\n",
      "tensor([-3.2659,  2.3421, -3.8191, -0.8745])\n",
      "Iteration 2: Elapsed Time: 3.3185160160064697 seconds\n",
      "x_opt  tensor([-1.8182])\n",
      "tensor([-3.2659,  2.3421, -3.8191, -0.8745,  0.5691])\n",
      "x_opt  tensor([-2.0606])\n",
      "tensor([-3.2659,  2.3421, -3.8191, -0.8745,  0.5691])\n",
      "x_opt  tensor([3.9192])\n",
      "tensor([-3.2659,  2.3421, -3.8191, -0.8745,  0.5691])\n",
      "x_opt  tensor([-2.1414])\n",
      "tensor([-3.2659,  2.3421, -3.8191, -0.8745,  0.5691])\n",
      "x_opt  tensor([-1.9798])\n",
      "tensor([-3.2659,  2.3421, -3.8191, -0.8745,  0.5691])\n",
      "x_opt  tensor([0.6869])\n",
      "tensor([-3.2659,  2.3421, -3.8191, -0.8745,  0.5691])\n",
      "x_opt  tensor([-1.5758])\n",
      "tensor([-3.2659,  2.3421, -3.8191, -0.8745,  0.5691])\n",
      "x_opt  tensor([-2.7879])\n",
      "tensor([-3.2659,  2.3421, -3.8191, -0.8745,  0.5691])\n",
      "x_opt  tensor([0.8485])\n",
      "tensor([-3.2659,  2.3421, -3.8191, -0.8745,  0.5691])\n"
     ]
    },
    {
     "name": "stderr",
     "output_type": "stream",
     "text": []
    },
    {
     "name": "stdout",
     "output_type": "stream",
     "text": [
      "x_opt  tensor([-1.2525])\n",
      "tensor([-3.2659,  2.3421, -3.8191, -0.8745,  0.5691])\n",
      "Iteration 3: Elapsed Time: 3.300769090652466 seconds\n",
      "x_opt  tensor([-1.6566])\n",
      "tensor([-3.2659,  2.3421, -3.8191, -0.8745,  0.5691, -2.2753])\n",
      "x_opt  tensor([-2.0606])\n",
      "tensor([-3.2659,  2.3421, -3.8191, -0.8745,  0.5691, -2.2753])\n",
      "x_opt  tensor([1.0909])\n",
      "tensor([-3.2659,  2.3421, -3.8191, -0.8745,  0.5691, -2.2753])\n",
      "x_opt  tensor([-1.9798])\n",
      "tensor([-3.2659,  2.3421, -3.8191, -0.8745,  0.5691, -2.2753])\n",
      "x_opt  tensor([-1.0101])\n",
      "tensor([-3.2659,  2.3421, -3.8191, -0.8745,  0.5691, -2.2753])\n",
      "x_opt  tensor([4.])\n",
      "tensor([-3.2659,  2.3421, -3.8191, -0.8745,  0.5691, -2.2753])\n",
      "x_opt  tensor([3.5960])\n",
      "tensor([-3.2659,  2.3421, -3.8191, -0.8745,  0.5691, -2.2753])\n",
      "x_opt  tensor([-1.3333])\n",
      "tensor([-3.2659,  2.3421, -3.8191, -0.8745,  0.5691, -2.2753])\n",
      "x_opt  tensor([-2.0606])\n",
      "tensor([-3.2659,  2.3421, -3.8191, -0.8745,  0.5691, -2.2753])\n"
     ]
    },
    {
     "name": "stderr",
     "output_type": "stream",
     "text": []
    },
    {
     "name": "stdout",
     "output_type": "stream",
     "text": [
      "x_opt  tensor([-2.2222])\n",
      "tensor([-3.2659,  2.3421, -3.8191, -0.8745,  0.5691, -2.2753])\n",
      "Iteration 4: Elapsed Time: 3.3165981769561768 seconds\n",
      "x_opt  tensor([-0.8485])\n",
      "tensor([-3.2659,  2.3421, -3.8191, -0.8745,  0.5691, -2.2753,  3.8399])\n",
      "x_opt  tensor([-1.3333])\n",
      "tensor([-3.2659,  2.3421, -3.8191, -0.8745,  0.5691, -2.2753,  3.8399])\n",
      "x_opt  tensor([-1.0101])\n",
      "tensor([-3.2659,  2.3421, -3.8191, -0.8745,  0.5691, -2.2753,  3.8399])\n",
      "x_opt  tensor([-1.5758])\n",
      "tensor([-3.2659,  2.3421, -3.8191, -0.8745,  0.5691, -2.2753,  3.8399])\n",
      "x_opt  tensor([-2.4646])\n",
      "tensor([-3.2659,  2.3421, -3.8191, -0.8745,  0.5691, -2.2753,  3.8399])\n",
      "x_opt  tensor([-1.6566])\n",
      "tensor([-3.2659,  2.3421, -3.8191, -0.8745,  0.5691, -2.2753,  3.8399])\n",
      "x_opt  tensor([-1.8990])\n",
      "tensor([-3.2659,  2.3421, -3.8191, -0.8745,  0.5691, -2.2753,  3.8399])\n",
      "x_opt  tensor([-1.9798])\n",
      "tensor([-3.2659,  2.3421, -3.8191, -0.8745,  0.5691, -2.2753,  3.8399])\n",
      "x_opt  tensor([-2.1414])\n"
     ]
    },
    {
     "name": "stderr",
     "output_type": "stream",
     "text": []
    },
    {
     "name": "stdout",
     "output_type": "stream",
     "text": [
      "tensor([-3.2659,  2.3421, -3.8191, -0.8745,  0.5691, -2.2753,  3.8399])\n",
      "x_opt  tensor([-0.9293])\n",
      "tensor([-3.2659,  2.3421, -3.8191, -0.8745,  0.5691, -2.2753,  3.8399])\n",
      "Iteration 5: Elapsed Time: 3.4086852073669434 seconds\n",
      "x_opt  tensor([-0.8485])\n",
      "tensor([-3.2659,  2.3421, -3.8191, -0.8745,  0.5691, -2.2753,  3.8399, -0.6348])\n",
      "x_opt  tensor([-1.2525])\n",
      "tensor([-3.2659,  2.3421, -3.8191, -0.8745,  0.5691, -2.2753,  3.8399, -0.6348])\n",
      "x_opt  tensor([-1.8182])\n",
      "tensor([-3.2659,  2.3421, -3.8191, -0.8745,  0.5691, -2.2753,  3.8399, -0.6348])\n",
      "x_opt  tensor([-2.2222])\n",
      "tensor([-3.2659,  2.3421, -3.8191, -0.8745,  0.5691, -2.2753,  3.8399, -0.6348])\n",
      "x_opt  tensor([-1.3333])\n",
      "tensor([-3.2659,  2.3421, -3.8191, -0.8745,  0.5691, -2.2753,  3.8399, -0.6348])\n",
      "x_opt  tensor([-1.8182])\n",
      "tensor([-3.2659,  2.3421, -3.8191, -0.8745,  0.5691, -2.2753,  3.8399, -0.6348])\n",
      "x_opt  tensor([-1.7374])\n",
      "tensor([-3.2659,  2.3421, -3.8191, -0.8745,  0.5691, -2.2753,  3.8399, -0.6348])\n",
      "x_opt  tensor([-1.6566])\n",
      "tensor([-3.2659,  2.3421, -3.8191, -0.8745,  0.5691, -2.2753,  3.8399, -0.6348])\n",
      "x_opt  tensor([-1.9798])\n",
      "tensor([-3.2659,  2.3421, -3.8191, -0.8745,  0.5691, -2.2753,  3.8399, -0.6348])\n"
     ]
    },
    {
     "name": "stderr",
     "output_type": "stream",
     "text": []
    },
    {
     "name": "stdout",
     "output_type": "stream",
     "text": [
      "x_opt  tensor([-1.6566])\n",
      "tensor([-3.2659,  2.3421, -3.8191, -0.8745,  0.5691, -2.2753,  3.8399, -0.6348])\n",
      "Iteration 6: Elapsed Time: 3.504762887954712 seconds\n",
      "x_opt  tensor([-0.9293])\n",
      "tensor([-3.2659,  2.3421, -3.8191, -0.8745,  0.5691, -2.2753,  3.8399, -0.6348,\n",
      "         2.3194])\n",
      "x_opt  tensor([-2.2222])\n",
      "tensor([-3.2659,  2.3421, -3.8191, -0.8745,  0.5691, -2.2753,  3.8399, -0.6348,\n",
      "         2.3194])\n",
      "x_opt  tensor([-1.2525])\n",
      "tensor([-3.2659,  2.3421, -3.8191, -0.8745,  0.5691, -2.2753,  3.8399, -0.6348,\n",
      "         2.3194])\n",
      "x_opt  tensor([-1.7374])\n",
      "tensor([-3.2659,  2.3421, -3.8191, -0.8745,  0.5691, -2.2753,  3.8399, -0.6348,\n",
      "         2.3194])\n",
      "x_opt  tensor([-1.6566])\n",
      "tensor([-3.2659,  2.3421, -3.8191, -0.8745,  0.5691, -2.2753,  3.8399, -0.6348,\n",
      "         2.3194])\n",
      "x_opt  tensor([-1.8182])\n",
      "tensor([-3.2659,  2.3421, -3.8191, -0.8745,  0.5691, -2.2753,  3.8399, -0.6348,\n",
      "         2.3194])\n",
      "x_opt  tensor([-0.9293])\n",
      "tensor([-3.2659,  2.3421, -3.8191, -0.8745,  0.5691, -2.2753,  3.8399, -0.6348,\n",
      "         2.3194])\n",
      "x_opt  tensor([-2.3838])\n",
      "tensor([-3.2659,  2.3421, -3.8191, -0.8745,  0.5691, -2.2753,  3.8399, -0.6348,\n",
      "         2.3194])\n",
      "x_opt  tensor([-2.1414])\n",
      "tensor([-3.2659,  2.3421, -3.8191, -0.8745,  0.5691, -2.2753,  3.8399, -0.6348,\n",
      "         2.3194])\n",
      "x_opt  tensor([-1.7374])\n",
      "tensor([-3.2659,  2.3421, -3.8191, -0.8745,  0.5691, -2.2753,  3.8399, -0.6348,\n",
      "         2.3194])\n"
     ]
    },
    {
     "name": "stderr",
     "output_type": "stream",
     "text": []
    },
    {
     "name": "stdout",
     "output_type": "stream",
     "text": [
      "Iteration 7: Elapsed Time: 3.583209991455078 seconds\n",
      "x_opt  tensor([-0.6869])\n",
      "tensor([-3.2659,  2.3421, -3.8191, -0.8745,  0.5691, -2.2753,  3.8399, -0.6348,\n",
      "         2.3194,  2.4329])\n",
      "x_opt  tensor([-0.6869])\n",
      "tensor([-3.2659,  2.3421, -3.8191, -0.8745,  0.5691, -2.2753,  3.8399, -0.6348,\n",
      "         2.3194,  2.4329])\n",
      "x_opt  tensor([-1.9798])\n",
      "tensor([-3.2659,  2.3421, -3.8191, -0.8745,  0.5691, -2.2753,  3.8399, -0.6348,\n",
      "         2.3194,  2.4329])\n",
      "x_opt  tensor([-2.3030])\n",
      "tensor([-3.2659,  2.3421, -3.8191, -0.8745,  0.5691, -2.2753,  3.8399, -0.6348,\n",
      "         2.3194,  2.4329])\n",
      "x_opt  tensor([-0.6869])\n",
      "tensor([-3.2659,  2.3421, -3.8191, -0.8745,  0.5691, -2.2753,  3.8399, -0.6348,\n",
      "         2.3194,  2.4329])\n",
      "x_opt  tensor([-0.7677])\n",
      "tensor([-3.2659,  2.3421, -3.8191, -0.8745,  0.5691, -2.2753,  3.8399, -0.6348,\n",
      "         2.3194,  2.4329])\n",
      "x_opt  tensor([-0.6061])\n",
      "tensor([-3.2659,  2.3421, -3.8191, -0.8745,  0.5691, -2.2753,  3.8399, -0.6348,\n",
      "         2.3194,  2.4329])\n",
      "x_opt  tensor([-1.2525])\n",
      "tensor([-3.2659,  2.3421, -3.8191, -0.8745,  0.5691, -2.2753,  3.8399, -0.6348,\n",
      "         2.3194,  2.4329])\n",
      "x_opt  tensor([-1.7374])\n",
      "tensor([-3.2659,  2.3421, -3.8191, -0.8745,  0.5691, -2.2753,  3.8399, -0.6348,\n",
      "         2.3194,  2.4329])\n",
      "x_opt  tensor([-1.1717])\n",
      "tensor([-3.2659,  2.3421, -3.8191, -0.8745,  0.5691, -2.2753,  3.8399, -0.6348,\n",
      "         2.3194,  2.4329])\n"
     ]
    },
    {
     "name": "stderr",
     "output_type": "stream",
     "text": []
    },
    {
     "name": "stdout",
     "output_type": "stream",
     "text": [
      "Iteration 8: Elapsed Time: 4.068356990814209 seconds\n",
      "x_opt  tensor([-1.8990])\n",
      "tensor([-3.2659,  2.3421, -3.8191, -0.8745,  0.5691, -2.2753,  3.8399, -0.6348,\n",
      "         2.3194,  2.4329,  2.3506])\n",
      "x_opt  tensor([-1.2525])\n",
      "tensor([-3.2659,  2.3421, -3.8191, -0.8745,  0.5691, -2.2753,  3.8399, -0.6348,\n",
      "         2.3194,  2.4329,  2.3506])\n",
      "x_opt  tensor([-1.2525])\n",
      "tensor([-3.2659,  2.3421, -3.8191, -0.8745,  0.5691, -2.2753,  3.8399, -0.6348,\n",
      "         2.3194,  2.4329,  2.3506])\n",
      "x_opt  tensor([-1.0909])\n",
      "tensor([-3.2659,  2.3421, -3.8191, -0.8745,  0.5691, -2.2753,  3.8399, -0.6348,\n",
      "         2.3194,  2.4329,  2.3506])\n",
      "x_opt  tensor([-1.8182])\n",
      "tensor([-3.2659,  2.3421, -3.8191, -0.8745,  0.5691, -2.2753,  3.8399, -0.6348,\n",
      "         2.3194,  2.4329,  2.3506])\n",
      "x_opt  tensor([-0.6869])\n",
      "tensor([-3.2659,  2.3421, -3.8191, -0.8745,  0.5691, -2.2753,  3.8399, -0.6348,\n",
      "         2.3194,  2.4329,  2.3506])\n",
      "x_opt  tensor([-1.1717])\n",
      "tensor([-3.2659,  2.3421, -3.8191, -0.8745,  0.5691, -2.2753,  3.8399, -0.6348,\n",
      "         2.3194,  2.4329,  2.3506])\n",
      "x_opt  tensor([-1.0909])\n",
      "tensor([-3.2659,  2.3421, -3.8191, -0.8745,  0.5691, -2.2753,  3.8399, -0.6348,\n",
      "         2.3194,  2.4329,  2.3506])\n",
      "x_opt  tensor([-1.4141])\n",
      "tensor([-3.2659,  2.3421, -3.8191, -0.8745,  0.5691, -2.2753,  3.8399, -0.6348,\n",
      "         2.3194,  2.4329,  2.3506])\n",
      "x_opt  tensor([-0.9293])\n",
      "tensor([-3.2659,  2.3421, -3.8191, -0.8745,  0.5691, -2.2753,  3.8399, -0.6348,\n",
      "         2.3194,  2.4329,  2.3506])\n"
     ]
    },
    {
     "name": "stderr",
     "output_type": "stream",
     "text": []
    },
    {
     "name": "stdout",
     "output_type": "stream",
     "text": [
      "Iteration 9: Elapsed Time: 3.6080949306488037 seconds\n",
      "x_opt  tensor([-1.0101])\n",
      "tensor([-3.2659,  2.3421, -3.8191, -0.8745,  0.5691, -2.2753,  3.8399, -0.6348,\n",
      "         2.3194,  2.4329,  2.3506,  2.7063])\n",
      "x_opt  tensor([-1.3333])\n",
      "tensor([-3.2659,  2.3421, -3.8191, -0.8745,  0.5691, -2.2753,  3.8399, -0.6348,\n",
      "         2.3194,  2.4329,  2.3506,  2.7063])\n",
      "x_opt  tensor([-1.5758])\n",
      "tensor([-3.2659,  2.3421, -3.8191, -0.8745,  0.5691, -2.2753,  3.8399, -0.6348,\n",
      "         2.3194,  2.4329,  2.3506,  2.7063])\n",
      "x_opt  tensor([-0.7677])\n",
      "tensor([-3.2659,  2.3421, -3.8191, -0.8745,  0.5691, -2.2753,  3.8399, -0.6348,\n",
      "         2.3194,  2.4329,  2.3506,  2.7063])\n",
      "x_opt  tensor([-1.7374])\n",
      "tensor([-3.2659,  2.3421, -3.8191, -0.8745,  0.5691, -2.2753,  3.8399, -0.6348,\n",
      "         2.3194,  2.4329,  2.3506,  2.7063])\n",
      "x_opt  tensor([-1.5758])\n",
      "tensor([-3.2659,  2.3421, -3.8191, -0.8745,  0.5691, -2.2753,  3.8399, -0.6348,\n",
      "         2.3194,  2.4329,  2.3506,  2.7063])\n",
      "x_opt  tensor([-0.4444])\n",
      "tensor([-3.2659,  2.3421, -3.8191, -0.8745,  0.5691, -2.2753,  3.8399, -0.6348,\n",
      "         2.3194,  2.4329,  2.3506,  2.7063])\n",
      "x_opt  tensor([-1.8990])\n",
      "tensor([-3.2659,  2.3421, -3.8191, -0.8745,  0.5691, -2.2753,  3.8399, -0.6348,\n",
      "         2.3194,  2.4329,  2.3506,  2.7063])\n",
      "x_opt  tensor([-1.3333])\n",
      "tensor([-3.2659,  2.3421, -3.8191, -0.8745,  0.5691, -2.2753,  3.8399, -0.6348,\n",
      "         2.3194,  2.4329,  2.3506,  2.7063])\n",
      "x_opt  tensor([-1.4141])\n",
      "tensor([-3.2659,  2.3421, -3.8191, -0.8745,  0.5691, -2.2753,  3.8399, -0.6348,\n",
      "         2.3194,  2.4329,  2.3506,  2.7063])\n"
     ]
    },
    {
     "name": "stderr",
     "output_type": "stream",
     "text": []
    },
    {
     "name": "stdout",
     "output_type": "stream",
     "text": [
      "Iteration 10: Elapsed Time: 3.6605379581451416 seconds\n",
      "x_opt  tensor([-1.5758])\n",
      "tensor([-3.2659,  2.3421, -3.8191, -0.8745,  0.5691, -2.2753,  3.8399, -0.6348,\n",
      "         2.3194,  2.4329,  2.3506,  2.7063,  2.5458])\n",
      "x_opt  tensor([-0.9293])\n",
      "tensor([-3.2659,  2.3421, -3.8191, -0.8745,  0.5691, -2.2753,  3.8399, -0.6348,\n",
      "         2.3194,  2.4329,  2.3506,  2.7063,  2.5458])\n",
      "x_opt  tensor([-1.2525])\n",
      "tensor([-3.2659,  2.3421, -3.8191, -0.8745,  0.5691, -2.2753,  3.8399, -0.6348,\n",
      "         2.3194,  2.4329,  2.3506,  2.7063,  2.5458])\n",
      "x_opt  tensor([-1.4141])\n",
      "tensor([-3.2659,  2.3421, -3.8191, -0.8745,  0.5691, -2.2753,  3.8399, -0.6348,\n",
      "         2.3194,  2.4329,  2.3506,  2.7063,  2.5458])\n",
      "x_opt  tensor([-1.0909])\n",
      "tensor([-3.2659,  2.3421, -3.8191, -0.8745,  0.5691, -2.2753,  3.8399, -0.6348,\n",
      "         2.3194,  2.4329,  2.3506,  2.7063,  2.5458])\n",
      "x_opt  tensor([-1.6566])\n",
      "tensor([-3.2659,  2.3421, -3.8191, -0.8745,  0.5691, -2.2753,  3.8399, -0.6348,\n",
      "         2.3194,  2.4329,  2.3506,  2.7063,  2.5458])\n",
      "x_opt  tensor([-1.9798])\n",
      "tensor([-3.2659,  2.3421, -3.8191, -0.8745,  0.5691, -2.2753,  3.8399, -0.6348,\n",
      "         2.3194,  2.4329,  2.3506,  2.7063,  2.5458])\n",
      "x_opt  tensor([-0.9293])\n",
      "tensor([-3.2659,  2.3421, -3.8191, -0.8745,  0.5691, -2.2753,  3.8399, -0.6348,\n",
      "         2.3194,  2.4329,  2.3506,  2.7063,  2.5458])\n",
      "x_opt  tensor([-0.6061])\n",
      "tensor([-3.2659,  2.3421, -3.8191, -0.8745,  0.5691, -2.2753,  3.8399, -0.6348,\n",
      "         2.3194,  2.4329,  2.3506,  2.7063,  2.5458])\n"
     ]
    },
    {
     "name": "stderr",
     "output_type": "stream",
     "text": []
    },
    {
     "name": "stdout",
     "output_type": "stream",
     "text": [
      "x_opt  tensor([-1.3333])\n",
      "tensor([-3.2659,  2.3421, -3.8191, -0.8745,  0.5691, -2.2753,  3.8399, -0.6348,\n",
      "         2.3194,  2.4329,  2.3506,  2.7063,  2.5458])\n",
      "Iteration 11: Elapsed Time: 3.8142619132995605 seconds\n",
      "x_opt  tensor([-0.5253])\n",
      "tensor([-3.2659,  2.3421, -3.8191, -0.8745,  0.5691, -2.2753,  3.8399, -0.6348,\n",
      "         2.3194,  2.4329,  2.3506,  2.7063,  2.5458,  2.5175])\n",
      "x_opt  tensor([-1.4949])\n",
      "tensor([-3.2659,  2.3421, -3.8191, -0.8745,  0.5691, -2.2753,  3.8399, -0.6348,\n",
      "         2.3194,  2.4329,  2.3506,  2.7063,  2.5458,  2.5175])\n",
      "x_opt  tensor([-1.2525])\n",
      "tensor([-3.2659,  2.3421, -3.8191, -0.8745,  0.5691, -2.2753,  3.8399, -0.6348,\n",
      "         2.3194,  2.4329,  2.3506,  2.7063,  2.5458,  2.5175])\n",
      "x_opt  tensor([-1.2525])\n",
      "tensor([-3.2659,  2.3421, -3.8191, -0.8745,  0.5691, -2.2753,  3.8399, -0.6348,\n",
      "         2.3194,  2.4329,  2.3506,  2.7063,  2.5458,  2.5175])\n",
      "x_opt  tensor([-1.2525])\n",
      "tensor([-3.2659,  2.3421, -3.8191, -0.8745,  0.5691, -2.2753,  3.8399, -0.6348,\n",
      "         2.3194,  2.4329,  2.3506,  2.7063,  2.5458,  2.5175])\n",
      "x_opt  tensor([-0.7677])\n",
      "tensor([-3.2659,  2.3421, -3.8191, -0.8745,  0.5691, -2.2753,  3.8399, -0.6348,\n",
      "         2.3194,  2.4329,  2.3506,  2.7063,  2.5458,  2.5175])\n",
      "x_opt  tensor([-1.7374])\n",
      "tensor([-3.2659,  2.3421, -3.8191, -0.8745,  0.5691, -2.2753,  3.8399, -0.6348,\n",
      "         2.3194,  2.4329,  2.3506,  2.7063,  2.5458,  2.5175])\n",
      "x_opt  tensor([-1.4141])\n",
      "tensor([-3.2659,  2.3421, -3.8191, -0.8745,  0.5691, -2.2753,  3.8399, -0.6348,\n",
      "         2.3194,  2.4329,  2.3506,  2.7063,  2.5458,  2.5175])\n",
      "x_opt  tensor([-1.0909])\n",
      "tensor([-3.2659,  2.3421, -3.8191, -0.8745,  0.5691, -2.2753,  3.8399, -0.6348,\n",
      "         2.3194,  2.4329,  2.3506,  2.7063,  2.5458,  2.5175])\n",
      "x_opt  tensor([-1.5758])\n",
      "tensor([-3.2659,  2.3421, -3.8191, -0.8745,  0.5691, -2.2753,  3.8399, -0.6348,\n",
      "         2.3194,  2.4329,  2.3506,  2.7063,  2.5458,  2.5175])\n"
     ]
    },
    {
     "name": "stderr",
     "output_type": "stream",
     "text": []
    },
    {
     "name": "stdout",
     "output_type": "stream",
     "text": [
      "Iteration 12: Elapsed Time: 3.7402408123016357 seconds\n",
      "x_opt  tensor([-1.8182])\n",
      "tensor([-3.2659,  2.3421, -3.8191, -0.8745,  0.5691, -2.2753,  3.8399, -0.6348,\n",
      "         2.3194,  2.4329,  2.3506,  2.7063,  2.5458,  2.5175,  2.4421])\n",
      "x_opt  tensor([-1.7374])\n",
      "tensor([-3.2659,  2.3421, -3.8191, -0.8745,  0.5691, -2.2753,  3.8399, -0.6348,\n",
      "         2.3194,  2.4329,  2.3506,  2.7063,  2.5458,  2.5175,  2.4421])\n",
      "x_opt  tensor([-1.2525])\n",
      "tensor([-3.2659,  2.3421, -3.8191, -0.8745,  0.5691, -2.2753,  3.8399, -0.6348,\n",
      "         2.3194,  2.4329,  2.3506,  2.7063,  2.5458,  2.5175,  2.4421])\n",
      "x_opt  tensor([-1.4141])\n",
      "tensor([-3.2659,  2.3421, -3.8191, -0.8745,  0.5691, -2.2753,  3.8399, -0.6348,\n",
      "         2.3194,  2.4329,  2.3506,  2.7063,  2.5458,  2.5175,  2.4421])\n",
      "x_opt  tensor([-0.9293])\n",
      "tensor([-3.2659,  2.3421, -3.8191, -0.8745,  0.5691, -2.2753,  3.8399, -0.6348,\n",
      "         2.3194,  2.4329,  2.3506,  2.7063,  2.5458,  2.5175,  2.4421])\n",
      "x_opt  tensor([-0.6061])\n",
      "tensor([-3.2659,  2.3421, -3.8191, -0.8745,  0.5691, -2.2753,  3.8399, -0.6348,\n",
      "         2.3194,  2.4329,  2.3506,  2.7063,  2.5458,  2.5175,  2.4421])\n",
      "x_opt  tensor([-1.5758])\n",
      "tensor([-3.2659,  2.3421, -3.8191, -0.8745,  0.5691, -2.2753,  3.8399, -0.6348,\n",
      "         2.3194,  2.4329,  2.3506,  2.7063,  2.5458,  2.5175,  2.4421])\n",
      "x_opt  tensor([-1.3333])\n",
      "tensor([-3.2659,  2.3421, -3.8191, -0.8745,  0.5691, -2.2753,  3.8399, -0.6348,\n",
      "         2.3194,  2.4329,  2.3506,  2.7063,  2.5458,  2.5175,  2.4421])\n",
      "x_opt  tensor([-1.6566])\n",
      "tensor([-3.2659,  2.3421, -3.8191, -0.8745,  0.5691, -2.2753,  3.8399, -0.6348,\n",
      "         2.3194,  2.4329,  2.3506,  2.7063,  2.5458,  2.5175,  2.4421])\n",
      "x_opt  tensor([-1.9798])\n"
     ]
    },
    {
     "name": "stderr",
     "output_type": "stream",
     "text": []
    },
    {
     "name": "stdout",
     "output_type": "stream",
     "text": [
      "tensor([-3.2659,  2.3421, -3.8191, -0.8745,  0.5691, -2.2753,  3.8399, -0.6348,\n",
      "         2.3194,  2.4329,  2.3506,  2.7063,  2.5458,  2.5175,  2.4421])\n",
      "Iteration 13: Elapsed Time: 3.849640130996704 seconds\n",
      "x_opt  tensor([-1.3333])\n",
      "tensor([-3.2659,  2.3421, -3.8191, -0.8745,  0.5691, -2.2753,  3.8399, -0.6348,\n",
      "         2.3194,  2.4329,  2.3506,  2.7063,  2.5458,  2.5175,  2.4421,  2.4162])\n",
      "x_opt  tensor([-1.1717])\n",
      "tensor([-3.2659,  2.3421, -3.8191, -0.8745,  0.5691, -2.2753,  3.8399, -0.6348,\n",
      "         2.3194,  2.4329,  2.3506,  2.7063,  2.5458,  2.5175,  2.4421,  2.4162])\n",
      "x_opt  tensor([-1.8990])\n",
      "tensor([-3.2659,  2.3421, -3.8191, -0.8745,  0.5691, -2.2753,  3.8399, -0.6348,\n",
      "         2.3194,  2.4329,  2.3506,  2.7063,  2.5458,  2.5175,  2.4421,  2.4162])\n",
      "x_opt  tensor([-0.5253])\n",
      "tensor([-3.2659,  2.3421, -3.8191, -0.8745,  0.5691, -2.2753,  3.8399, -0.6348,\n",
      "         2.3194,  2.4329,  2.3506,  2.7063,  2.5458,  2.5175,  2.4421,  2.4162])\n",
      "x_opt  tensor([-1.3333])\n",
      "tensor([-3.2659,  2.3421, -3.8191, -0.8745,  0.5691, -2.2753,  3.8399, -0.6348,\n",
      "         2.3194,  2.4329,  2.3506,  2.7063,  2.5458,  2.5175,  2.4421,  2.4162])\n",
      "x_opt  tensor([-1.0909])\n",
      "tensor([-3.2659,  2.3421, -3.8191, -0.8745,  0.5691, -2.2753,  3.8399, -0.6348,\n",
      "         2.3194,  2.4329,  2.3506,  2.7063,  2.5458,  2.5175,  2.4421,  2.4162])\n",
      "x_opt  tensor([-1.3333])\n",
      "tensor([-3.2659,  2.3421, -3.8191, -0.8745,  0.5691, -2.2753,  3.8399, -0.6348,\n",
      "         2.3194,  2.4329,  2.3506,  2.7063,  2.5458,  2.5175,  2.4421,  2.4162])\n",
      "x_opt  tensor([-0.7677])\n",
      "tensor([-3.2659,  2.3421, -3.8191, -0.8745,  0.5691, -2.2753,  3.8399, -0.6348,\n",
      "         2.3194,  2.4329,  2.3506,  2.7063,  2.5458,  2.5175,  2.4421,  2.4162])\n",
      "x_opt  tensor([-1.0909])\n",
      "tensor([-3.2659,  2.3421, -3.8191, -0.8745,  0.5691, -2.2753,  3.8399, -0.6348,\n",
      "         2.3194,  2.4329,  2.3506,  2.7063,  2.5458,  2.5175,  2.4421,  2.4162])\n",
      "x_opt  tensor([-1.6566])\n",
      "tensor([-3.2659,  2.3421, -3.8191, -0.8745,  0.5691, -2.2753,  3.8399, -0.6348,\n",
      "         2.3194,  2.4329,  2.3506,  2.7063,  2.5458,  2.5175,  2.4421,  2.4162])\n"
     ]
    },
    {
     "name": "stderr",
     "output_type": "stream",
     "text": []
    },
    {
     "name": "stdout",
     "output_type": "stream",
     "text": [
      "Iteration 14: Elapsed Time: 3.7882080078125 seconds\n",
      "x_opt  tensor([-1.8990])\n",
      "tensor([-3.2659,  2.3421, -3.8191, -0.8745,  0.5691, -2.2753,  3.8399, -0.6348,\n",
      "         2.3194,  2.4329,  2.3506,  2.7063,  2.5458,  2.5175,  2.4421,  2.4162,\n",
      "         2.4203])\n",
      "x_opt  tensor([-1.8990])\n",
      "tensor([-3.2659,  2.3421, -3.8191, -0.8745,  0.5691, -2.2753,  3.8399, -0.6348,\n",
      "         2.3194,  2.4329,  2.3506,  2.7063,  2.5458,  2.5175,  2.4421,  2.4162,\n",
      "         2.4203])\n",
      "x_opt  tensor([-1.5758])\n",
      "tensor([-3.2659,  2.3421, -3.8191, -0.8745,  0.5691, -2.2753,  3.8399, -0.6348,\n",
      "         2.3194,  2.4329,  2.3506,  2.7063,  2.5458,  2.5175,  2.4421,  2.4162,\n",
      "         2.4203])\n",
      "x_opt  tensor([-0.9293])\n",
      "tensor([-3.2659,  2.3421, -3.8191, -0.8745,  0.5691, -2.2753,  3.8399, -0.6348,\n",
      "         2.3194,  2.4329,  2.3506,  2.7063,  2.5458,  2.5175,  2.4421,  2.4162,\n",
      "         2.4203])\n",
      "x_opt  tensor([-1.1717])\n",
      "tensor([-3.2659,  2.3421, -3.8191, -0.8745,  0.5691, -2.2753,  3.8399, -0.6348,\n",
      "         2.3194,  2.4329,  2.3506,  2.7063,  2.5458,  2.5175,  2.4421,  2.4162,\n",
      "         2.4203])\n",
      "x_opt  tensor([-1.2525])\n",
      "tensor([-3.2659,  2.3421, -3.8191, -0.8745,  0.5691, -2.2753,  3.8399, -0.6348,\n",
      "         2.3194,  2.4329,  2.3506,  2.7063,  2.5458,  2.5175,  2.4421,  2.4162,\n",
      "         2.4203])\n",
      "x_opt  tensor([-0.9293])\n",
      "tensor([-3.2659,  2.3421, -3.8191, -0.8745,  0.5691, -2.2753,  3.8399, -0.6348,\n",
      "         2.3194,  2.4329,  2.3506,  2.7063,  2.5458,  2.5175,  2.4421,  2.4162,\n",
      "         2.4203])\n",
      "x_opt  tensor([-0.7677])\n",
      "tensor([-3.2659,  2.3421, -3.8191, -0.8745,  0.5691, -2.2753,  3.8399, -0.6348,\n",
      "         2.3194,  2.4329,  2.3506,  2.7063,  2.5458,  2.5175,  2.4421,  2.4162,\n",
      "         2.4203])\n",
      "x_opt  tensor([-1.5758])\n",
      "tensor([-3.2659,  2.3421, -3.8191, -0.8745,  0.5691, -2.2753,  3.8399, -0.6348,\n",
      "         2.3194,  2.4329,  2.3506,  2.7063,  2.5458,  2.5175,  2.4421,  2.4162,\n",
      "         2.4203])\n",
      "x_opt  tensor([-1.0101])\n",
      "tensor([-3.2659,  2.3421, -3.8191, -0.8745,  0.5691, -2.2753,  3.8399, -0.6348,\n",
      "         2.3194,  2.4329,  2.3506,  2.7063,  2.5458,  2.5175,  2.4421,  2.4162,\n",
      "         2.4203])\n"
     ]
    },
    {
     "name": "stderr",
     "output_type": "stream",
     "text": []
    },
    {
     "name": "stdout",
     "output_type": "stream",
     "text": [
      "Iteration 15: Elapsed Time: 3.9017770290374756 seconds\n",
      "x_opt  tensor([-1.0101])\n",
      "tensor([-3.2659,  2.3421, -3.8191, -0.8745,  0.5691, -2.2753,  3.8399, -0.6348,\n",
      "         2.3194,  2.4329,  2.3506,  2.7063,  2.5458,  2.5175,  2.4421,  2.4162,\n",
      "         2.4203,  2.3347])\n",
      "x_opt  tensor([-1.3333])\n",
      "tensor([-3.2659,  2.3421, -3.8191, -0.8745,  0.5691, -2.2753,  3.8399, -0.6348,\n",
      "         2.3194,  2.4329,  2.3506,  2.7063,  2.5458,  2.5175,  2.4421,  2.4162,\n",
      "         2.4203,  2.3347])\n",
      "x_opt  tensor([-1.7374])\n",
      "tensor([-3.2659,  2.3421, -3.8191, -0.8745,  0.5691, -2.2753,  3.8399, -0.6348,\n",
      "         2.3194,  2.4329,  2.3506,  2.7063,  2.5458,  2.5175,  2.4421,  2.4162,\n",
      "         2.4203,  2.3347])\n",
      "x_opt  tensor([-1.3333])\n",
      "tensor([-3.2659,  2.3421, -3.8191, -0.8745,  0.5691, -2.2753,  3.8399, -0.6348,\n",
      "         2.3194,  2.4329,  2.3506,  2.7063,  2.5458,  2.5175,  2.4421,  2.4162,\n",
      "         2.4203,  2.3347])\n",
      "x_opt  tensor([-1.4949])\n",
      "tensor([-3.2659,  2.3421, -3.8191, -0.8745,  0.5691, -2.2753,  3.8399, -0.6348,\n",
      "         2.3194,  2.4329,  2.3506,  2.7063,  2.5458,  2.5175,  2.4421,  2.4162,\n",
      "         2.4203,  2.3347])\n",
      "x_opt  tensor([-1.4949])\n",
      "tensor([-3.2659,  2.3421, -3.8191, -0.8745,  0.5691, -2.2753,  3.8399, -0.6348,\n",
      "         2.3194,  2.4329,  2.3506,  2.7063,  2.5458,  2.5175,  2.4421,  2.4162,\n",
      "         2.4203,  2.3347])\n",
      "x_opt  tensor([-1.7374])\n",
      "tensor([-3.2659,  2.3421, -3.8191, -0.8745,  0.5691, -2.2753,  3.8399, -0.6348,\n",
      "         2.3194,  2.4329,  2.3506,  2.7063,  2.5458,  2.5175,  2.4421,  2.4162,\n",
      "         2.4203,  2.3347])\n",
      "x_opt  tensor([-1.6566])\n",
      "tensor([-3.2659,  2.3421, -3.8191, -0.8745,  0.5691, -2.2753,  3.8399, -0.6348,\n",
      "         2.3194,  2.4329,  2.3506,  2.7063,  2.5458,  2.5175,  2.4421,  2.4162,\n",
      "         2.4203,  2.3347])\n",
      "x_opt  tensor([-1.1717])\n",
      "tensor([-3.2659,  2.3421, -3.8191, -0.8745,  0.5691, -2.2753,  3.8399, -0.6348,\n",
      "         2.3194,  2.4329,  2.3506,  2.7063,  2.5458,  2.5175,  2.4421,  2.4162,\n",
      "         2.4203,  2.3347])\n",
      "x_opt  tensor([-1.0101])\n",
      "tensor([-3.2659,  2.3421, -3.8191, -0.8745,  0.5691, -2.2753,  3.8399, -0.6348,\n",
      "         2.3194,  2.4329,  2.3506,  2.7063,  2.5458,  2.5175,  2.4421,  2.4162,\n",
      "         2.4203,  2.3347])\n"
     ]
    },
    {
     "name": "stderr",
     "output_type": "stream",
     "text": []
    },
    {
     "name": "stdout",
     "output_type": "stream",
     "text": [
      "Iteration 16: Elapsed Time: 3.9235808849334717 seconds\n",
      "x_opt  tensor([-0.9293])\n",
      "tensor([-3.2659,  2.3421, -3.8191, -0.8745,  0.5691, -2.2753,  3.8399, -0.6348,\n",
      "         2.3194,  2.4329,  2.3506,  2.7063,  2.5458,  2.5175,  2.4421,  2.4162,\n",
      "         2.4203,  2.3347, -3.4551])\n",
      "x_opt  tensor([-1.8182])\n",
      "tensor([-3.2659,  2.3421, -3.8191, -0.8745,  0.5691, -2.2753,  3.8399, -0.6348,\n",
      "         2.3194,  2.4329,  2.3506,  2.7063,  2.5458,  2.5175,  2.4421,  2.4162,\n",
      "         2.4203,  2.3347, -3.4551])\n",
      "x_opt  tensor([-1.0101])\n",
      "tensor([-3.2659,  2.3421, -3.8191, -0.8745,  0.5691, -2.2753,  3.8399, -0.6348,\n",
      "         2.3194,  2.4329,  2.3506,  2.7063,  2.5458,  2.5175,  2.4421,  2.4162,\n",
      "         2.4203,  2.3347, -3.4551])\n",
      "x_opt  tensor([-1.8990])\n",
      "tensor([-3.2659,  2.3421, -3.8191, -0.8745,  0.5691, -2.2753,  3.8399, -0.6348,\n",
      "         2.3194,  2.4329,  2.3506,  2.7063,  2.5458,  2.5175,  2.4421,  2.4162,\n",
      "         2.4203,  2.3347, -3.4551])\n",
      "x_opt  tensor([-1.4949])\n",
      "tensor([-3.2659,  2.3421, -3.8191, -0.8745,  0.5691, -2.2753,  3.8399, -0.6348,\n",
      "         2.3194,  2.4329,  2.3506,  2.7063,  2.5458,  2.5175,  2.4421,  2.4162,\n",
      "         2.4203,  2.3347, -3.4551])\n",
      "x_opt  tensor([-1.3333])\n",
      "tensor([-3.2659,  2.3421, -3.8191, -0.8745,  0.5691, -2.2753,  3.8399, -0.6348,\n",
      "         2.3194,  2.4329,  2.3506,  2.7063,  2.5458,  2.5175,  2.4421,  2.4162,\n",
      "         2.4203,  2.3347, -3.4551])\n",
      "x_opt  tensor([-1.3333])\n",
      "tensor([-3.2659,  2.3421, -3.8191, -0.8745,  0.5691, -2.2753,  3.8399, -0.6348,\n",
      "         2.3194,  2.4329,  2.3506,  2.7063,  2.5458,  2.5175,  2.4421,  2.4162,\n",
      "         2.4203,  2.3347, -3.4551])\n",
      "x_opt  tensor([-1.5758])\n",
      "tensor([-3.2659,  2.3421, -3.8191, -0.8745,  0.5691, -2.2753,  3.8399, -0.6348,\n",
      "         2.3194,  2.4329,  2.3506,  2.7063,  2.5458,  2.5175,  2.4421,  2.4162,\n",
      "         2.4203,  2.3347, -3.4551])\n",
      "x_opt  tensor([-1.8990])\n",
      "tensor([-3.2659,  2.3421, -3.8191, -0.8745,  0.5691, -2.2753,  3.8399, -0.6348,\n",
      "         2.3194,  2.4329,  2.3506,  2.7063,  2.5458,  2.5175,  2.4421,  2.4162,\n",
      "         2.4203,  2.3347, -3.4551])\n",
      "x_opt  tensor([-1.6566])\n",
      "tensor([-3.2659,  2.3421, -3.8191, -0.8745,  0.5691, -2.2753,  3.8399, -0.6348,\n",
      "         2.3194,  2.4329,  2.3506,  2.7063,  2.5458,  2.5175,  2.4421,  2.4162,\n",
      "         2.4203,  2.3347, -3.4551])\n"
     ]
    },
    {
     "name": "stderr",
     "output_type": "stream",
     "text": [
      "100%|██████████| 17/17 [01:02<00:00,  3.65s/it]"
     ]
    },
    {
     "name": "stdout",
     "output_type": "stream",
     "text": [
      "Iteration 17: Elapsed Time: 3.9921910762786865 seconds\n"
     ]
    },
    {
     "name": "stderr",
     "output_type": "stream",
     "text": [
      "\n",
      "100%|██████████| 5/5 [05:18<00:00, 63.72s/it]\n"
     ]
    },
    {
     "data": {
      "text/plain": [
       "<Figure size 640x480 with 0 Axes>"
      ]
     },
     "metadata": {},
     "output_type": "display_data"
    }
   ],
   "source": [
    "agent_pes = PES(dataset1=[xs, ys], init_y_recs_size = init_y_size, y_space=y_space, x_space=x_space, f_oracle=func, g_oracle=g,num_round=num_round, num_repeat = num_repeat, cdf_dir='experiments/swiss_roll/config/exact_cmp.yaml', dump_dir='result/pes/',  y_min=-3, λ=0.01, num_opt_samples=10, random_seeds=random_seeds)\n",
    "pos_best_dict['pes'] = agent_pes.simulation()"
   ]
  },
  {
   "cell_type": "code",
   "execution_count": 15,
   "metadata": {},
   "outputs": [
    {
     "data": {
      "text/plain": [
       "tensor([-3.2659,  2.3421, -3.8191, -0.8745,  0.5691, -2.2753,  3.8399, -0.6348,\n",
       "         2.3194,  2.4329,  2.3506,  2.7063,  2.5458,  2.5175,  2.4421,  2.4162,\n",
       "         2.4203,  2.3347, -3.4551,  2.3340])"
      ]
     },
     "execution_count": 15,
     "metadata": {},
     "output_type": "execute_result"
    }
   ],
   "source": [
    "agent_pes.z_rewards"
   ]
  },
  {
   "cell_type": "code",
   "execution_count": 16,
   "metadata": {},
   "outputs": [
    {
     "data": {
      "text/plain": [
       "(array([[0., 0., 1., 0., 0., 0., 0., 0., 0., 0.],\n",
       "        [1., 0., 0., 0., 0., 0., 0., 0., 0., 0.],\n",
       "        [0., 0., 1., 0., 0., 0., 0., 0., 0., 0.],\n",
       "        [0., 0., 0., 0., 1., 0., 0., 0., 0., 0.],\n",
       "        [0., 0., 0., 0., 0., 0., 0., 0., 1., 0.],\n",
       "        [0., 0., 0., 0., 0., 0., 0., 0., 0., 1.],\n",
       "        [0., 0., 0., 0., 0., 0., 1., 0., 0., 0.],\n",
       "        [0., 1., 0., 0., 0., 0., 0., 0., 0., 0.],\n",
       "        [1., 0., 0., 0., 0., 0., 0., 0., 0., 0.],\n",
       "        [1., 0., 0., 0., 0., 0., 0., 0., 0., 0.],\n",
       "        [1., 0., 0., 0., 0., 0., 0., 0., 0., 0.],\n",
       "        [1., 0., 0., 0., 0., 0., 0., 0., 0., 0.],\n",
       "        [1., 0., 0., 0., 0., 0., 0., 0., 0., 0.],\n",
       "        [1., 0., 0., 0., 0., 0., 0., 0., 0., 0.],\n",
       "        [1., 0., 0., 0., 0., 0., 0., 0., 0., 0.],\n",
       "        [1., 0., 0., 0., 0., 0., 0., 0., 0., 0.],\n",
       "        [1., 0., 0., 0., 0., 0., 0., 0., 0., 0.],\n",
       "        [1., 0., 0., 0., 0., 0., 0., 0., 0., 0.],\n",
       "        [0., 0., 0., 0., 0., 0., 0., 0., 0., 1.],\n",
       "        [1., 0., 0., 0., 0., 0., 0., 0., 0., 0.]]),\n",
       " array([-4. , -3.2, -2.4, -1.6, -0.8,  0. ,  0.8,  1.6,  2.4,  3.2,  4. ],\n",
       "       dtype=float32),\n",
       " <a list of 20 BarContainer objects>)"
      ]
     },
     "execution_count": 16,
     "metadata": {},
     "output_type": "execute_result"
    },
    {
     "data": {
      "image/png": "[encoded data removed]",
      "text/plain": [
       "<Figure size 640x480 with 1 Axes>"
      ]
     },
     "metadata": {},
     "output_type": "display_data"
    }
   ],
   "source": [
    "plt.hist(agent_pes.y_recs)"
   ]
  },
  {
   "cell_type": "code",
   "execution_count": 17,
   "metadata": {},
   "outputs": [],
   "source": [
    "# agent_ucb = BayesOpt_UCB(dataset1=[xs, ys], init_y_recs_size = init_y_size, y_space=y_space, x_space=x_space, f_oracle=func, g_oracle=g_oracle,num_round=num_round, num_repeat = num_repeat, cdf_dir='experiments/swiss_roll/config/exact_cmp_mz.yaml', dump_dir='result/ucb/', random_seeds=random_seeds)\n",
    "# pos_best_dict['ucb'] = agent_ucb.simulation()"
   ]
  },
  {
   "cell_type": "code",
   "execution_count": 18,
   "metadata": {},
   "outputs": [
    {
     "name": "stderr",
     "output_type": "stream",
     "text": [
      "  0%|          | 0/5 [00:00<?, ?it/s]"
     ]
    },
    {
     "name": "stdout",
     "output_type": "stream",
     "text": [
      "[ 2.17056515 -3.83398441  1.06918588]\n"
     ]
    },
    {
     "name": "stderr",
     "output_type": "stream",
     "text": []
    },
    {
     "name": "stdout",
     "output_type": "stream",
     "text": [
      "Iteration 1: Elapsed Time: 2.858001947402954 seconds\n"
     ]
    },
    {
     "name": "stderr",
     "output_type": "stream",
     "text": []
    },
    {
     "name": "stdout",
     "output_type": "stream",
     "text": [
      "Iteration 2: Elapsed Time: 2.751436710357666 seconds\n"
     ]
    },
    {
     "name": "stderr",
     "output_type": "stream",
     "text": []
    },
    {
     "name": "stdout",
     "output_type": "stream",
     "text": [
      "Iteration 3: Elapsed Time: 2.7961602210998535 seconds\n"
     ]
    },
    {
     "name": "stderr",
     "output_type": "stream",
     "text": []
    },
    {
     "name": "stdout",
     "output_type": "stream",
     "text": [
      "Iteration 4: Elapsed Time: 2.756845235824585 seconds\n"
     ]
    },
    {
     "name": "stderr",
     "output_type": "stream",
     "text": []
    },
    {
     "name": "stdout",
     "output_type": "stream",
     "text": [
      "Iteration 5: Elapsed Time: 2.85029673576355 seconds\n"
     ]
    },
    {
     "name": "stderr",
     "output_type": "stream",
     "text": []
    },
    {
     "name": "stdout",
     "output_type": "stream",
     "text": [
      "Iteration 6: Elapsed Time: 2.74377179145813 seconds\n"
     ]
    },
    {
     "name": "stderr",
     "output_type": "stream",
     "text": []
    },
    {
     "name": "stdout",
     "output_type": "stream",
     "text": [
      "Iteration 7: Elapsed Time: 2.8437938690185547 seconds\n"
     ]
    },
    {
     "name": "stderr",
     "output_type": "stream",
     "text": []
    },
    {
     "name": "stdout",
     "output_type": "stream",
     "text": [
      "Iteration 8: Elapsed Time: 2.7498490810394287 seconds\n"
     ]
    },
    {
     "name": "stderr",
     "output_type": "stream",
     "text": []
    },
    {
     "name": "stdout",
     "output_type": "stream",
     "text": [
      "Iteration 9: Elapsed Time: 2.808321952819824 seconds\n"
     ]
    },
    {
     "name": "stderr",
     "output_type": "stream",
     "text": []
    },
    {
     "name": "stdout",
     "output_type": "stream",
     "text": [
      "Iteration 10: Elapsed Time: 2.775485038757324 seconds\n"
     ]
    },
    {
     "name": "stderr",
     "output_type": "stream",
     "text": []
    },
    {
     "name": "stdout",
     "output_type": "stream",
     "text": [
      "Iteration 11: Elapsed Time: 2.8116259574890137 seconds\n"
     ]
    },
    {
     "name": "stderr",
     "output_type": "stream",
     "text": []
    },
    {
     "name": "stdout",
     "output_type": "stream",
     "text": [
      "Iteration 12: Elapsed Time: 2.7471840381622314 seconds\n"
     ]
    },
    {
     "name": "stderr",
     "output_type": "stream",
     "text": []
    },
    {
     "name": "stdout",
     "output_type": "stream",
     "text": [
      "Iteration 13: Elapsed Time: 2.8101768493652344 seconds\n"
     ]
    },
    {
     "name": "stderr",
     "output_type": "stream",
     "text": []
    },
    {
     "name": "stdout",
     "output_type": "stream",
     "text": [
      "Iteration 14: Elapsed Time: 2.8324642181396484 seconds\n"
     ]
    },
    {
     "name": "stderr",
     "output_type": "stream",
     "text": []
    },
    {
     "name": "stdout",
     "output_type": "stream",
     "text": [
      "Iteration 15: Elapsed Time: 2.803589105606079 seconds\n"
     ]
    },
    {
     "name": "stderr",
     "output_type": "stream",
     "text": []
    },
    {
     "name": "stdout",
     "output_type": "stream",
     "text": [
      "Iteration 16: Elapsed Time: 2.810523271560669 seconds\n"
     ]
    },
    {
     "name": "stderr",
     "output_type": "stream",
     "text": [
      "100%|██████████| 17/17 [00:47<00:00,  2.79s/it]"
     ]
    },
    {
     "name": "stdout",
     "output_type": "stream",
     "text": [
      "Iteration 17: Elapsed Time: 2.711874008178711 seconds\n"
     ]
    },
    {
     "name": "stderr",
     "output_type": "stream",
     "text": [
      "\n",
      " 20%|██        | 1/5 [00:47<03:11, 47.78s/it]"
     ]
    },
    {
     "name": "stdout",
     "output_type": "stream",
     "text": [
      "[-0.00244544 -1.95250293 -1.93519495]\n"
     ]
    },
    {
     "name": "stderr",
     "output_type": "stream",
     "text": []
    },
    {
     "name": "stdout",
     "output_type": "stream",
     "text": [
      "Iteration 1: Elapsed Time: 2.7669129371643066 seconds\n"
     ]
    },
    {
     "name": "stderr",
     "output_type": "stream",
     "text": []
    },
    {
     "name": "stdout",
     "output_type": "stream",
     "text": [
      "Iteration 2: Elapsed Time: 2.7180299758911133 seconds\n"
     ]
    },
    {
     "name": "stderr",
     "output_type": "stream",
     "text": []
    },
    {
     "name": "stdout",
     "output_type": "stream",
     "text": [
      "Iteration 3: Elapsed Time: 2.7191109657287598 seconds\n"
     ]
    },
    {
     "name": "stderr",
     "output_type": "stream",
     "text": []
    },
    {
     "name": "stdout",
     "output_type": "stream",
     "text": [
      "Iteration 4: Elapsed Time: 2.706697940826416 seconds\n"
     ]
    },
    {
     "name": "stderr",
     "output_type": "stream",
     "text": []
    },
    {
     "name": "stdout",
     "output_type": "stream",
     "text": [
      "Iteration 5: Elapsed Time: 2.7868478298187256 seconds\n"
     ]
    },
    {
     "name": "stderr",
     "output_type": "stream",
     "text": []
    },
    {
     "name": "stdout",
     "output_type": "stream",
     "text": [
      "Iteration 6: Elapsed Time: 2.6956100463867188 seconds\n"
     ]
    },
    {
     "name": "stderr",
     "output_type": "stream",
     "text": []
    },
    {
     "name": "stdout",
     "output_type": "stream",
     "text": [
      "Iteration 7: Elapsed Time: 2.7533888816833496 seconds\n"
     ]
    },
    {
     "name": "stderr",
     "output_type": "stream",
     "text": []
    },
    {
     "name": "stdout",
     "output_type": "stream",
     "text": [
      "Iteration 8: Elapsed Time: 2.719635009765625 seconds\n"
     ]
    },
    {
     "name": "stderr",
     "output_type": "stream",
     "text": []
    },
    {
     "name": "stdout",
     "output_type": "stream",
     "text": [
      "Iteration 9: Elapsed Time: 2.746131181716919 seconds\n"
     ]
    },
    {
     "name": "stderr",
     "output_type": "stream",
     "text": []
    },
    {
     "name": "stdout",
     "output_type": "stream",
     "text": [
      "Iteration 10: Elapsed Time: 2.7902650833129883 seconds\n"
     ]
    },
    {
     "name": "stderr",
     "output_type": "stream",
     "text": []
    },
    {
     "name": "stdout",
     "output_type": "stream",
     "text": [
      "Iteration 11: Elapsed Time: 2.6978330612182617 seconds\n"
     ]
    },
    {
     "name": "stderr",
     "output_type": "stream",
     "text": []
    },
    {
     "name": "stdout",
     "output_type": "stream",
     "text": [
      "Iteration 12: Elapsed Time: 2.765048027038574 seconds\n"
     ]
    },
    {
     "name": "stderr",
     "output_type": "stream",
     "text": []
    },
    {
     "name": "stdout",
     "output_type": "stream",
     "text": [
      "Iteration 13: Elapsed Time: 2.7215187549591064 seconds\n"
     ]
    },
    {
     "name": "stderr",
     "output_type": "stream",
     "text": []
    },
    {
     "name": "stdout",
     "output_type": "stream",
     "text": [
      "Iteration 14: Elapsed Time: 2.7707040309906006 seconds\n"
     ]
    },
    {
     "name": "stderr",
     "output_type": "stream",
     "text": []
    },
    {
     "name": "stdout",
     "output_type": "stream",
     "text": [
      "Iteration 15: Elapsed Time: 2.7414019107818604 seconds\n"
     ]
    },
    {
     "name": "stderr",
     "output_type": "stream",
     "text": []
    },
    {
     "name": "stdout",
     "output_type": "stream",
     "text": [
      "Iteration 16: Elapsed Time: 2.8038439750671387 seconds\n"
     ]
    },
    {
     "name": "stderr",
     "output_type": "stream",
     "text": [
      "100%|██████████| 17/17 [00:46<00:00,  2.74s/it]"
     ]
    },
    {
     "name": "stdout",
     "output_type": "stream",
     "text": [
      "Iteration 17: Elapsed Time: 2.7201240062713623 seconds\n"
     ]
    },
    {
     "name": "stderr",
     "output_type": "stream",
     "text": [
      "\n",
      " 40%|████      | 2/5 [01:34<02:21, 47.28s/it]"
     ]
    },
    {
     "name": "stdout",
     "output_type": "stream",
     "text": [
      "[-2.76569937 -2.93040351 -1.09851627]\n"
     ]
    },
    {
     "name": "stderr",
     "output_type": "stream",
     "text": []
    },
    {
     "name": "stdout",
     "output_type": "stream",
     "text": [
      "Iteration 1: Elapsed Time: 2.7593510150909424 seconds\n"
     ]
    },
    {
     "name": "stderr",
     "output_type": "stream",
     "text": []
    },
    {
     "name": "stdout",
     "output_type": "stream",
     "text": [
      "Iteration 2: Elapsed Time: 2.685861825942993 seconds\n"
     ]
    },
    {
     "name": "stderr",
     "output_type": "stream",
     "text": []
    },
    {
     "name": "stdout",
     "output_type": "stream",
     "text": [
      "Iteration 3: Elapsed Time: 2.7640938758850098 seconds\n"
     ]
    },
    {
     "name": "stderr",
     "output_type": "stream",
     "text": []
    },
    {
     "name": "stdout",
     "output_type": "stream",
     "text": [
      "Iteration 4: Elapsed Time: 2.6823177337646484 seconds\n"
     ]
    },
    {
     "name": "stderr",
     "output_type": "stream",
     "text": []
    },
    {
     "name": "stdout",
     "output_type": "stream",
     "text": [
      "Iteration 5: Elapsed Time: 2.680361270904541 seconds\n"
     ]
    },
    {
     "name": "stderr",
     "output_type": "stream",
     "text": []
    },
    {
     "name": "stdout",
     "output_type": "stream",
     "text": [
      "Iteration 6: Elapsed Time: 2.684739828109741 seconds\n"
     ]
    },
    {
     "name": "stderr",
     "output_type": "stream",
     "text": []
    },
    {
     "name": "stdout",
     "output_type": "stream",
     "text": [
      "Iteration 7: Elapsed Time: 2.7598252296447754 seconds\n"
     ]
    },
    {
     "name": "stderr",
     "output_type": "stream",
     "text": []
    },
    {
     "name": "stdout",
     "output_type": "stream",
     "text": [
      "Iteration 8: Elapsed Time: 2.789501905441284 seconds\n"
     ]
    },
    {
     "name": "stderr",
     "output_type": "stream",
     "text": []
    },
    {
     "name": "stdout",
     "output_type": "stream",
     "text": [
      "Iteration 9: Elapsed Time: 2.6840858459472656 seconds\n"
     ]
    },
    {
     "name": "stderr",
     "output_type": "stream",
     "text": []
    },
    {
     "name": "stdout",
     "output_type": "stream",
     "text": [
      "Iteration 10: Elapsed Time: 2.753119945526123 seconds\n"
     ]
    },
    {
     "name": "stderr",
     "output_type": "stream",
     "text": []
    },
    {
     "name": "stdout",
     "output_type": "stream",
     "text": [
      "Iteration 11: Elapsed Time: 2.702887773513794 seconds\n"
     ]
    },
    {
     "name": "stderr",
     "output_type": "stream",
     "text": []
    },
    {
     "name": "stdout",
     "output_type": "stream",
     "text": [
      "Iteration 12: Elapsed Time: 2.7227940559387207 seconds\n"
     ]
    },
    {
     "name": "stderr",
     "output_type": "stream",
     "text": []
    },
    {
     "name": "stdout",
     "output_type": "stream",
     "text": [
      "Iteration 13: Elapsed Time: 2.6974477767944336 seconds\n"
     ]
    },
    {
     "name": "stderr",
     "output_type": "stream",
     "text": []
    },
    {
     "name": "stdout",
     "output_type": "stream",
     "text": [
      "Iteration 14: Elapsed Time: 2.80662202835083 seconds\n"
     ]
    },
    {
     "name": "stderr",
     "output_type": "stream",
     "text": []
    },
    {
     "name": "stdout",
     "output_type": "stream",
     "text": [
      "Iteration 15: Elapsed Time: 2.7567028999328613 seconds\n"
     ]
    },
    {
     "name": "stderr",
     "output_type": "stream",
     "text": []
    },
    {
     "name": "stdout",
     "output_type": "stream",
     "text": [
      "Iteration 16: Elapsed Time: 2.797776937484741 seconds\n"
     ]
    },
    {
     "name": "stderr",
     "output_type": "stream",
     "text": [
      "100%|██████████| 17/17 [00:46<00:00,  2.73s/it]"
     ]
    },
    {
     "name": "stdout",
     "output_type": "stream",
     "text": [
      "Iteration 17: Elapsed Time: 2.7253479957580566 seconds\n"
     ]
    },
    {
     "name": "stderr",
     "output_type": "stream",
     "text": [
      "\n",
      " 60%|██████    | 3/5 [02:21<01:34, 47.05s/it]"
     ]
    },
    {
     "name": "stdout",
     "output_type": "stream",
     "text": [
      "[-3.91700677  0.01499674 -0.03381365]\n"
     ]
    },
    {
     "name": "stderr",
     "output_type": "stream",
     "text": []
    },
    {
     "name": "stdout",
     "output_type": "stream",
     "text": [
      "Iteration 1: Elapsed Time: 2.7541768550872803 seconds\n"
     ]
    },
    {
     "name": "stderr",
     "output_type": "stream",
     "text": []
    },
    {
     "name": "stdout",
     "output_type": "stream",
     "text": [
      "Iteration 2: Elapsed Time: 2.660142183303833 seconds\n"
     ]
    },
    {
     "name": "stderr",
     "output_type": "stream",
     "text": []
    },
    {
     "name": "stdout",
     "output_type": "stream",
     "text": [
      "Iteration 3: Elapsed Time: 2.765448808670044 seconds\n"
     ]
    },
    {
     "name": "stderr",
     "output_type": "stream",
     "text": []
    },
    {
     "name": "stdout",
     "output_type": "stream",
     "text": [
      "Iteration 4: Elapsed Time: 2.654792070388794 seconds\n"
     ]
    },
    {
     "name": "stderr",
     "output_type": "stream",
     "text": []
    },
    {
     "name": "stdout",
     "output_type": "stream",
     "text": [
      "Iteration 5: Elapsed Time: 2.7580440044403076 seconds\n"
     ]
    },
    {
     "name": "stderr",
     "output_type": "stream",
     "text": []
    },
    {
     "name": "stdout",
     "output_type": "stream",
     "text": [
      "Iteration 6: Elapsed Time: 2.696382999420166 seconds\n"
     ]
    },
    {
     "name": "stderr",
     "output_type": "stream",
     "text": []
    },
    {
     "name": "stdout",
     "output_type": "stream",
     "text": [
      "Iteration 7: Elapsed Time: 2.780869722366333 seconds\n"
     ]
    },
    {
     "name": "stderr",
     "output_type": "stream",
     "text": []
    },
    {
     "name": "stdout",
     "output_type": "stream",
     "text": [
      "Iteration 8: Elapsed Time: 2.735413074493408 seconds\n"
     ]
    },
    {
     "name": "stderr",
     "output_type": "stream",
     "text": []
    },
    {
     "name": "stdout",
     "output_type": "stream",
     "text": [
      "Iteration 9: Elapsed Time: 2.8216497898101807 seconds\n"
     ]
    },
    {
     "name": "stderr",
     "output_type": "stream",
     "text": []
    },
    {
     "name": "stdout",
     "output_type": "stream",
     "text": [
      "Iteration 10: Elapsed Time: 2.723109006881714 seconds\n"
     ]
    },
    {
     "name": "stderr",
     "output_type": "stream",
     "text": []
    },
    {
     "name": "stdout",
     "output_type": "stream",
     "text": [
      "Iteration 11: Elapsed Time: 2.7513279914855957 seconds\n"
     ]
    },
    {
     "name": "stderr",
     "output_type": "stream",
     "text": []
    },
    {
     "name": "stdout",
     "output_type": "stream",
     "text": [
      "Iteration 12: Elapsed Time: 2.6818559169769287 seconds\n"
     ]
    },
    {
     "name": "stderr",
     "output_type": "stream",
     "text": []
    },
    {
     "name": "stdout",
     "output_type": "stream",
     "text": [
      "Iteration 13: Elapsed Time: 2.743446111679077 seconds\n"
     ]
    },
    {
     "name": "stderr",
     "output_type": "stream",
     "text": []
    },
    {
     "name": "stdout",
     "output_type": "stream",
     "text": [
      "Iteration 14: Elapsed Time: 2.767343759536743 seconds\n"
     ]
    },
    {
     "name": "stderr",
     "output_type": "stream",
     "text": []
    },
    {
     "name": "stdout",
     "output_type": "stream",
     "text": [
      "Iteration 15: Elapsed Time: 2.7305750846862793 seconds\n"
     ]
    },
    {
     "name": "stderr",
     "output_type": "stream",
     "text": []
    },
    {
     "name": "stdout",
     "output_type": "stream",
     "text": [
      "Iteration 16: Elapsed Time: 2.8095579147338867 seconds\n"
     ]
    },
    {
     "name": "stderr",
     "output_type": "stream",
     "text": [
      "100%|██████████| 17/17 [00:46<00:00,  2.74s/it]"
     ]
    },
    {
     "name": "stdout",
     "output_type": "stream",
     "text": [
      "Iteration 17: Elapsed Time: 2.6983821392059326 seconds\n"
     ]
    },
    {
     "name": "stderr",
     "output_type": "stream",
     "text": [
      "\n",
      " 80%|████████  | 4/5 [03:08<00:46, 46.97s/it]"
     ]
    },
    {
     "name": "stdout",
     "output_type": "stream",
     "text": [
      "[-2.2508396  -3.74877824 -1.70299778]\n"
     ]
    },
    {
     "name": "stderr",
     "output_type": "stream",
     "text": []
    },
    {
     "name": "stdout",
     "output_type": "stream",
     "text": [
      "Iteration 1: Elapsed Time: 2.7799439430236816 seconds\n"
     ]
    },
    {
     "name": "stderr",
     "output_type": "stream",
     "text": []
    },
    {
     "name": "stdout",
     "output_type": "stream",
     "text": [
      "Iteration 2: Elapsed Time: 2.6775689125061035 seconds\n"
     ]
    },
    {
     "name": "stderr",
     "output_type": "stream",
     "text": []
    },
    {
     "name": "stdout",
     "output_type": "stream",
     "text": [
      "Iteration 3: Elapsed Time: 2.740262031555176 seconds\n"
     ]
    },
    {
     "name": "stderr",
     "output_type": "stream",
     "text": []
    },
    {
     "name": "stdout",
     "output_type": "stream",
     "text": [
      "Iteration 4: Elapsed Time: 2.6979827880859375 seconds\n"
     ]
    },
    {
     "name": "stderr",
     "output_type": "stream",
     "text": []
    },
    {
     "name": "stdout",
     "output_type": "stream",
     "text": [
      "Iteration 5: Elapsed Time: 2.8420562744140625 seconds\n"
     ]
    },
    {
     "name": "stderr",
     "output_type": "stream",
     "text": []
    },
    {
     "name": "stdout",
     "output_type": "stream",
     "text": [
      "Iteration 6: Elapsed Time: 2.7230119705200195 seconds\n"
     ]
    },
    {
     "name": "stderr",
     "output_type": "stream",
     "text": []
    },
    {
     "name": "stdout",
     "output_type": "stream",
     "text": [
      "Iteration 7: Elapsed Time: 2.830996036529541 seconds\n"
     ]
    },
    {
     "name": "stderr",
     "output_type": "stream",
     "text": []
    },
    {
     "name": "stdout",
     "output_type": "stream",
     "text": [
      "Iteration 8: Elapsed Time: 2.7247111797332764 seconds\n"
     ]
    },
    {
     "name": "stderr",
     "output_type": "stream",
     "text": []
    },
    {
     "name": "stdout",
     "output_type": "stream",
     "text": [
      "Iteration 9: Elapsed Time: 2.730524778366089 seconds\n"
     ]
    },
    {
     "name": "stderr",
     "output_type": "stream",
     "text": []
    },
    {
     "name": "stdout",
     "output_type": "stream",
     "text": [
      "Iteration 10: Elapsed Time: 2.6938347816467285 seconds\n"
     ]
    },
    {
     "name": "stderr",
     "output_type": "stream",
     "text": []
    },
    {
     "name": "stdout",
     "output_type": "stream",
     "text": [
      "Iteration 11: Elapsed Time: 2.730199098587036 seconds\n"
     ]
    },
    {
     "name": "stderr",
     "output_type": "stream",
     "text": []
    },
    {
     "name": "stdout",
     "output_type": "stream",
     "text": [
      "Iteration 12: Elapsed Time: 2.687798023223877 seconds\n"
     ]
    },
    {
     "name": "stderr",
     "output_type": "stream",
     "text": []
    },
    {
     "name": "stdout",
     "output_type": "stream",
     "text": [
      "Iteration 13: Elapsed Time: 2.763237953186035 seconds\n"
     ]
    },
    {
     "name": "stderr",
     "output_type": "stream",
     "text": []
    },
    {
     "name": "stdout",
     "output_type": "stream",
     "text": [
      "Iteration 14: Elapsed Time: 2.7145841121673584 seconds\n"
     ]
    },
    {
     "name": "stderr",
     "output_type": "stream",
     "text": []
    },
    {
     "name": "stdout",
     "output_type": "stream",
     "text": [
      "Iteration 15: Elapsed Time: 2.76680588722229 seconds\n"
     ]
    },
    {
     "name": "stderr",
     "output_type": "stream",
     "text": []
    },
    {
     "name": "stdout",
     "output_type": "stream",
     "text": [
      "Iteration 16: Elapsed Time: 2.6889162063598633 seconds\n"
     ]
    },
    {
     "name": "stderr",
     "output_type": "stream",
     "text": [
      "100%|██████████| 17/17 [00:46<00:00,  2.74s/it]"
     ]
    },
    {
     "name": "stdout",
     "output_type": "stream",
     "text": [
      "Iteration 17: Elapsed Time: 2.7747678756713867 seconds\n"
     ]
    },
    {
     "name": "stderr",
     "output_type": "stream",
     "text": [
      "\n",
      "100%|██████████| 5/5 [03:55<00:00, 47.04s/it]\n"
     ]
    },
    {
     "data": {
      "text/plain": [
       "<Figure size 640x480 with 0 Axes>"
      ]
     },
     "metadata": {},
     "output_type": "display_data"
    }
   ],
   "source": [
    "agent_random = BayesOpt_Random(dataset1=[xs, ys], init_y_recs_size = init_y_size, y_space=y_space, x_space=x_space, f_oracle=func, g_oracle=g,num_round=num_round, num_repeat = num_repeat, cdf_dir='experiments/swiss_roll/config/exact_cmp_mz.yaml', dump_dir='result/random/', random_seeds=random_seeds)\n",
    "pos_best_dict['random']= agent_random.simulation()"
   ]
  },
  {
   "cell_type": "code",
   "execution_count": 19,
   "metadata": {},
   "outputs": [
    {
     "data": {
      "text/plain": [
       "(array([[0., 0., 1., 0., 0., 0., 0., 0., 0., 0.],\n",
       "        [1., 0., 0., 0., 0., 0., 0., 0., 0., 0.],\n",
       "        [0., 0., 0., 1., 0., 0., 0., 0., 0., 0.],\n",
       "        [0., 0., 0., 0., 0., 0., 0., 0., 0., 1.],\n",
       "        [0., 0., 0., 0., 0., 0., 1., 0., 0., 0.],\n",
       "        [0., 0., 0., 0., 0., 0., 1., 0., 0., 0.],\n",
       "        [0., 1., 0., 0., 0., 0., 0., 0., 0., 0.],\n",
       "        [0., 0., 0., 0., 0., 0., 0., 0., 1., 0.],\n",
       "        [0., 0., 0., 0., 0., 0., 0., 0., 0., 1.],\n",
       "        [1., 0., 0., 0., 0., 0., 0., 0., 0., 0.],\n",
       "        [0., 0., 0., 0., 0., 1., 0., 0., 0., 0.],\n",
       "        [0., 0., 0., 0., 0., 1., 0., 0., 0., 0.],\n",
       "        [0., 1., 0., 0., 0., 0., 0., 0., 0., 0.],\n",
       "        [1., 0., 0., 0., 0., 0., 0., 0., 0., 0.],\n",
       "        [1., 0., 0., 0., 0., 0., 0., 0., 0., 0.],\n",
       "        [0., 0., 0., 0., 0., 0., 1., 0., 0., 0.],\n",
       "        [0., 0., 0., 0., 0., 0., 0., 0., 0., 1.],\n",
       "        [0., 0., 0., 1., 0., 0., 0., 0., 0., 0.],\n",
       "        [0., 0., 0., 0., 1., 0., 0., 0., 0., 0.],\n",
       "        [1., 0., 0., 0., 0., 0., 0., 0., 0., 0.]]),\n",
       " array([-3.7605011 , -3.1389534 , -2.5174055 , -1.8958578 , -1.27431   ,\n",
       "        -0.6527622 , -0.03121438,  0.5903334 ,  1.2118812 ,  1.833429  ,\n",
       "         2.4549768 ], dtype=float32),\n",
       " <a list of 20 BarContainer objects>)"
      ]
     },
     "execution_count": 19,
     "metadata": {},
     "output_type": "execute_result"
    },
    {
     "data": {
      "image/png": "[encoded data removed]",
      "text/plain": [
       "<Figure size 640x480 with 1 Axes>"
      ]
     },
     "metadata": {},
     "output_type": "display_data"
    }
   ],
   "source": [
    "plt.hist(agent_random.y_recs)"
   ]
  },
  {
   "cell_type": "code",
   "execution_count": 1,
   "metadata": {},
   "outputs": [],
   "source": [
    "def evalaution(pos_best_dict):\n",
    "    # plt.plot(range(self.n), self.z_rewards[self.init_y_recs_size:], '.', label = 'z rewards')\n",
    "    for name, pos_bests in pos_best_dict.items():\n",
    "        opt = np.min(func(x_space.numpy()))\n",
    "        regret_mean =np.abs(opt - pos_bests).mean(axis=0)\n",
    "        regret_std =np.abs(opt - pos_bests).std(axis=0)\n",
    "        # print(regret_mean)\n",
    "        plt.plot(range(len(regret_mean)), regret_mean, label = name)\n",
    "        plt.fill_between(range(len(regret_mean)), regret_mean - 2 * regret_std, regret_mean + 2 * regret_std, alpha = 0.3)\n",
    "    # plt.ylim(0,2)\n",
    "    plt.legend()\n",
    "    plt.xlabel('Round')\n",
    "    plt.ylabel('Regret')  "
   ]
  },
  {
   "cell_type": "code",
   "execution_count": 25,
   "metadata": {},
   "outputs": [
    {
     "data": {
      "image/png": "[encoded data removed]",
      "text/plain": [
       "<Figure size 640x480 with 1 Axes>"
      ]
     },
     "metadata": {},
     "output_type": "display_data"
    }
   ],
   "source": [
    "evalaution(pos_best_dict)"
   ]
  },
  {
   "cell_type": "code",
   "execution_count": 22,
   "metadata": {},
   "outputs": [
    {
     "data": {
      "text/plain": [
       "[tensor(-3.7865),\n",
       " tensor(-3.7865),\n",
       " tensor(-3.7865),\n",
       " tensor(-3.6701),\n",
       " tensor(-3.7865),\n",
       " tensor(-4.0000),\n",
       " tensor(-3.9885),\n",
       " tensor(-3.9510),\n",
       " tensor(-3.9510),\n",
       " tensor(-3.9510),\n",
       " tensor(-3.9510),\n",
       " tensor(-3.9510),\n",
       " tensor(-3.8878),\n",
       " tensor(-3.8878),\n",
       " tensor(-3.8878),\n",
       " tensor(-3.8878),\n",
       " tensor(-3.8878)]"
      ]
     },
     "execution_count": 22,
     "metadata": {},
     "output_type": "execute_result"
    }
   ],
   "source": [
    "pos_best_dict['pes'][-1]\n"
   ]
  },
  {
   "cell_type": "code",
   "execution_count": 23,
   "metadata": {},
   "outputs": [],
   "source": [
    "# np.save('pos-seed24.npy', pos_best_dict)"
   ]
  },
  {
   "cell_type": "code",
   "execution_count": null,
   "metadata": {},
   "outputs": [],
   "source": []
  }
 ],
 "metadata": {
  "kernelspec": {
   "display_name": "Python 3 (ipykernel)",
   "language": "python",
   "name": "python3"
  },
  "language_info": {
   "codemirror_mode": {
    "name": "ipython",
    "version": 3
   },
   "file_extension": ".py",
   "mimetype": "text/x-python",
   "name": "python",
   "nbconvert_exporter": "python",
   "pygments_lexer": "ipython3",
   "version": "3.8.17"
  }
 },
 "nbformat": 4,
 "nbformat_minor": 2
}
