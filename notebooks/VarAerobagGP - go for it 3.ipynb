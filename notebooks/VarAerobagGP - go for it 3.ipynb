{
 "cells": [
  {
   "cell_type": "code",
   "execution_count": 1,
   "metadata": {},
   "outputs": [],
   "source": [
    "import os\n",
    "import sys\n",
    "import numpy as np\n",
    "import pandas as pd\n",
    "import matplotlib\n",
    "import matplotlib.pyplot as plt\n",
    "from pyproj import Proj, CRS, Transformer\n",
    "from mpl_toolkits.axes_grid1 import make_axes_locatable\n",
    "import torch\n",
    "import gpytorch\n",
    "import rasterio\n",
    "import tqdm\n",
    "\n",
    "base_dir = os.path.join(os.getcwd(), '..')\n",
    "sys.path.append(base_dir)\n",
    "\n",
    "from src.kernels import CMEAggregateKernel\n",
    "from src.means import CMEAggregateMean\n",
    "from src.models import VariationalCMEProcess\n",
    "from src.likelihoods import CMEProcessLikelihood\n",
    "from src.structures import BagDataset\n",
    "\n",
    "def list_collate(batch):\n",
    "    data, target = zip(*batch)\n",
    "    return list(data), torch.Tensor(target)\n",
    "\n",
    "def process(array, qmin=1, qmax=99):\n",
    "    normalize = lambda x: (x - x.min(axis=(0, 1))) / (x.max(axis=(0, 1)) - x.min(axis=(0, 1)))\n",
    "    upper_bound = np.percentile(array, q=qmax, axis=(0, 1))\n",
    "    lower_bound = np.percentile(array, q=qmin, axis=(0, 1))\n",
    "    array = array.clip(min=lower_bound, max=upper_bound)\n",
    "    array = normalize(array)\n",
    "    return array"
   ]
  },
  {
   "cell_type": "code",
   "execution_count": 3,
   "metadata": {},
   "outputs": [
    {
     "data": {
      "text/html": [
       "<div>\n",
       "<style scoped>\n",
       "    .dataframe tbody tr th:only-of-type {\n",
       "        vertical-align: middle;\n",
       "    }\n",
       "\n",
       "    .dataframe tbody tr th {\n",
       "        vertical-align: top;\n",
       "    }\n",
       "\n",
       "    .dataframe thead th {\n",
       "        text-align: right;\n",
       "    }\n",
       "</style>\n",
       "<table border=\"1\" class=\"dataframe\">\n",
       "  <thead>\n",
       "    <tr style=\"text-align: right;\">\n",
       "      <th></th>\n",
       "      <th>Unnamed: 0</th>\n",
       "      <th>MODIS_Longitude(Degree)</th>\n",
       "      <th>MODIS_Latitude(Degree)</th>\n",
       "      <th>b01</th>\n",
       "      <th>b02</th>\n",
       "      <th>b03</th>\n",
       "      <th>b04</th>\n",
       "      <th>b05</th>\n",
       "      <th>b06</th>\n",
       "      <th>b07</th>\n",
       "      <th>...</th>\n",
       "      <th>SolarZenith</th>\n",
       "      <th>AERONET_Site_Name</th>\n",
       "      <th>AERONET_Instrument_Number</th>\n",
       "      <th>Day_of_Year</th>\n",
       "      <th>Data_Quality_Level</th>\n",
       "      <th>Site_Longitude(Degrees)</th>\n",
       "      <th>Site_Latitude(Degrees)</th>\n",
       "      <th>Site_Elevation(m)</th>\n",
       "      <th>AOD_500nm</th>\n",
       "      <th>bag_index</th>\n",
       "    </tr>\n",
       "    <tr>\n",
       "      <th>index</th>\n",
       "      <th></th>\n",
       "      <th></th>\n",
       "      <th></th>\n",
       "      <th></th>\n",
       "      <th></th>\n",
       "      <th></th>\n",
       "      <th></th>\n",
       "      <th></th>\n",
       "      <th></th>\n",
       "      <th></th>\n",
       "      <th></th>\n",
       "      <th></th>\n",
       "      <th></th>\n",
       "      <th></th>\n",
       "      <th></th>\n",
       "      <th></th>\n",
       "      <th></th>\n",
       "      <th></th>\n",
       "      <th></th>\n",
       "      <th></th>\n",
       "      <th></th>\n",
       "    </tr>\n",
       "  </thead>\n",
       "  <tbody>\n",
       "    <tr>\n",
       "      <th>155</th>\n",
       "      <td>8082</td>\n",
       "      <td>24.912780</td>\n",
       "      <td>60.316572</td>\n",
       "      <td>629.0</td>\n",
       "      <td>627.0</td>\n",
       "      <td>594.0</td>\n",
       "      <td>575.0</td>\n",
       "      <td>734.0</td>\n",
       "      <td>680.0</td>\n",
       "      <td>360.0</td>\n",
       "      <td>...</td>\n",
       "      <td>5557.0</td>\n",
       "      <td>Helsinki</td>\n",
       "      <td>392</td>\n",
       "      <td>92</td>\n",
       "      <td>lev20</td>\n",
       "      <td>24.960650</td>\n",
       "      <td>60.203733</td>\n",
       "      <td>52.8</td>\n",
       "      <td>0.071888</td>\n",
       "      <td>19</td>\n",
       "    </tr>\n",
       "    <tr>\n",
       "      <th>50</th>\n",
       "      <td>1715</td>\n",
       "      <td>2.731272</td>\n",
       "      <td>39.650102</td>\n",
       "      <td>941.0</td>\n",
       "      <td>2152.0</td>\n",
       "      <td>978.0</td>\n",
       "      <td>973.0</td>\n",
       "      <td>2384.0</td>\n",
       "      <td>1976.0</td>\n",
       "      <td>1204.0</td>\n",
       "      <td>...</td>\n",
       "      <td>4158.0</td>\n",
       "      <td>Palma_de_Mallorca</td>\n",
       "      <td>418</td>\n",
       "      <td>92</td>\n",
       "      <td>lev20</td>\n",
       "      <td>2.625100</td>\n",
       "      <td>39.553300</td>\n",
       "      <td>10.0</td>\n",
       "      <td>0.202752</td>\n",
       "      <td>6</td>\n",
       "    </tr>\n",
       "    <tr>\n",
       "      <th>472</th>\n",
       "      <td>9176</td>\n",
       "      <td>2.106455</td>\n",
       "      <td>48.801639</td>\n",
       "      <td>1240.0</td>\n",
       "      <td>3123.0</td>\n",
       "      <td>563.0</td>\n",
       "      <td>1056.0</td>\n",
       "      <td>2994.0</td>\n",
       "      <td>2614.0</td>\n",
       "      <td>2028.0</td>\n",
       "      <td>...</td>\n",
       "      <td>4420.0</td>\n",
       "      <td>Paris</td>\n",
       "      <td>648</td>\n",
       "      <td>92</td>\n",
       "      <td>lev20</td>\n",
       "      <td>2.355508</td>\n",
       "      <td>48.846797</td>\n",
       "      <td>50.0</td>\n",
       "      <td>0.124775</td>\n",
       "      <td>22</td>\n",
       "    </tr>\n",
       "    <tr>\n",
       "      <th>199</th>\n",
       "      <td>199</td>\n",
       "      <td>-1.262843</td>\n",
       "      <td>44.651836</td>\n",
       "      <td>2225.0</td>\n",
       "      <td>2218.0</td>\n",
       "      <td>2081.0</td>\n",
       "      <td>2235.0</td>\n",
       "      <td>2168.0</td>\n",
       "      <td>2487.0</td>\n",
       "      <td>2258.0</td>\n",
       "      <td>...</td>\n",
       "      <td>4014.0</td>\n",
       "      <td>Arcachon</td>\n",
       "      <td>741</td>\n",
       "      <td>92</td>\n",
       "      <td>lev20</td>\n",
       "      <td>-1.163222</td>\n",
       "      <td>44.663528</td>\n",
       "      <td>11.0</td>\n",
       "      <td>0.138296</td>\n",
       "      <td>1</td>\n",
       "    </tr>\n",
       "    <tr>\n",
       "      <th>98</th>\n",
       "      <td>8802</td>\n",
       "      <td>2.234087</td>\n",
       "      <td>48.826639</td>\n",
       "      <td>828.0</td>\n",
       "      <td>1396.0</td>\n",
       "      <td>518.0</td>\n",
       "      <td>756.0</td>\n",
       "      <td>1635.0</td>\n",
       "      <td>1524.0</td>\n",
       "      <td>1304.0</td>\n",
       "      <td>...</td>\n",
       "      <td>4412.0</td>\n",
       "      <td>Paris</td>\n",
       "      <td>648</td>\n",
       "      <td>92</td>\n",
       "      <td>lev20</td>\n",
       "      <td>2.355508</td>\n",
       "      <td>48.846797</td>\n",
       "      <td>50.0</td>\n",
       "      <td>0.124775</td>\n",
       "      <td>22</td>\n",
       "    </tr>\n",
       "  </tbody>\n",
       "</table>\n",
       "<p>5 rows × 23 columns</p>\n",
       "</div>"
      ],
      "text/plain": [
       "       Unnamed: 0  MODIS_Longitude(Degree)  MODIS_Latitude(Degree)     b01  \\\n",
       "index                                                                        \n",
       "155          8082                24.912780               60.316572   629.0   \n",
       "50           1715                 2.731272               39.650102   941.0   \n",
       "472          9176                 2.106455               48.801639  1240.0   \n",
       "199           199                -1.262843               44.651836  2225.0   \n",
       "98           8802                 2.234087               48.826639   828.0   \n",
       "\n",
       "          b02     b03     b04     b05     b06     b07  ...  SolarZenith  \\\n",
       "index                                                  ...                \n",
       "155     627.0   594.0   575.0   734.0   680.0   360.0  ...       5557.0   \n",
       "50     2152.0   978.0   973.0  2384.0  1976.0  1204.0  ...       4158.0   \n",
       "472    3123.0   563.0  1056.0  2994.0  2614.0  2028.0  ...       4420.0   \n",
       "199    2218.0  2081.0  2235.0  2168.0  2487.0  2258.0  ...       4014.0   \n",
       "98     1396.0   518.0   756.0  1635.0  1524.0  1304.0  ...       4412.0   \n",
       "\n",
       "       AERONET_Site_Name  AERONET_Instrument_Number  Day_of_Year  \\\n",
       "index                                                              \n",
       "155             Helsinki                        392           92   \n",
       "50     Palma_de_Mallorca                        418           92   \n",
       "472                Paris                        648           92   \n",
       "199             Arcachon                        741           92   \n",
       "98                 Paris                        648           92   \n",
       "\n",
       "      Data_Quality_Level  Site_Longitude(Degrees)  Site_Latitude(Degrees)  \\\n",
       "index                                                                       \n",
       "155                lev20                24.960650               60.203733   \n",
       "50                 lev20                 2.625100               39.553300   \n",
       "472                lev20                 2.355508               48.846797   \n",
       "199                lev20                -1.163222               44.663528   \n",
       "98                 lev20                 2.355508               48.846797   \n",
       "\n",
       "      Site_Elevation(m)  AOD_500nm  bag_index  \n",
       "index                                          \n",
       "155                52.8   0.071888         19  \n",
       "50                 10.0   0.202752          6  \n",
       "472                50.0   0.124775         22  \n",
       "199                11.0   0.138296          1  \n",
       "98                 50.0   0.124775         22  \n",
       "\n",
       "[5 rows x 23 columns]"
      ]
     },
     "execution_count": 3,
     "metadata": {},
     "output_type": "execute_result"
    }
   ],
   "source": [
    "# Load aerobag dataframe\n",
    "df_path = '../../aerobag-dataset/sandbox/aerobag-01-04-20.csv'\n",
    "df = pd.read_csv(df_path, index_col='index')\n",
    "\n",
    "df.sample(n=5)"
   ]
  },
  {
   "cell_type": "code",
   "execution_count": 4,
   "metadata": {},
   "outputs": [
    {
     "data": {
      "image/png": "[encoded data removed]",
      "text/plain": [
       "<Figure size 432x288 with 1 Axes>"
      ]
     },
     "metadata": {
      "needs_background": "light"
     },
     "output_type": "display_data"
    }
   ],
   "source": [
    "# Load raster\n",
    "raster = rasterio.open('../../aerobag-dataset/sandbox/MODIS.tif')\n",
    "b01 = raster.read(1)\n",
    "plt.imshow(b01)\n",
    "plt.show()"
   ]
  },
  {
   "cell_type": "code",
   "execution_count": 5,
   "metadata": {},
   "outputs": [],
   "source": [
    "# Get sites and bags coordinates\n",
    "WGS84 = rasterio.crs.CRS.from_epsg(4326)\n",
    "wgs84_to_raster_crs = Transformer.from_proj(WGS84, raster.crs, always_xy=True).transform\n",
    "to_pixel = lambda row: ~raster.transform * wgs84_to_raster_crs(row[0], row[1])\n",
    "\n",
    "\n",
    "sites_df = df[['Site_Longitude(Degrees)', 'Site_Latitude(Degrees)']].drop_duplicates()\n",
    "bags_df = df[['MODIS_Longitude(Degree)', 'MODIS_Latitude(Degree)']]\n",
    "\n",
    "sites_pixels = sites_df.apply(to_pixel, axis=1).values\n",
    "sites_pixels = np.asarray(list(map(list, sites_pixels)))\n",
    "\n",
    "bags_pixels = bags_df.apply(to_pixel, axis=1).values\n",
    "bags_pixels = np.asarray(list(map(list, bags_pixels)))"
   ]
  },
  {
   "cell_type": "markdown",
   "metadata": {},
   "source": [
    "### Preprocess data\n",
    "\n",
    "- Normalize\n",
    "- Filter out columns"
   ]
  },
  {
   "cell_type": "code",
   "execution_count": 6,
   "metadata": {},
   "outputs": [],
   "source": [
    "# Normalize\n",
    "norm_df = (df - df.mean()) / df.std()"
   ]
  },
  {
   "cell_type": "code",
   "execution_count": 7,
   "metadata": {},
   "outputs": [
    {
     "data": {
      "text/plain": [
       "Number of bags : 29 \n",
       "Dimensionality : 15 \n",
       "Number of individuals : 13204 \n",
       "Data type : float64"
      ]
     },
     "execution_count": 7,
     "metadata": {},
     "output_type": "execute_result"
    }
   ],
   "source": [
    "# Select features of interest to keep in dataset\n",
    "individuals_columns = ['MODIS_Longitude(Degree)', 'MODIS_Latitude(Degree)',\n",
    "                       'b01', 'b02', 'b03', 'b04', 'b05', 'b06', 'b07', 'SensorAzimuth',\n",
    "                       'SensorZenith', 'SolarAzimuth', 'SolarZenith']\n",
    "bags_columns = ['Site_Longitude(Degrees)', 'Site_Latitude(Degrees)']\n",
    "augmented_columns = individuals_columns + bags_columns\n",
    "\n",
    "# Compute number of bags and their respective sizes\n",
    "n_bags = df['bag_index'].max()\n",
    "bags_sizes = df.groupby('bag_index').count()['AOD_500nm'].values\n",
    "\n",
    "# Extract individuals (augmented with bags values) and aggregate targets\n",
    "individuals = [norm_df[df.bag_index == idx][augmented_columns].values for idx in df.bag_index.unique()]\n",
    "aggregate_targets = norm_df.AOD_500nm.drop_duplicates().values\n",
    "\n",
    "# Instantiate bag dataset\n",
    "dataset = BagDataset(bags=individuals, labels=aggregate_targets)\n",
    "dataset"
   ]
  },
  {
   "cell_type": "markdown",
   "metadata": {},
   "source": [
    "### Instantiate Varitiational CME Process"
   ]
  },
  {
   "cell_type": "code",
   "execution_count": 8,
   "metadata": {},
   "outputs": [],
   "source": [
    "# Define mean and covariance modules\n",
    "individuals_mean = gpytorch.means.ZeroMean()\n",
    "individuals_kernel = gpytorch.kernels.LinearKernel(active_dims=torch.arange(13), \n",
    "                                                   ard_num_dims=13)\n",
    "bag_kernel = gpytorch.kernels.LinearKernel(active_dims=torch.arange(2), \n",
    "                                           ard_num_dims=2)"
   ]
  },
  {
   "cell_type": "code",
   "execution_count": 30,
   "metadata": {},
   "outputs": [],
   "source": [
    "# Create training set tensors\n",
    "individuals_tensors = torch.from_numpy(norm_df[individuals_columns].values).float()\n",
    "bags_tensor = torch.from_numpy(norm_df[bags_columns].drop_duplicates().values).float()\n",
    "aggregate_targets_tensor = torch.from_numpy(aggregate_targets).float()"
   ]
  },
  {
   "cell_type": "code",
   "execution_count": 40,
   "metadata": {},
   "outputs": [],
   "source": [
    "raster_array = raster.read()"
   ]
  },
  {
   "cell_type": "code",
   "execution_count": 60,
   "metadata": {},
   "outputs": [],
   "source": [
    "# Create evenly spaced grid of landmark points\n",
    "raster_crs_to_wgs84 = Transformer.from_proj(raster.crs, WGS84, always_xy=True).transform\n",
    "\n",
    "\n",
    "x = np.linspace(0, raster.height, 100).clip(min=0, max=raster.height - 1).astype(int)\n",
    "y = np.linspace(0, raster.width, 100).clip(min=0, max=raster.width - 1).astype(int)\n",
    "\n",
    "# raster_array = None\n",
    "landmark_pixels = raster_array[:, x, y]"
   ]
  },
  {
   "cell_type": "code",
   "execution_count": 86,
   "metadata": {},
   "outputs": [],
   "source": [
    "# Load QA raster\n",
    "qa_raster = rasterio.open('../../MODIS/MOD09GA.006_state_1km_1_doy2020092_aid0001.tif')\n",
    "qa_array = qa_raster.read(1)\n",
    "CLEAN_PIXELS = [int('{:014b}'.format(i) + '00', 2) for i in range(1 << 14)]"
   ]
  },
  {
   "cell_type": "code",
   "execution_count": 66,
   "metadata": {},
   "outputs": [],
   "source": [
    "landmark_pixels = raster_array[:, x, y]"
   ]
  },
  {
   "cell_type": "code",
   "execution_count": 71,
   "metadata": {},
   "outputs": [
    {
     "data": {
      "text/plain": [
       "(11,)"
      ]
     },
     "execution_count": 71,
     "metadata": {},
     "output_type": "execute_result"
    }
   ],
   "source": [
    "pixels_mean = df.mean()[individuals_columns[2:]].values\n",
    "pixels_std = df.std()[individuals_columns[2:]].values"
   ]
  },
  {
   "cell_type": "code",
   "execution_count": 76,
   "metadata": {},
   "outputs": [],
   "source": [
    "coords = [raster_crs_to_wgs84(*raster.transform * (i, j)) for (i, j) in zip(x, y)]"
   ]
  },
  {
   "cell_type": "code",
   "execution_count": 74,
   "metadata": {
    "scrolled": true
   },
   "outputs": [],
   "source": [
    "# Create evenly spaced grid of landmark points\n",
    "raster_crs_to_wgs84 = Transformer.from_proj(raster.crs, WGS84, always_xy=True).transform\n",
    "\n",
    "lon_min, lat_min = raster_crs_to_wgs84(*raster.transform * (0, 0))\n",
    "lon_max, lat_max = raster_crs_to_wgs84(*raster.transform * raster.shape)\n",
    "\n",
    "lons = torch.linspace(lon_min, lon_max, 10)\n",
    "lats = torch.linspace(lat_min, lat_max, 10)\n",
    "\n",
    "landmark_points = torch.stack(torch.meshgrid(lons, lats), dim=-1).view(-1, 2)"
   ]
  },
  {
   "cell_type": "code",
   "execution_count": 31,
   "metadata": {},
   "outputs": [],
   "source": [
    "# Instantiate model\n",
    "model = VariationalCMEProcess(landmark_points=landmark_points,\n",
    "                              individuals_mean=individuals_mean, \n",
    "                              individuals_kernel=individuals_kernel,\n",
    "                              bag_kernel=bag_kernel,\n",
    "                              train_individuals=individuals_tensors,\n",
    "                              train_bags=bags_tensor,\n",
    "                              train_aggregate_targets=aggregate_targets_tensor,\n",
    "                              bags_sizes=bags_sizes,\n",
    "                              lbda=1e-3)\n",
    "\n",
    "likelihood = CMEProcessLikelihood()"
   ]
  },
  {
   "cell_type": "markdown",
   "metadata": {},
   "source": [
    "### MLE Estimate of model parameters"
   ]
  },
  {
   "cell_type": "code",
   "execution_count": 34,
   "metadata": {},
   "outputs": [
    {
     "name": "stderr",
     "output_type": "stream",
     "text": [
      "Epoch:   0%|          | 0/50 [00:00<?, ?it/s]\n"
     ]
    },
    {
     "ename": "RuntimeError",
     "evalue": "Sizes of tensors must match except in dimension 0. Got 2 and 13 in dimension 1 (The offending index is 1)",
     "output_type": "error",
     "traceback": [
      "\u001b[0;31m---------------------------------------------------------------------------\u001b[0m",
      "\u001b[0;31mRuntimeError\u001b[0m                              Traceback (most recent call last)",
      "\u001b[0;32m<ipython-input-34-98a86b98ef77>\u001b[0m in \u001b[0;36m<module>\u001b[0;34m\u001b[0m\n\u001b[1;32m     14\u001b[0m     \u001b[0moptimizer\u001b[0m\u001b[0;34m.\u001b[0m\u001b[0mzero_grad\u001b[0m\u001b[0;34m(\u001b[0m\u001b[0;34m)\u001b[0m\u001b[0;34m\u001b[0m\u001b[0;34m\u001b[0m\u001b[0m\n\u001b[1;32m     15\u001b[0m \u001b[0;34m\u001b[0m\u001b[0m\n\u001b[0;32m---> 16\u001b[0;31m     \u001b[0mq\u001b[0m \u001b[0;34m=\u001b[0m \u001b[0mmodel\u001b[0m\u001b[0;34m(\u001b[0m\u001b[0mindividuals_tensors\u001b[0m\u001b[0;34m)\u001b[0m\u001b[0;34m\u001b[0m\u001b[0;34m\u001b[0m\u001b[0m\n\u001b[0m\u001b[1;32m     17\u001b[0m     \u001b[0mbuffer\u001b[0m \u001b[0;34m=\u001b[0m \u001b[0mmodel\u001b[0m\u001b[0;34m.\u001b[0m\u001b[0mget_elbo_computation_parameters\u001b[0m\u001b[0;34m(\u001b[0m\u001b[0;34m)\u001b[0m\u001b[0;34m\u001b[0m\u001b[0;34m\u001b[0m\u001b[0m\n\u001b[1;32m     18\u001b[0m     \u001b[0mcme_aggregate_covar\u001b[0m\u001b[0;34m,\u001b[0m \u001b[0mindividuals_to_cme_covar\u001b[0m\u001b[0;34m,\u001b[0m \u001b[0mroot_inv_individuals_covar\u001b[0m \u001b[0;34m=\u001b[0m \u001b[0mbuffer\u001b[0m\u001b[0;34m\u001b[0m\u001b[0;34m\u001b[0m\u001b[0m\n",
      "\u001b[0;32m~/Desktop/SShahine/venv/lib/python3.6/site-packages/gpytorch/models/approximate_gp.py\u001b[0m in \u001b[0;36m__call__\u001b[0;34m(self, inputs, prior, **kwargs)\u001b[0m\n\u001b[1;32m     79\u001b[0m         \u001b[0;32mif\u001b[0m \u001b[0minputs\u001b[0m\u001b[0;34m.\u001b[0m\u001b[0mdim\u001b[0m\u001b[0;34m(\u001b[0m\u001b[0;34m)\u001b[0m \u001b[0;34m==\u001b[0m \u001b[0;36m1\u001b[0m\u001b[0;34m:\u001b[0m\u001b[0;34m\u001b[0m\u001b[0;34m\u001b[0m\u001b[0m\n\u001b[1;32m     80\u001b[0m             \u001b[0minputs\u001b[0m \u001b[0;34m=\u001b[0m \u001b[0minputs\u001b[0m\u001b[0;34m.\u001b[0m\u001b[0munsqueeze\u001b[0m\u001b[0;34m(\u001b[0m\u001b[0;34m-\u001b[0m\u001b[0;36m1\u001b[0m\u001b[0;34m)\u001b[0m\u001b[0;34m\u001b[0m\u001b[0;34m\u001b[0m\u001b[0m\n\u001b[0;32m---> 81\u001b[0;31m         \u001b[0;32mreturn\u001b[0m \u001b[0mself\u001b[0m\u001b[0;34m.\u001b[0m\u001b[0mvariational_strategy\u001b[0m\u001b[0;34m(\u001b[0m\u001b[0minputs\u001b[0m\u001b[0;34m,\u001b[0m \u001b[0mprior\u001b[0m\u001b[0;34m=\u001b[0m\u001b[0mprior\u001b[0m\u001b[0;34m,\u001b[0m \u001b[0;34m**\u001b[0m\u001b[0mkwargs\u001b[0m\u001b[0;34m)\u001b[0m\u001b[0;34m\u001b[0m\u001b[0;34m\u001b[0m\u001b[0m\n\u001b[0m",
      "\u001b[0;32m~/Desktop/SShahine/venv/lib/python3.6/site-packages/gpytorch/variational/variational_strategy.py\u001b[0m in \u001b[0;36m__call__\u001b[0;34m(self, x, prior, **kwargs)\u001b[0m\n\u001b[1;32m    172\u001b[0m                 \u001b[0mself\u001b[0m\u001b[0;34m.\u001b[0m\u001b[0mupdated_strategy\u001b[0m\u001b[0;34m.\u001b[0m\u001b[0mfill_\u001b[0m\u001b[0;34m(\u001b[0m\u001b[0;32mTrue\u001b[0m\u001b[0;34m)\u001b[0m\u001b[0;34m\u001b[0m\u001b[0;34m\u001b[0m\u001b[0m\n\u001b[1;32m    173\u001b[0m \u001b[0;34m\u001b[0m\u001b[0m\n\u001b[0;32m--> 174\u001b[0;31m         \u001b[0;32mreturn\u001b[0m \u001b[0msuper\u001b[0m\u001b[0;34m(\u001b[0m\u001b[0;34m)\u001b[0m\u001b[0;34m.\u001b[0m\u001b[0m__call__\u001b[0m\u001b[0;34m(\u001b[0m\u001b[0mx\u001b[0m\u001b[0;34m,\u001b[0m \u001b[0mprior\u001b[0m\u001b[0;34m=\u001b[0m\u001b[0mprior\u001b[0m\u001b[0;34m,\u001b[0m \u001b[0;34m**\u001b[0m\u001b[0mkwargs\u001b[0m\u001b[0;34m)\u001b[0m\u001b[0;34m\u001b[0m\u001b[0;34m\u001b[0m\u001b[0m\n\u001b[0m",
      "\u001b[0;32m~/Desktop/SShahine/venv/lib/python3.6/site-packages/gpytorch/variational/_variational_strategy.py\u001b[0m in \u001b[0;36m__call__\u001b[0;34m(self, x, prior, **kwargs)\u001b[0m\n\u001b[1;32m    127\u001b[0m                 \u001b[0minducing_values\u001b[0m\u001b[0;34m=\u001b[0m\u001b[0mvariational_dist_u\u001b[0m\u001b[0;34m.\u001b[0m\u001b[0mmean\u001b[0m\u001b[0;34m,\u001b[0m\u001b[0;34m\u001b[0m\u001b[0;34m\u001b[0m\u001b[0m\n\u001b[1;32m    128\u001b[0m                 \u001b[0mvariational_inducing_covar\u001b[0m\u001b[0;34m=\u001b[0m\u001b[0mvariational_dist_u\u001b[0m\u001b[0;34m.\u001b[0m\u001b[0mlazy_covariance_matrix\u001b[0m\u001b[0;34m,\u001b[0m\u001b[0;34m\u001b[0m\u001b[0;34m\u001b[0m\u001b[0m\n\u001b[0;32m--> 129\u001b[0;31m                 \u001b[0;34m**\u001b[0m\u001b[0mkwargs\u001b[0m\u001b[0;34m,\u001b[0m\u001b[0;34m\u001b[0m\u001b[0;34m\u001b[0m\u001b[0m\n\u001b[0m\u001b[1;32m    130\u001b[0m             )\n\u001b[1;32m    131\u001b[0m         \u001b[0;32melif\u001b[0m \u001b[0misinstance\u001b[0m\u001b[0;34m(\u001b[0m\u001b[0mvariational_dist_u\u001b[0m\u001b[0;34m,\u001b[0m \u001b[0mDelta\u001b[0m\u001b[0;34m)\u001b[0m\u001b[0;34m:\u001b[0m\u001b[0;34m\u001b[0m\u001b[0;34m\u001b[0m\u001b[0m\n",
      "\u001b[0;32m~/Desktop/SShahine/venv/lib/python3.6/site-packages/gpytorch/module.py\u001b[0m in \u001b[0;36m__call__\u001b[0;34m(self, *inputs, **kwargs)\u001b[0m\n\u001b[1;32m     26\u001b[0m \u001b[0;34m\u001b[0m\u001b[0m\n\u001b[1;32m     27\u001b[0m     \u001b[0;32mdef\u001b[0m \u001b[0m__call__\u001b[0m\u001b[0;34m(\u001b[0m\u001b[0mself\u001b[0m\u001b[0;34m,\u001b[0m \u001b[0;34m*\u001b[0m\u001b[0minputs\u001b[0m\u001b[0;34m,\u001b[0m \u001b[0;34m**\u001b[0m\u001b[0mkwargs\u001b[0m\u001b[0;34m)\u001b[0m\u001b[0;34m:\u001b[0m\u001b[0;34m\u001b[0m\u001b[0;34m\u001b[0m\u001b[0m\n\u001b[0;32m---> 28\u001b[0;31m         \u001b[0moutputs\u001b[0m \u001b[0;34m=\u001b[0m \u001b[0mself\u001b[0m\u001b[0;34m.\u001b[0m\u001b[0mforward\u001b[0m\u001b[0;34m(\u001b[0m\u001b[0;34m*\u001b[0m\u001b[0minputs\u001b[0m\u001b[0;34m,\u001b[0m \u001b[0;34m**\u001b[0m\u001b[0mkwargs\u001b[0m\u001b[0;34m)\u001b[0m\u001b[0;34m\u001b[0m\u001b[0;34m\u001b[0m\u001b[0m\n\u001b[0m\u001b[1;32m     29\u001b[0m         \u001b[0;32mif\u001b[0m \u001b[0misinstance\u001b[0m\u001b[0;34m(\u001b[0m\u001b[0moutputs\u001b[0m\u001b[0;34m,\u001b[0m \u001b[0mlist\u001b[0m\u001b[0;34m)\u001b[0m\u001b[0;34m:\u001b[0m\u001b[0;34m\u001b[0m\u001b[0;34m\u001b[0m\u001b[0m\n\u001b[1;32m     30\u001b[0m             \u001b[0;32mreturn\u001b[0m \u001b[0;34m[\u001b[0m\u001b[0m_validate_module_outputs\u001b[0m\u001b[0;34m(\u001b[0m\u001b[0moutput\u001b[0m\u001b[0;34m)\u001b[0m \u001b[0;32mfor\u001b[0m \u001b[0moutput\u001b[0m \u001b[0;32min\u001b[0m \u001b[0moutputs\u001b[0m\u001b[0;34m]\u001b[0m\u001b[0;34m\u001b[0m\u001b[0;34m\u001b[0m\u001b[0m\n",
      "\u001b[0;32m~/Desktop/SShahine/venv/lib/python3.6/site-packages/gpytorch/variational/variational_strategy.py\u001b[0m in \u001b[0;36mforward\u001b[0;34m(self, x, inducing_points, inducing_values, variational_inducing_covar, **kwargs)\u001b[0m\n\u001b[1;32m     88\u001b[0m     \u001b[0;32mdef\u001b[0m \u001b[0mforward\u001b[0m\u001b[0;34m(\u001b[0m\u001b[0mself\u001b[0m\u001b[0;34m,\u001b[0m \u001b[0mx\u001b[0m\u001b[0;34m,\u001b[0m \u001b[0minducing_points\u001b[0m\u001b[0;34m,\u001b[0m \u001b[0minducing_values\u001b[0m\u001b[0;34m,\u001b[0m \u001b[0mvariational_inducing_covar\u001b[0m\u001b[0;34m=\u001b[0m\u001b[0;32mNone\u001b[0m\u001b[0;34m,\u001b[0m \u001b[0;34m**\u001b[0m\u001b[0mkwargs\u001b[0m\u001b[0;34m)\u001b[0m\u001b[0;34m:\u001b[0m\u001b[0;34m\u001b[0m\u001b[0;34m\u001b[0m\u001b[0m\n\u001b[1;32m     89\u001b[0m         \u001b[0;31m# Compute full prior distribution\u001b[0m\u001b[0;34m\u001b[0m\u001b[0;34m\u001b[0m\u001b[0;34m\u001b[0m\u001b[0m\n\u001b[0;32m---> 90\u001b[0;31m         \u001b[0mfull_inputs\u001b[0m \u001b[0;34m=\u001b[0m \u001b[0mtorch\u001b[0m\u001b[0;34m.\u001b[0m\u001b[0mcat\u001b[0m\u001b[0;34m(\u001b[0m\u001b[0;34m[\u001b[0m\u001b[0minducing_points\u001b[0m\u001b[0;34m,\u001b[0m \u001b[0mx\u001b[0m\u001b[0;34m]\u001b[0m\u001b[0;34m,\u001b[0m \u001b[0mdim\u001b[0m\u001b[0;34m=\u001b[0m\u001b[0;34m-\u001b[0m\u001b[0;36m2\u001b[0m\u001b[0;34m)\u001b[0m\u001b[0;34m\u001b[0m\u001b[0;34m\u001b[0m\u001b[0m\n\u001b[0m\u001b[1;32m     91\u001b[0m         \u001b[0mfull_output\u001b[0m \u001b[0;34m=\u001b[0m \u001b[0mself\u001b[0m\u001b[0;34m.\u001b[0m\u001b[0mmodel\u001b[0m\u001b[0;34m.\u001b[0m\u001b[0mforward\u001b[0m\u001b[0;34m(\u001b[0m\u001b[0mfull_inputs\u001b[0m\u001b[0;34m,\u001b[0m \u001b[0;34m**\u001b[0m\u001b[0mkwargs\u001b[0m\u001b[0;34m)\u001b[0m\u001b[0;34m\u001b[0m\u001b[0;34m\u001b[0m\u001b[0m\n\u001b[1;32m     92\u001b[0m         \u001b[0mfull_covar\u001b[0m \u001b[0;34m=\u001b[0m \u001b[0mfull_output\u001b[0m\u001b[0;34m.\u001b[0m\u001b[0mlazy_covariance_matrix\u001b[0m\u001b[0;34m\u001b[0m\u001b[0;34m\u001b[0m\u001b[0m\n",
      "\u001b[0;31mRuntimeError\u001b[0m: Sizes of tensors must match except in dimension 0. Got 2 and 13 in dimension 1 (The offending index is 1)"
     ]
    }
   ],
   "source": [
    "epochs = 50\n",
    "\n",
    "model.train()\n",
    "likelihood.train()\n",
    "\n",
    "parameters = list(model.parameters()) + list(likelihood.parameters())\n",
    "optimizer = torch.optim.Adam(params=parameters, lr=0.1)\n",
    "\n",
    "elbo = gpytorch.mlls.VariationalELBO(likelihood, model, num_data=len(individuals))\n",
    "\n",
    "\n",
    "epoch_iter = tqdm.tqdm(range(epochs), desc=\"Epoch\")\n",
    "for epoch in epoch_iter:\n",
    "    optimizer.zero_grad()\n",
    "    \n",
    "    q = model(individuals_tensors)\n",
    "    buffer = model.get_elbo_computation_parameters()\n",
    "    cme_aggregate_covar, individuals_to_cme_covar, root_inv_individuals_covar = buffer\n",
    "    \n",
    "    loss = -elbo(variational_dist_f=q, \n",
    "                 target=aggregate_targets_tensor,\n",
    "                 cme_aggregate_covar=cme_aggregate_covar,\n",
    "                 individuals_to_cme_covar=individuals_to_cme_covar,\n",
    "                 root_inv_individuals_covar=root_inv_individuals_covar)\n",
    "\n",
    "    loss.backward()\n",
    "    optimizer.step()\n",
    "    epoch_iter.set_postfix(loss=loss.item())\n",
    "\n",
    "    with torch.no_grad():\n",
    "        model.update_cme_estimate_parameters()"
   ]
  },
  {
   "cell_type": "code",
   "execution_count": null,
   "metadata": {},
   "outputs": [],
   "source": []
  }
 ],
 "metadata": {
  "kernelspec": {
   "display_name": "shahine",
   "language": "python",
   "name": "shahine"
  },
  "language_info": {
   "codemirror_mode": {
    "name": "ipython",
    "version": 3
   },
   "file_extension": ".py",
   "mimetype": "text/x-python",
   "name": "python",
   "nbconvert_exporter": "python",
   "pygments_lexer": "ipython3",
   "version": "3.6.7rc2"
  }
 },
 "nbformat": 4,
 "nbformat_minor": 2
}
